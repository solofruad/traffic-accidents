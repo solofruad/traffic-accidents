{
 "cells": [
  {
   "cell_type": "markdown",
   "metadata": {},
   "source": [
    "# 0.1 Limpieza y contrucción de conjunto de datos con limpieza\n",
    "### By **Néstor Suat** in 2019\n",
    "\n",
    "**Descripción:** Generación de las diferentes propuestas de conjunto de datos según su método de limpieza. \n",
    "\n",
    "**Two datasets Input:**\n",
    "* 50% bogota + 50% no_bogota = **dataset_propuesta1_5050**\n",
    "* Complete, all tweets =  **dataset_propuesta2_complete**\n",
    "\n",
    "**Output:**\n",
    "* Stem.\n",
    "* Lemma.\n",
    "* Only-stopwords without stem-lemma.\n",
    "* All characteres, without @, urls, # and numbers.\n",
    "* Stem without removes stopwords\n",
    "* Lemma without removes stopwords\n",
    "\n",
    "***"
   ]
  },
  {
   "cell_type": "markdown",
   "metadata": {},
   "source": [
    "## 0. Importando librerias"
   ]
  },
  {
   "cell_type": "code",
   "execution_count": 1,
   "metadata": {},
   "outputs": [],
   "source": [
    "import pandas as pd\n",
    "import re\n",
    "from time import time  # To time our operations\n",
    "from nltk.stem import SnowballStemmer\n",
    "import multiprocessing\n",
    "\n",
    "import spacy  # For preprocessing\n",
    "#!pip3 install -U spacy\n",
    "#!python3 -m spacy download es_core_news_md"
   ]
  },
  {
   "cell_type": "markdown",
   "metadata": {},
   "source": [
    "## 1. Generando los datasets limpios"
   ]
  },
  {
   "cell_type": "code",
   "execution_count": 3,
   "metadata": {},
   "outputs": [],
   "source": [
    "stemmer = SnowballStemmer('spanish')\n",
    "cores = multiprocessing.cpu_count()\n",
    "\n",
    "proposals = ['dataset_propuesta1_5050.tsv', 'dataset_propuesta2_complete.tsv']\n",
    "dir_data = \"../data/v1/doc2vec/\"\n",
    "dir_output = 'output/'"
   ]
  },
  {
   "cell_type": "code",
   "execution_count": 4,
   "metadata": {},
   "outputs": [],
   "source": [
    "nlp = spacy.load(\"es_core_news_md\",disabled=['ner','parser']) # disabling Named Entity Recognition for speed\n",
    "nlp.vocab[\"rt\"].is_stop = True #Add RT to Stopwords"
   ]
  },
  {
   "cell_type": "markdown",
   "metadata": {},
   "source": [
    "### 1.1 Stem and stopwords\n",
    "* Se elimina caracteres especiales, correo, urls, @ y #.\n",
    "* Se eliminó las stopwords.\n",
    "* Se normaliza con stemmer **(SnowballStemmer)**.\n",
    "* Se descarta textos con menos de 3 tokens."
   ]
  },
  {
   "cell_type": "code",
   "execution_count": null,
   "metadata": {},
   "outputs": [],
   "source": [
    "def cleaning_stem_stopwords(doc):\n",
    "    # Stemming and removes stopwords    \n",
    "    #txt = [token.lemma_ for token in doc if not token.is_stop]    \n",
    "    txt = [stemmer.stem(token.text) for token in doc if not token.is_stop]    \n",
    "    if len(txt) > 2:\n",
    "        return ' '.join(txt)"
   ]
  },
  {
   "cell_type": "code",
   "execution_count": 5,
   "metadata": {
    "collapsed": true,
    "jupyter": {
     "outputs_hidden": true
    }
   },
   "outputs": [
    {
     "name": "stdout",
     "output_type": "stream",
     "text": [
      "# Starting...\n",
      "## 1. Stem and stopwords\n",
      "-- -- Time to clean up everything: 0.01 mins\n",
      "-- -- Se genero archivo tsv: output/1_clean_stem_stopwords_dataset_propuesta1_5050.tsv.tsv\n",
      "# Starting...\n",
      "## 1. Stem and stopwords\n",
      "-- -- Time to clean up everything: 0.02 mins\n",
      "-- -- Se genero archivo tsv: output/1_clean_stem_stopwords_dataset_propuesta2_complete.tsv.tsv\n"
     ]
    }
   ],
   "source": [
    "for proposal in proposals:\n",
    "    print('# Starting...')\n",
    "    print('Reading file '+proposal)\n",
    "    dataset = pd.read_csv(dir_data+proposal, delimiter = \"\\t\", quoting = 3)\n",
    "    del dataset['Unnamed: 0']    \n",
    "        \n",
    "    print('## 1. Stem and stopwords')\n",
    "    #Clean @, url, special characters,\n",
    "    brief_cleaning = (re.sub(\"(@[A-Za-z0-9]+)|((?<=[A-Za-z])(?=[A-Z][a-z]))|([^A-Za-zäÄëËïÏöÖüÜáéíóúáéíóúÁÉÍÓÚÂÊÎÔÛâêîôûàèìòùÀÈÌÒÙñÑ])|(\\w+:\\/\\/\\S+)\",\n",
    "                             ' ', str(row)).lower() for row in dataset['text'])\n",
    "    \n",
    "    t = time()    \n",
    "    txt = [cleaning_stem_stopwords(doc) for doc in nlp.pipe(brief_cleaning, n_threads=cores)]\n",
    "    #print('Time to clean up everything: {} mins'.format(round((time() - t) / 60, 2)))\n",
    "    print('-- -- Time to clean up everything: {} mins'.format(round((time() - t) / 60, 2)))\n",
    "    \n",
    "    df_clean_stem_stopwords = pd.DataFrame({'text': txt})\n",
    "    df_clean_stem_stopwords = df_clean_stem_stopwords.dropna()\n",
    "    filename = dir_output+\"1_clean_stem_stopwords_\"+proposal\n",
    "    df_clean_stem_stopwords.to_csv(filename,sep='\\t')    \n",
    "    print('-- -- Se genero archivo tsv: '+filename)"
   ]
  },
  {
   "cell_type": "markdown",
   "metadata": {},
   "source": [
    "### 1.2 Lemma and Stopwords\n",
    "* Se elimina caracteres especiales, correo, urls, @ y #.\n",
    "* Se eliminó las stopwords.\n",
    "* Se normaliza con lemma **(SpaCy -es_core_news_md)**.\n",
    "* Se descarta textos con menos de 3 tokens."
   ]
  },
  {
   "cell_type": "code",
   "execution_count": null,
   "metadata": {},
   "outputs": [],
   "source": [
    "def cleaning_lemma_stopwords(doc):\n",
    "    # Lemma and removes stopwords        \n",
    "    txt = [(token.lemma_ if token.text != 'calle' else token.text) for token in doc if not token.is_stop]        \n",
    "    if len(txt) > 2:\n",
    "        return ' '.join(txt)"
   ]
  },
  {
   "cell_type": "code",
   "execution_count": null,
   "metadata": {},
   "outputs": [],
   "source": [
    "for proposal in proposals:\n",
    "    print('# Starting...')\n",
    "    print('Reading file '+proposal)\n",
    "    dataset = pd.read_csv(dir_data+proposal, delimiter = \"\\t\", quoting = 3)\n",
    "    del dataset['Unnamed: 0']\n",
    "    \n",
    "    print('## 2. Lemma and stopwords')\n",
    "    #Clean @, url, special characters,\n",
    "    brief_cleaning = (re.sub(\"(@[A-Za-z0-9]+)|((?<=[A-Za-z])(?=[A-Z][a-z]))|([^A-Za-zäÄëËïÏöÖüÜáéíóúáéíóúÁÉÍÓÚÂÊÎÔÛâêîôûàèìòùÀÈÌÒÙñÑ])|(\\w+:\\/\\/\\S+)\",\n",
    "                             ' ', str(row)).lower() for row in dataset['text'])\n",
    "    \n",
    "    t = time()    \n",
    "    txt = [cleaning_lemma_stopwords(doc) for doc in nlp.pipe(brief_cleaning, n_threads=cores)]\n",
    "    #print('Time to clean up everything: {} mins'.format(round((time() - t) / 60, 2)))\n",
    "    print('-- -- Time to clean up everything: {} mins'.format(round((time() - t) / 60, 2)))\n",
    "    \n",
    "    df_clean_lemma_stopwords = pd.DataFrame({'text': txt})\n",
    "    df_clean_lemma_stopwords = df_clean_lemma_stopwords.dropna()\n",
    "    filename = dir_output+\"2_clean_lemma_stopwords_\"+proposal\n",
    "    df_clean_lemma_stopwords.to_csv(filename,sep='\\t')    \n",
    "    print('-- -- Se genero archivo tsv: '+filename)"
   ]
  },
  {
   "cell_type": "markdown",
   "metadata": {},
   "source": [
    "### 1.3 Only stopwords\n",
    "* Se elimina caracteres especiales, correo, urls, @ y #.\n",
    "* Se eliminó las stopwords.\n",
    "* Se descarta textos con menos de 3 tokens"
   ]
  },
  {
   "cell_type": "code",
   "execution_count": null,
   "metadata": {},
   "outputs": [],
   "source": [
    "def cleaning_stopwords(doc):\n",
    "    # Only removing stopwords        \n",
    "    txt = [token.text for token in doc if not token.is_stop]    \n",
    "    if len(txt) > 2:\n",
    "        return ' '.join(txt)"
   ]
  },
  {
   "cell_type": "code",
   "execution_count": null,
   "metadata": {},
   "outputs": [],
   "source": [
    "for proposal in proposals:\n",
    "    print('# Starting...')\n",
    "    print('Reading file '+proposal)\n",
    "    dataset = pd.read_csv(dir_data+proposal, delimiter = \"\\t\", quoting = 3)\n",
    "    del dataset['Unnamed: 0']\n",
    "    \n",
    "    print('## 3. Only stopwords')\n",
    "    #Clean @, url, special characters,\n",
    "    brief_cleaning = (re.sub(\"(@[A-Za-z0-9]+)|((?<=[A-Za-z])(?=[A-Z][a-z]))|([^A-Za-zäÄëËïÏöÖüÜáéíóúáéíóúÁÉÍÓÚÂÊÎÔÛâêîôûàèìòùÀÈÌÒÙñÑ])|(\\w+:\\/\\/\\S+)\",\n",
    "                             ' ', str(row)).lower() for row in dataset['text'])\n",
    "    \n",
    "    t = time()    \n",
    "    txt = [cleaning_stopwords(doc) for doc in nlp.pipe(brief_cleaning, n_threads=cores)]    \n",
    "    print('-- -- Time to clean up everything: {} mins'.format(round((time() - t) / 60, 2)))\n",
    "    \n",
    "    df_clean_stopwords = pd.DataFrame({'text': txt})\n",
    "    df_clean_stopwords = df_clean_stopwords.dropna()\n",
    "    filename = dir_output+\"3_clean_stopwords_\"+proposal\n",
    "    df_clean_stopwords.to_csv(filename,sep='\\t')    \n",
    "    print('-- -- Se genero archivo tsv: '+filename)"
   ]
  },
  {
   "cell_type": "markdown",
   "metadata": {},
   "source": [
    "### 1.4. Only special characters\n",
    "* Se elimina caracteres especiales, correo, urls, @ y #.\n",
    "* Se descarta textos con menos de 3 tokens."
   ]
  },
  {
   "cell_type": "code",
   "execution_count": null,
   "metadata": {},
   "outputs": [],
   "source": [
    "def cleaning_special_chars(doc):\n",
    "    #All characteres, without @, urls, # and numbers.        \n",
    "    txt = [token.text for token in doc]    \n",
    "    if len(txt) > 2:\n",
    "        return ' '.join(txt)"
   ]
  },
  {
   "cell_type": "code",
   "execution_count": null,
   "metadata": {},
   "outputs": [],
   "source": [
    "for proposal in proposals:\n",
    "    print('# Starting...')\n",
    "    print('Reading file '+proposal)\n",
    "    dataset = pd.read_csv(dir_data+proposal, delimiter = \"\\t\", quoting = 3)\n",
    "    del dataset['Unnamed: 0']\n",
    "    \n",
    "    print('## 4. Only special characters')\n",
    "    #Clean @, url, special characters,\n",
    "    brief_cleaning = (re.sub(\"(@[A-Za-z0-9]+)|((?<=[A-Za-z])(?=[A-Z][a-z]))|([^A-Za-zäÄëËïÏöÖüÜáéíóúáéíóúÁÉÍÓÚÂÊÎÔÛâêîôûàèìòùÀÈÌÒÙñÑ])|(\\w+:\\/\\/\\S+)\",\n",
    "                             ' ', str(row)).lower() for row in dataset['text'])\n",
    "    \n",
    "    t = time()    \n",
    "    txt = [cleaning_special_chars(doc) for doc in nlp.pipe(brief_cleaning, n_threads=cores)]\n",
    "    #print('Time to clean up everything: {} mins'.format(round((time() - t) / 60, 2)))\n",
    "    print('-- -- Time to clean up everything: {} mins'.format(round((time() - t) / 60, 2)))\n",
    "    \n",
    "    df_clean_special_chars = pd.DataFrame({'text': txt})\n",
    "    df_clean_special_chars = df_clean_special_chars.dropna()\n",
    "    filename = dir_output+\"4_clean_special_chars_\"+proposal\n",
    "    df_clean_special_chars.to_csv(filename,sep='\\t')    \n",
    "    print('-- -- Se genero archivo tsv: '+filename)"
   ]
  },
  {
   "cell_type": "markdown",
   "metadata": {},
   "source": [
    "### 1.5 Stem without removes stopwords\n",
    "* Se elimina caracteres especiales, correo, urls, @ y #.\n",
    "* Se normaliza con stemmer **(SnowballStemmer)**.\n",
    "* Se descarta textos con menos de 3 tokens."
   ]
  },
  {
   "cell_type": "code",
   "execution_count": null,
   "metadata": {},
   "outputs": [],
   "source": [
    "def cleaning_stem(doc):\n",
    "    #Stem without removes stopwords\n",
    "    txt = [stemmer.stem(token.text) for token in doc]    \n",
    "    if len(txt) > 2:\n",
    "        return ' '.join(txt)"
   ]
  },
  {
   "cell_type": "code",
   "execution_count": null,
   "metadata": {},
   "outputs": [],
   "source": [
    "for proposal in proposals:\n",
    "    print('# Starting...')\n",
    "    print('Reading file '+proposal)\n",
    "    dataset = pd.read_csv(dir_data+proposal, delimiter = \"\\t\", quoting = 3)\n",
    "    del dataset['Unnamed: 0']\n",
    "    \n",
    "    print('## 5. Stem without removes stopwords')\n",
    "    #Clean @, url, special characters,\n",
    "    brief_cleaning = (re.sub(\"(@[A-Za-z0-9]+)|((?<=[A-Za-z])(?=[A-Z][a-z]))|([^A-Za-zäÄëËïÏöÖüÜáéíóúáéíóúÁÉÍÓÚÂÊÎÔÛâêîôûàèìòùÀÈÌÒÙñÑ])|(\\w+:\\/\\/\\S+)\",\n",
    "                             ' ', str(row)).lower() for row in dataset['text'])\n",
    "    \n",
    "    t = time()    \n",
    "    txt = [cleaning_stem(doc) for doc in nlp.pipe(brief_cleaning, n_threads=cores)]\n",
    "    #print('Time to clean up everything: {} mins'.format(round((time() - t) / 60, 2)))\n",
    "    print('-- -- Time to clean up everything: {} mins'.format(round((time() - t) / 60, 2)))\n",
    "    \n",
    "    df_clean_stem = pd.DataFrame({'text': txt})\n",
    "    df_clean_stem = df_clean_stem.dropna()\n",
    "    filename = dir_output+\"5_clean_stem_\"+proposal\n",
    "    df_clean_stem.to_csv(filename,sep='\\t')    \n",
    "    print('-- -- Se genero archivo tsv: '+filename)"
   ]
  },
  {
   "cell_type": "markdown",
   "metadata": {},
   "source": [
    "### 1.6. Lemma without remove stopwords\n",
    "* Se elimina caracteres especiales, correo, urls, @ y #.\n",
    "* Se normaliza con lemma (SpaCy -es_core_news_md).\n",
    "* Se descarta textos con menos de 3 tokens.\n"
   ]
  },
  {
   "cell_type": "code",
   "execution_count": null,
   "metadata": {},
   "outputs": [],
   "source": [
    "def cleaning_lemma(doc):\n",
    "    #Lemma without removes stopwords\n",
    "    txt = [(token.lemma_ if token.text != 'calle' else token.text) for token in doc]    \n",
    "    if len(txt) > 2:\n",
    "        return ' '.join(txt)"
   ]
  },
  {
   "cell_type": "code",
   "execution_count": null,
   "metadata": {},
   "outputs": [],
   "source": [
    "for proposal in proposals:\n",
    "    print('# Starting...')\n",
    "    print('Reading file '+proposal)\n",
    "    dataset = pd.read_csv(dir_data+proposal, delimiter = \"\\t\", quoting = 3)\n",
    "    del dataset['Unnamed: 0']\n",
    "    \n",
    "    print('## 6. Lemma without removes stopwords')\n",
    "    #Clean @, url, special characters,\n",
    "    brief_cleaning = (re.sub(\"(@[A-Za-z0-9]+)|((?<=[A-Za-z])(?=[A-Z][a-z]))|([^A-Za-zäÄëËïÏöÖüÜáéíóúáéíóúÁÉÍÓÚÂÊÎÔÛâêîôûàèìòùÀÈÌÒÙñÑ])|(\\w+:\\/\\/\\S+)\",\n",
    "                             ' ', str(row)).lower() for row in dataset['text'])\n",
    "    \n",
    "    t = time()    \n",
    "    txt = [cleaning_lemma(doc) for doc in nlp.pipe(brief_cleaning, n_threads=cores)]\n",
    "    #print('Time to clean up everything: {} mins'.format(round((time() - t) / 60, 2)))\n",
    "    print('-- -- Time to clean up everything: {} mins'.format(round((time() - t) / 60, 2)))\n",
    "    \n",
    "    df_clean_lemma = pd.DataFrame({'text': txt})\n",
    "    df_clean_lemma = df_clean_lemma.dropna()\n",
    "    filename = dir_output+\"6_clean_lemma_\"+proposal\n",
    "    df_clean_lemma.to_csv(filename,sep='\\t')    \n",
    "    print('-- -- Se genero archivo tsv: '+filename)"
   ]
  },
  {
   "cell_type": "code",
   "execution_count": null,
   "metadata": {},
   "outputs": [],
   "source": [
    "print('### Finish clean dataset '+proposal+' ####')\n",
    "print('############################################################')"
   ]
  }
 ],
 "metadata": {
  "kernelspec": {
   "display_name": "Python 3",
   "language": "python",
   "name": "python3"
  },
  "language_info": {
   "codemirror_mode": {
    "name": "ipython",
    "version": 3
   },
   "file_extension": ".py",
   "mimetype": "text/x-python",
   "name": "python",
   "nbconvert_exporter": "python",
   "pygments_lexer": "ipython3",
   "version": "3.7.3"
  }
 },
 "nbformat": 4,
 "nbformat_minor": 4
}
