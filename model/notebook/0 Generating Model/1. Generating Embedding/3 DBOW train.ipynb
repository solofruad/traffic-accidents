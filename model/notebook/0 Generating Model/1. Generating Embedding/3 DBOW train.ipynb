{
 "cells": [
  {
   "cell_type": "markdown",
   "metadata": {},
   "source": [
    "# 0.3 Entrenando y generando DBOW\n",
    "### By **Néstor Suat** in 2019\n",
    "\n",
    "**Descripción:** Utilizando los diferentes conjunto de datos con limpieza se entrenan un modelo DBOW genernado un modelo diferentes por conjunto de datos. **12 iteraciones y 15 epocas**. \n",
    "\n",
    "**Input:**\n",
    "* 50% bogota + 50% no_bogota = **dataset_propuesta1_5050**\n",
    "* Complete, all tweets =  **dataset_propuesta2_complete**\n",
    "* Stem.\n",
    "* Lemma.\n",
    "* Only-stopwords without stem-lemma.\n",
    "* All characteres, without @, urls, # and numbers.\n",
    "* Stem without removes stopwords\n",
    "* Lemma without removes stopwords\n",
    "\n",
    "**Output:**\n",
    "12 modelos diferentes\n",
    "* Stem.\n",
    "* Lemma.\n",
    "* Only-stopwords without stem-lemma.\n",
    "* All characteres, without @, urls, # and numbers.\n",
    "* Stem without removes stopwords\n",
    "* Lemma without removes stopwords\n",
    "\n",
    "***"
   ]
  },
  {
   "cell_type": "markdown",
   "metadata": {},
   "source": [
    "## Importando librerias"
   ]
  },
  {
   "cell_type": "code",
   "execution_count": 1,
   "metadata": {},
   "outputs": [],
   "source": [
    "import pandas as pd  # For data handling\n",
    "from time import time  # To time our operations\n",
    "import multiprocessing\n",
    "\n",
    "from gensim.models.doc2vec import Doc2Vec, TaggedDocument"
   ]
  },
  {
   "cell_type": "code",
   "execution_count": 9,
   "metadata": {},
   "outputs": [],
   "source": [
    "import logging  # Setting up the loggings to monitor gensim\n",
    "#logging.basicConfig(format=\"%(levelname)s - %(asctime)s: %(message)s\", datefmt= '%H:%M:%S', level=logging.INFO)\n",
    "\n",
    "\n",
    "logger = logging.getLogger(\"doc2vec\")\n",
    "hdlr = logging.FileHandler(\"logs-dbow.log\")\n",
    "formatter = logging.Formatter('%(asctime)s %(levelname)s %(message)s')\n",
    "hdlr.setFormatter(formatter)\n",
    "logger.addHandler(hdlr)\n",
    "logger.setLevel(logging.INFO)"
   ]
  },
  {
   "cell_type": "markdown",
   "metadata": {},
   "source": [
    "## Conjunto de datos\n",
    "Se importa el conjunto de datos correspondiente"
   ]
  },
  {
   "cell_type": "code",
   "execution_count": 15,
   "metadata": {},
   "outputs": [
    {
     "name": "stdout",
     "output_type": "stream",
     "text": [
      "dataset cargado\n"
     ]
    }
   ],
   "source": [
    "__dir = \"../../../data/v1/doc2vec/clean/\"\n",
    "#__dir = \"../../../data/v1/7030/\"\n",
    "__file = \"6_clean_lemma_dataset_propuesta1_5050\"\n",
    "#__file = \"test30\"\n",
    "\n",
    "dataset = pd.read_csv(__dir + __file + \".tsv\", delimiter= \"\\t\", quoting = 3)\n",
    "#del dataset[\"Unnamed: 0\"]\n",
    "print(\"dataset cargado\") \n",
    "\n",
    "cores = multiprocessing.cpu_count() # Count the number of cores in a computer"
   ]
  },
  {
   "cell_type": "markdown",
   "metadata": {},
   "source": [
    "## Entrenando modelo DBOW\n",
    "Se define el tamaño del vector a generar, la tasa de aprendizaje de la red neuronal y las iteraciones (max_epochs)"
   ]
  },
  {
   "cell_type": "code",
   "execution_count": 8,
   "metadata": {},
   "outputs": [],
   "source": [
    "#max_epochs = 12\n",
    "max_epochs = 1\n",
    "vec_size = 200\n",
    "alpha = 0.025\n",
    "min_alpha = 0.0001"
   ]
  },
  {
   "cell_type": "markdown",
   "metadata": {},
   "source": [
    "El modelo DBOW utiliza **Unigramas** "
   ]
  },
  {
   "cell_type": "code",
   "execution_count": 16,
   "metadata": {},
   "outputs": [
    {
     "name": "stdout",
     "output_type": "stream",
     "text": [
      "Comenzando a contruir vocab\n",
      "Comenzando a entrenar DBOW\n",
      "iteration 0\n"
     ]
    },
    {
     "name": "stderr",
     "output_type": "stream",
     "text": [
      "/home/hat/anaconda3/lib/python3.7/site-packages/ipykernel_launcher.py:38: DeprecationWarning: Call to deprecated `iter` (Attribute will be removed in 4.0.0, use self.epochs instead).\n"
     ]
    },
    {
     "name": "stdout",
     "output_type": "stream",
     "text": [
      "Time to train model doc2vec: 0.9 mins\n",
      "Unhandled exception:\n",
      "'Logger' object has no attribute 'into'\n"
     ]
    }
   ],
   "source": [
    "try:    \n",
    "    logger.info(\"#####Comenzando a entrenar modelo DBOW######\")    \n",
    "    unigram = [row.split() for row in dataset['text']]\n",
    "    \n",
    "    #Creando documentos para doc2vec\n",
    "    logger.info(\"Creando documentos para doc2vec\")\n",
    "    tagged_data = [TaggedDocument(words=_d, tags=[str(i)]) for i, _d in enumerate(unigram)]\n",
    "\n",
    "    #DBOW + Unigram   \n",
    "    logger.info(\"Creando objeto del modelo doc2vec\")\n",
    "    model = Doc2Vec(vector_size=vec_size,\n",
    "                    window=5,\n",
    "                    alpha=alpha,\n",
    "                    min_alpha=min_alpha,\n",
    "                    min_count=4,\n",
    "                    dm=0, #dm = 1 is \"distribuides memory (no-order words)), if dm = 0 is \"DBOW\" (order words))                \n",
    "                    #epochs=15,\n",
    "                    epochs=1,\n",
    "                    workers=cores,\n",
    "                    seed=123,\n",
    "                    negative=5, hs=0)\n",
    "      \n",
    "\n",
    "    print(\"Comenzando a contruir vocab\")\n",
    "    logger.info(\"Comenzando a contruir vocab\")\n",
    "    t = time()\n",
    "    model.build_vocab(tagged_data)    \n",
    "    logger.info('Time to build vocab: {} mins'.format(round((time() - t) / 60, 2)))\n",
    "\n",
    "    print(\"Comenzando a entrenar DBOW\")\n",
    "    logger.info(\"Comenzando a entrenar DBOW\")\n",
    "    t = time()\n",
    "    for epoch in range(max_epochs):        \n",
    "        print('iteration {0}'.format(epoch))\n",
    "        logger.info('iteration {0}'.format(epoch))\n",
    "        model.train(tagged_data,\n",
    "                    total_examples=model.corpus_count,\n",
    "                    epochs=model.iter)        \n",
    "        # decrease the learning rate\n",
    "        model.alpha -= 0.0002\n",
    "        # fix the learning rate, no decay\n",
    "        model.min_alpha = model.alpha\n",
    "\n",
    "    print('Time to train model doc2vec: {} mins'.format(round((time() - t) / 60, 2)))    \n",
    "    logger.info('Time to train model doc2vec: {} mins'.format(round((time() - t) / 60, 2)))\n",
    "    \n",
    "    __dir_save = \"output/\"\n",
    "    __name = __dir_save+__file\n",
    "    model.save(__name+\".model\")        \n",
    "    logger.info(\"Model Saved file: \"+__name+\".model\")\n",
    "    logger.info(\"#####Finalizando entrenamiento de modelo DBOW######\")    \n",
    "    print(\"#####Finalizando entrenamiento de modelo DBOW######\")    \n",
    "\n",
    "except Exception as e:\n",
    "    print('Unhandled exception:')\n",
    "    print(e)\n"
   ]
  }
 ],
 "metadata": {
  "kernelspec": {
   "display_name": "Python 3",
   "language": "python",
   "name": "python3"
  },
  "language_info": {
   "codemirror_mode": {
    "name": "ipython",
    "version": 3
   },
   "file_extension": ".py",
   "mimetype": "text/x-python",
   "name": "python",
   "nbconvert_exporter": "python",
   "pygments_lexer": "ipython3",
   "version": "3.7.3"
  }
 },
 "nbformat": 4,
 "nbformat_minor": 4
}
