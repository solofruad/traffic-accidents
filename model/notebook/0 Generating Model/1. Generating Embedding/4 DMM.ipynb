{
 "cells": [
  {
   "cell_type": "markdown",
   "metadata": {},
   "source": [
    "# 0.4 Entrenando y generando DMM\n",
    "### By **Néstor Suat** in 2019\n",
    "\n",
    "**Descripción:** Utilizando los diferentes conjunto de datos con limpieza se entrenan un modelo DMM genernado un modelo diferentes por conjunto de datos. **12 iteraciones y 15 epocas**. \n",
    "\n",
    "**Input:**\n",
    "* 50% bogota + 50% no_bogota = **dataset_propuesta1_5050**\n",
    "* Complete, all tweets =  **dataset_propuesta2_complete**\n",
    "* Stem.\n",
    "* Lemma.\n",
    "* Only-stopwords without stem-lemma.\n",
    "* All characteres, without @, urls, # and numbers.\n",
    "* Stem without removes stopwords\n",
    "* Lemma without removes stopwords\n",
    "\n",
    "**Output:**\n",
    "12 modelos diferentes\n",
    "* Stem.\n",
    "* Lemma.\n",
    "* Only-stopwords without stem-lemma.\n",
    "* All characteres, without @, urls, # and numbers.\n",
    "* Stem without removes stopwords\n",
    "* Lemma without removes stopwords\n",
    "\n",
    "***"
   ]
  },
  {
   "cell_type": "markdown",
   "metadata": {},
   "source": [
    "### Importando librerías"
   ]
  },
  {
   "cell_type": "code",
   "execution_count": null,
   "metadata": {},
   "outputs": [],
   "source": [
    "import pandas as pd  # For data handling\n",
    "from time import time  # To time our operations\n",
    "import multiprocessing\n",
    "\n",
    "from gensim.models.phrases import Phrases\n",
    "from gensim.models.doc2vec import Doc2Vec, TaggedDocument\n",
    "\n",
    "#import spacy  # For preprocessing\n",
    "#!pip3 install -U spacy\n",
    "#!python3 -m spacy download es_core_news_md"
   ]
  },
  {
   "cell_type": "markdown",
   "metadata": {},
   "source": [
    "## Conjunto de datos\n",
    "Se importa el conjunto de datos correspondiente"
   ]
  },
  {
   "cell_type": "code",
   "execution_count": null,
   "metadata": {},
   "outputs": [],
   "source": [
    "__dir = \"data/v1/doc2vec/clean/\"\n",
    "__file = \"6_clean_lemma_dataset_propuesta2_complete\"\n",
    "\n",
    "dataset = pd.read_csv(__dir + __file + \".tsv\", delimiter= \"\\t\", quoting = 3)\n",
    "del dataset[\"Unnamed: 0\"]\n",
    "\n",
    "cores = multiprocessing.cpu_count() # Count the number of cores in a computer"
   ]
  },
  {
   "cell_type": "markdown",
   "metadata": {},
   "source": [
    "## Entrenando modelo DMM\n",
    "Se define el tamaño del vector a generar, la tasa de aprendizaje de la red neuronal y las iteraciones (max_epochs)"
   ]
  },
  {
   "cell_type": "code",
   "execution_count": null,
   "metadata": {},
   "outputs": [],
   "source": [
    "max_epochs = 12\n",
    "vec_size = 200\n",
    "alpha = 0.025\n",
    "min_alpha = 0.0001"
   ]
  },
  {
   "cell_type": "markdown",
   "metadata": {},
   "source": [
    "En DMM se utilizó **trigramas**"
   ]
  },
  {
   "cell_type": "code",
   "execution_count": null,
   "metadata": {},
   "outputs": [],
   "source": [
    "try:\n",
    "    unigram = [row.split() for row in dataset['text']]\n",
    "    bigram = Phrases(unigram, min_count=5, progress_per=10000)\n",
    "    trigram = Phrases(bigram[unigram], min_count=5, progress_per=10000)        \n",
    "    trigram.save(\"data/v1/doc2vec/model_dmm/trigram/trigram_\"+__file+\".model\")\n",
    "    \n",
    "    sentences = trigram[bigram[unigram]]\n",
    "    \n",
    "    print(\"Creando documentos para doc2vec\")\n",
    "    tagged_data = [TaggedDocument(words=_d, tags=[str(i)]) for i, _d in enumerate(sentences)]\n",
    "    \n",
    "    #DMM + Trigram    \n",
    "    model = Doc2Vec(vector_size=vec_size,\n",
    "                    window=5,\n",
    "                    alpha=alpha, \n",
    "                    min_alpha=min_alpha,\n",
    "                    min_count=4,\n",
    "                    dm=1, #dm = 1 is \"distribuides memory (no-order words)), if dm = 0 is \"DBOW\" (order words))\n",
    "                    dm_mean=1,\n",
    "                    epochs=15,\n",
    "                    workers=cores,\n",
    "                    seed=123) \n",
    "      \n",
    "\n",
    "    print(\"Comenzando a contruir vocab\")\n",
    "    t = time()\n",
    "    model.build_vocab(tagged_data)    \n",
    "    print('Time to build vocab: {} mins'.format(round((time() - t) / 60, 2)))\n",
    "\n",
    "    print\"Comenzando a entrenar\")\n",
    "    t = time()\n",
    "    for epoch in range(max_epochs):        \n",
    "        print('iteration {0}'.format(epoch))\n",
    "        model.train(tagged_data,\n",
    "                    total_examples=model.corpus_count,\n",
    "                    epochs=model.iter)\n",
    "        # decrease the learning rate\n",
    "        model.alpha -= 0.0002\n",
    "        # fix the learning rate, no decay\n",
    "        model.min_alpha = model.alpha\n",
    "\n",
    "    print('Time to train model doc2vec: {} mins'.format(round((time() - t) / 60, 2)))\n",
    "\n",
    "    __dir_save = \"data/v1/doc2vec/model_dmm/\"\n",
    "    model.save(__dir_save+__file+\".model\")    \n",
    "    print(\"###Finalizando entrenamiento de modelo DMM###\")    \n",
    "    \n",
    "except Exception as e:\n",
    "    print('Unhandled exception:')\n",
    "    print(e)\n"
   ]
  }
 ],
 "metadata": {
  "kernelspec": {
   "display_name": "Python 3",
   "language": "python",
   "name": "python3"
  },
  "language_info": {
   "codemirror_mode": {
    "name": "ipython",
    "version": 3
   },
   "file_extension": ".py",
   "mimetype": "text/x-python",
   "name": "python",
   "nbconvert_exporter": "python",
   "pygments_lexer": "ipython3",
   "version": "3.7.3"
  }
 },
 "nbformat": 4,
 "nbformat_minor": 4
}
