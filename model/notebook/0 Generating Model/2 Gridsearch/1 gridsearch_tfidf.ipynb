{
 "cells": [
  {
   "cell_type": "markdown",
   "metadata": {},
   "source": [
    "# Gridsearch hyperparameters SVM o NB con **TFIDF**\n",
    "### By **Néstor Suat** in 2019\n",
    "\n",
    "**Descripción:** Buscando los parametros adecuados para el modelo **SVM** o **Naive Bayes** usando **TFIDF** como embedding. \n",
    "\n",
    "**Input:**\n",
    "* Train and Test set\n",
    "* Hyperparameters\n",
    "\n",
    "**Output:**\n",
    "* The best model with parameters\n",
    "* Metrics: confusion matrix, accuracy, recall, precision and F1-score\n",
    "\n",
    "***"
   ]
  },
  {
   "cell_type": "markdown",
   "metadata": {},
   "source": [
    "## 0. Cargando datos y limpieza\n",
    "\n",
    "### Importando librerías\n",
    "\n",
    "Como estamos en un archivo afuera se necesita agregar la dirección ../ (raíz del proyexto) para importar la librería de preprocesamiento."
   ]
  },
  {
   "cell_type": "code",
   "execution_count": 2,
   "metadata": {},
   "outputs": [],
   "source": [
    "import pandas as pd\n",
    "import numpy as np\n",
    "import sys\n",
    "sys.path.insert(0, '../../../')\n",
    "\n",
    "from classes.tfidf.preprocessing import Preprocessing as tfidf"
   ]
  },
  {
   "cell_type": "markdown",
   "metadata": {},
   "source": [
    "### Importando datasets"
   ]
  },
  {
   "cell_type": "code",
   "execution_count": 6,
   "metadata": {},
   "outputs": [
    {
     "name": "stdout",
     "output_type": "stream",
     "text": [
      "(2662, 2) (1142, 2)\n"
     ]
    }
   ],
   "source": [
    "train = pd.read_csv(\"../../../data/v1/7030/train70.tsv\", delimiter = \"\\t\", quoting = 3)\n",
    "test = pd.read_csv(\"../../../data/v1/7030/test30.tsv\", delimiter = \"\\t\", quoting = 3)\n",
    "\n",
    "print(train.shape, test.shape) # (3804, 3)"
   ]
  },
  {
   "cell_type": "code",
   "execution_count": 7,
   "metadata": {},
   "outputs": [
    {
     "data": {
      "text/html": [
       "<div>\n",
       "<style scoped>\n",
       "    .dataframe tbody tr th:only-of-type {\n",
       "        vertical-align: middle;\n",
       "    }\n",
       "\n",
       "    .dataframe tbody tr th {\n",
       "        vertical-align: top;\n",
       "    }\n",
       "\n",
       "    .dataframe thead th {\n",
       "        text-align: right;\n",
       "    }\n",
       "</style>\n",
       "<table border=\"1\" class=\"dataframe\">\n",
       "  <thead>\n",
       "    <tr style=\"text-align: right;\">\n",
       "      <th></th>\n",
       "      <th>text</th>\n",
       "      <th>label</th>\n",
       "    </tr>\n",
       "  </thead>\n",
       "  <tbody>\n",
       "    <tr>\n",
       "      <th>0</th>\n",
       "      <td>📢#Atención: se presenta siniestro vial entre u...</td>\n",
       "      <td>1</td>\n",
       "    </tr>\n",
       "    <tr>\n",
       "      <th>1</th>\n",
       "      <td>📢#Atención: a esta hora se presentan disturbio...</td>\n",
       "      <td>0</td>\n",
       "    </tr>\n",
       "    <tr>\n",
       "      <th>2</th>\n",
       "      <td>Incidente vial entre taxi 🚖 y‍ motocicleta 🏍️ ...</td>\n",
       "      <td>1</td>\n",
       "    </tr>\n",
       "    <tr>\n",
       "      <th>3</th>\n",
       "      <td>@chemabernal @Moniva0517 @MartinSantosR La grá...</td>\n",
       "      <td>0</td>\n",
       "    </tr>\n",
       "    <tr>\n",
       "      <th>4</th>\n",
       "      <td>RT @CaracolRadio: #CaracolEsMás | ¡Atención! F...</td>\n",
       "      <td>1</td>\n",
       "    </tr>\n",
       "  </tbody>\n",
       "</table>\n",
       "</div>"
      ],
      "text/plain": [
       "                                                text  label\n",
       "0  📢#Atención: se presenta siniestro vial entre u...      1\n",
       "1  📢#Atención: a esta hora se presentan disturbio...      0\n",
       "2  Incidente vial entre taxi 🚖 y‍ motocicleta 🏍️ ...      1\n",
       "3  @chemabernal @Moniva0517 @MartinSantosR La grá...      0\n",
       "4  RT @CaracolRadio: #CaracolEsMás | ¡Atención! F...      1"
      ]
     },
     "execution_count": 7,
     "metadata": {},
     "output_type": "execute_result"
    }
   ],
   "source": [
    "train.head()"
   ]
  },
  {
   "cell_type": "code",
   "execution_count": 8,
   "metadata": {},
   "outputs": [
    {
     "data": {
      "text/html": [
       "<div>\n",
       "<style scoped>\n",
       "    .dataframe tbody tr th:only-of-type {\n",
       "        vertical-align: middle;\n",
       "    }\n",
       "\n",
       "    .dataframe tbody tr th {\n",
       "        vertical-align: top;\n",
       "    }\n",
       "\n",
       "    .dataframe thead th {\n",
       "        text-align: right;\n",
       "    }\n",
       "</style>\n",
       "<table border=\"1\" class=\"dataframe\">\n",
       "  <thead>\n",
       "    <tr style=\"text-align: right;\">\n",
       "      <th></th>\n",
       "      <th>text</th>\n",
       "      <th>label</th>\n",
       "    </tr>\n",
       "  </thead>\n",
       "  <tbody>\n",
       "    <tr>\n",
       "      <th>0</th>\n",
       "      <td>¿Cómo se encuentra el tráfico en la ciudad? 🔴 ...</td>\n",
       "      <td>0</td>\n",
       "    </tr>\n",
       "    <tr>\n",
       "      <th>1</th>\n",
       "      <td>RT @GuavioNoticias: 🚨En horas de la madrugada ...</td>\n",
       "      <td>1</td>\n",
       "    </tr>\n",
       "    <tr>\n",
       "      <th>2</th>\n",
       "      <td>Incidente vial  entre moto 🏍️ y taxi 🚕, en la ...</td>\n",
       "      <td>1</td>\n",
       "    </tr>\n",
       "    <tr>\n",
       "      <th>3</th>\n",
       "      <td>Los supervisores de Asobel prestaron apoyo en ...</td>\n",
       "      <td>1</td>\n",
       "    </tr>\n",
       "    <tr>\n",
       "      <th>4</th>\n",
       "      <td>Paso a un carril en la vía Bogotá-Villavicenci...</td>\n",
       "      <td>1</td>\n",
       "    </tr>\n",
       "  </tbody>\n",
       "</table>\n",
       "</div>"
      ],
      "text/plain": [
       "                                                text  label\n",
       "0  ¿Cómo se encuentra el tráfico en la ciudad? 🔴 ...      0\n",
       "1  RT @GuavioNoticias: 🚨En horas de la madrugada ...      1\n",
       "2  Incidente vial  entre moto 🏍️ y taxi 🚕, en la ...      1\n",
       "3  Los supervisores de Asobel prestaron apoyo en ...      1\n",
       "4  Paso a un carril en la vía Bogotá-Villavicenci...      1"
      ]
     },
     "execution_count": 8,
     "metadata": {},
     "output_type": "execute_result"
    }
   ],
   "source": [
    "test.head()"
   ]
  },
  {
   "cell_type": "markdown",
   "metadata": {},
   "source": [
    "### Preprocessing"
   ]
  },
  {
   "cell_type": "code",
   "execution_count": 18,
   "metadata": {},
   "outputs": [],
   "source": [
    "type_clean = 4 #Tiene que ser el mismo que 'file' (prefijo)\n",
    "#TFIDF\n",
    "max_df = 0.5    \n",
    "max_features = None\n",
    "min_df = 0.001    \n",
    "ngram_range = (1, 2)"
   ]
  },
  {
   "cell_type": "code",
   "execution_count": 10,
   "metadata": {},
   "outputs": [
    {
     "data": {
      "text/html": [
       "<div>\n",
       "<style scoped>\n",
       "    .dataframe tbody tr th:only-of-type {\n",
       "        vertical-align: middle;\n",
       "    }\n",
       "\n",
       "    .dataframe tbody tr th {\n",
       "        vertical-align: top;\n",
       "    }\n",
       "\n",
       "    .dataframe thead th {\n",
       "        text-align: right;\n",
       "    }\n",
       "</style>\n",
       "<table border=\"1\" class=\"dataframe\">\n",
       "  <thead>\n",
       "    <tr style=\"text-align: right;\">\n",
       "      <th></th>\n",
       "      <th>text</th>\n",
       "      <th>label</th>\n",
       "      <th>clean</th>\n",
       "    </tr>\n",
       "  </thead>\n",
       "  <tbody>\n",
       "    <tr>\n",
       "      <th>0</th>\n",
       "      <td>📢#Atención: se presenta siniestro vial entre u...</td>\n",
       "      <td>1</td>\n",
       "      <td>atención   se presenta siniestro vial entre...</td>\n",
       "    </tr>\n",
       "    <tr>\n",
       "      <th>1</th>\n",
       "      <td>📢#Atención: a esta hora se presentan disturbio...</td>\n",
       "      <td>0</td>\n",
       "      <td>atención   a esta hora se presentan disturb...</td>\n",
       "    </tr>\n",
       "    <tr>\n",
       "      <th>2</th>\n",
       "      <td>Incidente vial entre taxi 🚖 y‍ motocicleta 🏍️ ...</td>\n",
       "      <td>1</td>\n",
       "      <td>incidente vial entre taxi    y   motocicleta  ...</td>\n",
       "    </tr>\n",
       "    <tr>\n",
       "      <th>3</th>\n",
       "      <td>@chemabernal @Moniva0517 @MartinSantosR La grá...</td>\n",
       "      <td>0</td>\n",
       "      <td>la gráfica dice que la deuda lp como   ...</td>\n",
       "    </tr>\n",
       "    <tr>\n",
       "      <th>4</th>\n",
       "      <td>RT @CaracolRadio: #CaracolEsMás | ¡Atención! F...</td>\n",
       "      <td>1</td>\n",
       "      <td>rt      caracol esmás     atención   fuerte ac...</td>\n",
       "    </tr>\n",
       "  </tbody>\n",
       "</table>\n",
       "</div>"
      ],
      "text/plain": [
       "                                                text  label  \\\n",
       "0  📢#Atención: se presenta siniestro vial entre u...      1   \n",
       "1  📢#Atención: a esta hora se presentan disturbio...      0   \n",
       "2  Incidente vial entre taxi 🚖 y‍ motocicleta 🏍️ ...      1   \n",
       "3  @chemabernal @Moniva0517 @MartinSantosR La grá...      0   \n",
       "4  RT @CaracolRadio: #CaracolEsMás | ¡Atención! F...      1   \n",
       "\n",
       "                                               clean  \n",
       "0     atención   se presenta siniestro vial entre...  \n",
       "1     atención   a esta hora se presentan disturb...  \n",
       "2  incidente vial entre taxi    y   motocicleta  ...  \n",
       "3         la gráfica dice que la deuda lp como   ...  \n",
       "4  rt      caracol esmás     atención   fuerte ac...  "
      ]
     },
     "execution_count": 10,
     "metadata": {},
     "output_type": "execute_result"
    }
   ],
   "source": [
    "clean = tfidf(train)\n",
    "clean.fit_clean(type_clean)\n",
    "train.head()"
   ]
  },
  {
   "cell_type": "code",
   "execution_count": 11,
   "metadata": {},
   "outputs": [
    {
     "data": {
      "text/html": [
       "<div>\n",
       "<style scoped>\n",
       "    .dataframe tbody tr th:only-of-type {\n",
       "        vertical-align: middle;\n",
       "    }\n",
       "\n",
       "    .dataframe tbody tr th {\n",
       "        vertical-align: top;\n",
       "    }\n",
       "\n",
       "    .dataframe thead th {\n",
       "        text-align: right;\n",
       "    }\n",
       "</style>\n",
       "<table border=\"1\" class=\"dataframe\">\n",
       "  <thead>\n",
       "    <tr style=\"text-align: right;\">\n",
       "      <th></th>\n",
       "      <th>text</th>\n",
       "      <th>label</th>\n",
       "      <th>clean</th>\n",
       "    </tr>\n",
       "  </thead>\n",
       "  <tbody>\n",
       "    <tr>\n",
       "      <th>0</th>\n",
       "      <td>¿Cómo se encuentra el tráfico en la ciudad? 🔴 ...</td>\n",
       "      <td>0</td>\n",
       "      <td>cómo se encuentra el tráfico en la ciudad   ...</td>\n",
       "    </tr>\n",
       "    <tr>\n",
       "      <th>1</th>\n",
       "      <td>RT @GuavioNoticias: 🚨En horas de la madrugada ...</td>\n",
       "      <td>1</td>\n",
       "      <td>rt      en horas de la madrugada se presenta u...</td>\n",
       "    </tr>\n",
       "    <tr>\n",
       "      <th>2</th>\n",
       "      <td>Incidente vial  entre moto 🏍️ y taxi 🚕, en la ...</td>\n",
       "      <td>1</td>\n",
       "      <td>incidente vial   entre moto     y taxi     en ...</td>\n",
       "    </tr>\n",
       "    <tr>\n",
       "      <th>3</th>\n",
       "      <td>Los supervisores de Asobel prestaron apoyo en ...</td>\n",
       "      <td>1</td>\n",
       "      <td>los supervisores de asobel prestaron apoyo en ...</td>\n",
       "    </tr>\n",
       "    <tr>\n",
       "      <th>4</th>\n",
       "      <td>Paso a un carril en la vía Bogotá-Villavicenci...</td>\n",
       "      <td>1</td>\n",
       "      <td>paso a un carril en la vía bogotá villavicenci...</td>\n",
       "    </tr>\n",
       "  </tbody>\n",
       "</table>\n",
       "</div>"
      ],
      "text/plain": [
       "                                                text  label  \\\n",
       "0  ¿Cómo se encuentra el tráfico en la ciudad? 🔴 ...      0   \n",
       "1  RT @GuavioNoticias: 🚨En horas de la madrugada ...      1   \n",
       "2  Incidente vial  entre moto 🏍️ y taxi 🚕, en la ...      1   \n",
       "3  Los supervisores de Asobel prestaron apoyo en ...      1   \n",
       "4  Paso a un carril en la vía Bogotá-Villavicenci...      1   \n",
       "\n",
       "                                               clean  \n",
       "0    cómo se encuentra el tráfico en la ciudad   ...  \n",
       "1  rt      en horas de la madrugada se presenta u...  \n",
       "2  incidente vial   entre moto     y taxi     en ...  \n",
       "3  los supervisores de asobel prestaron apoyo en ...  \n",
       "4  paso a un carril en la vía bogotá villavicenci...  "
      ]
     },
     "execution_count": 11,
     "metadata": {},
     "output_type": "execute_result"
    }
   ],
   "source": [
    "clean = tfidf(test)\n",
    "clean.fit_clean(type_clean)\n",
    "test.head()"
   ]
  },
  {
   "cell_type": "code",
   "execution_count": 12,
   "metadata": {},
   "outputs": [
    {
     "name": "stdout",
     "output_type": "stream",
     "text": [
      "(2662, 3) (1142, 3)\n"
     ]
    }
   ],
   "source": [
    "train = train[~train['clean'].isnull()] #Elimina publicaciones que estan null al eliminarlo porque no generan valor en el proceso de limpieza\n",
    "test = test[~test['clean'].isnull()]\n",
    "print(train.shape, test.shape) # (3804, 3)"
   ]
  },
  {
   "cell_type": "markdown",
   "metadata": {},
   "source": [
    "### Train & Test set"
   ]
  },
  {
   "cell_type": "code",
   "execution_count": 13,
   "metadata": {},
   "outputs": [],
   "source": [
    "X, y = train.clean, train.label\n",
    "X_test, y_test = test.clean, test.label"
   ]
  },
  {
   "cell_type": "markdown",
   "metadata": {},
   "source": [
    "## 1. GridSearchCV"
   ]
  },
  {
   "cell_type": "markdown",
   "metadata": {},
   "source": [
    "### Support Vector Machine"
   ]
  },
  {
   "cell_type": "markdown",
   "metadata": {},
   "source": [
    "1.1. Importando librerías"
   ]
  },
  {
   "cell_type": "code",
   "execution_count": 15,
   "metadata": {},
   "outputs": [],
   "source": [
    "from sklearn.model_selection import GridSearchCV\n",
    "from sklearn.model_selection import RandomizedSearchCV\n",
    "\n",
    "from sklearn.pipeline import Pipeline\n",
    "from sklearn.svm import SVC\n",
    "from sklearn.naive_bayes import GaussianNB\n",
    "from sklearn.ensemble import RandomForestClassifier\n",
    "\n",
    "from sklearn.feature_extraction.text import TfidfVectorizer\n",
    "from sklearn.metrics import classification_report\n",
    "\n",
    "from pprint import pprint\n",
    "from time import time"
   ]
  },
  {
   "cell_type": "markdown",
   "metadata": {},
   "source": [
    "## 1.Random Search Training"
   ]
  },
  {
   "cell_type": "code",
   "execution_count": 19,
   "metadata": {},
   "outputs": [],
   "source": [
    "embedding, vectorizer = clean.feature_extraction(ngram_range=ngram_range, max_df=max_df, min_df=min_df, max_features=max_features)"
   ]
  },
  {
   "cell_type": "code",
   "execution_count": 20,
   "metadata": {},
   "outputs": [],
   "source": [
    "X_train = embedding[:,1:]\n",
    "X_train=X_train.astype('float')\n",
    "\n",
    "y_train = embedding[:,0]\n",
    "y_train=y_train.astype('int')"
   ]
  },
  {
   "cell_type": "code",
   "execution_count": 21,
   "metadata": {},
   "outputs": [],
   "source": [
    "# Number of trees in random forest\n",
    "n_estimators = [int(x) for x in np.linspace(start = 200, stop = 2000, num = 10)]\n",
    "# Number of features to consider at every split\n",
    "max_features = ['auto', 'sqrt', 'log2']\n",
    "# Maximum number of levels in tree\n",
    "max_depth = [int(x) for x in np.linspace(10, 110, num = 11)]\n",
    "max_depth.append(None)\n",
    "# Minimum number of samples required to split a node\n",
    "min_samples_split = [2, 5, 10]\n",
    "# Minimum number of samples required at each leaf node\n",
    "min_samples_leaf = [1, 2, 4, 7]\n",
    "# Method of selecting samples for training each tree\n",
    "bootstrap = [True, False]# Create the random grid\n",
    "random_grid = {'n_estimators': n_estimators,\n",
    "               'max_features': max_features,\n",
    "               'max_depth': max_depth,\n",
    "               'min_samples_split': min_samples_split,\n",
    "               'min_samples_leaf': min_samples_leaf,\n",
    "               'bootstrap': bootstrap}\n"
   ]
  },
  {
   "cell_type": "code",
   "execution_count": 5,
   "metadata": {},
   "outputs": [
    {
     "data": {
      "text/plain": [
       "{'n_estimators': [200, 400, 600, 800, 1000, 1200, 1400, 1600, 1800, 2000],\n",
       " 'max_features': ['auto', 'sqrt', 'log2'],\n",
       " 'max_depth': [10, 20, 30, 40, 50, 60, 70, 80, 90, 100, 110, None],\n",
       " 'min_samples_split': [2, 5, 10],\n",
       " 'min_samples_leaf': [1, 2, 4, 7],\n",
       " 'bootstrap': [True, False]}"
      ]
     },
     "execution_count": 5,
     "metadata": {},
     "output_type": "execute_result"
    }
   ],
   "source": [
    "random_grid"
   ]
  },
  {
   "cell_type": "code",
   "execution_count": 22,
   "metadata": {},
   "outputs": [
    {
     "name": "stdout",
     "output_type": "stream",
     "text": [
      "Fitting 3 folds for each of 100 candidates, totalling 300 fits\n"
     ]
    },
    {
     "name": "stderr",
     "output_type": "stream",
     "text": [
      "[Parallel(n_jobs=-1)]: Using backend LokyBackend with 4 concurrent workers.\n",
      "[Parallel(n_jobs=-1)]: Done  33 tasks      | elapsed:  1.9min\n",
      "[Parallel(n_jobs=-1)]: Done 154 tasks      | elapsed:  7.5min\n",
      "[Parallel(n_jobs=-1)]: Done 300 out of 300 | elapsed: 11.9min finished\n"
     ]
    },
    {
     "data": {
      "text/plain": [
       "RandomizedSearchCV(cv=3, error_score='raise-deprecating',\n",
       "                   estimator=RandomForestClassifier(bootstrap=True,\n",
       "                                                    class_weight=None,\n",
       "                                                    criterion='gini',\n",
       "                                                    max_depth=None,\n",
       "                                                    max_features='auto',\n",
       "                                                    max_leaf_nodes=None,\n",
       "                                                    min_impurity_decrease=0.0,\n",
       "                                                    min_impurity_split=None,\n",
       "                                                    min_samples_leaf=1,\n",
       "                                                    min_samples_split=2,\n",
       "                                                    min_weight_fraction_leaf=0.0,\n",
       "                                                    n_estimators='warn',\n",
       "                                                    n_jobs=None,\n",
       "                                                    oob_sc...\n",
       "                   param_distributions={'bootstrap': [True, False],\n",
       "                                        'max_depth': [10, 20, 30, 40, 50, 60,\n",
       "                                                      70, 80, 90, 100, 110,\n",
       "                                                      None],\n",
       "                                        'max_features': ['auto', 'sqrt',\n",
       "                                                         'log2'],\n",
       "                                        'min_samples_leaf': [1, 2, 4, 7],\n",
       "                                        'min_samples_split': [2, 5, 10],\n",
       "                                        'n_estimators': [200, 400, 600, 800,\n",
       "                                                         1000, 1200, 1400, 1600,\n",
       "                                                         1800, 2000]},\n",
       "                   pre_dispatch='2*n_jobs', random_state=100, refit=True,\n",
       "                   return_train_score=False, scoring=None, verbose=2)"
      ]
     },
     "execution_count": 22,
     "metadata": {},
     "output_type": "execute_result"
    }
   ],
   "source": [
    "# Use the random grid to search for best hyperparameters\n",
    "# First create the base model to tune\n",
    "rf = RandomForestClassifier()\n",
    "# Random search of parameters, using 3 fold cross validation, \n",
    "# search across 100 different combinations, and use all available cores\n",
    "rf_random = RandomizedSearchCV(estimator = rf, param_distributions = random_grid, n_iter = 100, cv = 3, verbose=2, random_state=100, n_jobs = -1)# Fit the random search model\n",
    "rf_random.fit(X_train, y_train)"
   ]
  },
  {
   "cell_type": "code",
   "execution_count": 23,
   "metadata": {},
   "outputs": [
    {
     "data": {
      "text/plain": [
       "{'n_estimators': 1600,\n",
       " 'min_samples_split': 5,\n",
       " 'min_samples_leaf': 1,\n",
       " 'max_features': 'sqrt',\n",
       " 'max_depth': 50,\n",
       " 'bootstrap': False}"
      ]
     },
     "execution_count": 23,
     "metadata": {},
     "output_type": "execute_result"
    }
   ],
   "source": [
    "rf_random.best_params_"
   ]
  },
  {
   "cell_type": "markdown",
   "metadata": {},
   "source": [
    "1.2. Configurando el archivo donde se va guardar el resultado (info)"
   ]
  },
  {
   "cell_type": "raw",
   "metadata": {},
   "source": [
    "import logging  # Setting up the loggings to monitor gensim\n",
    "\n",
    "logger = logging.getLogger(\"gridsearch\")\n",
    "hdlr = logging.FileHandler(\"gridsearch_tfidf.log\")\n",
    "formatter = logging.Formatter('%(asctime)s %(levelname)s %(message)s')\n",
    "hdlr.setFormatter(formatter)\n",
    "logger.addHandler(hdlr)\n",
    "logger.setLevel(logging.INFO)"
   ]
  },
  {
   "cell_type": "markdown",
   "metadata": {},
   "source": [
    "**1.3. Comenzando a entrenar modelo**"
   ]
  },
  {
   "cell_type": "raw",
   "metadata": {},
   "source": [
    "max_df = 0.45\n",
    "max_features = 1500\n",
    "min_df =  0.001\n",
    "ngram_range =  (1, 3)"
   ]
  },
  {
   "cell_type": "markdown",
   "metadata": {},
   "source": [
    "### Support Vector Machine (**SVM**) Model"
   ]
  },
  {
   "cell_type": "raw",
   "metadata": {},
   "source": [
    "logger.info(\"#####Comenzando a entrenar modelo######\")    \n",
    "logger.info(__doc__)\n",
    "pipeline = Pipeline([\n",
    "  ('tfidf', TfidfVectorizer()),\n",
    "  #('tfidf', TfidfVectorizer(ngram_range=ngram_range, max_df=max_df, min_df=min_df, max_features=max_features)),\n",
    "  #('clf', SVC(random_state=123, kernel='rbf', C=4, gamma=0.7)),   \n",
    "  ('clf', SVC(random_state=123)),   \n",
    "])\n",
    "\n",
    "parameters = {\n",
    "        'tfidf__ngram_range': ((1,1),(1,2),(1,3)),\n",
    "        'tfidf__max_df': (0.35, 0.4, 0.45, 0.5),\n",
    "        'tfidf__min_df': (0.001,0.01, 0.1,0.2),\n",
    "        'tfidf__max_features': (None, 600, 800, 1000, 1200, 2000),                \n",
    "        'clf__C': (1, 2, 3, 4, 5, 6, 7),\n",
    "        'clf__gamma': (0.1, 0.2, 0.3, 0.4, 0.7, 1, 2, 3,7),\n",
    "        'clf__kernel': ('linear', 'rbf')\n",
    "}\n",
    "#scores = ['accuracy', 'f1']   \n",
    "scores = ['accuracy']   "
   ]
  },
  {
   "cell_type": "markdown",
   "metadata": {},
   "source": [
    "### Naive Bayes (**NB**) Model"
   ]
  },
  {
   "cell_type": "raw",
   "metadata": {},
   "source": [
    "#Para resolver el error:\n",
    "#ERROR A sparse matrix was passed, but dense data is required. Use X.toarray() to convert to a dense numpy array\n",
    "from sklearn.base import TransformerMixin\n",
    "class DenseTransformer(TransformerMixin):\n",
    "\n",
    "    def fit(self, X, y=None, **fit_params):\n",
    "        return self\n",
    "\n",
    "    def transform(self, X, y=None, **fit_params):\n",
    "        return X.todense()"
   ]
  },
  {
   "cell_type": "raw",
   "metadata": {},
   "source": [
    "logger.info(\"#####Comenzando a entrenar modelo######\")    \n",
    "logger.info(__doc__)\n",
    "pipeline = Pipeline([\n",
    "  ('tfidf', TfidfVectorizer()),  \n",
    "  ('to_dense', DenseTransformer()),\n",
    "  ('clf', GaussianNB())\n",
    "])\n",
    "\n",
    "parameters = {\n",
    "    'tfidf__ngram_range': ((1,1),(1,2),(1,3)),\n",
    "    'tfidf__max_df': (0.2,0.3, 0.35, 0.4, 0.45, 0.5),\n",
    "    'tfidf__min_df': (0.001,0.01, 0.1),\n",
    "    'tfidf__max_features': (None, 600, 800, 1000, 1200, 2000),                \n",
    "}\n",
    "scores = ['accuracy', 'f1']   \n",
    "#scores = ['accuracy']"
   ]
  },
  {
   "cell_type": "markdown",
   "metadata": {},
   "source": [
    "### Random Forest (**RF**) Model"
   ]
  },
  {
   "cell_type": "raw",
   "metadata": {},
   "source": [
    "logger.info(\"#####Comenzando a entrenar modelo######\")    \n",
    "logger.info(__doc__)\n",
    "pipeline = Pipeline([\n",
    "  ('tfidf', TfidfVectorizer(min_df=0.001)),  \n",
    "  ('to_dense', DenseTransformer()),\n",
    "  ('clf', RandomForestClassifier(n_estimators=100, bootstrap=True,random_state=100,n_jobs=-1)())\n",
    "])\n",
    "\n",
    "parameters = {\n",
    "    'tfidf__ngram_range': ((1,1),(1,2),(1,3)),\n",
    "    'tfidf__max_df': (0.2,0.3, 0.35, 0.4, 0.5),    \n",
    "    'tfidf__max_features': (None, 600, 800, 1000, 1200, 2000),\n",
    "    'clf__n_estimators': [500,600,1000, 1200, 1600, 2000],                             \n",
    "}\n",
    "#scores = ['accuracy', 'f1']   \n",
    "scores = ['accuracy']"
   ]
  },
  {
   "cell_type": "raw",
   "metadata": {},
   "source": [
    "'clf__n_estimators': [600,1000, 1200, 1600, 2000],                             \n",
    "'clf__max_depth': [40, 50, 100, 110],\n",
    "'clf__min_samples_split': [2, 4, 5, 10],\n",
    "'clf__min_samples_leaf': [1, 2, 4],\n",
    "'clf__bootstrap': True,"
   ]
  },
  {
   "cell_type": "markdown",
   "metadata": {},
   "source": [
    "### Gridsearch"
   ]
  },
  {
   "cell_type": "raw",
   "metadata": {},
   "source": [
    "try:    \n",
    "    #logger.info(\"Comenzando tuning\")\n",
    "    for score in scores:\n",
    "        logger.info(\"# Tuning hyper-parameters for %s\" % score)\n",
    "        logger.info(\" \")\n",
    "    \n",
    "        logger.info(\"Performing grid search...\")\n",
    "        print(\"pipeline:\", [name for name, _ in pipeline.steps])\n",
    "        logger.info(\"parameters:\")\n",
    "        pprint(parameters)\n",
    "        t0 = time()        \n",
    "        grid_search = GridSearchCV(pipeline, parameters, cv=5, scoring=score, n_jobs=-1,verbose=1)                \n",
    "        grid_search.fit(X, y)        \n",
    "        logger.info(\"done in %0.3fs\" % (time() - t0))\n",
    "        logger.info(\" \")\n",
    "        \n",
    "        logger.info(\"Best parameters set found on development set:\")\n",
    "        logger.info(\" \")\n",
    "        logger.info(grid_search.best_params_)\n",
    "        logger.info(\" \")\n",
    "        ##Old start\n",
    "        logger.info(\"--\")\n",
    "        logger.info(\"Best score: %0.3f\" % grid_search.best_score_)    \n",
    "        logger.info(\"Best parameters set:\")\n",
    "        best_parameters = grid_search.best_estimator_.get_params()    \n",
    "        for param_name in sorted(parameters.keys()):\n",
    "            logger.info(\"\\t%s: %r\" % (param_name, best_parameters[param_name]))\n",
    "        logger.info(\"--\")\n",
    "        logger.info(\" \")\n",
    "        ##Old end\n",
    "        \n",
    "        logger.info(\"Grid scores on development set:\")\n",
    "        logger.info(\" \")\n",
    "        means = grid_search.cv_results_['mean_test_score']\n",
    "        stds = grid_search.cv_results_['std_test_score']\n",
    "        for mean, std, params in sorted(zip(means, stds, grid_search.cv_results_['params']),key = lambda t: t[0],reverse=True):\n",
    "            logger.info(\"%0.3f (+/-%0.03f) for %r\" % (mean, std * 2, params))\n",
    "        logger.info(\" \")\n",
    "    \n",
    "        logger.info(\"Detailed classification report:\")\n",
    "        logger.info(\" \")\n",
    "        logger.info(\"The model is trained on the full development set.\")\n",
    "        logger.info(\"The scores are computed on the full evaluation set.\")\n",
    "        logger.info(\" \")\n",
    "        y_true, y_pred = y_test, grid_search.predict(X_test)\n",
    "        logger.info(classification_report(y_true, y_pred))\n",
    "        logger.info(\" \")\n",
    "    \n",
    "except Exception as e:\n",
    "    logger.error('Unhandled exception:')\n",
    "    logger.error(e)\n",
    "    "
   ]
  },
  {
   "cell_type": "raw",
   "metadata": {},
   "source": [
    "print(\"hello\")"
   ]
  }
 ],
 "metadata": {
  "kernelspec": {
   "display_name": "Python 3",
   "language": "python",
   "name": "python3"
  },
  "language_info": {
   "codemirror_mode": {
    "name": "ipython",
    "version": 3
   },
   "file_extension": ".py",
   "mimetype": "text/x-python",
   "name": "python",
   "nbconvert_exporter": "python",
   "pygments_lexer": "ipython3",
   "version": "3.7.3"
  }
 },
 "nbformat": 4,
 "nbformat_minor": 4
}
