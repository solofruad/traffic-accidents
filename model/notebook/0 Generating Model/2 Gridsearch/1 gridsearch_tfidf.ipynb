{
 "cells": [
  {
   "cell_type": "markdown",
   "metadata": {},
   "source": [
    "# Gridsearch hyperparameters SVM o NB con **TFIDF**\n",
    "### By **Néstor Suat** in 2019\n",
    "\n",
    "**Descripción:** Buscando los parametros adecuados para el modelo **SVM** o **Naive Bayes** usando **TFIDF** como embedding. \n",
    "\n",
    "**Input:**\n",
    "* Train and Test set\n",
    "* Hyperparameters\n",
    "\n",
    "**Output:**\n",
    "* The best model with parameters\n",
    "* Metrics: confusion matrix, accuracy, recall, precision and F1-score\n",
    "\n",
    "***"
   ]
  },
  {
   "cell_type": "markdown",
   "metadata": {},
   "source": [
    "## 0. Cargando datos y limpieza\n",
    "\n",
    "### Importando librerías\n",
    "\n",
    "Como estamos en un archivo afuera se necesita agregar la dirección ../ (raíz del proyexto) para importar la librería de preprocesamiento."
   ]
  },
  {
   "cell_type": "code",
   "execution_count": 1,
   "metadata": {},
   "outputs": [],
   "source": [
    "import pandas as pd\n",
    "\n",
    "import sys\n",
    "sys.path.insert(0, '../../../')\n",
    "\n",
    "from classes.tfidf.preprocessing import Preprocessing as tfidf"
   ]
  },
  {
   "cell_type": "markdown",
   "metadata": {},
   "source": [
    "### Importando datasets"
   ]
  },
  {
   "cell_type": "code",
   "execution_count": 2,
   "metadata": {},
   "outputs": [
    {
     "name": "stdout",
     "output_type": "stream",
     "text": [
      "(2662, 2) (1142, 2)\n"
     ]
    }
   ],
   "source": [
    "train = pd.read_csv(\"../../../data/v1/7030/train70.tsv\", delimiter = \"\\t\", quoting = 3)\n",
    "test = pd.read_csv(\"../../../data/v1/7030/test30.tsv\", delimiter = \"\\t\", quoting = 3)\n",
    "\n",
    "print(train.shape, test.shape) # (3804, 3)"
   ]
  },
  {
   "cell_type": "code",
   "execution_count": 3,
   "metadata": {},
   "outputs": [
    {
     "data": {
      "text/html": [
       "<div>\n",
       "<style scoped>\n",
       "    .dataframe tbody tr th:only-of-type {\n",
       "        vertical-align: middle;\n",
       "    }\n",
       "\n",
       "    .dataframe tbody tr th {\n",
       "        vertical-align: top;\n",
       "    }\n",
       "\n",
       "    .dataframe thead th {\n",
       "        text-align: right;\n",
       "    }\n",
       "</style>\n",
       "<table border=\"1\" class=\"dataframe\">\n",
       "  <thead>\n",
       "    <tr style=\"text-align: right;\">\n",
       "      <th></th>\n",
       "      <th>text</th>\n",
       "      <th>label</th>\n",
       "    </tr>\n",
       "  </thead>\n",
       "  <tbody>\n",
       "    <tr>\n",
       "      <th>0</th>\n",
       "      <td>📢#Atención: se presenta siniestro vial entre u...</td>\n",
       "      <td>1</td>\n",
       "    </tr>\n",
       "    <tr>\n",
       "      <th>1</th>\n",
       "      <td>📢#Atención: a esta hora se presentan disturbio...</td>\n",
       "      <td>0</td>\n",
       "    </tr>\n",
       "    <tr>\n",
       "      <th>2</th>\n",
       "      <td>Incidente vial entre taxi 🚖 y‍ motocicleta 🏍️ ...</td>\n",
       "      <td>1</td>\n",
       "    </tr>\n",
       "    <tr>\n",
       "      <th>3</th>\n",
       "      <td>@chemabernal @Moniva0517 @MartinSantosR La grá...</td>\n",
       "      <td>0</td>\n",
       "    </tr>\n",
       "    <tr>\n",
       "      <th>4</th>\n",
       "      <td>RT @CaracolRadio: #CaracolEsMás | ¡Atención! F...</td>\n",
       "      <td>1</td>\n",
       "    </tr>\n",
       "  </tbody>\n",
       "</table>\n",
       "</div>"
      ],
      "text/plain": [
       "                                                text  label\n",
       "0  📢#Atención: se presenta siniestro vial entre u...      1\n",
       "1  📢#Atención: a esta hora se presentan disturbio...      0\n",
       "2  Incidente vial entre taxi 🚖 y‍ motocicleta 🏍️ ...      1\n",
       "3  @chemabernal @Moniva0517 @MartinSantosR La grá...      0\n",
       "4  RT @CaracolRadio: #CaracolEsMás | ¡Atención! F...      1"
      ]
     },
     "execution_count": 3,
     "metadata": {},
     "output_type": "execute_result"
    }
   ],
   "source": [
    "train.head()"
   ]
  },
  {
   "cell_type": "code",
   "execution_count": 4,
   "metadata": {},
   "outputs": [
    {
     "data": {
      "text/html": [
       "<div>\n",
       "<style scoped>\n",
       "    .dataframe tbody tr th:only-of-type {\n",
       "        vertical-align: middle;\n",
       "    }\n",
       "\n",
       "    .dataframe tbody tr th {\n",
       "        vertical-align: top;\n",
       "    }\n",
       "\n",
       "    .dataframe thead th {\n",
       "        text-align: right;\n",
       "    }\n",
       "</style>\n",
       "<table border=\"1\" class=\"dataframe\">\n",
       "  <thead>\n",
       "    <tr style=\"text-align: right;\">\n",
       "      <th></th>\n",
       "      <th>text</th>\n",
       "      <th>label</th>\n",
       "    </tr>\n",
       "  </thead>\n",
       "  <tbody>\n",
       "    <tr>\n",
       "      <th>0</th>\n",
       "      <td>¿Cómo se encuentra el tráfico en la ciudad? 🔴 ...</td>\n",
       "      <td>0</td>\n",
       "    </tr>\n",
       "    <tr>\n",
       "      <th>1</th>\n",
       "      <td>RT @GuavioNoticias: 🚨En horas de la madrugada ...</td>\n",
       "      <td>1</td>\n",
       "    </tr>\n",
       "    <tr>\n",
       "      <th>2</th>\n",
       "      <td>Incidente vial  entre moto 🏍️ y taxi 🚕, en la ...</td>\n",
       "      <td>1</td>\n",
       "    </tr>\n",
       "    <tr>\n",
       "      <th>3</th>\n",
       "      <td>Los supervisores de Asobel prestaron apoyo en ...</td>\n",
       "      <td>1</td>\n",
       "    </tr>\n",
       "    <tr>\n",
       "      <th>4</th>\n",
       "      <td>Paso a un carril en la vía Bogotá-Villavicenci...</td>\n",
       "      <td>1</td>\n",
       "    </tr>\n",
       "  </tbody>\n",
       "</table>\n",
       "</div>"
      ],
      "text/plain": [
       "                                                text  label\n",
       "0  ¿Cómo se encuentra el tráfico en la ciudad? 🔴 ...      0\n",
       "1  RT @GuavioNoticias: 🚨En horas de la madrugada ...      1\n",
       "2  Incidente vial  entre moto 🏍️ y taxi 🚕, en la ...      1\n",
       "3  Los supervisores de Asobel prestaron apoyo en ...      1\n",
       "4  Paso a un carril en la vía Bogotá-Villavicenci...      1"
      ]
     },
     "execution_count": 4,
     "metadata": {},
     "output_type": "execute_result"
    }
   ],
   "source": [
    "test.head()"
   ]
  },
  {
   "cell_type": "markdown",
   "metadata": {},
   "source": [
    "### Preprocessing"
   ]
  },
  {
   "cell_type": "code",
   "execution_count": 5,
   "metadata": {},
   "outputs": [],
   "source": [
    "type_clean =6 #Tiene que ser el mismo que 'file' (prefijo)"
   ]
  },
  {
   "cell_type": "code",
   "execution_count": 6,
   "metadata": {},
   "outputs": [
    {
     "data": {
      "text/html": [
       "<div>\n",
       "<style scoped>\n",
       "    .dataframe tbody tr th:only-of-type {\n",
       "        vertical-align: middle;\n",
       "    }\n",
       "\n",
       "    .dataframe tbody tr th {\n",
       "        vertical-align: top;\n",
       "    }\n",
       "\n",
       "    .dataframe thead th {\n",
       "        text-align: right;\n",
       "    }\n",
       "</style>\n",
       "<table border=\"1\" class=\"dataframe\">\n",
       "  <thead>\n",
       "    <tr style=\"text-align: right;\">\n",
       "      <th></th>\n",
       "      <th>text</th>\n",
       "      <th>label</th>\n",
       "      <th>clean</th>\n",
       "    </tr>\n",
       "  </thead>\n",
       "  <tbody>\n",
       "    <tr>\n",
       "      <th>0</th>\n",
       "      <td>📢#Atención: se presenta siniestro vial entre u...</td>\n",
       "      <td>1</td>\n",
       "      <td>atención   se presentar siniestro vial entr...</td>\n",
       "    </tr>\n",
       "    <tr>\n",
       "      <th>1</th>\n",
       "      <td>📢#Atención: a esta hora se presentan disturbio...</td>\n",
       "      <td>0</td>\n",
       "      <td>atención   a este hora se presentar disturb...</td>\n",
       "    </tr>\n",
       "    <tr>\n",
       "      <th>2</th>\n",
       "      <td>Incidente vial entre taxi 🚖 y‍ motocicleta 🏍️ ...</td>\n",
       "      <td>1</td>\n",
       "      <td>incidente vial entrar taxi    y   motocicleta ...</td>\n",
       "    </tr>\n",
       "    <tr>\n",
       "      <th>3</th>\n",
       "      <td>@chemabernal @Moniva0517 @MartinSantosR La grá...</td>\n",
       "      <td>0</td>\n",
       "      <td>lo gráfico decir que lo deuda lp comer ...</td>\n",
       "    </tr>\n",
       "    <tr>\n",
       "      <th>4</th>\n",
       "      <td>RT @CaracolRadio: #CaracolEsMás | ¡Atención! F...</td>\n",
       "      <td>1</td>\n",
       "      <td>rt      caracol esmás     atención   fuerte ac...</td>\n",
       "    </tr>\n",
       "  </tbody>\n",
       "</table>\n",
       "</div>"
      ],
      "text/plain": [
       "                                                text  label  \\\n",
       "0  📢#Atención: se presenta siniestro vial entre u...      1   \n",
       "1  📢#Atención: a esta hora se presentan disturbio...      0   \n",
       "2  Incidente vial entre taxi 🚖 y‍ motocicleta 🏍️ ...      1   \n",
       "3  @chemabernal @Moniva0517 @MartinSantosR La grá...      0   \n",
       "4  RT @CaracolRadio: #CaracolEsMás | ¡Atención! F...      1   \n",
       "\n",
       "                                               clean  \n",
       "0     atención   se presentar siniestro vial entr...  \n",
       "1     atención   a este hora se presentar disturb...  \n",
       "2  incidente vial entrar taxi    y   motocicleta ...  \n",
       "3         lo gráfico decir que lo deuda lp comer ...  \n",
       "4  rt      caracol esmás     atención   fuerte ac...  "
      ]
     },
     "execution_count": 6,
     "metadata": {},
     "output_type": "execute_result"
    }
   ],
   "source": [
    "clean = tfidf(train)\n",
    "clean.fit_clean(type_clean)\n",
    "train.head()"
   ]
  },
  {
   "cell_type": "code",
   "execution_count": 7,
   "metadata": {},
   "outputs": [
    {
     "data": {
      "text/html": [
       "<div>\n",
       "<style scoped>\n",
       "    .dataframe tbody tr th:only-of-type {\n",
       "        vertical-align: middle;\n",
       "    }\n",
       "\n",
       "    .dataframe tbody tr th {\n",
       "        vertical-align: top;\n",
       "    }\n",
       "\n",
       "    .dataframe thead th {\n",
       "        text-align: right;\n",
       "    }\n",
       "</style>\n",
       "<table border=\"1\" class=\"dataframe\">\n",
       "  <thead>\n",
       "    <tr style=\"text-align: right;\">\n",
       "      <th></th>\n",
       "      <th>text</th>\n",
       "      <th>label</th>\n",
       "      <th>clean</th>\n",
       "    </tr>\n",
       "  </thead>\n",
       "  <tbody>\n",
       "    <tr>\n",
       "      <th>0</th>\n",
       "      <td>¿Cómo se encuentra el tráfico en la ciudad? 🔴 ...</td>\n",
       "      <td>0</td>\n",
       "      <td>cómo se encontrar el tráfico en lo ciudad   ...</td>\n",
       "    </tr>\n",
       "    <tr>\n",
       "      <th>1</th>\n",
       "      <td>RT @GuavioNoticias: 🚨En horas de la madrugada ...</td>\n",
       "      <td>1</td>\n",
       "      <td>rt      en hora de lo madrugar se presentar un...</td>\n",
       "    </tr>\n",
       "    <tr>\n",
       "      <th>2</th>\n",
       "      <td>Incidente vial  entre moto 🏍️ y taxi 🚕, en la ...</td>\n",
       "      <td>1</td>\n",
       "      <td>incidente vial   entrar moto     y taxi     en...</td>\n",
       "    </tr>\n",
       "    <tr>\n",
       "      <th>3</th>\n",
       "      <td>Los supervisores de Asobel prestaron apoyo en ...</td>\n",
       "      <td>1</td>\n",
       "      <td>lo supervisor de asobel prestar apoyar en uno ...</td>\n",
       "    </tr>\n",
       "    <tr>\n",
       "      <th>4</th>\n",
       "      <td>Paso a un carril en la vía Bogotá-Villavicenci...</td>\n",
       "      <td>1</td>\n",
       "      <td>pasar a uno carril en lo vía bogotá villavicen...</td>\n",
       "    </tr>\n",
       "  </tbody>\n",
       "</table>\n",
       "</div>"
      ],
      "text/plain": [
       "                                                text  label  \\\n",
       "0  ¿Cómo se encuentra el tráfico en la ciudad? 🔴 ...      0   \n",
       "1  RT @GuavioNoticias: 🚨En horas de la madrugada ...      1   \n",
       "2  Incidente vial  entre moto 🏍️ y taxi 🚕, en la ...      1   \n",
       "3  Los supervisores de Asobel prestaron apoyo en ...      1   \n",
       "4  Paso a un carril en la vía Bogotá-Villavicenci...      1   \n",
       "\n",
       "                                               clean  \n",
       "0    cómo se encontrar el tráfico en lo ciudad   ...  \n",
       "1  rt      en hora de lo madrugar se presentar un...  \n",
       "2  incidente vial   entrar moto     y taxi     en...  \n",
       "3  lo supervisor de asobel prestar apoyar en uno ...  \n",
       "4  pasar a uno carril en lo vía bogotá villavicen...  "
      ]
     },
     "execution_count": 7,
     "metadata": {},
     "output_type": "execute_result"
    }
   ],
   "source": [
    "clean = tfidf(test)\n",
    "clean.fit_clean(type_clean)\n",
    "test.head()"
   ]
  },
  {
   "cell_type": "code",
   "execution_count": 8,
   "metadata": {},
   "outputs": [
    {
     "name": "stdout",
     "output_type": "stream",
     "text": [
      "(2662, 3) (1142, 3)\n"
     ]
    }
   ],
   "source": [
    "train = train[~train['clean'].isnull()] #Elimina publicaciones que estan null al eliminarlo porque no generan valor en el proceso de limpieza\n",
    "test = test[~test['clean'].isnull()]\n",
    "print(train.shape, test.shape) # (3804, 3)"
   ]
  },
  {
   "cell_type": "markdown",
   "metadata": {},
   "source": [
    "### Train & Test set"
   ]
  },
  {
   "cell_type": "code",
   "execution_count": 9,
   "metadata": {},
   "outputs": [],
   "source": [
    "X, y = train.clean, train.label\n",
    "X_test, y_test = test.clean, test.label"
   ]
  },
  {
   "cell_type": "markdown",
   "metadata": {},
   "source": [
    "## 1. GridSearchCV"
   ]
  },
  {
   "cell_type": "markdown",
   "metadata": {},
   "source": [
    "### Support Vector Machine"
   ]
  },
  {
   "cell_type": "markdown",
   "metadata": {},
   "source": [
    "1.1. Importando librerías"
   ]
  },
  {
   "cell_type": "code",
   "execution_count": 10,
   "metadata": {},
   "outputs": [],
   "source": [
    "from sklearn.model_selection import GridSearchCV\n",
    "from sklearn.pipeline import Pipeline\n",
    "from sklearn.svm import SVC\n",
    "from sklearn.naive_bayes import GaussianNB\n",
    "\n",
    "from sklearn.feature_extraction.text import TfidfVectorizer\n",
    "from sklearn.metrics import classification_report\n",
    "\n",
    "from pprint import pprint\n",
    "from time import time"
   ]
  },
  {
   "cell_type": "markdown",
   "metadata": {},
   "source": [
    "1.2. Configurando el archivo donde se va guardar el resultado (info)"
   ]
  },
  {
   "cell_type": "code",
   "execution_count": 11,
   "metadata": {},
   "outputs": [],
   "source": [
    "import logging  # Setting up the loggings to monitor gensim\n",
    "\n",
    "logger = logging.getLogger(\"gridsearch\")\n",
    "hdlr = logging.FileHandler(\"gridsearch_tfidf.log\")\n",
    "formatter = logging.Formatter('%(asctime)s %(levelname)s %(message)s')\n",
    "hdlr.setFormatter(formatter)\n",
    "logger.addHandler(hdlr)\n",
    "logger.setLevel(logging.INFO)"
   ]
  },
  {
   "cell_type": "markdown",
   "metadata": {},
   "source": [
    "**1.3. Comenzando a entrenar modelo**"
   ]
  },
  {
   "cell_type": "raw",
   "metadata": {},
   "source": [
    "max_df = 0.45\n",
    "max_features = 1500\n",
    "min_df =  0.001\n",
    "ngram_range =  (1, 3)"
   ]
  },
  {
   "cell_type": "markdown",
   "metadata": {},
   "source": [
    "### Support Vector Machine (**SVM**) Model"
   ]
  },
  {
   "cell_type": "raw",
   "metadata": {},
   "source": [
    "logger.info(\"#####Comenzando a entrenar modelo######\")    \n",
    "logger.info(__doc__)\n",
    "pipeline = Pipeline([\n",
    "  ('tfidf', TfidfVectorizer()),\n",
    "  #('tfidf', TfidfVectorizer(ngram_range=ngram_range, max_df=max_df, min_df=min_df, max_features=max_features)),\n",
    "  #('clf', SVC(random_state=123, kernel='rbf', C=4, gamma=0.7)),   \n",
    "  ('clf', SVC(random_state=123)),   \n",
    "])\n",
    "\n",
    "parameters = {\n",
    "        'tfidf__ngram_range': ((1,1),(1,2),(1,3)),\n",
    "        'tfidf__max_df': (0.35, 0.4, 0.45, 0.5),\n",
    "        'tfidf__min_df': (0.001,0.01, 0.1,0.2),\n",
    "        'tfidf__max_features': (None, 600, 800, 1000, 1200, 2000),                \n",
    "        'clf__C': (1, 2, 3, 4, 5, 6, 7),\n",
    "        'clf__gamma': (0.1, 0.2, 0.3, 0.4, 0.7, 1, 2, 3,7),\n",
    "        'clf__kernel': ('linear', 'rbf')\n",
    "}\n",
    "#scores = ['accuracy', 'f1']   \n",
    "scores = ['accuracy']   "
   ]
  },
  {
   "cell_type": "markdown",
   "metadata": {},
   "source": [
    "### Naive Bayes (**NB**) Model"
   ]
  },
  {
   "cell_type": "code",
   "execution_count": 12,
   "metadata": {},
   "outputs": [],
   "source": [
    "#Para resolver el error:\n",
    "#ERROR A sparse matrix was passed, but dense data is required. Use X.toarray() to convert to a dense numpy array\n",
    "from sklearn.base import TransformerMixin\n",
    "class DenseTransformer(TransformerMixin):\n",
    "\n",
    "    def fit(self, X, y=None, **fit_params):\n",
    "        return self\n",
    "\n",
    "    def transform(self, X, y=None, **fit_params):\n",
    "        return X.todense()"
   ]
  },
  {
   "cell_type": "code",
   "execution_count": 13,
   "metadata": {},
   "outputs": [],
   "source": [
    "logger.info(\"#####Comenzando a entrenar modelo######\")    \n",
    "logger.info(__doc__)\n",
    "pipeline = Pipeline([\n",
    "  ('tfidf', TfidfVectorizer()),  \n",
    "  ('to_dense', DenseTransformer()),\n",
    "  ('clf', GaussianNB())\n",
    "])\n",
    "\n",
    "parameters = {\n",
    "    'tfidf__ngram_range': ((1,1),(1,2),(1,3)),\n",
    "    'tfidf__max_df': (0.2,0.3, 0.35, 0.4, 0.45, 0.5),\n",
    "    'tfidf__min_df': (0.001,0.01, 0.1),\n",
    "    'tfidf__max_features': (None, 600, 800, 1000, 1200, 2000),                \n",
    "}\n",
    "scores = ['accuracy', 'f1']   \n",
    "#scores = ['accuracy']"
   ]
  },
  {
   "cell_type": "markdown",
   "metadata": {},
   "source": [
    "### Gridsearch"
   ]
  },
  {
   "cell_type": "code",
   "execution_count": 14,
   "metadata": {},
   "outputs": [
    {
     "name": "stdout",
     "output_type": "stream",
     "text": [
      "pipeline: ['tfidf', 'to_dense', 'clf']\n",
      "{'tfidf__max_df': (0.2, 0.3, 0.35, 0.4, 0.45, 0.5),\n",
      " 'tfidf__max_features': (None, 600, 800, 1000, 1200, 2000),\n",
      " 'tfidf__min_df': (0.001, 0.01, 0.1),\n",
      " 'tfidf__ngram_range': ((1, 1), (1, 2), (1, 3))}\n",
      "Fitting 5 folds for each of 324 candidates, totalling 1620 fits\n"
     ]
    },
    {
     "name": "stderr",
     "output_type": "stream",
     "text": [
      "[Parallel(n_jobs=-1)]: Using backend LokyBackend with 4 concurrent workers.\n",
      "[Parallel(n_jobs=-1)]: Done  42 tasks      | elapsed:    4.7s\n",
      "[Parallel(n_jobs=-1)]: Done 192 tasks      | elapsed:   14.3s\n",
      "[Parallel(n_jobs=-1)]: Done 442 tasks      | elapsed:   30.8s\n",
      "[Parallel(n_jobs=-1)]: Done 792 tasks      | elapsed:   57.4s\n",
      "[Parallel(n_jobs=-1)]: Done 1242 tasks      | elapsed:  1.6min\n",
      "[Parallel(n_jobs=-1)]: Done 1620 out of 1620 | elapsed:  2.1min finished\n"
     ]
    },
    {
     "name": "stdout",
     "output_type": "stream",
     "text": [
      "pipeline: ['tfidf', 'to_dense', 'clf']\n",
      "{'tfidf__max_df': (0.2, 0.3, 0.35, 0.4, 0.45, 0.5),\n",
      " 'tfidf__max_features': (None, 600, 800, 1000, 1200, 2000),\n",
      " 'tfidf__min_df': (0.001, 0.01, 0.1),\n",
      " 'tfidf__ngram_range': ((1, 1), (1, 2), (1, 3))}\n",
      "Fitting 5 folds for each of 324 candidates, totalling 1620 fits\n"
     ]
    },
    {
     "name": "stderr",
     "output_type": "stream",
     "text": [
      "[Parallel(n_jobs=-1)]: Using backend LokyBackend with 4 concurrent workers.\n",
      "[Parallel(n_jobs=-1)]: Done  76 tasks      | elapsed:    6.1s\n",
      "[Parallel(n_jobs=-1)]: Done 376 tasks      | elapsed:   28.6s\n",
      "[Parallel(n_jobs=-1)]: Done 876 tasks      | elapsed:  1.2min\n",
      "[Parallel(n_jobs=-1)]: Done 1576 tasks      | elapsed:  2.0min\n",
      "[Parallel(n_jobs=-1)]: Done 1620 out of 1620 | elapsed:  2.1min finished\n"
     ]
    }
   ],
   "source": [
    "try:    \n",
    "    #logger.info(\"Comenzando tuning\")\n",
    "    for score in scores:\n",
    "        logger.info(\"# Tuning hyper-parameters for %s\" % score)\n",
    "        logger.info(\" \")\n",
    "    \n",
    "        logger.info(\"Performing grid search...\")\n",
    "        print(\"pipeline:\", [name for name, _ in pipeline.steps])\n",
    "        logger.info(\"parameters:\")\n",
    "        pprint(parameters)\n",
    "        t0 = time()        \n",
    "        grid_search = GridSearchCV(pipeline, parameters, cv=5, scoring=score, n_jobs=-1,verbose=1)                \n",
    "        grid_search.fit(X, y)        \n",
    "        logger.info(\"done in %0.3fs\" % (time() - t0))\n",
    "        logger.info(\" \")\n",
    "        \n",
    "        logger.info(\"Best parameters set found on development set:\")\n",
    "        logger.info(\" \")\n",
    "        logger.info(grid_search.best_params_)\n",
    "        logger.info(\" \")\n",
    "        ##Old start\n",
    "        logger.info(\"--\")\n",
    "        logger.info(\"Best score: %0.3f\" % grid_search.best_score_)    \n",
    "        logger.info(\"Best parameters set:\")\n",
    "        best_parameters = grid_search.best_estimator_.get_params()    \n",
    "        for param_name in sorted(parameters.keys()):\n",
    "            logger.info(\"\\t%s: %r\" % (param_name, best_parameters[param_name]))\n",
    "        logger.info(\"--\")\n",
    "        logger.info(\" \")\n",
    "        ##Old end\n",
    "        \n",
    "        logger.info(\"Grid scores on development set:\")\n",
    "        logger.info(\" \")\n",
    "        means = grid_search.cv_results_['mean_test_score']\n",
    "        stds = grid_search.cv_results_['std_test_score']\n",
    "        for mean, std, params in sorted(zip(means, stds, grid_search.cv_results_['params']),key = lambda t: t[0],reverse=True):\n",
    "            logger.info(\"%0.3f (+/-%0.03f) for %r\" % (mean, std * 2, params))\n",
    "        logger.info(\" \")\n",
    "    \n",
    "        logger.info(\"Detailed classification report:\")\n",
    "        logger.info(\" \")\n",
    "        logger.info(\"The model is trained on the full development set.\")\n",
    "        logger.info(\"The scores are computed on the full evaluation set.\")\n",
    "        logger.info(\" \")\n",
    "        y_true, y_pred = y_test, grid_search.predict(X_test)\n",
    "        logger.info(classification_report(y_true, y_pred))\n",
    "        logger.info(\" \")\n",
    "    \n",
    "except Exception as e:\n",
    "    logger.error('Unhandled exception:')\n",
    "    logger.error(e)\n",
    "    "
   ]
  },
  {
   "cell_type": "code",
   "execution_count": 15,
   "metadata": {},
   "outputs": [
    {
     "name": "stdout",
     "output_type": "stream",
     "text": [
      "hello\n"
     ]
    }
   ],
   "source": [
    "print(\"hello\")"
   ]
  }
 ],
 "metadata": {
  "kernelspec": {
   "display_name": "Python 3",
   "language": "python",
   "name": "python3"
  },
  "language_info": {
   "codemirror_mode": {
    "name": "ipython",
    "version": 3
   },
   "file_extension": ".py",
   "mimetype": "text/x-python",
   "name": "python",
   "nbconvert_exporter": "python",
   "pygments_lexer": "ipython3",
   "version": "3.7.3"
  }
 },
 "nbformat": 4,
 "nbformat_minor": 4
}
