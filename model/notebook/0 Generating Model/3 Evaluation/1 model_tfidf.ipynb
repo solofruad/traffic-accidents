{
 "cells": [
  {
   "cell_type": "markdown",
   "metadata": {},
   "source": [
    "# Model (Train & Test) **TFIDF**\n",
    "### By **Néstor Suat** in 2019\n",
    "\n",
    "**Descripción:** Entrenando y probando SVM con TFIDF. \n",
    "\n",
    "**Input:**\n",
    "* Train and Test set\n",
    "* Parameters TFIDF\n",
    "\n",
    "**Output:**\n",
    "* Metrics: confusion matrix, accuracy, recall, precision and F1-score\n",
    "\n",
    "***"
   ]
  },
  {
   "cell_type": "markdown",
   "metadata": {},
   "source": [
    "## 0. Cargando datos y limpieza\n",
    "\n",
    "### Importando librerías\n",
    "\n",
    "Como estamos en un archivo afuera se necesita agregar la dirección ../ (raíz del proyexto) para importar la librería de preprocesamiento."
   ]
  },
  {
   "cell_type": "code",
   "execution_count": 1,
   "metadata": {},
   "outputs": [],
   "source": [
    "import pandas as pd\n",
    "import numpy as np\n",
    "import sys\n",
    "sys.path.insert(0, '../../../')\n",
    "\n",
    "from classes.tfidf.preprocessing import Preprocessing as tfidf"
   ]
  },
  {
   "cell_type": "code",
   "execution_count": 2,
   "metadata": {},
   "outputs": [],
   "source": [
    "def vector_to_phrase(vector, tfidf):\n",
    "    c = 0\n",
    "    sentence = []\n",
    "    for i in vector:\n",
    "        if i!=0.0:        \n",
    "            sentence.append(tfidf.get_feature_names()[c])\n",
    "        c+=1\n",
    "    phrase = \" \".join(sentence)\n",
    "    return phrase"
   ]
  },
  {
   "cell_type": "markdown",
   "metadata": {},
   "source": [
    "### Importando datasets"
   ]
  },
  {
   "cell_type": "code",
   "execution_count": 3,
   "metadata": {},
   "outputs": [
    {
     "name": "stdout",
     "output_type": "stream",
     "text": [
      "(2662, 2) (1142, 2)\n"
     ]
    }
   ],
   "source": [
    "train = pd.read_csv(\"../../../data/v1/7030/train70.tsv\", delimiter = \"\\t\", quoting = 3)\n",
    "test = pd.read_csv(\"../../../data/v1/7030/test30.tsv\", delimiter = \"\\t\", quoting = 3)\n",
    "dataset = pd.concat([train,test])\n",
    "print(train.shape, test.shape) # (3804, 3)"
   ]
  },
  {
   "cell_type": "markdown",
   "metadata": {},
   "source": [
    "### Preprocessing"
   ]
  },
  {
   "cell_type": "code",
   "execution_count": 4,
   "metadata": {},
   "outputs": [],
   "source": [
    "type_clean = 4 #Tiene que ser el mismo que 'file' (prefijo)\n",
    "\n",
    "#TFIDF\n",
    "max_df = 0.5    \n",
    "max_features = None\n",
    "min_df = 0.001    \n",
    "ngram_range = (1, 2)\n",
    "\n",
    "#Model SVM\n",
    "C=4\n",
    "gamma=0.4\n",
    "kernel= 'rbf'"
   ]
  },
  {
   "cell_type": "markdown",
   "metadata": {},
   "source": [
    "Se hace la limpieza de los dos conjuntos de datos (prueba y entrenamiento)"
   ]
  },
  {
   "cell_type": "code",
   "execution_count": 5,
   "metadata": {},
   "outputs": [
    {
     "data": {
      "text/html": [
       "<div>\n",
       "<style scoped>\n",
       "    .dataframe tbody tr th:only-of-type {\n",
       "        vertical-align: middle;\n",
       "    }\n",
       "\n",
       "    .dataframe tbody tr th {\n",
       "        vertical-align: top;\n",
       "    }\n",
       "\n",
       "    .dataframe thead th {\n",
       "        text-align: right;\n",
       "    }\n",
       "</style>\n",
       "<table border=\"1\" class=\"dataframe\">\n",
       "  <thead>\n",
       "    <tr style=\"text-align: right;\">\n",
       "      <th></th>\n",
       "      <th>text</th>\n",
       "      <th>label</th>\n",
       "      <th>clean</th>\n",
       "    </tr>\n",
       "  </thead>\n",
       "  <tbody>\n",
       "    <tr>\n",
       "      <th>0</th>\n",
       "      <td>📢#Atención: se presenta siniestro vial entre u...</td>\n",
       "      <td>1</td>\n",
       "      <td>atención   se presenta siniestro vial entre...</td>\n",
       "    </tr>\n",
       "    <tr>\n",
       "      <th>1</th>\n",
       "      <td>📢#Atención: a esta hora se presentan disturbio...</td>\n",
       "      <td>0</td>\n",
       "      <td>atención   a esta hora se presentan disturb...</td>\n",
       "    </tr>\n",
       "    <tr>\n",
       "      <th>2</th>\n",
       "      <td>Incidente vial entre taxi 🚖 y‍ motocicleta 🏍️ ...</td>\n",
       "      <td>1</td>\n",
       "      <td>incidente vial entre taxi    y   motocicleta  ...</td>\n",
       "    </tr>\n",
       "    <tr>\n",
       "      <th>3</th>\n",
       "      <td>@chemabernal @Moniva0517 @MartinSantosR La grá...</td>\n",
       "      <td>0</td>\n",
       "      <td>la gráfica dice que la deuda lp como   ...</td>\n",
       "    </tr>\n",
       "    <tr>\n",
       "      <th>4</th>\n",
       "      <td>RT @CaracolRadio: #CaracolEsMás | ¡Atención! F...</td>\n",
       "      <td>1</td>\n",
       "      <td>rt      caracol esmás     atención   fuerte ac...</td>\n",
       "    </tr>\n",
       "  </tbody>\n",
       "</table>\n",
       "</div>"
      ],
      "text/plain": [
       "                                                text  label  \\\n",
       "0  📢#Atención: se presenta siniestro vial entre u...      1   \n",
       "1  📢#Atención: a esta hora se presentan disturbio...      0   \n",
       "2  Incidente vial entre taxi 🚖 y‍ motocicleta 🏍️ ...      1   \n",
       "3  @chemabernal @Moniva0517 @MartinSantosR La grá...      0   \n",
       "4  RT @CaracolRadio: #CaracolEsMás | ¡Atención! F...      1   \n",
       "\n",
       "                                               clean  \n",
       "0     atención   se presenta siniestro vial entre...  \n",
       "1     atención   a esta hora se presentan disturb...  \n",
       "2  incidente vial entre taxi    y   motocicleta  ...  \n",
       "3         la gráfica dice que la deuda lp como   ...  \n",
       "4  rt      caracol esmás     atención   fuerte ac...  "
      ]
     },
     "execution_count": 5,
     "metadata": {},
     "output_type": "execute_result"
    }
   ],
   "source": [
    "clean = tfidf(train)\n",
    "clean.fit_clean(type_clean)\n",
    "train.head()"
   ]
  },
  {
   "cell_type": "code",
   "execution_count": 6,
   "metadata": {},
   "outputs": [
    {
     "data": {
      "text/html": [
       "<div>\n",
       "<style scoped>\n",
       "    .dataframe tbody tr th:only-of-type {\n",
       "        vertical-align: middle;\n",
       "    }\n",
       "\n",
       "    .dataframe tbody tr th {\n",
       "        vertical-align: top;\n",
       "    }\n",
       "\n",
       "    .dataframe thead th {\n",
       "        text-align: right;\n",
       "    }\n",
       "</style>\n",
       "<table border=\"1\" class=\"dataframe\">\n",
       "  <thead>\n",
       "    <tr style=\"text-align: right;\">\n",
       "      <th></th>\n",
       "      <th>text</th>\n",
       "      <th>label</th>\n",
       "      <th>clean</th>\n",
       "    </tr>\n",
       "  </thead>\n",
       "  <tbody>\n",
       "    <tr>\n",
       "      <th>0</th>\n",
       "      <td>¿Cómo se encuentra el tráfico en la ciudad? 🔴 ...</td>\n",
       "      <td>0</td>\n",
       "      <td>cómo se encuentra el tráfico en la ciudad   ...</td>\n",
       "    </tr>\n",
       "    <tr>\n",
       "      <th>1</th>\n",
       "      <td>RT @GuavioNoticias: 🚨En horas de la madrugada ...</td>\n",
       "      <td>1</td>\n",
       "      <td>rt      en horas de la madrugada se presenta u...</td>\n",
       "    </tr>\n",
       "    <tr>\n",
       "      <th>2</th>\n",
       "      <td>Incidente vial  entre moto 🏍️ y taxi 🚕, en la ...</td>\n",
       "      <td>1</td>\n",
       "      <td>incidente vial   entre moto     y taxi     en ...</td>\n",
       "    </tr>\n",
       "    <tr>\n",
       "      <th>3</th>\n",
       "      <td>Los supervisores de Asobel prestaron apoyo en ...</td>\n",
       "      <td>1</td>\n",
       "      <td>los supervisores de asobel prestaron apoyo en ...</td>\n",
       "    </tr>\n",
       "    <tr>\n",
       "      <th>4</th>\n",
       "      <td>Paso a un carril en la vía Bogotá-Villavicenci...</td>\n",
       "      <td>1</td>\n",
       "      <td>paso a un carril en la vía bogotá villavicenci...</td>\n",
       "    </tr>\n",
       "  </tbody>\n",
       "</table>\n",
       "</div>"
      ],
      "text/plain": [
       "                                                text  label  \\\n",
       "0  ¿Cómo se encuentra el tráfico en la ciudad? 🔴 ...      0   \n",
       "1  RT @GuavioNoticias: 🚨En horas de la madrugada ...      1   \n",
       "2  Incidente vial  entre moto 🏍️ y taxi 🚕, en la ...      1   \n",
       "3  Los supervisores de Asobel prestaron apoyo en ...      1   \n",
       "4  Paso a un carril en la vía Bogotá-Villavicenci...      1   \n",
       "\n",
       "                                               clean  \n",
       "0    cómo se encuentra el tráfico en la ciudad   ...  \n",
       "1  rt      en horas de la madrugada se presenta u...  \n",
       "2  incidente vial   entre moto     y taxi     en ...  \n",
       "3  los supervisores de asobel prestaron apoyo en ...  \n",
       "4  paso a un carril en la vía bogotá villavicenci...  "
      ]
     },
     "execution_count": 6,
     "metadata": {},
     "output_type": "execute_result"
    }
   ],
   "source": [
    "clean_test = tfidf(test)\n",
    "clean_test.fit_clean(type_clean)\n",
    "test.head()"
   ]
  },
  {
   "cell_type": "markdown",
   "metadata": {},
   "source": [
    "Algunos tweets despúes de la limpieza quedan vacios dado que en el proceso de limpieza se eliminan los tweets con menos de 3 tokens. Lo siguiente es evitar errores para eliminar los tweets que despúes de limpios esten nulos"
   ]
  },
  {
   "cell_type": "code",
   "execution_count": 7,
   "metadata": {},
   "outputs": [
    {
     "name": "stdout",
     "output_type": "stream",
     "text": [
      "(2662, 3) (1142, 3)\n"
     ]
    }
   ],
   "source": [
    "train = train[~train['clean'].isnull()] #Elimina publicaciones que estan null al eliminarlo porque no generan valor en el proceso de limpieza\n",
    "test = test[~test['clean'].isnull()]\n",
    "print(train.shape, test.shape) # (3804, 3)"
   ]
  },
  {
   "cell_type": "markdown",
   "metadata": {},
   "source": [
    "Se realiza la vectorización del texto"
   ]
  },
  {
   "cell_type": "code",
   "execution_count": 8,
   "metadata": {},
   "outputs": [],
   "source": [
    "embedding, vectorizer = clean.feature_extraction(ngram_range=ngram_range, max_df=max_df, min_df=min_df, max_features=max_features)"
   ]
  },
  {
   "cell_type": "markdown",
   "metadata": {},
   "source": [
    "### Feature vector To Text\n",
    "Este fragmento de abajo es solo para comparar dos salidas distintas según el tipo de limpieza aplicada"
   ]
  },
  {
   "cell_type": "raw",
   "metadata": {},
   "source": [
    "compare = {}\n",
    "for v in range(50):\n",
    "    phrase = []\n",
    "    phrase.append(\" \".join([x for x in (sorted(train.iloc[v]['clean'].split(\" \"))) if x != '']))\n",
    "    phrase.append(vector_to_phrase(X_train[v],vectorizer))        \n",
    "    compare[v] = (phrase)"
   ]
  },
  {
   "cell_type": "raw",
   "metadata": {},
   "source": [
    "data = pd.DataFrame.from_dict(compare, orient='index',columns=[\"origin\",\"target\"])\n",
    "data.to_csv(\"clean_\"+str(type_clean)+\".tsv\",sep=\"\\t\",index=False,)"
   ]
  },
  {
   "cell_type": "markdown",
   "metadata": {},
   "source": [
    "### Train & Test set"
   ]
  },
  {
   "cell_type": "code",
   "execution_count": 9,
   "metadata": {},
   "outputs": [],
   "source": [
    "X_train = embedding[:,1:]\n",
    "X_train=X_train.astype('float')\n",
    "\n",
    "y_train = embedding[:,0]\n",
    "y_train=y_train.astype('int')"
   ]
  },
  {
   "cell_type": "markdown",
   "metadata": {},
   "source": [
    "El modelo TFIDF se entrena solo con los datos de entrenamiento, asi que para generar el vector de características para el conjunto de prueba se debe hacer lo siguiente."
   ]
  },
  {
   "cell_type": "code",
   "execution_count": 10,
   "metadata": {},
   "outputs": [],
   "source": [
    "X_test, y_test = vectorizer.transform(test.clean).toarray(), test.label"
   ]
  },
  {
   "cell_type": "raw",
   "metadata": {},
   "source": [
    "X = np.concatenate((X_train, X_test), axis=0)\n",
    "y = np.concatenate((y_train, y_test), axis=0)"
   ]
  },
  {
   "cell_type": "raw",
   "metadata": {},
   "source": [
    "print(\"Size: \\n * X: %s \\n * y: %s \\n * X_train: %s \\n * y_train: %s \\n * X_test: %s \\n * y_test: %s\" % (X.shape, y.shape, X_train.shape, y_train.shape, X_test.shape, y_test.shape))"
   ]
  },
  {
   "cell_type": "markdown",
   "metadata": {},
   "source": [
    "## 1. Model"
   ]
  },
  {
   "cell_type": "markdown",
   "metadata": {},
   "source": [
    "### Support Vector Machine"
   ]
  },
  {
   "cell_type": "code",
   "execution_count": 11,
   "metadata": {},
   "outputs": [],
   "source": [
    "from sklearn.svm import SVC\n",
    "from sklearn.naive_bayes import GaussianNB\n",
    "from sklearn.ensemble import RandomForestClassifier\n",
    "\n",
    "from sklearn.model_selection import StratifiedKFold\n",
    "from sklearn import model_selection\n",
    "\n",
    "from sklearn.metrics import confusion_matrix\n",
    "from sklearn.metrics import accuracy_score\n",
    "from sklearn.metrics import recall_score\n",
    "from sklearn.metrics import precision_score\n",
    "from sklearn.metrics import f1_score"
   ]
  },
  {
   "cell_type": "markdown",
   "metadata": {},
   "source": [
    "### Support Vector Machine (**SVM**) Model"
   ]
  },
  {
   "cell_type": "raw",
   "metadata": {},
   "source": [
    "classifier = SVC(random_state=123, kernel=kernel, gamma=gamma, C=C)\n",
    "#classifier.fit(X_train, y_train)"
   ]
  },
  {
   "cell_type": "markdown",
   "metadata": {},
   "source": [
    "### Naive Bayes (**NB**) Model"
   ]
  },
  {
   "cell_type": "raw",
   "metadata": {},
   "source": [
    "classifier = GaussianNB()\n",
    "#classifier.fit(X_train, y_train)"
   ]
  },
  {
   "cell_type": "markdown",
   "metadata": {},
   "source": [
    "### Random Fiorest (**RF**) Model"
   ]
  },
  {
   "cell_type": "code",
   "execution_count": 12,
   "metadata": {},
   "outputs": [],
   "source": [
    "classifier = RandomForestClassifier(n_estimators=100,random_state=100,n_jobs=-1,max_depth=40)"
   ]
  },
  {
   "cell_type": "markdown",
   "metadata": {},
   "source": [
    "### Evaluación con Cross Validation"
   ]
  },
  {
   "cell_type": "markdown",
   "metadata": {},
   "source": [
    "Cross validation solo los datos **de validación y entrenamiento**"
   ]
  },
  {
   "cell_type": "raw",
   "metadata": {},
   "source": [
    "skfold = StratifiedKFold(n_splits=10, random_state=100)\n",
    "\n",
    "scores = model_selection.cross_val_score(classifier, X, y, cv=skfold)\n",
    "print(\"Accuracy: %0.6f (+/- %0.2f)\" % (scores.mean(), scores.std() * 2))\n",
    "\n",
    "scores = model_selection.cross_val_score(classifier, X, y, cv=skfold, scoring='f1_macro')\n",
    "print(\"F1-score: %0.6f (+/- %0.2f)\" % (scores.mean(), scores.std() * 2))\n",
    "\n",
    "scores = model_selection.cross_val_score(classifier, X, y, cv=skfold, scoring='recall_macro')\n",
    "print(\"Recall: %0.6f (+/- %0.2f)\" % (scores.mean(), scores.std() * 2))\n",
    "\n",
    "scores = model_selection.cross_val_score(classifier, X, y, cv=skfold, scoring='precision_macro')\n",
    "print(\"Precision: %0.6f (+/- %0.2f)\" % (scores.mean(), scores.std() * 2))"
   ]
  },
  {
   "cell_type": "markdown",
   "metadata": {},
   "source": [
    "Cross validation solo **todos los datos**"
   ]
  },
  {
   "cell_type": "code",
   "execution_count": 13,
   "metadata": {},
   "outputs": [],
   "source": [
    "#dataset = pd.concat([train,test])\n",
    "clean_all = tfidf(dataset)\n",
    "clean_all.fit_clean(type_clean)\n",
    "embedding_all, vectorizer_all = clean_all.feature_extraction(ngram_range=ngram_range, max_df=max_df, min_df=min_df, max_features=max_features)\n",
    "X_all = embedding_all[:,1:]\n",
    "X_all=X_all.astype('float')\n",
    "\n",
    "y_all = embedding_all[:,0]\n",
    "y_all=y_all.astype('int')"
   ]
  },
  {
   "cell_type": "code",
   "execution_count": 14,
   "metadata": {},
   "outputs": [
    {
     "name": "stdout",
     "output_type": "stream",
     "text": [
      "Accuracy: 0.951368 (+/- 0.03)\n",
      "F1-score: 0.951339 (+/- 0.03)\n",
      "Recall: 0.951368 (+/- 0.03)\n",
      "Precision: 0.952321 (+/- 0.02)\n"
     ]
    }
   ],
   "source": [
    "skfold = StratifiedKFold(n_splits=10, random_state=100)\n",
    "\n",
    "scores = model_selection.cross_val_score(classifier, X_all, y_all, cv=skfold, n_jobs=-1)\n",
    "print(\"Accuracy: %0.6f (+/- %0.2f)\" % (scores.mean(), scores.std() * 2))\n",
    "\n",
    "scores = model_selection.cross_val_score(classifier, X_all, y_all, cv=skfold, scoring='f1_macro', n_jobs=-1)\n",
    "print(\"F1-score: %0.6f (+/- %0.2f)\" % (scores.mean(), scores.std() * 2))\n",
    "\n",
    "scores = model_selection.cross_val_score(classifier, X_all, y_all, cv=skfold, scoring='recall_macro', n_jobs=-1)\n",
    "print(\"Recall: %0.6f (+/- %0.2f)\" % (scores.mean(), scores.std() * 2))\n",
    "\n",
    "scores = model_selection.cross_val_score(classifier, X_all, y_all, cv=skfold, scoring='precision_macro', n_jobs=-1)\n",
    "print(\"Precision: %0.6f (+/- %0.2f)\" % (scores.mean(), scores.std() * 2))"
   ]
  },
  {
   "cell_type": "markdown",
   "metadata": {},
   "source": [
    "### Evaluación con **Train/test**"
   ]
  },
  {
   "cell_type": "code",
   "execution_count": 15,
   "metadata": {},
   "outputs": [],
   "source": [
    "# Predicting the Test set results\n",
    "classifier.fit(X_train, y_train)\n",
    "y_pred = classifier.predict(X_test)\n",
    "\n",
    "# Making the Confusion Matrix\n",
    "cm_svm = confusion_matrix(y_test, y_pred)\n",
    "\n",
    "metrics_svm = []\n",
    "metrics = {}\n",
    "metrics['accuracy'] = accuracy_score(y_test, y_pred)\n",
    "metrics['recall'] = recall_score(y_test, y_pred)\n",
    "metrics['precision'] = precision_score(y_test, y_pred)\n",
    "metrics['f1'] = f1_score(y_test, y_pred)\n",
    "metrics_svm.append(metrics)\n",
    "metrics_svm = pd.DataFrame(metrics_svm)"
   ]
  },
  {
   "cell_type": "code",
   "execution_count": 16,
   "metadata": {},
   "outputs": [
    {
     "name": "stdout",
     "output_type": "stream",
     "text": [
      "   accuracy    recall  precision        f1\n",
      "0  0.949212  0.925267   0.970149  0.947177\n",
      "[[564  16]\n",
      " [ 42 520]]\n"
     ]
    }
   ],
   "source": [
    "print(metrics_svm)\n",
    "print(cm_svm)"
   ]
  },
  {
   "cell_type": "raw",
   "metadata": {},
   "source": [
    "parameters = {\n",
    "        'tfidf__ngram_range': ((1,1),(1,2),(1,3)),\n",
    "        'tfidf__max_df': (0.35, 0.4, 0.45, 0.5, 0.6),\n",
    "        'tfidf__min_df': (0.001,0.01, 0.1,0.2),\n",
    "        'tfidf__max_features': (None, 600, 800, 1000, 1200, 2000),                \n",
    "        'clf__C': (1, 2, 3, 4, 5, 6, 7),\n",
    "        'clf__gamma': (0.1, 0.2, 0.3, 0.4, 0.7, 1, 2, 3),\n",
    "        'clf__kernel': ('linear', 'rbf')\n",
    "}"
   ]
  }
 ],
 "metadata": {
  "kernelspec": {
   "display_name": "Python 3",
   "language": "python",
   "name": "python3"
  },
  "language_info": {
   "codemirror_mode": {
    "name": "ipython",
    "version": 3
   },
   "file_extension": ".py",
   "mimetype": "text/x-python",
   "name": "python",
   "nbconvert_exporter": "python",
   "pygments_lexer": "ipython3",
   "version": "3.7.3"
  }
 },
 "nbformat": 4,
 "nbformat_minor": 4
}
