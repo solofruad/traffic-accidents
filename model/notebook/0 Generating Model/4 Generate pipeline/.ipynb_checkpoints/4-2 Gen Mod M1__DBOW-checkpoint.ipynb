{
 "cells": [
  {
   "cell_type": "markdown",
   "metadata": {},
   "source": [
    "# Model selected: SVM + DOC2VEC (DBOW)\n",
    "### By **Néstor Suat** in 2020\n",
    "\n",
    "**Descripción:** Generando el modelo entrenado con los parametros seleccionados del modelo de aprendizaje automatico **SVM** con la técnica de embedding **DBOW**.\n",
    "\n",
    "**Input:**\n",
    "* Train and Test set\n",
    "* Parameters selected\n",
    "\n",
    "**Output:**\n",
    "* Model output (SVM + DBOW)\n",
    "\n",
    "***"
   ]
  },
  {
   "cell_type": "markdown",
   "metadata": {},
   "source": [
    "## 0. Cargando datos y limpieza\n",
    "\n",
    "### Importando librerías\n",
    "\n",
    "Como estamos en un archivo afuera se necesita agregar la dirección ../ (raíz del proyexto) para importar la librería de preprocesamiento."
   ]
  },
  {
   "cell_type": "code",
   "execution_count": 1,
   "metadata": {},
   "outputs": [],
   "source": [
    "import pandas as pd\n",
    "import pickle\n",
    "\n",
    "import sys\n",
    "sys.path.insert(0, '../../../')\n",
    "\n",
    "from classes.tweet2accident.preprocessing import Preprocessing\n",
    "from classes.tweet2accident.doc2vec import Embedding"
   ]
  },
  {
   "cell_type": "markdown",
   "metadata": {},
   "source": [
    "### Importando datasets"
   ]
  },
  {
   "cell_type": "code",
   "execution_count": 2,
   "metadata": {},
   "outputs": [
    {
     "name": "stdout",
     "output_type": "stream",
     "text": [
      "(2662, 2) (1142, 2)\n",
      "3804\n"
     ]
    }
   ],
   "source": [
    "train = pd.read_csv(\"../../../data/v1/7030/train70.tsv\", delimiter = \"\\t\", quoting = 3)\n",
    "test = pd.read_csv(\"../../../data/v1/7030/test30.tsv\", delimiter = \"\\t\", quoting = 3)\n",
    "\n",
    "print(train.shape, test.shape) # (3804, 3)\n",
    "print(train.shape[0] + test.shape[0])"
   ]
  },
  {
   "cell_type": "code",
   "execution_count": 3,
   "metadata": {},
   "outputs": [],
   "source": [
    "X, y = train.text, train.label\n",
    "X_test, y_test = test.text, test.label"
   ]
  },
  {
   "cell_type": "markdown",
   "metadata": {},
   "source": [
    "## 1) Preprocessing and SVM Model Parameters"
   ]
  },
  {
   "cell_type": "raw",
   "metadata": {},
   "source": [
    "1_clean_stem_stopwords_dataset_propuesta1_5050\n",
    "1_clean_stem_stopwords_dataset_propuesta2_complete\n",
    "2_clean_lemma_stopwords_dataset_propuesta1_5050\n",
    "2_clean_lemma_stopwords_dataset_propuesta2_complete\n",
    "**3_clean_stopwords_dataset_propuesta1_5050\n",
    "**3_clean_stopwords_dataset_propuesta2_complete\n",
    "4_clean_special_chars_dataset_propuesta1_5050\n",
    "4_clean_special_chars_dataset_propuesta2_complete\n",
    "5_clean_stem_dataset_propuesta1_5050\n",
    "5_clean_stem_dataset_propuesta2_complete\n",
    "6_clean_lemma_dataset_propuesta1_5050\n",
    "6_clean_lemma_dataset_propuesta2_complete"
   ]
  },
  {
   "cell_type": "code",
   "execution_count": 4,
   "metadata": {},
   "outputs": [],
   "source": [
    "#Preprocessing\n",
    "directory = \"../../../data/v1/doc2vec/\"\n",
    "file = \"6_clean_lemma_dataset_propuesta1_5050\"\n",
    "type_clean = 6 #Tiene que ser el mismo que 'file' (prefijo)\n",
    "\n",
    "#Model SVM\n",
    "kernel='rbf'\n",
    "gamma=0.2\n",
    "C=7"
   ]
  },
  {
   "cell_type": "markdown",
   "metadata": {},
   "source": [
    "## 2) Model"
   ]
  },
  {
   "cell_type": "code",
   "execution_count": 5,
   "metadata": {},
   "outputs": [],
   "source": [
    "from sklearn.pipeline import Pipeline\n",
    "from sklearn.svm import SVC\n",
    "\n",
    "from sklearn.metrics import confusion_matrix\n",
    "from sklearn.metrics import accuracy_score\n",
    "from sklearn.metrics import recall_score\n",
    "from sklearn.metrics import precision_score\n",
    "from sklearn.metrics import f1_score"
   ]
  },
  {
   "cell_type": "markdown",
   "metadata": {},
   "source": [
    "### Support Vector Machine (**DBOW + SVM**) Model\n",
    "Creación de pipeline del modelo seleccionado M1: **6 Lemma + dataset propuesta1_5050 + DBOW + SVM**"
   ]
  },
  {
   "cell_type": "code",
   "execution_count": 6,
   "metadata": {},
   "outputs": [],
   "source": [
    "pipeline = Pipeline([\n",
    "    ('transform', Preprocessing(type_clean=type_clean, njobs=4)),\n",
    "    ('dbow', Embedding(type_transform='dbow',directory=directory, file=file)),\n",
    "    ('clf', SVC(random_state=123, kernel=kernel, C=C, gamma=gamma))\n",
    "])"
   ]
  },
  {
   "cell_type": "code",
   "execution_count": 7,
   "metadata": {},
   "outputs": [
    {
     "data": {
      "text/plain": [
       "Pipeline(memory=None,\n",
       "         steps=[('transform', Preprocessing(njobs=4, type_clean=6)),\n",
       "                ('dbow',\n",
       "                 Embedding(directory='../../../data/v1/doc2vec/',\n",
       "                           file='6_clean_lemma_dataset_propuesta1_5050',\n",
       "                           type_transform='dbow')),\n",
       "                ('clf',\n",
       "                 SVC(C=7, cache_size=200, class_weight=None, coef0=0.0,\n",
       "                     decision_function_shape='ovr', degree=3, gamma=0.2,\n",
       "                     kernel='rbf', max_iter=-1, probability=False,\n",
       "                     random_state=123, shrinking=True, tol=0.001,\n",
       "                     verbose=False))],\n",
       "         verbose=False)"
      ]
     },
     "execution_count": 7,
     "metadata": {},
     "output_type": "execute_result"
    }
   ],
   "source": [
    "pipeline.fit(X, y)"
   ]
  },
  {
   "cell_type": "markdown",
   "metadata": {},
   "source": [
    "## 3) Evaluation\n",
    "\n",
    "### Evaluación con **Train/test**\n",
    "La partición de los datos para el conjunto de entrenamiento y pruebas consta de una relación de 70/30 correspondientemente."
   ]
  },
  {
   "cell_type": "code",
   "execution_count": 8,
   "metadata": {},
   "outputs": [],
   "source": [
    "# Predicting the Test set results\n",
    "y_pred = pipeline.predict(X_test)\n",
    "\n",
    "# Making the Confusion Matrix\n",
    "cm_svm = confusion_matrix(y_test, y_pred)\n",
    "\n",
    "metrics_svm = []\n",
    "metrics = {}\n",
    "metrics['accuracy'] = accuracy_score(y_test, y_pred)\n",
    "metrics['recall'] = recall_score(y_test, y_pred)\n",
    "metrics['precision'] = precision_score(y_test, y_pred)\n",
    "metrics['f1'] = f1_score(y_test, y_pred)\n",
    "metrics_svm.append(metrics)\n",
    "metrics_svm = pd.DataFrame(metrics_svm)"
   ]
  },
  {
   "cell_type": "code",
   "execution_count": 9,
   "metadata": {},
   "outputs": [
    {
     "name": "stdout",
     "output_type": "stream",
     "text": [
      "   accuracy    recall  precision        f1\n",
      "0  0.964974  0.948399   0.979779  0.963834\n",
      "[[569  11]\n",
      " [ 29 533]]\n"
     ]
    }
   ],
   "source": [
    "print(metrics_svm)\n",
    "print(cm_svm)"
   ]
  },
  {
   "cell_type": "markdown",
   "metadata": {},
   "source": [
    "## 4) Save model with Pickel\n",
    "Save the model to disk"
   ]
  },
  {
   "cell_type": "code",
   "execution_count": 10,
   "metadata": {},
   "outputs": [],
   "source": [
    "filename = 'model_m1_dbow_svm.pkl'\n",
    "with open(filename, 'wb') as model_file:\n",
    "      pickle.dump(pipeline, model_file)"
   ]
  },
  {
   "cell_type": "markdown",
   "metadata": {},
   "source": [
    "Load the model from disk"
   ]
  },
  {
   "cell_type": "code",
   "execution_count": 11,
   "metadata": {},
   "outputs": [],
   "source": [
    "accident_clasification_model = pickle.load(open(filename, 'rb'))"
   ]
  },
  {
   "cell_type": "raw",
   "metadata": {},
   "source": [
    "#Probando el modelo de clasificación cargado\n",
    "text_predict = accident_clasification_model.predict([\"choque entre camion y carro particular\"])\n",
    "print(text_predict[0]) #El resultado es 1 si es accidente, y 0 si no lo es."
   ]
  },
  {
   "cell_type": "raw",
   "metadata": {},
   "source": [
    "text_test = [\n",
    "    \"choque entre camion y carro particular\",\n",
    "    \"caí por accidente en tu corazón\", \n",
    "    \"accidente aereo deja 100 muertos en australia\",\n",
    "    \"hola mundo\",\n",
    "    \"accidente carro\"\n",
    "]\n",
    "text_predict = accident_clasification_model.predict(text_test)\n",
    "print(text_predict) #El resultado es 1 si es accidente, y 0 si no lo es."
   ]
  }
 ],
 "metadata": {
  "kernelspec": {
   "display_name": "Python 3",
   "language": "python",
   "name": "python3"
  },
  "language_info": {
   "codemirror_mode": {
    "name": "ipython",
    "version": 3
   },
   "file_extension": ".py",
   "mimetype": "text/x-python",
   "name": "python",
   "nbconvert_exporter": "python",
   "pygments_lexer": "ipython3",
   "version": "3.7.3"
  }
 },
 "nbformat": 4,
 "nbformat_minor": 4
}
