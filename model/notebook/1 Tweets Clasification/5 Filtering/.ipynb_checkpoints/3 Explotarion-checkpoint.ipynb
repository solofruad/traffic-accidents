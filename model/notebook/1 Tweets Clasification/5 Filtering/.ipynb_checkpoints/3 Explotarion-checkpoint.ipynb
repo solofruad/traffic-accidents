{
 "cells": [
  {
   "cell_type": "markdown",
   "metadata": {},
   "source": [
    "# 3 Exploration\n",
    "### By **Néstor Suat** in 2020\n",
    "\n",
    "**Descripción:** Exploración de cada uno de los dataset resultado de accidentes.\n",
    "\n",
    "**Input:**\n",
    "* **1_server_bogota.tsv** -- 2,9 GB -- # 4’027.313 Tweets\n",
    "* **2_server_token_search.tsv** -- 119.4 MB -- # 271.153 Tweets\n",
    "* **3_server_token_user.tsv** -- 43.8 MB -- # 100.618 Tweets\n",
    "* **4_server_follow_timeline_user.tsv** -- 246.2 MB -- # 574.816 Tweets\n",
    "\n",
    "**Output:**\n",
    "* Undefined\n",
    "***"
   ]
  },
  {
   "cell_type": "code",
   "execution_count": 1,
   "metadata": {},
   "outputs": [],
   "source": [
    "import pandas as pd"
   ]
  },
  {
   "cell_type": "code",
   "execution_count": 2,
   "metadata": {},
   "outputs": [],
   "source": [
    "filename = 'accident_2_server_token_search.tsv'\n",
    "dir_ = '../../../data/database/output_ml/M1/'"
   ]
  },
  {
   "cell_type": "code",
   "execution_count": 3,
   "metadata": {},
   "outputs": [],
   "source": [
    "df = pd.read_csv(dir_+filename, delimiter = \"\\t\", quoting = 3 ) # Part1\n",
    "del df['Unnamed: 0']"
   ]
  },
  {
   "cell_type": "code",
   "execution_count": 4,
   "metadata": {},
   "outputs": [
    {
     "data": {
      "text/plain": [
       "(60975, 25)"
      ]
     },
     "execution_count": 4,
     "metadata": {},
     "output_type": "execute_result"
    }
   ],
   "source": [
    "df.shape"
   ]
  },
  {
   "cell_type": "code",
   "execution_count": 7,
   "metadata": {},
   "outputs": [
    {
     "data": {
      "text/plain": [
       "BogotaTransito     37547\n",
       "rutassitp          15080\n",
       "WazeTrafficBOG      1367\n",
       "HSBnoticias         1110\n",
       "RedapBogota          690\n",
       "CABLENOTICIAS        346\n",
       "Citytv               319\n",
       "rcnradio             230\n",
       "ELTIEMPO             222\n",
       "elespectador         174\n",
       "PublimetroCol        155\n",
       "CanalCapital         154\n",
       "lafm                 134\n",
       "ConPanamericana       91\n",
       "AlertaBogota          82\n",
       "ArribaBogota          80\n",
       "BogotaET              73\n",
       "CMILANOTICIA          71\n",
       "radiosantafentc       64\n",
       "ColombiaET            61\n",
       "CIVICOSBOG            56\n",
       "Elsonajeroweb         54\n",
       "SectorMovilidad       47\n",
       "IbarraSocarras        44\n",
       "RadNalCo              42\n",
       "ColombiaFlash         41\n",
       "NoticiasDiaaDia       41\n",
       "elpatrullero_         25\n",
       "bogotacity            25\n",
       "NoticiasUno           24\n",
       "Santivilla66          23\n",
       "bebientrega           22\n",
       "noticierolaruta       22\n",
       "Subalternativa        21\n",
       "PodmerLuz             18\n",
       "ElGranDebate          18\n",
       "RadioUnoBogota        18\n",
       "SanabriaFermin        17\n",
       "Interpolitico         17\n",
       "ElNuevoSiglo          17\n",
       "Name: user_name, dtype: int64"
      ]
     },
     "execution_count": 7,
     "metadata": {},
     "output_type": "execute_result"
    }
   ],
   "source": [
    "count_tweet_by_username = df['user_name'].value_counts() # Show distribution of tweets by user\n",
    "count_tweet_by_username[0:40]"
   ]
  },
  {
   "cell_type": "code",
   "execution_count": 13,
   "metadata": {},
   "outputs": [],
   "source": [
    "export = df[df['user_name'] != 'BogotaTransito'][['id_tweet','text','created_at','user_name','user_location']]\n",
    "export = export[export['user_name'] != 'rutassitp']\n",
    "export = export[export['user_name'] != 'WazeTrafficBOG']\n",
    "export = export[export['user_name'] != 'RedapBogota']\n",
    "export = export[export['user_name'] != 'Citytv']\n",
    "export = export[export['user_name'] != 'CIVICOSBOG']"
   ]
  },
  {
   "cell_type": "code",
   "execution_count": 14,
   "metadata": {},
   "outputs": [
    {
     "data": {
      "text/plain": [
       "HSBnoticias        1110\n",
       "CABLENOTICIAS       346\n",
       "rcnradio            230\n",
       "ELTIEMPO            222\n",
       "elespectador        174\n",
       "PublimetroCol       155\n",
       "CanalCapital        154\n",
       "lafm                134\n",
       "ConPanamericana      91\n",
       "AlertaBogota         82\n",
       "ArribaBogota         80\n",
       "BogotaET             73\n",
       "CMILANOTICIA         71\n",
       "radiosantafentc      64\n",
       "ColombiaET           61\n",
       "Elsonajeroweb        54\n",
       "SectorMovilidad      47\n",
       "IbarraSocarras       44\n",
       "RadNalCo             42\n",
       "ColombiaFlash        41\n",
       "NoticiasDiaaDia      41\n",
       "elpatrullero_        25\n",
       "bogotacity           25\n",
       "NoticiasUno          24\n",
       "Santivilla66         23\n",
       "bebientrega          22\n",
       "noticierolaruta      22\n",
       "Subalternativa       21\n",
       "RadioUnoBogota       18\n",
       "ElGranDebate         18\n",
       "PodmerLuz            18\n",
       "ElNuevoSiglo         17\n",
       "SanabriaFermin       17\n",
       "Interpolitico        17\n",
       "Olimpicasemetio      16\n",
       "BogotaFutura         14\n",
       "reportexpress24      13\n",
       "Supertransporte      12\n",
       "MarthaECamargo       12\n",
       "ConcesionCCFC        12\n",
       "Name: user_name, dtype: int64"
      ]
     },
     "execution_count": 14,
     "metadata": {},
     "output_type": "execute_result"
    }
   ],
   "source": [
    "count_tweet_by_username = export['user_name'].value_counts() # Show distribution of tweets by user\n",
    "count_tweet_by_username[0:40]"
   ]
  },
  {
   "cell_type": "code",
   "execution_count": 15,
   "metadata": {},
   "outputs": [
    {
     "data": {
      "text/plain": [
       "(5916, 5)"
      ]
     },
     "execution_count": 15,
     "metadata": {},
     "output_type": "execute_result"
    }
   ],
   "source": [
    "export.shape"
   ]
  },
  {
   "cell_type": "code",
   "execution_count": 12,
   "metadata": {},
   "outputs": [],
   "source": [
    "export.to_csv(dir_+\"export_\"+filename,sep='\\t')"
   ]
  },
  {
   "cell_type": "code",
   "execution_count": 8,
   "metadata": {},
   "outputs": [
    {
     "data": {
      "text/plain": [
       "Index(['_id', 'api', 'coordinates', 'created_at', 'created_at_str',\n",
       "       'favorite_count', 'geo', 'id_tweet', 'place_coordinates',\n",
       "       'place_country', 'place_name', 'place_type', 'retweet_count', 'text',\n",
       "       'user_created_at', 'user_followers_count', 'user_friends_count',\n",
       "       'user_id', 'user_listed_count', 'user_location', 'user_name',\n",
       "       'user_profile_image_url', 'user_statuses_count', 'user_verified',\n",
       "       'label'],\n",
       "      dtype='object')"
      ]
     },
     "execution_count": 8,
     "metadata": {},
     "output_type": "execute_result"
    }
   ],
   "source": [
    "pd.set_option('display.max_colwidth',-1)\n",
    "df[df['user_name'] != 'BogotaTransito'].keys()"
   ]
  },
  {
   "cell_type": "code",
   "execution_count": null,
   "metadata": {},
   "outputs": [],
   "source": [
    "df[(df['user_name'] != 'MarthaECamargo') & (df['user_name'] != 'rutassitp')][['text','user_name']][180:220]"
   ]
  },
  {
   "cell_type": "code",
   "execution_count": null,
   "metadata": {},
   "outputs": [],
   "source": []
  }
 ],
 "metadata": {
  "kernelspec": {
   "display_name": "Python 3",
   "language": "python",
   "name": "python3"
  },
  "language_info": {
   "codemirror_mode": {
    "name": "ipython",
    "version": 3
   },
   "file_extension": ".py",
   "mimetype": "text/x-python",
   "name": "python",
   "nbconvert_exporter": "python",
   "pygments_lexer": "ipython3",
   "version": "3.7.3"
  }
 },
 "nbformat": 4,
 "nbformat_minor": 4
}
