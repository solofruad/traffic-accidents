{
 "cells": [
  {
   "cell_type": "code",
   "execution_count": 1,
   "metadata": {},
   "outputs": [],
   "source": [
    "import pandas as pd\n",
    "import numpy as np\n",
    "import pickle\n",
    "\n",
    "from sklearn.metrics import confusion_matrix\n",
    "from sklearn.metrics import accuracy_score\n",
    "from sklearn.metrics import recall_score\n",
    "from sklearn.metrics import precision_score\n",
    "from sklearn.metrics import f1_score\n",
    "\n",
    "import sys\n",
    "sys.path.insert(0, '../../../')\n",
    "\n",
    "from classes.tweet2accident.preprocessing import Preprocessing"
   ]
  },
  {
   "cell_type": "code",
   "execution_count": 2,
   "metadata": {},
   "outputs": [],
   "source": [
    "train = pd.read_csv(\"../../../data/v1/7030/train70.tsv\", delimiter = \"\\t\", quoting = 3)\n",
    "test = pd.read_csv(\"../../../data/v1/7030/test30.tsv\", delimiter = \"\\t\", quoting = 3)"
   ]
  },
  {
   "cell_type": "code",
   "execution_count": 3,
   "metadata": {},
   "outputs": [],
   "source": [
    "X, y = train.text, train.label\n",
    "X_test, y_test = test.text, test.label"
   ]
  },
  {
   "cell_type": "code",
   "execution_count": 4,
   "metadata": {},
   "outputs": [],
   "source": [
    "model1 = pickle.load(open('model_m1_dbow_svm.pkl', 'rb')) \n",
    "model3 = pickle.load(open('model_m3_tfidf_svm_1.pkl', 'rb')) \n",
    "model4 = pickle.load(open('model_m4_tfidf_svm_2.pkl', 'rb'))\n",
    "model5f = pickle.load(open('model_m5_tfidf_rf_1_false.pkl', 'rb'))\n",
    "model5t = pickle.load(open('model_m5_tfidf_rf_1_true.pkl', 'rb'))"
   ]
  },
  {
   "cell_type": "code",
   "execution_count": 5,
   "metadata": {},
   "outputs": [],
   "source": [
    "y_pred1 = model1.predict(X_test)\n",
    "y_pred3 = model3.predict(X_test)\n",
    "y_pred4 = model4.predict(X_test)\n",
    "y_pred5f = model5f.predict(X_test)\n",
    "y_pred5t = model5t.predict(X_test)"
   ]
  },
  {
   "cell_type": "code",
   "execution_count": 7,
   "metadata": {},
   "outputs": [
    {
     "name": "stdout",
     "output_type": "stream",
     "text": [
      "(1142,) (1142,) (1142,) (1142,) (1142,)\n"
     ]
    }
   ],
   "source": [
    "print(y_pred1.shape, y_pred3.shape,y_pred4.shape,y_pred5f.shape,y_pred5t.shape,)"
   ]
  },
  {
   "cell_type": "code",
   "execution_count": 18,
   "metadata": {},
   "outputs": [
    {
     "data": {
      "text/plain": [
       "1142"
      ]
     },
     "execution_count": 18,
     "metadata": {},
     "output_type": "execute_result"
    }
   ],
   "source": [
    "len(y_pred1)"
   ]
  },
  {
   "cell_type": "code",
   "execution_count": 17,
   "metadata": {},
   "outputs": [
    {
     "data": {
      "text/plain": [
       "1"
      ]
     },
     "execution_count": 17,
     "metadata": {},
     "output_type": "execute_result"
    }
   ],
   "source": [
    "y_pred4[3]"
   ]
  },
  {
   "cell_type": "code",
   "execution_count": 8,
   "metadata": {},
   "outputs": [
    {
     "name": "stdout",
     "output_type": "stream",
     "text": [
      "   accuracy    recall  precision        f1\n",
      "0  0.971979  0.967972    0.97491  0.971429\n",
      "[[566  14]\n",
      " [ 18 544]]\n"
     ]
    }
   ],
   "source": [
    "predv2 = []\n",
    "for i in range(len(y_pred1)):    \n",
    "    score = 0\n",
    "    score = (0.4*y_pred1[i]) + (0.3*y_pred3[i]) + (0.3*y_pred4[i])\n",
    "    if score >= 0.4:\n",
    "        predv2.append(1)\n",
    "    else:\n",
    "        predv2.append(0)\n",
    "\n",
    "y_predv2 = np.array(predv2)\n",
    "\n",
    "cm_svm = confusion_matrix(y_test, y_predv2)\n",
    "\n",
    "metrics_svm = []\n",
    "metrics = {}\n",
    "metrics['accuracy'] = accuracy_score(y_test, y_predv2)\n",
    "metrics['recall'] = recall_score(y_test, y_predv2)\n",
    "metrics['precision'] = precision_score(y_test, y_predv2)\n",
    "metrics['f1'] = f1_score(y_test, y_predv2)\n",
    "metrics_svm.append(metrics)\n",
    "metrics_svm = pd.DataFrame(metrics_svm)\n",
    "\n",
    "print(metrics_svm)\n",
    "print(cm_svm)"
   ]
  },
  {
   "cell_type": "code",
   "execution_count": 9,
   "metadata": {},
   "outputs": [
    {
     "name": "stdout",
     "output_type": "stream",
     "text": [
      "   accuracy    recall  precision        f1\n",
      "0  0.970228  0.975089   0.964789  0.969912\n",
      "[[560  20]\n",
      " [ 14 548]]\n"
     ]
    }
   ],
   "source": [
    "predv2 = []\n",
    "for i in range(len(y_pred1)):    \n",
    "    score = 0\n",
    "    score = y_pred1[i] + y_pred3[i] + y_pred4[i]\n",
    "    if score >= 1:\n",
    "        predv2.append(1)\n",
    "    else:\n",
    "        predv2.append(0)\n",
    "\n",
    "y_predv2 = np.array(predv2)\n",
    "\n",
    "cm_svm = confusion_matrix(y_test, y_predv2)\n",
    "\n",
    "metrics_svm = []\n",
    "metrics = {}\n",
    "metrics['accuracy'] = accuracy_score(y_test, y_predv2)\n",
    "metrics['recall'] = recall_score(y_test, y_predv2)\n",
    "metrics['precision'] = precision_score(y_test, y_predv2)\n",
    "metrics['f1'] = f1_score(y_test, y_predv2)\n",
    "metrics_svm.append(metrics)\n",
    "metrics_svm = pd.DataFrame(metrics_svm)\n",
    "\n",
    "print(metrics_svm)\n",
    "print(cm_svm)"
   ]
  },
  {
   "cell_type": "code",
   "execution_count": 10,
   "metadata": {},
   "outputs": [
    {
     "name": "stdout",
     "output_type": "stream",
     "text": [
      "   accuracy    recall  precision        f1\n",
      "0  0.971103  0.959075   0.981785  0.970297\n",
      "[[570  10]\n",
      " [ 23 539]]\n"
     ]
    }
   ],
   "source": [
    "predv2 = []\n",
    "for i in range(len(y_pred1)):    \n",
    "    score = 0\n",
    "    score = y_pred1[i] + y_pred3[i] + y_pred4[i]\n",
    "    if score >= 2:\n",
    "        predv2.append(1)\n",
    "    else:\n",
    "        predv2.append(0)\n",
    "\n",
    "y_predv2 = np.array(predv2)\n",
    "\n",
    "cm_svm = confusion_matrix(y_test, y_predv2)\n",
    "\n",
    "metrics_svm = []\n",
    "metrics = {}\n",
    "metrics['accuracy'] = accuracy_score(y_test, y_predv2)\n",
    "metrics['recall'] = recall_score(y_test, y_predv2)\n",
    "metrics['precision'] = precision_score(y_test, y_predv2)\n",
    "metrics['f1'] = f1_score(y_test, y_predv2)\n",
    "metrics_svm.append(metrics)\n",
    "metrics_svm = pd.DataFrame(metrics_svm)\n",
    "\n",
    "print(metrics_svm)\n",
    "print(cm_svm)"
   ]
  },
  {
   "cell_type": "code",
   "execution_count": 100,
   "metadata": {},
   "outputs": [
    {
     "data": {
      "text/plain": [
       "(570, 10, 23, 539)"
      ]
     },
     "execution_count": 100,
     "metadata": {},
     "output_type": "execute_result"
    }
   ],
   "source": [
    "tn, fp, fn, tp = confusion_matrix(y_test, y_predv2).ravel()\n",
    "(tn, fp, fn, tp)"
   ]
  },
  {
   "cell_type": "code",
   "execution_count": 103,
   "metadata": {},
   "outputs": [
    {
     "data": {
      "text/plain": [
       "(570, 10, 23, 539)"
      ]
     },
     "execution_count": 103,
     "metadata": {},
     "output_type": "execute_result"
    }
   ],
   "source": [
    "tn = cm_svm[0,0]\n",
    "fn = cm_svm[1,0]\n",
    "tp = cm_svm[1,1]\n",
    "fp = cm_svm[0,1]\n",
    "(tn, fp, fn, tp)"
   ]
  },
  {
   "cell_type": "code",
   "execution_count": 20,
   "metadata": {},
   "outputs": [
    {
     "name": "stdout",
     "output_type": "stream",
     "text": [
      "   accuracy    recall  precision        f1\n",
      "0  0.972855  0.960854   0.983607  0.972097\n",
      "[[571   9]\n",
      " [ 22 540]]\n"
     ]
    }
   ],
   "source": [
    "predv2 = []\n",
    "for i in range(len(y_pred1)):    \n",
    "    score = 0\n",
    "    score = y_pred1[i] + y_pred3[i] + y_pred5f[i]\n",
    "    if score >= 2:\n",
    "        predv2.append(1)\n",
    "    else:\n",
    "        predv2.append(0)\n",
    "\n",
    "y_predv2 = np.array(predv2)\n",
    "\n",
    "cm_svm = confusion_matrix(y_test, y_predv2)\n",
    "\n",
    "metrics_svm = []\n",
    "metrics = {}\n",
    "metrics['accuracy'] = accuracy_score(y_test, y_predv2)\n",
    "metrics['recall'] = recall_score(y_test, y_predv2)\n",
    "metrics['precision'] = precision_score(y_test, y_predv2)\n",
    "metrics['f1'] = f1_score(y_test, y_predv2)\n",
    "metrics_svm.append(metrics)\n",
    "metrics_svm = pd.DataFrame(metrics_svm)\n",
    "\n",
    "print(metrics_svm)\n",
    "print(cm_svm)"
   ]
  },
  {
   "cell_type": "code",
   "execution_count": 45,
   "metadata": {},
   "outputs": [
    {
     "name": "stdout",
     "output_type": "stream",
     "text": [
      "   accuracy    recall  precision        f1\n",
      "0  0.967601  0.969751   0.964602  0.967169\n",
      "[[560  20]\n",
      " [ 17 545]]\n"
     ]
    }
   ],
   "source": [
    "predv2 = []\n",
    "for i in range(len(y_pred1)):    \n",
    "    score = 0\n",
    "    score = y_pred4[i] + y_pred5f[i]\n",
    "    if score >= 1:\n",
    "        predv2.append(1)\n",
    "    else:\n",
    "        predv2.append(0)\n",
    "\n",
    "y_predv2 = np.array(predv2)\n",
    "\n",
    "cm_svm = confusion_matrix(y_test, y_predv2)\n",
    "\n",
    "metrics_svm = []\n",
    "metrics = {}\n",
    "metrics['accuracy'] = accuracy_score(y_test, y_predv2)\n",
    "metrics['recall'] = recall_score(y_test, y_predv2)\n",
    "metrics['precision'] = precision_score(y_test, y_predv2)\n",
    "metrics['f1'] = f1_score(y_test, y_predv2)\n",
    "metrics_svm.append(metrics)\n",
    "metrics_svm = pd.DataFrame(metrics_svm)\n",
    "\n",
    "print(metrics_svm)\n",
    "print(cm_svm)"
   ]
  }
 ],
 "metadata": {
  "kernelspec": {
   "display_name": "Python 3",
   "language": "python",
   "name": "python3"
  },
  "language_info": {
   "codemirror_mode": {
    "name": "ipython",
    "version": 3
   },
   "file_extension": ".py",
   "mimetype": "text/x-python",
   "name": "python",
   "nbconvert_exporter": "python",
   "pygments_lexer": "ipython3",
   "version": "3.7.3"
  }
 },
 "nbformat": 4,
 "nbformat_minor": 4
}
