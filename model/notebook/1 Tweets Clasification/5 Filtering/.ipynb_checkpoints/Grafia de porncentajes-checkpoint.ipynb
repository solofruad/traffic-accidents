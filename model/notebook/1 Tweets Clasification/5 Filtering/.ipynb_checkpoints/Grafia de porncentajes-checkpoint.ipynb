{
 "cells": [
  {
   "cell_type": "code",
   "execution_count": 1,
   "metadata": {},
   "outputs": [],
   "source": [
    "import pandas as pd\n",
    "import seaborn as sns\n",
    "import matplotlib.pyplot as plt"
   ]
  },
  {
   "cell_type": "code",
   "execution_count": 29,
   "metadata": {},
   "outputs": [],
   "source": [
    "def get_totals_dictionary(ax):\n",
    "    labels = ax.get_xticklabels() # get x labels\n",
    "\n",
    "    heights = [(x.get_x(), x.get_height()) for x in ax.patches]\n",
    "    #print('heights s1', heights[::len(labels)])\n",
    "    #print('heights s2', heights[1::len(labels)])\n",
    "    response = dict()\n",
    "    for x, y in zip(list(heights)[::len(labels)], list(heights)[1::len(labels)]):\n",
    "        #print(x, '-', y)\n",
    "        response[x[0]] = x[1] + y[1]\n",
    "        response[y[0]] = response[x[0]]\n",
    "\n",
    "    #print(response) \n",
    "    return response\n",
    "\n",
    "def barplot(x_, y_, hue_, data_, figsize_,title_):\n",
    "    plt.subplots(figsize=figsize_)\n",
    "    \n",
    "    if hue_ is None:\n",
    "        ax = sns.barplot(x=x_, y=y_, data = data_)\n",
    "    else:\n",
    "        ax = sns.barplot(x=x_, y=y_, hue=hue_, data = data_)        \n",
    "    \n",
    "    ax.set_title(title_)\n",
    "    labels = ax.get_xticklabels() # get x labels\n",
    "    patch_totals = get_totals_dictionary(ax)\n",
    "    patch_i = 0\n",
    "    for p in ax.patches:\n",
    "        ax.annotate('{:.2f}%'.format(p.get_height()),\n",
    "                    (p.get_x() + p.get_width()/4, p.get_height()+2))\n",
    "        ax.set_xticklabels(labels, rotation=0) # set new labels\n",
    "        patch_i +=1\n"
   ]
  },
  {
   "cell_type": "code",
   "execution_count": 20,
   "metadata": {},
   "outputs": [
    {
     "data": {
      "text/html": [
       "<div>\n",
       "<style scoped>\n",
       "    .dataframe tbody tr th:only-of-type {\n",
       "        vertical-align: middle;\n",
       "    }\n",
       "\n",
       "    .dataframe tbody tr th {\n",
       "        vertical-align: top;\n",
       "    }\n",
       "\n",
       "    .dataframe thead th {\n",
       "        text-align: right;\n",
       "    }\n",
       "</style>\n",
       "<table border=\"1\" class=\"dataframe\">\n",
       "  <thead>\n",
       "    <tr style=\"text-align: right;\">\n",
       "      <th></th>\n",
       "      <th>dataset</th>\n",
       "      <th>type</th>\n",
       "      <th>count</th>\n",
       "      <th>percentage</th>\n",
       "    </tr>\n",
       "  </thead>\n",
       "  <tbody>\n",
       "    <tr>\n",
       "      <th>0</th>\n",
       "      <td>SERVER BOGOTÁ</td>\n",
       "      <td>Accidents</td>\n",
       "      <td>5848</td>\n",
       "      <td>0.15</td>\n",
       "    </tr>\n",
       "    <tr>\n",
       "      <th>1</th>\n",
       "      <td>SERVER BOGOTÁ</td>\n",
       "      <td>No Accidents</td>\n",
       "      <td>4021465</td>\n",
       "      <td>99.85</td>\n",
       "    </tr>\n",
       "    <tr>\n",
       "      <th>2</th>\n",
       "      <td>SERVER TOKEN SEARCH</td>\n",
       "      <td>Accidents</td>\n",
       "      <td>60975</td>\n",
       "      <td>22.49</td>\n",
       "    </tr>\n",
       "    <tr>\n",
       "      <th>3</th>\n",
       "      <td>SERVER TOKEN SEARCH</td>\n",
       "      <td>No Accidents</td>\n",
       "      <td>210178</td>\n",
       "      <td>77.51</td>\n",
       "    </tr>\n",
       "    <tr>\n",
       "      <th>4</th>\n",
       "      <td>SERVER TOKEN USER</td>\n",
       "      <td>Accidents</td>\n",
       "      <td>50111</td>\n",
       "      <td>49.80</td>\n",
       "    </tr>\n",
       "    <tr>\n",
       "      <th>5</th>\n",
       "      <td>SERVER TOKEN USER</td>\n",
       "      <td>No Accidents</td>\n",
       "      <td>50507</td>\n",
       "      <td>50.20</td>\n",
       "    </tr>\n",
       "    <tr>\n",
       "      <th>6</th>\n",
       "      <td>SERVER FOLLOW TIMELINE USER</td>\n",
       "      <td>Accidents</td>\n",
       "      <td>87274</td>\n",
       "      <td>15.19</td>\n",
       "    </tr>\n",
       "    <tr>\n",
       "      <th>7</th>\n",
       "      <td>SERVER FOLLOW TIMELINE USER</td>\n",
       "      <td>No Accidents</td>\n",
       "      <td>487542</td>\n",
       "      <td>84.81</td>\n",
       "    </tr>\n",
       "  </tbody>\n",
       "</table>\n",
       "</div>"
      ],
      "text/plain": [
       "                       dataset          type    count  percentage\n",
       "0                SERVER BOGOTÁ     Accidents     5848        0.15\n",
       "1                SERVER BOGOTÁ  No Accidents  4021465       99.85\n",
       "2          SERVER TOKEN SEARCH     Accidents    60975       22.49\n",
       "3          SERVER TOKEN SEARCH  No Accidents   210178       77.51\n",
       "4            SERVER TOKEN USER     Accidents    50111       49.80\n",
       "5            SERVER TOKEN USER  No Accidents    50507       50.20\n",
       "6  SERVER FOLLOW TIMELINE USER     Accidents    87274       15.19\n",
       "7  SERVER FOLLOW TIMELINE USER  No Accidents   487542       84.81"
      ]
     },
     "execution_count": 20,
     "metadata": {},
     "output_type": "execute_result"
    }
   ],
   "source": [
    "raw = [\n",
    "    {'dataset':'SERVER BOGOTÁ','tweets':'Accidents','count':5848, 'percentage':0.15},\n",
    "    {'dataset':'SERVER BOGOTÁ','type':'No Accidents','count':4021465, 'percentage':99.85},\n",
    "    {'dataset':'SERVER TOKEN SEARCH','type':'Accidents','count':60975, 'percentage':22.49},\n",
    "    {'dataset':'SERVER TOKEN SEARCH','type':'No Accidents','count':210178, 'percentage':77.51},\n",
    "    {'dataset':'SERVER TOKEN USER','type':'Accidents','count':50111, 'percentage':49.8},\n",
    "    {'dataset':'SERVER TOKEN USER','type':'No Accidents','count':50507, 'percentage':50.2},\n",
    "    {'dataset':'SERVER FOLLOW TIMELINE USER','type':'Accidents','count':87274, 'percentage':15.19},\n",
    "    {'dataset':'SERVER FOLLOW TIMELINE USER','type':'No Accidents','count':487542, 'percentage':84.81}    \n",
    "]\n",
    "df = pd.DataFrame(raw)\n",
    "df"
   ]
  },
  {
   "cell_type": "raw",
   "metadata": {},
   "source": [
    "a = 87274\n",
    "b = 487542\n",
    "n = a + b\n",
    "\n",
    "pa = (a*100)/n\n",
    "pb = (b*100)/n\n",
    "print(pa)\n",
    "print(pb)"
   ]
  },
  {
   "cell_type": "code",
   "execution_count": 30,
   "metadata": {},
   "outputs": [
    {
     "data": {
      "image/png": "[encoded data removed]",
      "text/plain": [
       "<Figure size 720x432 with 1 Axes>"
      ]
     },
     "metadata": {
      "needs_background": "light"
     },
     "output_type": "display_data"
    }
   ],
   "source": [
    "barplot(x_=\"dataset\", y_='percentage',hue_='type', data_=df, figsize_=(10,6),title_='**')"
   ]
  },
  {
   "cell_type": "code",
   "execution_count": null,
   "metadata": {},
   "outputs": [],
   "source": []
  }
 ],
 "metadata": {
  "kernelspec": {
   "display_name": "Python 3",
   "language": "python",
   "name": "python3"
  },
  "language_info": {
   "codemirror_mode": {
    "name": "ipython",
    "version": 3
   },
   "file_extension": ".py",
   "mimetype": "text/x-python",
   "name": "python",
   "nbconvert_exporter": "python",
   "pygments_lexer": "ipython3",
   "version": "3.7.3"
  }
 },
 "nbformat": 4,
 "nbformat_minor": 4
}
