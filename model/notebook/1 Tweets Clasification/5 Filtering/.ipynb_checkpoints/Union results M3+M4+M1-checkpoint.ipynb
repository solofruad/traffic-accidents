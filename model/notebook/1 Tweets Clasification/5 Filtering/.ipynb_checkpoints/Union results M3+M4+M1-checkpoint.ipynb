{
 "cells": [
  {
   "cell_type": "markdown",
   "metadata": {},
   "source": [
    "# Union of Model results (M3+M1+M4)\n",
    "### By **Néstor Suat** in 2020\n",
    "\n",
    "**Descripción:** Después de aplicar los diferentes modelos a los datasets, se desea que por votación de los modelos m3+m1+m4 se seleccione el label correspondiente al tweet.\n",
    "\n",
    "**Input:** \n",
    "* Dataset Tweet with labelling, each for model result.\n",
    "\n",
    "**Output:**\n",
    "* Labelling Tweet Dataset for 3 models (1 Tweet accident and 0 for no accident)\n",
    "\n",
    "***"
   ]
  },
  {
   "cell_type": "code",
   "execution_count": 1,
   "metadata": {},
   "outputs": [],
   "source": [
    "import pandas as pd"
   ]
  },
  {
   "cell_type": "code",
   "execution_count": 2,
   "metadata": {},
   "outputs": [],
   "source": [
    "filename = '1_server_bogota_part4.tsv'\n",
    "dir_ = '../../../data/database/'"
   ]
  },
  {
   "cell_type": "code",
   "execution_count": 3,
   "metadata": {},
   "outputs": [
    {
     "name": "stdout",
     "output_type": "stream",
     "text": [
      "(1000000, 24)\n",
      "(1000000, 25)\n",
      "(1000000, 25)\n",
      "(1000000, 25)\n"
     ]
    }
   ],
   "source": [
    "#df = pd.read_csv(dir_+filename, delimiter = \"\\t\", quoting = 3 )\n",
    "df = pd.read_csv(dir_+'server_bogota/'+filename, delimiter = \"\\t\", quoting = 3 )\n",
    "dfm1 = pd.read_csv(dir_+'output_ml/M1/clf_'+filename, delimiter = \"\\t\", quoting = 3 ) # DBOW\n",
    "dfm3 = pd.read_csv(dir_+'output_ml/M3/clf_'+filename, delimiter = \"\\t\", quoting = 3) # 5_stem + SVM (Main)\n",
    "dfm4 = pd.read_csv(dir_+'output_ml/M4/clf_'+filename, delimiter = \"\\t\", quoting = 3) # 6_lemma + SVM\n",
    "\n",
    "del dfm1['Unnamed: 0']\n",
    "del dfm3['Unnamed: 0']\n",
    "del dfm4['Unnamed: 0']\n",
    "\n",
    "print(df.shape, dfm1.shape, dfm3.shape, dfm4.shape, sep='\\n')"
   ]
  },
  {
   "cell_type": "code",
   "execution_count": 4,
   "metadata": {},
   "outputs": [
    {
     "name": "stdout",
     "output_type": "stream",
     "text": [
      "(1000000, 2)\n",
      "(1000000, 2)\n",
      "(1000000, 2)\n"
     ]
    }
   ],
   "source": [
    "dfm1 = dfm1[['_id','label']]\n",
    "dfm3 = dfm3[['_id','label']]\n",
    "dfm4 = dfm4[['_id','label']]\n",
    "print(dfm1.shape, dfm3.shape, dfm4.shape, sep='\\n')"
   ]
  },
  {
   "cell_type": "raw",
   "metadata": {},
   "source": [
    "#Distorsional orden para verificar que este haciendo bien la comparación\n",
    "dfm4.at[156777, '_id'] = dfm1.iloc[220999]['_id']\n",
    "dfm4.at[220999, '_id'] = dfm1.iloc[156777]['_id']"
   ]
  },
  {
   "cell_type": "markdown",
   "metadata": {},
   "source": [
    "**Nota:** Verificar primero si tienen el mismo orden"
   ]
  },
  {
   "cell_type": "code",
   "execution_count": 5,
   "metadata": {},
   "outputs": [
    {
     "name": "stdout",
     "output_type": "stream",
     "text": [
      "True\n",
      "True\n",
      "True\n"
     ]
    }
   ],
   "source": [
    "print(df['_id'].equals(dfm1['_id']))\n",
    "print(df['_id'].equals(dfm3['_id']))\n",
    "print(df['_id'].equals(dfm4['_id']))"
   ]
  },
  {
   "cell_type": "code",
   "execution_count": 6,
   "metadata": {},
   "outputs": [
    {
     "name": "stdout",
     "output_type": "stream",
     "text": [
      "Processing...\n",
      "Finish!\n"
     ]
    }
   ],
   "source": [
    "if df['_id'].equals(dfm1['_id']) and df['_id'].equals(dfm3['_id']) and df['_id'].equals(dfm4['_id']):\n",
    "    print('Processing...')\n",
    "    df['label_m1'] = dfm1['label']\n",
    "    df['label_m3'] = dfm3['label']\n",
    "    df['label_m4'] = dfm4['label']\n",
    "    print('Finish!')\n",
    "else:\n",
    "    print('Error: alguna de los dataset no son iguales')"
   ]
  },
  {
   "cell_type": "code",
   "execution_count": 7,
   "metadata": {},
   "outputs": [
    {
     "data": {
      "text/plain": [
       "_id                                                5c7be08969d02d0889d950fd\n",
       "api                                                                  Stream\n",
       "coordinates                                                              {}\n",
       "created_at                                              2019-03-03 09:11:16\n",
       "created_at_str                                          2019-03-03 14:11:16\n",
       "favorite_count                                                            0\n",
       "geo                                                                      {}\n",
       "id_tweet                                                1102209830423576577\n",
       "place_coordinates         {'type': 'Polygon', 'coordinates': [[[{'$numbe...\n",
       "place_country                                                      Colombia\n",
       "place_name                                                     Bogotá, D.C.\n",
       "place_type                                                             city\n",
       "retweet_count                                                             0\n",
       "text                      @lafm Para la izquierda, el cumplimiento de la...\n",
       "user_created_at                                         2009-09-05 01:20:17\n",
       "user_followers_count                                                   1020\n",
       "user_friends_count                                                     1578\n",
       "user_id                                                            71690998\n",
       "user_listed_count                                                         6\n",
       "user_location                                          Bogotá, DC, Colombia\n",
       "user_name                                                          jdg_0120\n",
       "user_profile_image_url    http://pbs.twimg.com/profile_images/1027590618...\n",
       "user_statuses_count                                                   31808\n",
       "user_verified                                                         False\n",
       "label_m1                                                                  0\n",
       "label_m3                                                                  0\n",
       "label_m4                                                                  0\n",
       "Name: 2223, dtype: object"
      ]
     },
     "execution_count": 7,
     "metadata": {},
     "output_type": "execute_result"
    }
   ],
   "source": [
    "df.loc[2223]"
   ]
  },
  {
   "cell_type": "code",
   "execution_count": 8,
   "metadata": {},
   "outputs": [],
   "source": [
    "df.to_csv(dir_+\"output_ml/clf_\"+filename,sep='\\t')"
   ]
  }
 ],
 "metadata": {
  "kernelspec": {
   "display_name": "Python 3",
   "language": "python",
   "name": "python3"
  },
  "language_info": {
   "codemirror_mode": {
    "name": "ipython",
    "version": 3
   },
   "file_extension": ".py",
   "mimetype": "text/x-python",
   "name": "python",
   "nbconvert_exporter": "python",
   "pygments_lexer": "ipython3",
   "version": "3.7.3"
  }
 },
 "nbformat": 4,
 "nbformat_minor": 4
}
