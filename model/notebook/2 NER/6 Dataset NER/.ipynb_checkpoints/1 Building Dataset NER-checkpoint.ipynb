{
 "cells": [
  {
   "cell_type": "markdown",
   "metadata": {},
   "source": [
    "# Building Dataset. Part 1\n",
    "### By **Néstor Suat** in 2020\n",
    "\n",
    "**Descripción:** Contruyendo el dataset Parte 1. Generar los archivos para BRAT Annotation Tools.\n",
    "\n",
    "**Input:**\n",
    "* TSV con los tweets seleccionados\n",
    "\n",
    "**Output:**\n",
    "* Files *.txt and *.ann\n",
    "***"
   ]
  },
  {
   "cell_type": "markdown",
   "metadata": {},
   "source": [
    "### Importando librerías\n",
    "\n",
    "Como estamos en un archivo afuera se necesita agregar la dirección ../ (raíz del proyexto) para importar la librería de preprocesamiento."
   ]
  },
  {
   "cell_type": "code",
   "execution_count": 1,
   "metadata": {},
   "outputs": [],
   "source": [
    "import pandas as pd\n",
    "import spacy  # For preprocessing\n",
    "import re\n",
    "\n",
    "import sys\n",
    "sys.path.insert(0, '../../../')\n",
    "\n",
    "from classes.wordsegmentation import WordSegmentation"
   ]
  },
  {
   "cell_type": "code",
   "execution_count": 2,
   "metadata": {},
   "outputs": [],
   "source": [
    "nlp = spacy.load(\"es_core_news_lg\") # disabling Named Entity Recognition for speed"
   ]
  },
  {
   "cell_type": "markdown",
   "metadata": {},
   "source": [
    "### Importando datasets"
   ]
  },
  {
   "cell_type": "code",
   "execution_count": 3,
   "metadata": {},
   "outputs": [],
   "source": [
    "file = 'ner_dataset_shuffle.tsv'\n",
    "dir_ = \"../../../data/v1/NER/\""
   ]
  },
  {
   "cell_type": "code",
   "execution_count": 4,
   "metadata": {},
   "outputs": [
    {
     "data": {
      "text/plain": [
       "'#ElNoctámbulo Aparatoso accidente en la Avenida Suba con calle 127. El conductor se salvó de milagro. #ArribaBogotá https://t.co/D6qLLsufhG'"
      ]
     },
     "execution_count": 4,
     "metadata": {},
     "output_type": "execute_result"
    }
   ],
   "source": [
    "dataset = pd.read_csv(dir_+file, delimiter = \"\\t\", quoting = 3)\n",
    "del dataset['Unnamed: 0']\n",
    "dataset = dataset['text']\n",
    "dataset[0]"
   ]
  },
  {
   "cell_type": "code",
   "execution_count": 5,
   "metadata": {},
   "outputs": [
    {
     "data": {
      "text/plain": [
       "(1340,)"
      ]
     },
     "execution_count": 5,
     "metadata": {},
     "output_type": "execute_result"
    }
   ],
   "source": [
    "dataset.shape"
   ]
  },
  {
   "cell_type": "code",
   "execution_count": 5,
   "metadata": {},
   "outputs": [],
   "source": [
    "#Seleccionando 50\n",
    "#df = dataset.sample(n=50)\n",
    "df = dataset"
   ]
  },
  {
   "cell_type": "markdown",
   "metadata": {},
   "source": [
    "### Aplicando limpieza"
   ]
  },
  {
   "cell_type": "code",
   "execution_count": 6,
   "metadata": {},
   "outputs": [],
   "source": [
    "seg = WordSegmentation(dir_+'spanish_count_1w_small_v2_twitter.txt')"
   ]
  },
  {
   "cell_type": "code",
   "execution_count": 7,
   "metadata": {},
   "outputs": [],
   "source": [
    "def word_segmentation(pattern, text):\n",
    "    search = re.search(pattern,text)\n",
    "    while search:    \n",
    "        s = search.start()\n",
    "        e = search.end()                \n",
    "        text = text[:s] + ' ' + ' '.join(seg.segment(text[s+1:e])) +' '+ text[e:]        \n",
    "        search = re.search(pattern,text)        \n",
    "    return text\n",
    "\n",
    "def clean_fn(doc):    \n",
    "    text = doc\n",
    "    pattern = \"(@[A-Za-z0-9äÄëËïÏöÖüÜáéíóúáéíóúÁÉÍÓÚÂÊÎÔÛâêîôûàèìòùÀÈÌÒÙñÑ_]+)\"\n",
    "    text = word_segmentation(pattern,text)\n",
    "    pattern = \"(#[A-Za-z0-9äÄëËïÏöÖüÜáéíóúáéíóúÁÉÍÓÚÂÊÎÔÛâêîôûàèìòùÀÈÌÒÙñÑ_]+)\"\n",
    "    text = word_segmentation(pattern,text)\n",
    "    return text\n",
    "    \n",
    "def preText(text):        \n",
    "    pre = re.sub(\"&[A-Za-z]+;\", ' ', text) #Eliminar códigos ASCII\n",
    "    pre = re.sub(\"(\\w+:\\/\\/\\S+)\",' ',pre) #Eliminar links http y https\n",
    "    pre = re.sub(\"([^A-Za-z0-9äÄëËïÏöÖüÜáéíóúáéíóúÁÉÍÓÚÂÊÎÔÛâêîôûàèìòùÀÈÌÒÙñÑ,;.:*\\-\\[\\]¿?¡!\\\"\\\"()_'/])\",' ',pre) #Eliminar caracteres especiales como emoticones, exceptuando los signos de puntuación y tildes.\n",
    "    pre = re.sub(r'([;.:\\-\\[\\]¿?¡!#\\\"()]){3,}',r'\\1\\1',pre) #Si repite un caracters especial más de 3 veces ej. \"\"\"\"\n",
    "    pre = re.sub(r'([a-zA-Z])\\1{2,}',r'\\1\\1',pre) #Si repite una letra más de dos veces las reduce a dos repeticiones goool => gool        \n",
    "    pre = re.sub(r'(\\s){2,}',r' ',pre) #Eliminar espacios seguidos              \n",
    "    return pre.strip()"
   ]
  },
  {
   "cell_type": "raw",
   "metadata": {},
   "source": [
    "text = [\n",
    "    '#accidente en *call_e 44 #30-19 se # requiere @ presencia de.@transitobogota @rcnnoticias #puentearanda',\n",
    "    'En la Av \\'Boyacá\\' 3.1 3,2 con 66 @HolaMundo @victor se presentó a las 6:15am del día 3-ago 03/03/2020 un calle 44 #30-19 atropellamiento de un peatón por,30 con carrera,45 una motocicleta. conductor de la motocicleta y peatón lesionados.#PROTEGERYSERVIR @puentearanda',\n",
    "    'Grave accidente de taxis congestionó el sector El Lago 🔴EN VIVO #CapitalNoticias https://t.co/sVikHeRcZA'\n",
    "]"
   ]
  },
  {
   "cell_type": "code",
   "execution_count": 8,
   "metadata": {},
   "outputs": [
    {
     "ename": "NameError",
     "evalue": "name 'df' is not defined",
     "output_type": "error",
     "traceback": [
      "\u001b[0;31m---------------------------------------------------------------------------\u001b[0m",
      "\u001b[0;31mNameError\u001b[0m                                 Traceback (most recent call last)",
      "\u001b[0;32m<ipython-input-8-5895282ba661>\u001b[0m in \u001b[0;36m<module>\u001b[0;34m\u001b[0m\n\u001b[0;32m----> 1\u001b[0;31m \u001b[0mbrief_cleaning\u001b[0m \u001b[0;34m=\u001b[0m \u001b[0;34m(\u001b[0m\u001b[0mclean_fn\u001b[0m\u001b[0;34m(\u001b[0m\u001b[0mstr\u001b[0m\u001b[0;34m(\u001b[0m\u001b[0mrow\u001b[0m\u001b[0;34m)\u001b[0m\u001b[0;34m)\u001b[0m \u001b[0;32mfor\u001b[0m \u001b[0mrow\u001b[0m \u001b[0;32min\u001b[0m \u001b[0mdf\u001b[0m\u001b[0;34m)\u001b[0m\u001b[0;34m\u001b[0m\u001b[0;34m\u001b[0m\u001b[0m\n\u001b[0m\u001b[1;32m      2\u001b[0m \u001b[0mtxt\u001b[0m \u001b[0;34m=\u001b[0m \u001b[0;34m[\u001b[0m\u001b[0mpreText\u001b[0m\u001b[0;34m(\u001b[0m\u001b[0mdoc\u001b[0m\u001b[0;34m.\u001b[0m\u001b[0mtext\u001b[0m\u001b[0;34m)\u001b[0m \u001b[0;32mfor\u001b[0m \u001b[0mdoc\u001b[0m \u001b[0;32min\u001b[0m \u001b[0mnlp\u001b[0m\u001b[0;34m.\u001b[0m\u001b[0mpipe\u001b[0m\u001b[0;34m(\u001b[0m\u001b[0mbrief_cleaning\u001b[0m\u001b[0;34m,\u001b[0m \u001b[0mbatch_size\u001b[0m\u001b[0;34m=\u001b[0m\u001b[0;36m50\u001b[0m\u001b[0;34m,\u001b[0m \u001b[0mn_threads\u001b[0m\u001b[0;34m=\u001b[0m\u001b[0;36m4\u001b[0m\u001b[0;34m)\u001b[0m\u001b[0;34m]\u001b[0m\u001b[0;34m\u001b[0m\u001b[0;34m\u001b[0m\u001b[0m\n",
      "\u001b[0;31mNameError\u001b[0m: name 'df' is not defined"
     ]
    }
   ],
   "source": [
    "brief_cleaning = (clean_fn(str(row)) for row in df)\n",
    "txt = [preText(doc.text) for doc in nlp.pipe(brief_cleaning, batch_size=50, n_threads=4)]"
   ]
  },
  {
   "cell_type": "code",
   "execution_count": 9,
   "metadata": {
    "collapsed": true,
    "jupyter": {
     "outputs_hidden": true
    }
   },
   "outputs": [
    {
     "data": {
      "text/plain": [
       "['sectormovilidad giro paa tomar la calle 80 al occidente en av Boyaca bloqueado por accidente simple, paso bloqueado',\n",
       " 'sectormovilidad hubo un choque entre un sitp y una camioneta, en la oreja de la 68 que sale a las 26 hacia el occidente, tienen todo el tráfico retenido, hay una ambulancia!!',\n",
       " '2 ciclistas muertos hoy de 5:30 am a 9:45 am en el corto tramo de puente guaduas al puente de la rotonda de Siberia.. este año en ese mismo tramo van por poquito 10 ciclistas muertos por accidente, delicado ese asunto.',\n",
       " 'Accidente con lesionado de una ruta escolar en la cl 146 con 81 ya en desplazamiento unidad de bomberos de la estación de suba y Bicentenario',\n",
       " 'transito policia sectormovilidad La autopista Norte está completamente quieta desde la Caro hacia Bogotá por choque cerca del club de colsubsidio',\n",
       " 'Autonorte por 183 sentido Sur-Norte, choque entre vehículo de servicio público y particular que',\n",
       " 'transito A esta hora, se registra el volcamiento de una ambulancia en la carrera 30 con calle 64. Autoridades atienden la situación.',\n",
       " 'accidente con fatalidad Avenida Cali con calle 23D Sur Norte, camión de gaseosas contra motociclista que resulta fallecido en el sitio',\n",
       " 'transmilenio transmilenio porquería.. todos los días lo mismo viernes por accidente de latas Caracas con 24 y hoy un choque simple.. no hay contingencia imbéciles',\n",
       " 'camarada motero accidente auto norte sentido sur norte a la altura de la calle 66 grabe',\n",
       " 'Acabo de ver como un transmilenio atropelló a un joven que se iba a colar en la estacion de la calle 106 sentido sur norte. No entiendo por que la gente arriesga su vida de esa forma!! Ya llame al 123 y una ambulancia va en camino transmilenio',\n",
       " 'citytv noticiascaracol accidente en la cra 7ma con calle 183',\n",
       " 'A esta hora nuestras unidades atienden dos accidentes ocurridos en la Av. Boyaca por 170, donde uno de los accidentes es un atropellamiento de una persona en bicicleta y el otro incidente',\n",
       " 'En la av boyacá con calle 62 sur sentido norte sur choque simple de camión vs zonal provisional paso reducido, se solicita tránsito.',\n",
       " 'Nuestras unidades atendieron a un ciclista que resultó herido tras choque con un furgón en la calle 131 por 59.',\n",
       " 'sectormovilidad policiabogota accidente puente Boyacá con 80 de oriente a occidente',\n",
       " 'Motociclista muere en impactante choque contra camión en Corabastos, Bogotá vía cablenoticias',\n",
       " 'citytv caracol tv caracolradio la fm erika fontalvo gusgomez1701 muerto en la calle 26 con Caracas..',\n",
       " '(Actualización) Catorce heridos por choque de buses de TM en estación de la calle 100',\n",
       " '¿Calle o piscina? dos vehículos han quedado atrapados en las últimas horas en este enorme hueco ubicado en la Calle 9 con carrera 36- Puente Aranda arriba bogota citytv',\n",
       " 'Accidente en la 106 con 9',\n",
       " 'bogotatransito sectormovilidad Se solicita transito policia para controlar congestión producida por choque entre tractocamión y particular Avenida calle 80 hacia el occidente bajo el puente de la avenida Ciudad de Cali',\n",
       " 'Choque frente a Cafam floresta, sentido occidente oriente, Sitp con particular, No informan sentido',\n",
       " 'sectormovilidad transmilenio bus dual se estrella con taxi subiendo por la 72',\n",
       " 'Accidente roce de un SITP con un carro particular en la calle 53 con 24 (Panamericana de Galerías)',\n",
       " 'Cr 26A por 8 sur choque entre vehículo de servicio público y motocicleta. Una persona lesionada',\n",
       " 'Bus del SITP se volcó en la Av. Boyacá con calle 26.Las autoridades de tránsito cerraron por unos minutos la Avenida, sentido norte sur, para atender el accidente y recoger el bus que sufrió grandes afectaciones en la parte frontal. citytv arriba bogota j camilo ramirez g',\n",
       " 'sectormovilidad Trancón monumental en la autonorte a la altura de la estación Prado, por accidente con motociclista fallecido',\n",
       " 'En el operativo de anoche viernes 10 de mayo nuestras unidades atendieron un accidente ocurrido en la cra 70 con 72 donde el conductor de una motocicleta resultó lesionado por el choque',\n",
       " 'lo ultimo Dos personas heridas luego de choque entre un camión recolector de basuras y un taxi en la Carrera 10 con Calle 27 sur me paso a la fm',\n",
       " 'Grave accidente en la zona del parque Lourdes en Chapinero',\n",
       " 'Choque multiple Av 26 a la altura de Carrera 13',\n",
       " 'bogotatransito sectormovilidad transitobta En el choque en la estacion Olaya que paralizó 4 carriles por una hora por que no asignaron unidades ni informaron por este medio??',\n",
       " 'atencion Accidente en la Autopista Norte con Calle 116 en sentido sur norte en bogota me paso a la fm',\n",
       " 'red a p bogota bogota se mueve sectormovilidad policiabogota Accidente de 2 vehiculos sobre calle 26 con carrera 65 carril central bloquea el trafico hacia el oriente',\n",
       " 'choque entre dos particulares en la calle 26 con carrera 102, sentido occ-or',\n",
       " 'transitobta bogota se mueve Choque simple en Avenida 68 al frente de la cancha de Beisbol, costado norte sur. Por favor enviar unidad.',\n",
       " 'citynoticias Por la caída de un árbol hay tres heridos en la carrera 15 con calle 79 en Chapinero. Los fuertes vientos, según las autoridades, generaron la emergencia dejando dos personas atrapadas.',\n",
       " 'En la Calle 34 por 17 se presentó un choque entre un motociclista y un vehículo de servicio público; conductor de la motocicleta resulta lesionado y es trasladado.',\n",
       " 'movilidad Accidente de vehículos particulares en calle 26, a la altura de la estación transmilenio Normandía, sentido occidente - Oriente. noticia en desarrollo',\n",
       " 'Accidente en Moto Av Cali con Calle 13 Bogotá Colombia vía youtube',\n",
       " 'sectormovilidad más de 10 minutos con un accidente en la Av Boyacá con 127 ya llegó la ambulancia y ningún policía de tránsito se ha reportado en el sitio',\n",
       " 'Aut norte con 128 a choque simple entre 2 taxis. Sentido norte sur,carril lento, politransito en sitio, trafico lento por el carril',\n",
       " 'citynoticias Grave accidente con tres heridos ocurrió esta tarde en la calle 63 con carrera 50. El choque fue entre un taxi y una camioneta',\n",
       " 'sectormovilidad accidente de 3 carros en las Américas con carrera 29 tiene en tremendo caos las calles del sector favor enviar policía',\n",
       " 'citynoticias fds Durante la madrugada de este domingo, un ciclista fue embestido por un taxista, al parecer, por exceso de velocidad, en la calle 72 con carrera 24.',\n",
       " 'colision entre particular y bus en la carrera 7 con calle 72, sentido sur-norte.',\n",
       " 'Señores bogotatransito hay una estrellada en el puente de las Américas con Carrera 30 entre un SITP y una camioneta.. No hay paso y se genera una gran congestión',\n",
       " '*Accidentes con lesiones *Por la avenida Boyacá con calle 53 en sentido norte - sur un vehículo particular embiste a un ciclista',\n",
       " 'Esta mañana a las 5:30 a.m me tocó un trancón por la variante de fontibón. La causa: un ciclista muerto en uno de los carriles. Un muchacho joven. De esos que salen a trabajar en la madrugada.']"
      ]
     },
     "execution_count": 9,
     "metadata": {},
     "output_type": "execute_result"
    }
   ],
   "source": [
    "txt"
   ]
  },
  {
   "cell_type": "code",
   "execution_count": 10,
   "metadata": {},
   "outputs": [],
   "source": [
    "new = pd.DataFrame(df)\n",
    "new['pre'] = txt\n",
    "new.to_csv('50_tweets_test.tsv',sep='\\t')"
   ]
  },
  {
   "cell_type": "markdown",
   "metadata": {},
   "source": [
    "### Generando archivos"
   ]
  },
  {
   "cell_type": "raw",
   "metadata": {},
   "source": [
    "# Barajando el dataset y seleccionando 50\n",
    "dataset = dataset.sample(frac=1)\n",
    "dataset.to_csv(\"../../../data/v1/NER/ner_dataset_shuffle.tsv\",sep='\\t')"
   ]
  },
  {
   "cell_type": "code",
   "execution_count": 11,
   "metadata": {},
   "outputs": [],
   "source": [
    "#Generando txt y ann\n",
    "i=1\n",
    "for tweet in txt:\n",
    "    name = dir_+'brat/'+'tweet-'+str(i)+'.txt'\n",
    "    #print(name)  \n",
    "    with open(name, \"w\") as file:\n",
    "        file.write(tweet)\n",
    "    name = dir_+'brat/'+'tweet-'+str(i)+'.ann'\n",
    "    with open(name, \"w\") as file:\n",
    "        file.write('')\n",
    "    i+=1"
   ]
  },
  {
   "cell_type": "code",
   "execution_count": null,
   "metadata": {},
   "outputs": [],
   "source": [
    "txt[18]"
   ]
  },
  {
   "cell_type": "code",
   "execution_count": null,
   "metadata": {},
   "outputs": [],
   "source": []
  }
 ],
 "metadata": {
  "kernelspec": {
   "display_name": "Python 3",
   "language": "python",
   "name": "python3"
  },
  "language_info": {
   "codemirror_mode": {
    "name": "ipython",
    "version": 3
   },
   "file_extension": ".py",
   "mimetype": "text/x-python",
   "name": "python",
   "nbconvert_exporter": "python",
   "pygments_lexer": "ipython3",
   "version": "3.7.3"
  }
 },
 "nbformat": 4,
 "nbformat_minor": 4
}
