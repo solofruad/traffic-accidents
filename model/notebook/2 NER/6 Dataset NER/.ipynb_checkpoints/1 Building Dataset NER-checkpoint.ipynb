{
 "cells": [
  {
   "cell_type": "markdown",
   "metadata": {},
   "source": [
    "# Building Dataset. Part 1\n",
    "### By **Néstor Suat** in 2020\n",
    "\n",
    "**Descripción:** Contruyendo el dataset Parte 1. Generar los archivos para BRAT Annotation Tools.\n",
    "\n",
    "**Input:**\n",
    "* TSV con los tweets seleccionados\n",
    "\n",
    "**Output:**\n",
    "* Files *.txt and *.ann\n",
    "***"
   ]
  },
  {
   "cell_type": "markdown",
   "metadata": {},
   "source": [
    "### Importando librerías\n",
    "\n",
    "Como estamos en un archivo afuera se necesita agregar la dirección ../ (raíz del proyexto) para importar la librería de preprocesamiento."
   ]
  },
  {
   "cell_type": "code",
   "execution_count": 1,
   "metadata": {},
   "outputs": [],
   "source": [
    "import pandas as pd\n",
    "import spacy  # For preprocessing\n",
    "import re\n",
    "\n",
    "import sys\n",
    "sys.path.insert(0, '../../../')\n",
    "\n",
    "from classes.wordsegmentation import WordSegmentation"
   ]
  },
  {
   "cell_type": "code",
   "execution_count": 2,
   "metadata": {},
   "outputs": [],
   "source": [
    "nlp = spacy.load(\"es_core_news_lg\") # disabling Named Entity Recognition for speed"
   ]
  },
  {
   "cell_type": "markdown",
   "metadata": {},
   "source": [
    "### Importando datasets"
   ]
  },
  {
   "cell_type": "code",
   "execution_count": 3,
   "metadata": {},
   "outputs": [],
   "source": [
    "file = 'ner_dataset_shuffle.tsv'\n",
    "dir_ = \"../../../data/v1/NER/\""
   ]
  },
  {
   "cell_type": "code",
   "execution_count": 14,
   "metadata": {},
   "outputs": [
    {
     "data": {
      "text/plain": [
       "'#ElNoctámbulo Aparatoso accidente en la Avenida Suba con calle 127. El conductor se salvó de milagro. #ArribaBogotá https://t.co/D6qLLsufhG'"
      ]
     },
     "execution_count": 14,
     "metadata": {},
     "output_type": "execute_result"
    }
   ],
   "source": [
    "dataset = pd.read_csv(dir_+file, delimiter = \"\\t\", quoting = 3)\n",
    "del dataset['Unnamed: 0']\n",
    "dataset = dataset['text']\n",
    "dataset[0]"
   ]
  },
  {
   "cell_type": "code",
   "execution_count": 12,
   "metadata": {},
   "outputs": [
    {
     "name": "stdout",
     "output_type": "stream",
     "text": [
      "0     #ElNoctámbulo Aparatoso accidente en la Avenid...\n",
      "1     @Citytv accidente en en el puente de bosa, un ...\n",
      "2     @BogotaTransito accidente transmilenio estacio...\n",
      "3     Hace unos minutos unas peatones se cruzaron co...\n",
      "4     Accidente de tránsito (Muerte Motociclista) fr...\n",
      "5     @VivianaRock @malditapelired Calle 80 con 104,...\n",
      "6     @SectorMovilidad @TransitoBta @Citytv @jnietob...\n",
      "7     07:19// en la calle 49 sur con av cali sentido...\n",
      "8     Choque en la Glorieta de las Américas con Cali...\n",
      "9     @BogotaTransito accidente en la av suba 127 fr...\n",
      "10    @ErikaFontalvo tremendo trancón por accidente,...\n",
      "11    Luego del incidente vial presentado en la Auto...\n",
      "12    8:16 AUTONORTE X CLL 120 N-S: Se presenta inci...\n",
      "13    Rt Z15-4213 presenta accidente de tránsito con...\n",
      "14    Av 19 por 122 choque entre tres motocicletas, ...\n",
      "15    @SectorMovilidad @BogotaTransito #AccidenteVia...\n",
      "16    Señores de RAPPI  INVADEN  calles y avenidas a...\n",
      "17    @SectorMovilidad accidente entre bus y auto pa...\n",
      "18    Av Cali con calle 15 sur  norte sur accidente ...\n",
      "19    @SectorMovilidad @TransMilenio @CaracolRadio @...\n",
      "20    @SectorMovilidad  el accidente en la Av circun...\n",
      "21    @SectorMovilidad @Bocarejo_JP @CanalCapital @B...\n",
      "22    En la Av Boyacá con 66 se presentó un atropell...\n",
      "23    @Reporteropablo Atención. Accidente de tránsit...\n",
      "24    @TransitoPolicia @SectorMovilidad Taxista en e...\n",
      "25    colision entre camioneta  y motociclista  en l...\n",
      "26    Buendía #Accidente fuerte en el puente de la a...\n",
      "27    Dos accidentes dificultan la movilidad en la A...\n",
      "28    8:55 choque particular y taxi con lesionado Av...\n",
      "29    #Bogota #Atencion choque en carrera 13 con cal...\n",
      "30    El Accidente ocurrió en la avenida 68 hacia el...\n",
      "31    Reportan: accidente en la avenida Boyacá senti...\n",
      "32    En la calle 63 Por 24 se presenta un accidente...\n",
      "33    @stevenarce @wilder_mendezC calle 26 con Cra 2...\n",
      "34    Anoche nuestras unidades brindaron apoyo en un...\n",
      "35    Choque entre bus del sitp y particular en la C...\n",
      "36    @BogotaTransito accidente Estación subazar htt...\n",
      "37    @CaracolRadio @ELTIEMPO @NoticiasUno @rcnradio...\n",
      "38    Raro un accidente donde un @sitpbogota este in...\n",
      "39    En la autopista norte por 130 en la calzada ce...\n",
      "40    Identifican al motociclista que murió tras cho...\n",
      "41    Gracias por la colaboración de estos dos señor...\n",
      "42    AV américas por 78A. Ambulancia del convenio c...\n",
      "43    AV américas por 73 autolesiones de motociclist...\n",
      "44    Cr 78 por 42H sur una persona lesionada tras c...\n",
      "45    ⚠ Accidente Avenida Caracas Calle 60 . Choque ...\n",
      "46    @SectorMovilidad @PoliciaBogota Accidente con ...\n",
      "47    Cll 13 por 53 vehículo particular atropella a ...\n",
      "48    Choque multiple Av 26 a la altura de Carrera 1...\n",
      "49    #Bogotá | Caos en Transmilenio (@TransMilenio)...\n",
      "Name: text, dtype: object\n"
     ]
    }
   ],
   "source": [
    "#Seleccionando 50\n",
    "df = dataset[:50]"
   ]
  },
  {
   "cell_type": "markdown",
   "metadata": {},
   "source": [
    "### Aplicando limpieza"
   ]
  },
  {
   "cell_type": "code",
   "execution_count": 6,
   "metadata": {},
   "outputs": [],
   "source": [
    "seg = WordSegmentation(dir_+'spanish_count_1w_small_v2_twitter.txt')"
   ]
  },
  {
   "cell_type": "code",
   "execution_count": 28,
   "metadata": {},
   "outputs": [],
   "source": [
    "def word_segmentation(pattern, text):\n",
    "    search = re.search(pattern,text)\n",
    "    while search:    \n",
    "        s = search.start()\n",
    "        e = search.end()        \n",
    "        print(text[s:e],' '.join(seg.segment(text[s+1:e])))\n",
    "        text = text[:s] + ' ' + ' '.join(seg.segment(text[s+1:e])) +' '+ text[e:]        \n",
    "        search = re.search(pattern,text)        \n",
    "    return text\n",
    "\n",
    "def clean_fn(doc):    \n",
    "    text = doc\n",
    "    pattern = \"(@[A-Za-z0-9äÄëËïÏöÖüÜáéíóúáéíóúÁÉÍÓÚÂÊÎÔÛâêîôûàèìòùÀÈÌÒÙñÑ_]+)\"\n",
    "    text = word_segmentation(pattern,text)\n",
    "    pattern = \"(#[A-Za-z0-9äÄëËïÏöÖüÜáéíóúáéíóúÁÉÍÓÚÂÊÎÔÛâêîôûàèìòùÀÈÌÒÙñÑ_]+)\"\n",
    "    text = word_segmentation(pattern,text)\n",
    "    return text\n",
    "    \n",
    "def preText(text):        \n",
    "    pre = re.sub(\"&[A-Za-z]+;\", ' ', text) #Eliminar códigos ASCII\n",
    "    pre = re.sub(\"(\\w+:\\/\\/\\S+)\",' ',pre) #Eliminar links http y https\n",
    "    pre = re.sub(\"([^A-Za-z0-9äÄëËïÏöÖüÜáéíóúáéíóúÁÉÍÓÚÂÊÎÔÛâêîôûàèìòùÀÈÌÒÙñÑ,;.:*\\-\\[\\]¿?¡!\\\"\\\"()_'/])\",' ',pre) #Eliminar caracteres especiales como emoticones, exceptuando los signos de puntuación y tildes.\n",
    "    pre = re.sub(r'([;.:\\-\\[\\]¿?¡!#\\\"()]){3,}',r'\\1\\1',pre) #Si repite un caracters especial más de 3 veces ej. \"\"\"\"\n",
    "    pre = re.sub(r'([a-zA-Z])\\1{2,}',r'\\1\\1',pre) #Si repite una letra más de dos veces las reduce a dos repeticiones goool => gool        \n",
    "    pre = re.sub(r'(\\s){2,}',r' ',pre) #Eliminar espacios seguidos              \n",
    "    return pre.strip()"
   ]
  },
  {
   "cell_type": "raw",
   "metadata": {},
   "source": [
    "text = [\n",
    "    '#accidente en *call_e 44 #30-19 se # requiere @ presencia de.@transitobogota @rcnnoticias #puentearanda',\n",
    "    'En la Av \\'Boyacá\\' 3.1 3,2 con 66 @HolaMundo @victor se presentó a las 6:15am del día 3-ago 03/03/2020 un calle 44 #30-19 atropellamiento de un peatón por,30 con carrera,45 una motocicleta. conductor de la motocicleta y peatón lesionados.#PROTEGERYSERVIR @puentearanda',\n",
    "    'Grave accidente de taxis congestionó el sector El Lago 🔴EN VIVO #CapitalNoticias https://t.co/sVikHeRcZA'\n",
    "]"
   ]
  },
  {
   "cell_type": "code",
   "execution_count": 29,
   "metadata": {},
   "outputs": [
    {
     "name": "stdout",
     "output_type": "stream",
     "text": [
      "#ElNoctámbulo el noctambulo\n",
      "#ArribaBogotá arriba bogota\n",
      "@Citytv citytv\n",
      "@BogotaTransito bogotatransito\n",
      "@BogotaTransito bogotatransito\n",
      "@Citytv citytv\n",
      "@NoticiasCaracol noticiascaracol\n",
      "@BluRadioCo bluradioco\n",
      "#Ahora ahora\n",
      "#Transito transito\n",
      "@VivianaRock viviana rock\n",
      "@malditapelired maldita peli red\n",
      "@SectorMovilidad sectormovilidad\n",
      "@TransitoBta transitobta\n",
      "@Citytv citytv\n",
      "@jnietoblanco j nieto blanco\n",
      "@TransitoPolicia transito policia\n",
      "@SectorMovilidad sectormovilidad\n",
      "@BogotaTransito bogotatransito\n",
      "@BogotaTransito bogotatransito\n",
      "@ErikaFontalvo erika fontalvo\n",
      "@TransMilenio transmilenio\n",
      "@BogotaTransito bogotatransito\n",
      "@sitpbogota sitpbogota\n",
      "@SectorMovilidad sectormovilidad\n",
      "@BogotaTransito bogotatransito\n",
      "#AccidenteVial accidente vial\n",
      "@PoliciaBogota policiabogota\n",
      "@SectorMovilidad sectormovilidad\n",
      "@SectorMovilidad sectormovilidad\n",
      "@TransMilenio transmilenio\n",
      "@CaracolRadio caracolradio\n",
      "@CanalCapital canalcapital\n",
      "@Citytv citytv\n",
      "@tranviabgta tranvia bgta\n",
      "@SectorMovilidad sectormovilidad\n",
      "@SectorMovilidad sectormovilidad\n",
      "@Bocarejo_JP bocarejo _jp\n",
      "@CanalCapital canalcapital\n",
      "@Bogota bogota\n",
      "@sgeneralbogota s general bogota\n",
      "@195Bogota 195 bogota\n",
      "@Fontibon_Bogota fontibon _ bogota\n",
      "@ALCALDIASUBA11 alcaldias uba11\n",
      "@Alcaldiakennedy alcaldia kennedy\n",
      "@Alca_Martires alca_ martires\n",
      "@LocSanCristobal lo c sancristobal\n",
      "#PROTEGERYSERVIR proteger y servir\n",
      "@Reporteropablo reportero pablo\n",
      "@TransitoPolicia transito policia\n",
      "@SectorMovilidad sectormovilidad\n",
      "@BogotaTransito bogotatransito\n",
      "@PoliciaColombia policia colombia\n",
      "@SectorMovilidad sectormovilidad\n",
      "#Accidente accidente\n",
      "#avdsuba a vd suba\n",
      "@Citytv citytv\n",
      "#ArribaBogotá arriba bogota\n",
      "@sitpbogota sitpbogota\n",
      "#Bogota bogota\n",
      "#Atencion atencion\n",
      "@noticiasrcn noticiasrcn\n",
      "@ac_giggi ac_giggi\n",
      "@Bocarejo_JP bocarejo _jp\n",
      "@PoliciaBogota policiabogota\n",
      "@TransitoBta transitobta\n",
      "@TransMilenio transmilenio\n",
      "@stevenarce steven arce\n",
      "@wilder_mendezC wilder _mendezc\n",
      "@TransitoPolicia transito policia\n",
      "@SectorMovilidad sectormovilidad\n",
      "@BogotaTransito bogotatransito\n",
      "@TransMilenio transmilenio\n",
      "@BogotaTransito bogotatransito\n",
      "@CaracolRadio caracolradio\n",
      "@ELTIEMPO el tiempo\n",
      "@NoticiasUno noticias uno\n",
      "@rcnradio rcn radio\n",
      "@Citytv citytv\n",
      "@sitpbogota sitpbogota\n",
      "#reporte reporte\n",
      "#accidente accidente\n",
      "#LaFMSiempre la fm siempre\n",
      "@SectorMovilidad sectormovilidad\n",
      "@PoliciaBogota policiabogota\n",
      "@TransMilenio transmilenio\n",
      "#Bogotá bogota\n"
     ]
    }
   ],
   "source": [
    "brief_cleaning = (clean_fn(str(row)) for row in df)\n",
    "txt = [preText(doc.text) for doc in nlp.pipe(brief_cleaning, batch_size=50, n_threads=4)]"
   ]
  },
  {
   "cell_type": "code",
   "execution_count": 30,
   "metadata": {},
   "outputs": [
    {
     "data": {
      "text/plain": [
       "['transitobta']"
      ]
     },
     "execution_count": 30,
     "metadata": {},
     "output_type": "execute_result"
    }
   ],
   "source": [
    "seg.segment('TransitoBta')"
   ]
  },
  {
   "cell_type": "code",
   "execution_count": 18,
   "metadata": {},
   "outputs": [
    {
     "data": {
      "text/plain": [
       "['#', 'el', 'noctambulo']"
      ]
     },
     "execution_count": 18,
     "metadata": {},
     "output_type": "execute_result"
    }
   ],
   "source": [
    "seg.segment('#ElNoctámbulo')"
   ]
  },
  {
   "cell_type": "code",
   "execution_count": 20,
   "metadata": {},
   "outputs": [
    {
     "data": {
      "text/plain": [
       "['el noct ámbulo Aparatoso accidente en la Avenida Suba con calle 127. El conductor se salvó de milagro. arriba bogot á',\n",
       " 'citytv accidente en en el puente de bosa, un sitp un colectivo y una moto con conductor de esta muerto. Transito detenido.',\n",
       " 'bogotatransito accidente transmilenio estacion subazar',\n",
       " 'Hace unos minutos unas peatones se cruzaron corriendo la diagonal 39 sur cerca al puente peatonal tras el cc centro mayor y una moto las atropello bogotatransito',\n",
       " 'Accidente de tránsito (Muerte Motociclista) frente al parque Salitre Mágico ahora transito citytv noticiascaracol bluradioco',\n",
       " 'viviana rock maldita peli red Calle 80 con 104, por accidente vehicular',\n",
       " 'sectormovilidad transitobta citytv j nieto blanco Consecuencia de falta de unidades asignadas para adelantar descongestion cra 30 cll26 choque simple ni siquiera se ven los drones q en 20 mtos descongestionarian esto',\n",
       " '07:19// en la calle 49 sur con av cali sentido oriente occidente se presenta choque simple taxi vs alimentador paso reducido se requiere tránsito. transito policia sectormovilidad bogotatransito',\n",
       " 'Choque en la Glorieta de las Américas con Cali fuerte trancón. Se requiere tránsito',\n",
       " 'bogotatransito accidente en la av suba 127 frente centro comercial BULEVAR vehículo atropello a varios peatones',\n",
       " 'erika fontalvo tremendo trancón por accidente,30 con 45,norte.',\n",
       " 'Luego del incidente vial presentado en la Autonorte con calle 187, donde un vehículo resultó volcado afectando la operación de transmilenio , la vía a la hora de encuentra despejada y en normalidad.',\n",
       " '8:16 AUTONORTE X CLL 120 N-S: Se presenta incidente vial entre taxi y particular .',\n",
       " 'Rt Z15-4213 presenta accidente de tránsito con fatalidad en Bosa Centro, Placas de la moto OIW24E bogotatransito sitpbogota',\n",
       " 'Av 19 por 122 choque entre tres motocicletas, tres personas lesionadas. Unidades nuestras en el',\n",
       " 'sectormovilidad bogotatransito accidente vial en NQS sentido norte sur frente a INSTITUTO Geográfico Agustín Codazzi',\n",
       " 'Señores de RAPPI INVADEN calles y avenidas a su antojo, favor policiabogota tomar medidas, acaban de ocacionar accidente.carrera 71 B con calle 49 Normandia',\n",
       " 'sectormovilidad accidente entre bus y auto particular en la avenida esperanza con boyaca. Sentido occidente a oriente. Favor enviar unidad de tránsito gracias. 9:38am.',\n",
       " 'Av Cali con calle 15 sur norte sur accidente con heridos, dos motos involucrados sin paso',\n",
       " 'sectormovilidad transmilenio caracolradio canalcapital citytv tranvia bgta choque simple entre camión y moto genera atasco desde Jiménez hasta CLL 26 sentido sur norte',\n",
       " 'sectormovilidad el accidente en la Av circunvalar a la altura de la trans 4 este setido norte sur',\n",
       " 'sectormovilidad bocarejo _jp canalcapital bogota s general bogota 195 bogota fontibon _ bogota alcaldias uba11 alcaldia kennedy alca_ martires lo c sancristobal Accidente por este cráter en la cra7 con calle 105, sentido sur-norte, calzada central.',\n",
       " 'En la Av Boyacá con 66 se presentó un atropellamiento de un peatón por una motocicleta; conductor de la motocicleta y peatón lesionados. proteger y servir',\n",
       " 'reportero pablo Atención. Accidente de tránsito entre motociclista y automóvil en la autonorte sentido norte sur a 200mts de la cl 134. Posible fatalidad',\n",
       " 'transito policia sectormovilidad Taxista en esta de embriaguez choco otro vehículo y se da a la fuga.La comunidad lo detuvo más adelante.Crr 86a 84a-25',\n",
       " 'colision entre camioneta y motociclista en la calle 13 con Carrera 50, sentido oriente-occidente.',\n",
       " 'Buendía accidente fuerte en el puente de la avd suba con boyaca bogotatransito policia colombia colisión entre taxi y vehículo particular a vd suba sectormovilidad',\n",
       " 'Dos accidentes dificultan la movilidad en la Av Boyacá con calle 39 sur. En una de las situaciones, un camión, un bus y un vehículo del SITP chocaron; la colisión se habría generado por el exceso de barro en la vía. Hay un lesionado arriba bogot á citytv',\n",
       " '8:55 choque particular y taxi con lesionado Avenida nqs calle 80 sur Norte ya atendido',\n",
       " 'bogota atencion choque en carrera 13 con calle 45 via paralizada sitpbogota',\n",
       " 'El Accidente ocurrió en la avenida 68 hacia el norte, cerca a Salitre Mágico noticiasrcn ac_giggi bocarejo _jp policiabogota transitobta transmilenio',\n",
       " 'Reportan: accidente en la avenida Boyacá sentido sur norte, sector Hospital Meissen, entre una volqueta y un motociclista, el cual lamentablemente fallece. Foto: Yonni C.',\n",
       " 'En la calle 63 Por 24 se presenta un accidente donde se ven involucrados un vehículo de servicio público y una motocicleta. Tres personas resultaron lesionadas; nuestras unidades en el',\n",
       " 'steven arce wilder _mendezc calle 26 con Cra 22 accidente complicado, trancon impresionante, cerrada la calzada oriente occidente por tres cuadras',\n",
       " 'Anoche nuestras unidades brindaron apoyo en un accidente en la calle 153 por 19, donde una',\n",
       " 'Choque entre bus del sitp y particular en la Calle 13 con carrera 68 c antes de la avenida boyacá se necesita tránsito porque tiene gran trancón sentido oriente Occidente transito policia sectormovilidad bogotatransito transmilenio',\n",
       " 'bogotatransito accidente Estación subazar',\n",
       " 'caracolradio el tiempo noticias uno rcn radio citytv Accidente en la Autopista Norte con Calle 85.',\n",
       " 'Raro un accidente donde un sitpbogota este involucrado, Cra 7 con calle 140 sentido sur norte (frente al Palatino reporte accidente',\n",
       " 'En la autopista norte por 130 en la calzada central se presentó un choque entre dos vehículos particulares; por fortuna sin lesionados, unidades nuestras en el lugar brindando apoyo en señalización.',\n",
       " 'Identifican al motociclista que murió tras chocar contra TransMilenio en el Portal 80',\n",
       " 'Gracias por la colaboración de estos dos señores agentes, un compañero ciclista se accidentó en la avenida suba con Avda boyacá, los agentes nos brindaron su ayuda, los felicito, ante todo seres humanos.',\n",
       " 'AV américas por 78A. Ambulancia del convenio cívicos atendió accidente entre vehículo particular',\n",
       " 'AV américas por 73 autolesiones de motociclista. Ambulancia 5987 realiza el traslado.',\n",
       " 'Cr 78 por 42H sur una persona lesionada tras choque entre dos vehículos de transporte especial.',\n",
       " 'Accidente Avenida Caracas Calle 60 . Choque entre un bus y un motociclista. Se afecta el carril de Transmilenio sentido sur - Norte y el carril mixto la fm siempre',\n",
       " 'sectormovilidad policiabogota Accidente con herido en la calle 82 con 19a Urgente Ambulancia',\n",
       " 'Cll 13 por 53 vehículo particular atropella a peatón y resulta herido, ambulancia del convenio',\n",
       " 'Choque multiple Av 26 a la altura de Carrera 13',\n",
       " 'bogot á Caos en Transmilenio ( transmilenio ) por choque en Avenida Ciudad de Cali con Américas']"
      ]
     },
     "execution_count": 20,
     "metadata": {},
     "output_type": "execute_result"
    }
   ],
   "source": [
    "txt"
   ]
  },
  {
   "cell_type": "code",
   "execution_count": null,
   "metadata": {},
   "outputs": [],
   "source": [
    "new = pd.DataFrame(df)\n",
    "new['pre'] = txt\n",
    "new.to_csv('test.tsv',sep='\\t')"
   ]
  },
  {
   "cell_type": "markdown",
   "metadata": {},
   "source": [
    "### Generando archivos"
   ]
  },
  {
   "cell_type": "raw",
   "metadata": {},
   "source": [
    "# Barajando el dataset y seleccionando 50\n",
    "dataset = dataset.sample(frac=1)\n",
    "dataset.to_csv(\"../../../data/v1/NER/ner_dataset_shuffle.tsv\",sep='\\t')"
   ]
  },
  {
   "cell_type": "code",
   "execution_count": 72,
   "metadata": {},
   "outputs": [],
   "source": [
    "#Generando txt y ann\n",
    "i=1\n",
    "for tweet in txt:\n",
    "    name = dir_+'brat/'+'tweet-'+str(i)+'.txt'\n",
    "    #print(name)  \n",
    "    with open(name, \"w\") as file:\n",
    "        file.write(tweet)\n",
    "    name = dir_+'brat/'+'tweet-'+str(i)+'.ann'\n",
    "    with open(name, \"w\") as file:\n",
    "        file.write('')\n",
    "    i+=1"
   ]
  }
 ],
 "metadata": {
  "kernelspec": {
   "display_name": "Python 3",
   "language": "python",
   "name": "python3"
  },
  "language_info": {
   "codemirror_mode": {
    "name": "ipython",
    "version": 3
   },
   "file_extension": ".py",
   "mimetype": "text/x-python",
   "name": "python",
   "nbconvert_exporter": "python",
   "pygments_lexer": "ipython3",
   "version": "3.7.3"
  }
 },
 "nbformat": 4,
 "nbformat_minor": 4
}
