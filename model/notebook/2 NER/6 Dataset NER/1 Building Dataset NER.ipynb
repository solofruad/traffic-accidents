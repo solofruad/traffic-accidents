{
 "cells": [
  {
   "cell_type": "markdown",
   "metadata": {},
   "source": [
    "# Building Dataset. Part 1\n",
    "### By **Néstor Suat** in 2020\n",
    "\n",
    "**Descripción:** Contruyendo el dataset Parte 1. Generar los archivos para BRAT Annotation Tools.\n",
    "\n",
    "**Input:**\n",
    "* TSV con los tweets seleccionados\n",
    "\n",
    "**Output:**\n",
    "* Files *.txt and *.ann\n",
    "***"
   ]
  },
  {
   "cell_type": "markdown",
   "metadata": {},
   "source": [
    "### Importando librerías\n",
    "\n",
    "Como estamos en un archivo afuera se necesita agregar la dirección ../ (raíz del proyexto) para importar la librería de preprocesamiento."
   ]
  },
  {
   "cell_type": "code",
   "execution_count": 1,
   "metadata": {},
   "outputs": [],
   "source": [
    "import pandas as pd\n",
    "import spacy  # For preprocessing\n",
    "import re\n",
    "\n",
    "import sys\n",
    "sys.path.insert(0, '../../../')\n",
    "\n",
    "from classes.wordsegmentation import WordSegmentation"
   ]
  },
  {
   "cell_type": "code",
   "execution_count": 2,
   "metadata": {},
   "outputs": [],
   "source": [
    "nlp = spacy.load(\"es_core_news_lg\") # disabling Named Entity Recognition for speed"
   ]
  },
  {
   "cell_type": "markdown",
   "metadata": {},
   "source": [
    "### Importando datasets"
   ]
  },
  {
   "cell_type": "code",
   "execution_count": 3,
   "metadata": {},
   "outputs": [],
   "source": [
    "file = 'ner_dataset_shuffle.tsv'\n",
    "dir_ = \"../../../data/v1/NER/\""
   ]
  },
  {
   "cell_type": "code",
   "execution_count": 44,
   "metadata": {},
   "outputs": [
    {
     "data": {
      "text/plain": [
       "'#ElNoctámbulo Aparatoso accidente en la Avenida Suba con calle 127. El conductor se salvó de milagro. #ArribaBogotá https://t.co/D6qLLsufhG'"
      ]
     },
     "execution_count": 44,
     "metadata": {},
     "output_type": "execute_result"
    }
   ],
   "source": [
    "dataset = pd.read_csv(dir_+file, delimiter = \"\\t\", quoting = 3)\n",
    "del dataset['Unnamed: 0']\n",
    "dataset = dataset['text']\n",
    "dataset[0]"
   ]
  },
  {
   "cell_type": "code",
   "execution_count": 45,
   "metadata": {},
   "outputs": [],
   "source": [
    "#Seleccionando 50\n",
    "df = dataset.sample(n=50)"
   ]
  },
  {
   "cell_type": "markdown",
   "metadata": {},
   "source": [
    "### Aplicando limpieza"
   ]
  },
  {
   "cell_type": "code",
   "execution_count": 46,
   "metadata": {},
   "outputs": [],
   "source": [
    "seg = WordSegmentation(dir_+'spanish_count_1w_small_v2_twitter.txt')"
   ]
  },
  {
   "cell_type": "code",
   "execution_count": 47,
   "metadata": {},
   "outputs": [],
   "source": [
    "def word_segmentation(pattern, text):\n",
    "    search = re.search(pattern,text)\n",
    "    while search:    \n",
    "        s = search.start()\n",
    "        e = search.end()                \n",
    "        text = text[:s] + ' ' + ' '.join(seg.segment(text[s+1:e])) +' '+ text[e:]        \n",
    "        search = re.search(pattern,text)        \n",
    "    return text\n",
    "\n",
    "def clean_fn(doc):    \n",
    "    text = doc\n",
    "    pattern = \"(@[A-Za-z0-9äÄëËïÏöÖüÜáéíóúáéíóúÁÉÍÓÚÂÊÎÔÛâêîôûàèìòùÀÈÌÒÙñÑ_]+)\"\n",
    "    text = word_segmentation(pattern,text)\n",
    "    pattern = \"(#[A-Za-z0-9äÄëËïÏöÖüÜáéíóúáéíóúÁÉÍÓÚÂÊÎÔÛâêîôûàèìòùÀÈÌÒÙñÑ_]+)\"\n",
    "    text = word_segmentation(pattern,text)\n",
    "    return text\n",
    "    \n",
    "def preText(text):        \n",
    "    pre = re.sub(\"&[A-Za-z]+;\", ' ', text) #Eliminar códigos ASCII\n",
    "    pre = re.sub(\"(\\w+:\\/\\/\\S+)\",' ',pre) #Eliminar links http y https\n",
    "    pre = re.sub(\"([^A-Za-z0-9äÄëËïÏöÖüÜáéíóúáéíóúÁÉÍÓÚÂÊÎÔÛâêîôûàèìòùÀÈÌÒÙñÑ,;.:*\\-\\[\\]¿?¡!\\\"\\\"()_'/])\",' ',pre) #Eliminar caracteres especiales como emoticones, exceptuando los signos de puntuación y tildes.\n",
    "    pre = re.sub(r'([;.:\\-\\[\\]¿?¡!#\\\"()]){3,}',r'\\1\\1',pre) #Si repite un caracters especial más de 3 veces ej. \"\"\"\"\n",
    "    pre = re.sub(r'([a-zA-Z])\\1{2,}',r'\\1\\1',pre) #Si repite una letra más de dos veces las reduce a dos repeticiones goool => gool        \n",
    "    pre = re.sub(r'(\\s){2,}',r' ',pre) #Eliminar espacios seguidos              \n",
    "    return pre.strip()"
   ]
  },
  {
   "cell_type": "raw",
   "metadata": {},
   "source": [
    "text = [\n",
    "    '#accidente en *call_e 44 #30-19 se # requiere @ presencia de.@transitobogota @rcnnoticias #puentearanda',\n",
    "    'En la Av \\'Boyacá\\' 3.1 3,2 con 66 @HolaMundo @victor se presentó a las 6:15am del día 3-ago 03/03/2020 un calle 44 #30-19 atropellamiento de un peatón por,30 con carrera,45 una motocicleta. conductor de la motocicleta y peatón lesionados.#PROTEGERYSERVIR @puentearanda',\n",
    "    'Grave accidente de taxis congestionó el sector El Lago 🔴EN VIVO #CapitalNoticias https://t.co/sVikHeRcZA'\n",
    "]"
   ]
  },
  {
   "cell_type": "code",
   "execution_count": 48,
   "metadata": {},
   "outputs": [],
   "source": [
    "brief_cleaning = (clean_fn(str(row)) for row in df)\n",
    "txt = [preText(doc.text) for doc in nlp.pipe(brief_cleaning, batch_size=50, n_threads=4)]"
   ]
  },
  {
   "cell_type": "code",
   "execution_count": 42,
   "metadata": {
    "collapsed": true,
    "jupyter": {
     "outputs_hidden": true
    }
   },
   "outputs": [
    {
     "data": {
      "text/plain": [
       "['bogotatransito accidente de varios sentido sur-norte en la autonorte a la altura de la 116.',\n",
       " 'Más imprudentes en vía por pasarse el semáforo en rojo par de ciclistas colisionaron sin gravedad sobre la 98 con 11 gente más educación sobre una bicicleta',\n",
       " 'natalia medina gc bogotatransito transmilenio sectormovilidad Hay un accidente en la av suba con cra 91 que involucra a un sitp..desvían particulares por el carril exclusivo de transmilenio',\n",
       " 'CRA 69 X CL 21 : Se presenta incidente vial entre servicio especial y furgón',\n",
       " 'bogotatransito Cra 9 con Cll 116 sobre el puente reportan accidente',\n",
       " 'Accidente en la 106 con 9',\n",
       " 'transito policia sectormovilidad Choque simple de zonal(sin datos) vs particular en la Carrera 11 este con calle 47 C Sur, no hay paso se requiere tránsito , la novedad está desde las 16:25',\n",
       " 'sectormovilidad transmilenio accidentado en Av. Suba, a la altura de Av. Calle 139 con carrera 90.',\n",
       " 'noticias bta ¡Hola! A la altura de la carrera 94 sentido oriente occidente se presentó un incidente entre un tractocamión y un peatón. Ya está asignada la unidad de tránsito para solucionar los problemas de movilidad generados.',\n",
       " 'Esta mañana una de nuestras unidades brindó apoyo en un accidente ocurrido en la Cra 7 por 118,',\n",
       " 'Accidente en la av. Américas con carrera 68, en Bogotá, dejó un ciclista muerto',\n",
       " 'transmilenio choque entre dos articulados en la estación escuela militar! Allí mismo hay otro articulado varado! el tiempo',\n",
       " 'Tremendo trancon por choque de furgón que tumbó un poste en el sector de la Floresta bogota movilidad',\n",
       " 'choque entre particular y bus en la Carrera 92 con Calle 157.',\n",
       " 'caída de motociclista en la NQS con calle 9, sentido sur norte.',\n",
       " 'Cll 13 A por 83 motociclista que atropella a un peatón. Una persona lesionada es trasladada por',\n",
       " 'sectormovilidad accidente involucra vehículo particular y un transmilenio en calle 17 sur con Av. Caracas. Trancón monumental',\n",
       " 'a esta hora (8:18A.M) empieza a complicarse la movilidad sobre la Cll 26, a la altura de la Kra 102, sentido Occidente-Oriente, por un choque en la vía. Te recomendamos salir con anticipación para cumplir con tu plan de vuelo y evitar congestiones en el bog_ eldorado . comparte',\n",
       " 'la fm bogota Reportan un accidente de un articulado de transmilenio con un peatón que salió de manera irregular de la estación a la altura de la Calle 26 sentido norte - sur. Hay paso por un carril me paso a la fm',\n",
       " 'Nuestras unidades atendieron a un ciclista que resultó herido tras choque con un furgón en la calle 131 por 59.',\n",
       " 'Esta madrugada se presento un accidente en la calle 100 por 15, unidades cívicas ayudaron a la persona que resultó lesionada.',\n",
       " 'atencion Accidente en la Autopista Norte con Calle 116 en sentido sur norte en bogota me paso a la fm',\n",
       " 'transmilenio policiabogota Estrellada de 2 buses de transmilenio en la estación Av 68, sentido oriente - occidente',\n",
       " 'Autopista norte por 147 motocicleta pierde el control y sus dos ocupantes resultan lesionados,',\n",
       " 'En la Avenida boyaca por 71 se presentó un accidente, donde al parecer el conductor pierde el',\n",
       " 'Acaba de haber un accidente en frente a Facol cerca a centro _suba entre estación transmilenio transversal 91 y 21 ángeles en Av Suba alcaldias uba11 que involucra a un Transmilenio y un híbrido , más de 14 heridos . diario extra bogo cronicas transmi bogotatransito',\n",
       " 'Rt Incidente de tránsito simple en la NQS * 63, se solicita Transito bogotatransito',\n",
       " '14:30 VIA LA CALERA km 3.0: Se presenta caida de ocupante (menor de edad que se sale por la ventana). recurso asignado (cuadrante móvil 12) y ME-37 de bomberos y 5302 de ambulancia.',\n",
       " 'Rt Accidente de tránsito con Policia herido en la Av. Calle 26 X 68D (Cámara de Comecio) sentido occidente oriente, se solicita ambulancia y tránsito bogotatransito',\n",
       " 'Si van en o por el norte, les recomiendo no tomar cra 11 a la altura de calle 90. En ese punto hay un choque simple entre sitp y camioneta y más adelante, en la cra 11 con 83, otra estrellada entre zonal y particular. El trancon está de lo lindo. Feliz inicio de seman',\n",
       " 'bogotatransito policiabogota accidente en la Kra 7 con 73 urgente una ambulancia',\n",
       " 'Buendía accidente fuerte en el puente de la avd suba con boyaca bogotatransito policia colombia colisión entre taxi y vehículo particular a vd suba sectormovilidad',\n",
       " 'Cll 71 por 80A Choque entre vehículo del SITP y particular dos personas lesionadas. Una es',\n",
       " 'citytv arriba bogota accidente en la estacion olaya, un peatón atropellado por transmilenio. Hay congestión en la vía sur norte',\n",
       " 'sectormovilidad Grave accidente en el deprimido de la Av. 9 x Calle 100 sentido Sir Norte deja dos personas muertas.',\n",
       " 'Anoche nuestras unidades brindaron colaboración en la autopista norte por 100 donde una tractomula al parecer pierde el control y choca contra el separador; conductor de la tractomula lesionado.',\n",
       " 'sectormovilidad accidente grave frente estación TM suba tv 91 articulado atropelló peatón sin utilizar puente peatonal!',\n",
       " 'Choque contra separador de la Av 1ra de Mayo con Cra 30 Bogotá',\n",
       " 'Buenas noches transito policia hace unos minutos presencié un accidente donde el vehículo que lo provocó huyó, yo me encontraba en la 127 y vi como el vehículo estrelló un taxi sobre la 129, al momento que huyo casi estrella mi vehículo al ver lo que pasaba lo perseguía',\n",
       " 'Jueves 18 de Julio 2019 6:00 PM aprox. *Ciclista fallecido en incidente vial con bus de servicio público. Carrera 100 * calle 22F x Bogotá*,Lamentamos la pérdida del compañero.',\n",
       " 'policia colombia accidente en la av calle 100 y calle 63 Norte. Entre cafam floresta e iserra 100',\n",
       " 'En la Av. Boyacá por 26 se presentó un accidente donde un vehículo de carga se encontraba varado y una motocicleta lo choca por detrás; infortunadamente el conductor de la motocicleta pierde la vida la acompañante',\n",
       " 'Grave accidente de un bus del SITP que perdió el control, se salió al carril contrario, embistió un taxi y arrolló a un motociclista en la Av 1 de Mayo con Av 68. Video: Red de Apoyo- SITP',\n",
       " 'caracoles mas Accidente en carrera 10 con calle 22 sur en Bogotá. Por red mas tv , señal en vivo aquí',\n",
       " 'Hace pocos minutos se presentó un accidente de tránsito: un bus del SITP chocó contra un poste, dejando a su conductora gravemente herida. Los hechos acaban de ocurrir en la Av. caracas con cll 32. arriba bogota citytv',\n",
       " 'Si usted viene por la 9na, hubo un accidente en todo el puente de la 30 con 92. Feo. Un poste se cayó encima de un motociclista.',\n",
       " 'Av. Boyaca por 130 volcamiento de un vehículo particular; unidades cívicas en el lugar.',\n",
       " 'javier leo qui sectormovilidad Hay un accidente en la Av suba con cra 91..sitp involucrado..están desviando particulares por el carril de transmilenio',\n",
       " 'Rt Avenida carrera 68 calle 32 Sur sentido sur-norte choque de taxi contra estructura ya hay ambulancia bogotatransito',\n",
       " 'atencion viajeros a esta hora (8:20 A.M) se empieza a normalizar el estado del tráfico sobre la Calle 26 entre la Av Boyacá y Av Cali, sentido Occidente - Oriente, donde en horas de la mañana se presentó un fuerte accidente. Te recomendamos salir con tiempo de anticipación.']"
      ]
     },
     "execution_count": 42,
     "metadata": {},
     "output_type": "execute_result"
    }
   ],
   "source": [
    "txt"
   ]
  },
  {
   "cell_type": "code",
   "execution_count": 49,
   "metadata": {},
   "outputs": [],
   "source": [
    "new = pd.DataFrame(df)\n",
    "new['pre'] = txt\n",
    "new.to_csv('test.tsv',sep='\\t')"
   ]
  },
  {
   "cell_type": "markdown",
   "metadata": {},
   "source": [
    "### Generando archivos"
   ]
  },
  {
   "cell_type": "raw",
   "metadata": {},
   "source": [
    "# Barajando el dataset y seleccionando 50\n",
    "dataset = dataset.sample(frac=1)\n",
    "dataset.to_csv(\"../../../data/v1/NER/ner_dataset_shuffle.tsv\",sep='\\t')"
   ]
  },
  {
   "cell_type": "code",
   "execution_count": 72,
   "metadata": {},
   "outputs": [],
   "source": [
    "#Generando txt y ann\n",
    "i=1\n",
    "for tweet in txt:\n",
    "    name = dir_+'brat/'+'tweet-'+str(i)+'.txt'\n",
    "    #print(name)  \n",
    "    with open(name, \"w\") as file:\n",
    "        file.write(tweet)\n",
    "    name = dir_+'brat/'+'tweet-'+str(i)+'.ann'\n",
    "    with open(name, \"w\") as file:\n",
    "        file.write('')\n",
    "    i+=1"
   ]
  }
 ],
 "metadata": {
  "kernelspec": {
   "display_name": "Python 3",
   "language": "python",
   "name": "python3"
  },
  "language_info": {
   "codemirror_mode": {
    "name": "ipython",
    "version": 3
   },
   "file_extension": ".py",
   "mimetype": "text/x-python",
   "name": "python",
   "nbconvert_exporter": "python",
   "pygments_lexer": "ipython3",
   "version": "3.7.3"
  }
 },
 "nbformat": 4,
 "nbformat_minor": 4
}
