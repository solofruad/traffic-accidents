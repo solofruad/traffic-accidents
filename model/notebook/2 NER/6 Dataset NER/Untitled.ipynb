{
 "cells": [
  {
   "cell_type": "code",
   "execution_count": 2,
   "metadata": {},
   "outputs": [
    {
     "name": "stdout",
     "output_type": "stream",
     "text": [
      "\n",
      "\u001b[38;5;1m✘ Unknown command: -version\u001b[0m\n",
      "Available: download, link, info, train, pretrain, debug-data, evaluate, convert,\n",
      "package, init-model, profile, validate\n",
      "\n"
     ]
    }
   ],
   "source": [
    "!python -m spacy download es_core_news_lg"
   ]
  },
  {
   "cell_type": "code",
   "execution_count": 103,
   "metadata": {},
   "outputs": [],
   "source": [
    "import spacy  # For preprocessing\n",
    "import re"
   ]
  },
  {
   "cell_type": "code",
   "execution_count": 4,
   "metadata": {},
   "outputs": [],
   "source": [
    "nlp = spacy.load(\"es_core_news_lg\") # disabling Named Entity Recognition for speed"
   ]
  },
  {
   "cell_type": "code",
   "execution_count": 134,
   "metadata": {},
   "outputs": [],
   "source": [
    "def clean_fn(doc):\n",
    "    #Lemma without removes stopwords\n",
    "    #txt = [token.text for token in doc]   \n",
    "    #return txt\n",
    "    return doc.text\n",
    "\n",
    "def preText(text):    \n",
    "    #pre = re.sub(\"(@[A-Za-z0-9_]+)\", '[MASK]', text) #Reemplazar @username por [UNK]    \n",
    "    pre = re.sub(\"&[A-Za-z]+;\", ' ', text) #Eliminar códigos ASCII\n",
    "    pre = re.sub(\"(\\w+:\\/\\/\\S+)\",' ',pre) #Eliminar links http y https\n",
    "    pre = re.sub(\"([^A-Za-z0-9äÄëËïÏöÖüÜáéíóúáéíóúÁÉÍÓÚÂÊÎÔÛâêîôûàèìòùÀÈÌÒÙñÑ,;.:*\\-\\[\\]¿?¡!#@\\\"\\\"()_'/])\",' ',pre) #Eliminar caracteres especiales como emoticones, exceptuando los signos de puntuación y tildes.\n",
    "    pre = re.sub(r'([;.:\\-\\[\\]¿?¡!#\\\"()]){3,}',r'\\1\\1',pre) #Si repite un caracters especial más de 3 veces ej. \"\"\"\"\n",
    "    pre = re.sub(r'([a-zA-Z])\\1{2,}',r'\\1\\1',pre) #Si repite una letra más de dos veces las reduce a dos repeticiones goool => gool    \n",
    "    #pre = re.sub(r'((?<=[A-Za-z])(?=[A-Z][a-zäÄëËïÏöÖüÜáéíóúáéíóúÁÉÍÓÚÂÊÎÔÛâêîôûàèìòùÀÈÌÒÙñÑ]))',r' ',pre) #Segmentados de palabras por mayuscula Ej. \"HolaMundo\" por \"Hola Mundo\"\n",
    "    pre = re.sub(r'(\\s){2,}',r' ',pre) #Eliminar espacios seguidos              \n",
    "    return pre"
   ]
  },
  {
   "cell_type": "code",
   "execution_count": 135,
   "metadata": {},
   "outputs": [
    {
     "name": "stdout",
     "output_type": "stream",
     "text": [
      "- @ErikaFontalvo lesionados. tremendo trancón por accidente,30 con 45,norte.\n",
      "- En la Av Boyacá con 66 se presentó un atropellamiento de un peatón por una motocicleta; conductor de la motocicleta y peatón lesionados.#PROTEGERYSERVIR\n",
      "- Grave accidente de taxis congestionó el sector El Lago EN VIVO #CapitalNoticias \n",
      "- @BogotaTransito choque en Cra 40 con calle 21bis, ocasiona tráfico detenido en cercanías de @CorferiasBogota #ConductorAgresivo\n",
      "- #TMahora (09:04 a.m.) Si te movilizas por la troncal Calle 80 te informamos que se presenta un accidente a la altura de la estación Av. 68, sentido oriente - occidente, y dejamos de atender la estación. #EstamosTrabajando para atender rápidamente la contingencia \n",
      "- Accidente en tm calle 19 sentido sur norte @transmisitp #ReporteTS\n",
      "- #Bogota Accidente de un tractocamion en la Autopista con Norte con calle 116 genera congestión vehicular. #EnDesarrollo\n",
      "- @TransitoBta @SectorMovilidad @SITPAyuda @Localidad16 grave accidente bajando puente de las Americas con 68 Occ-Ori. @CanalCapital @CaracolRadio @BluRadioCo. #americas #puentearanda \n",
      "- @BogotaTransito Accidente y bloqueo en la Calle 13 Ori-Occ en la 105 Frente al semáforo de ZFÑÑ@ZFbta. @FontibonSomosT @Fontibon_Bogota\n",
      "- Choque 94 con séptima #toyotas \n",
      "- Triste accidente en la calle 26, frente a Colsubsidio #prudenciaenlascalles \n",
      "- Accidente en la #Avenida #Ciudad de #Cali con #Américas afecta operación de #Transilenio \n",
      "- #acidente_de_trânsito en la av 30 altura de la 63 @BogotaTransito @trasmilenio @Bogota @PoliciaBogota @PublimetroCol \n",
      "- A esta hora nuestra unidades brindan apoyo en la calle 186 con 54D donde se presenta un choque entre una motocicleta y un vehículo particular. \n"
     ]
    }
   ],
   "source": [
    "text = [\n",
    "    '@ErikaFontalvo lesionados. tremendo trancón por accidente,30 con 45,norte.',\n",
    "    'En la Av Boyacá con 66 se presentó un atropellamiento de un peatón por una motocicleta; conductor de la motocicleta y peatón lesionados.#PROTEGERYSERVIR',\n",
    "    'Grave accidente de taxis congestionó el sector El Lago 🔴EN VIVO #CapitalNoticias https://t.co/sVikHeRcZA',\n",
    "    '@BogotaTransito choque en Cra 40 con calle 21bis, ocasiona tráfico detenido en cercanías de @CorferiasBogota #ConductorAgresivo',\n",
    "    '#TMahora (09:04 a.m.) Si te movilizas por la troncal Calle 80 te informamos que se presenta un accidente a la altura de la estación Av. 68, sentido oriente - occidente, y dejamos de atender la estación. #EstamosTrabajando para atender rápidamente la contingencia https://t.co/gXe23jO6L9',\n",
    "    'Accidente en tm calle 19 sentido sur norte @transmisitp #ReporteTS',\n",
    "    '#Bogota Accidente de un tractocamion en la Autopista con Norte con calle 116 genera congestión vehicular. #EnDesarrollo',\n",
    "    '@TransitoBta @SectorMovilidad @SITPAyuda @Localidad16 grave accidente bajando puente de las Americas con 68 Occ-Ori. @CanalCapital @CaracolRadio @BluRadioCo. #americas #puentearanda https://t.co/pOjf3AhvCm',\n",
    "    '@BogotaTransito Accidente y bloqueo en la Calle 13 Ori-Occ en la 105 Frente al semáforo de ZFÑÑ@ZFbta.  @FontibonSomosT @Fontibon_Bogota',\n",
    "    'Choque 94 con séptima #toyotas https://t.co/yDU9zlxUE2',\n",
    "    'Triste accidente en la calle 26, frente a Colsubsidio #prudenciaenlascalles https://t.co/tpFLYzddHF',\n",
    "    'Accidente en la #Avenida #Ciudad de #Cali con #Américas afecta operación de #Transilenio https://t.co/T3BVN2y0AR',\n",
    "    '#acidente_de_trânsito  en la av 30 altura de la 63 @BogotaTransito @trasmilenio @Bogota @PoliciaBogota @PublimetroCol https://t.co/sJrVTrphtO',\n",
    "    'A esta hora nuestra unidades brindan apoyo en la calle 186 con 54D donde se presenta un choque entre una motocicleta y un vehículo particular. https://t.co/geoT6J4Jbo'\n",
    "]\n",
    "brief_cleaning = (preText(str(row)) for row in text)\n",
    "txt = [clean_fn(doc) for doc in nlp.pipe(brief_cleaning, batch_size=50, n_threads=4)]\n",
    "for t in txt:\n",
    "    print(\"-\",t)"
   ]
  },
  {
   "cell_type": "code",
   "execution_count": 100,
   "metadata": {},
   "outputs": [
    {
     "data": {
      "text/plain": [
       "[['@ErikaFontalvo',\n",
       "  'lesionados',\n",
       "  '.',\n",
       "  'tremendo',\n",
       "  'trancón',\n",
       "  'por',\n",
       "  'accidente,30',\n",
       "  'con',\n",
       "  '45,norte',\n",
       "  '.'],\n",
       " ['En',\n",
       "  'la',\n",
       "  'Av',\n",
       "  'Boyacá',\n",
       "  'con',\n",
       "  '66',\n",
       "  'se',\n",
       "  'presentó',\n",
       "  'un',\n",
       "  'atropellamiento',\n",
       "  'de',\n",
       "  'un',\n",
       "  'peatón',\n",
       "  'por',\n",
       "  'una',\n",
       "  'motocicleta',\n",
       "  ';',\n",
       "  'conductor',\n",
       "  'de',\n",
       "  'la',\n",
       "  'motocicleta',\n",
       "  'y',\n",
       "  'peatón',\n",
       "  'lesionados.#PROTEGERYSERVIR'],\n",
       " ['Grave',\n",
       "  'accidente',\n",
       "  'de',\n",
       "  'taxis',\n",
       "  'congestionó',\n",
       "  'el',\n",
       "  'sector',\n",
       "  'El',\n",
       "  'Lago',\n",
       "  '🔴',\n",
       "  'EN',\n",
       "  'VIVO',\n",
       "  '#',\n",
       "  'CapitalNoticias',\n",
       "  'https://t.co/sVikHeRcZA']]"
      ]
     },
     "execution_count": 100,
     "metadata": {},
     "output_type": "execute_result"
    }
   ],
   "source": [
    "txt"
   ]
  },
  {
   "cell_type": "code",
   "execution_count": null,
   "metadata": {},
   "outputs": [],
   "source": []
  },
  {
   "cell_type": "code",
   "execution_count": null,
   "metadata": {},
   "outputs": [],
   "source": []
  }
 ],
 "metadata": {
  "kernelspec": {
   "display_name": "Python 3",
   "language": "python",
   "name": "python3"
  },
  "language_info": {
   "codemirror_mode": {
    "name": "ipython",
    "version": 3
   },
   "file_extension": ".py",
   "mimetype": "text/x-python",
   "name": "python",
   "nbconvert_exporter": "python",
   "pygments_lexer": "ipython3",
   "version": "3.7.3"
  }
 },
 "nbformat": 4,
 "nbformat_minor": 4
}
