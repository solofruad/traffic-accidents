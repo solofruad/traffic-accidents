{
 "cells": [
  {
   "cell_type": "code",
   "execution_count": 15,
   "metadata": {},
   "outputs": [],
   "source": [
    "from os import walk\n",
    "import pandas as pd"
   ]
  },
  {
   "cell_type": "code",
   "execution_count": 13,
   "metadata": {},
   "outputs": [
    {
     "name": "stdout",
     "output_type": "stream",
     "text": [
      "268\n"
     ]
    }
   ],
   "source": [
    "dirname = \"../../../data/v1/NER/brat/test/\"\n",
    "data = []\n",
    "for (dirpath, dirnames, filenames) in walk(dirname):\n",
    "    for filename in filenames:\n",
    "        if filename.split(\".\")[1] == 'txt':        \n",
    "            with open(dirname+filename, \"r\") as file:\n",
    "                data.append(file.readlines()[0])\n",
    "            i += 1"
   ]
  },
  {
   "cell_type": "code",
   "execution_count": 16,
   "metadata": {},
   "outputs": [
    {
     "data": {
      "text/html": [
       "<div>\n",
       "<style scoped>\n",
       "    .dataframe tbody tr th:only-of-type {\n",
       "        vertical-align: middle;\n",
       "    }\n",
       "\n",
       "    .dataframe tbody tr th {\n",
       "        vertical-align: top;\n",
       "    }\n",
       "\n",
       "    .dataframe thead th {\n",
       "        text-align: right;\n",
       "    }\n",
       "</style>\n",
       "<table border=\"1\" class=\"dataframe\">\n",
       "  <thead>\n",
       "    <tr style=\"text-align: right;\">\n",
       "      <th></th>\n",
       "      <th>tweet</th>\n",
       "    </tr>\n",
       "  </thead>\n",
       "  <tbody>\n",
       "    <tr>\n",
       "      <th>0</th>\n",
       "      <td>sectormovilidad transmilenio bus dual se estre...</td>\n",
       "    </tr>\n",
       "    <tr>\n",
       "      <th>1</th>\n",
       "      <td>bogotatransito sectormovilidad transitobta Hay...</td>\n",
       "    </tr>\n",
       "    <tr>\n",
       "      <th>2</th>\n",
       "      <td>Colapsada la carrera 30 sur - norte por accide...</td>\n",
       "    </tr>\n",
       "    <tr>\n",
       "      <th>3</th>\n",
       "      <td>bogotatransito transitobta sectormovilidad Se ...</td>\n",
       "    </tr>\n",
       "    <tr>\n",
       "      <th>4</th>\n",
       "      <td>Grave accidente en autopista sur al sector de ...</td>\n",
       "    </tr>\n",
       "    <tr>\n",
       "      <th>...</th>\n",
       "      <td>...</td>\n",
       "    </tr>\n",
       "    <tr>\n",
       "      <th>263</th>\n",
       "      <td>jota volatil Una tractomula se llevó a un moto...</td>\n",
       "    </tr>\n",
       "    <tr>\n",
       "      <th>264</th>\n",
       "      <td>8:56 CLL 17 X CRA 81 A OCC-ORI: Se presenta in...</td>\n",
       "    </tr>\n",
       "    <tr>\n",
       "      <th>265</th>\n",
       "      <td>sectormovilidad policia c marca transito polic...</td>\n",
       "    </tr>\n",
       "    <tr>\n",
       "      <th>266</th>\n",
       "      <td>Accidente en la Av Carrera 68 en el sentido No...</td>\n",
       "    </tr>\n",
       "    <tr>\n",
       "      <th>267</th>\n",
       "      <td>transmilenio policiabogota Peatón atropellado ...</td>\n",
       "    </tr>\n",
       "  </tbody>\n",
       "</table>\n",
       "<p>268 rows × 1 columns</p>\n",
       "</div>"
      ],
      "text/plain": [
       "                                                 tweet\n",
       "0    sectormovilidad transmilenio bus dual se estre...\n",
       "1    bogotatransito sectormovilidad transitobta Hay...\n",
       "2    Colapsada la carrera 30 sur - norte por accide...\n",
       "3    bogotatransito transitobta sectormovilidad Se ...\n",
       "4    Grave accidente en autopista sur al sector de ...\n",
       "..                                                 ...\n",
       "263  jota volatil Una tractomula se llevó a un moto...\n",
       "264  8:56 CLL 17 X CRA 81 A OCC-ORI: Se presenta in...\n",
       "265  sectormovilidad policia c marca transito polic...\n",
       "266  Accidente en la Av Carrera 68 en el sentido No...\n",
       "267  transmilenio policiabogota Peatón atropellado ...\n",
       "\n",
       "[268 rows x 1 columns]"
      ]
     },
     "execution_count": 16,
     "metadata": {},
     "output_type": "execute_result"
    }
   ],
   "source": [
    "df = pd.DataFrame(data,columns=['tweet'])\n",
    "df"
   ]
  },
  {
   "cell_type": "code",
   "execution_count": 18,
   "metadata": {},
   "outputs": [],
   "source": [
    "df.to_csv(\"../../../data/v1/NER/ner_testset.tsv\",sep='\\t')"
   ]
  }
 ],
 "metadata": {
  "kernelspec": {
   "display_name": "Python 3",
   "language": "python",
   "name": "python3"
  },
  "language_info": {
   "codemirror_mode": {
    "name": "ipython",
    "version": 3
   },
   "file_extension": ".py",
   "mimetype": "text/x-python",
   "name": "python",
   "nbconvert_exporter": "python",
   "pygments_lexer": "ipython3",
   "version": "3.7.3"
  }
 },
 "nbformat": 4,
 "nbformat_minor": 4
}
