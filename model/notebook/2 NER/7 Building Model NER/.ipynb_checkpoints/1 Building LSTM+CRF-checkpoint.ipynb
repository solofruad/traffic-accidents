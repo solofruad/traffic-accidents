{
 "cells": [
  {
   "cell_type": "markdown",
   "metadata": {},
   "source": [
    "# Building Model LSTM+CRF\n",
    "### By **Néstor Suat** in 2020\n",
    "\n",
    "**Descripción:** Generando un modelo ML para la tarea de NER en tweets de accidentes para las etiquetas `loc` y `time` usando el estandar BIO.\n",
    "\n",
    "**Input:**\n",
    "* TSV con dataset etiquetado con BIO\n",
    "\n",
    "**Output:**\n",
    "* Model\n",
    "\n",
    "**Tomado de**: https://www.depends-on-the-definition.com/sequence-tagging-lstm-crf/\n",
    "***"
   ]
  },
  {
   "cell_type": "markdown",
   "metadata": {},
   "source": [
    "### Importando librerías"
   ]
  },
  {
   "cell_type": "code",
   "execution_count": 1,
   "metadata": {},
   "outputs": [],
   "source": [
    "import pandas as pd\n",
    "import numpy as np\n",
    "import matplotlib.pyplot as plt\n",
    "\n",
    "plt.style.use(\"ggplot\")"
   ]
  },
  {
   "cell_type": "markdown",
   "metadata": {},
   "source": [
    "### Source code"
   ]
  },
  {
   "cell_type": "markdown",
   "metadata": {},
   "source": [
    "La clase `StenteceGetter` es una clase generica en muchos proyectos de NER, permite tomar el dataset y prepararlo en una lista python para trabajar por oraciones."
   ]
  },
  {
   "cell_type": "code",
   "execution_count": 2,
   "metadata": {},
   "outputs": [],
   "source": [
    "class SentenceGetter(object):\n",
    "    \n",
    "    def __init__(self, data):\n",
    "        self.n_sent = 1\n",
    "        self.data = data\n",
    "        self.empty = False\n",
    "        agg_func = lambda s: [(w, p, t) for w, p, t in zip(s[\"Word\"].values.tolist(),\n",
    "                                                           s[\"POS\"].values.tolist(),\n",
    "                                                           s[\"Tag\"].values.tolist())]\n",
    "        self.grouped = self.data.groupby(\"Sentence #\").apply(agg_func)\n",
    "        self.sentences = [s for s in self.grouped]\n",
    "    \n",
    "    def get_next(self):\n",
    "        try:\n",
    "            #s = self.grouped[\"Sentence: {}\".format(self.n_sent)]\n",
    "            s = self.grouped[self.n_sent]\n",
    "            self.n_sent += 1\n",
    "            return s\n",
    "        except:\n",
    "            return None"
   ]
  },
  {
   "cell_type": "markdown",
   "metadata": {},
   "source": [
    "### Importando dataset anotado"
   ]
  },
  {
   "cell_type": "markdown",
   "metadata": {},
   "source": [
    "El archivo `ner-crf-training-data.tsv` fue construido anteriormente transformando el formato de anotación de Standoff a BIO."
   ]
  },
  {
   "cell_type": "code",
   "execution_count": 3,
   "metadata": {},
   "outputs": [],
   "source": [
    "file = 'ner-crf-training-data.tsv'\n",
    "dir_ = \"../../../data/v1/NER/\"\n",
    "data = pd.read_csv(dir_+file, delimiter = \"\\t\", quoting = 3, names=['Sentence #','Word','POS','Tag'])\n",
    "#dataset[:50]"
   ]
  },
  {
   "cell_type": "markdown",
   "metadata": {},
   "source": [
    "#### **Preparando el dataset**"
   ]
  },
  {
   "cell_type": "markdown",
   "metadata": {},
   "source": [
    "Se construye un corpus de todas las palabras presentes en los tweets, se agrega un token esepcial para rellenar llamado ENDPAD, finalmente se calcula el tamaño del corpus de palabras. Esto mismo se hace para las etiquetas, aunque en este caso es más fácil porque son 5: `b-loc`, `i-loc`, `b-time`, `i-time` y `o`."
   ]
  },
  {
   "cell_type": "code",
   "execution_count": 4,
   "metadata": {},
   "outputs": [
    {
     "data": {
      "text/plain": [
       "456"
      ]
     },
     "execution_count": 4,
     "metadata": {},
     "output_type": "execute_result"
    }
   ],
   "source": [
    "words = list(set(data[\"Word\"].values))\n",
    "words.sort()\n",
    "words.append(\"ENDPAD\") #No hay necesidad, porque en la capa Embedding se agrega\n",
    "n_words = len(words); n_words"
   ]
  },
  {
   "cell_type": "code",
   "execution_count": 5,
   "metadata": {},
   "outputs": [
    {
     "data": {
      "text/plain": [
       "5"
      ]
     },
     "execution_count": 5,
     "metadata": {},
     "output_type": "execute_result"
    }
   ],
   "source": [
    "#tags = list(set(data[\"Tag\"].values))\n",
    "tags = ['B-loc', 'I-loc', 'B-time', 'I-time', 'O']\n",
    "n_tags = len(tags); n_tags"
   ]
  },
  {
   "cell_type": "markdown",
   "metadata": {},
   "source": [
    "Se toman los datos y se construye el arreglo de las oraciones a trabajar"
   ]
  },
  {
   "cell_type": "code",
   "execution_count": 6,
   "metadata": {},
   "outputs": [],
   "source": [
    "getter = SentenceGetter(data)\n",
    "sentences = getter.sentences"
   ]
  },
  {
   "cell_type": "code",
   "execution_count": 7,
   "metadata": {},
   "outputs": [
    {
     "data": {
      "image/png": "[encoded data removed]",
      "text/plain": [
       "<Figure size 432x288 with 1 Axes>"
      ]
     },
     "metadata": {
      "needs_background": "light"
     },
     "output_type": "display_data"
    }
   ],
   "source": [
    "plt.hist([len(s) for s in sentences], bins=50)\n",
    "plt.show()"
   ]
  },
  {
   "cell_type": "markdown",
   "metadata": {},
   "source": [
    "En la gráfica anterior se puede observar el tamaño máximo de los tweets. Para Keras se necesita como entrada una longitud fija de secuencias, por esta razón se elije 55 como un valor máximo."
   ]
  },
  {
   "cell_type": "code",
   "execution_count": 8,
   "metadata": {},
   "outputs": [],
   "source": [
    "#Aquí NO empezamos desde 0, ese id lo reservamos para el mask_zero de la capa Embedding\n",
    "max_len = 55\n",
    "word2idx = {w: i + 1 for i, w in enumerate(words)}\n",
    "tag2idx = {t: i for i, t in enumerate(tags)}"
   ]
  },
  {
   "cell_type": "markdown",
   "metadata": {},
   "source": [
    "Finalmente se crea un dicccionario (key:value) del corpus de palabras y se le asigna un id."
   ]
  },
  {
   "cell_type": "code",
   "execution_count": 9,
   "metadata": {},
   "outputs": [
    {
     "data": {
      "text/plain": [
       "169"
      ]
     },
     "execution_count": 9,
     "metadata": {},
     "output_type": "execute_result"
    }
   ],
   "source": [
    "word2idx['calle']"
   ]
  },
  {
   "cell_type": "code",
   "execution_count": 10,
   "metadata": {},
   "outputs": [
    {
     "data": {
      "text/plain": [
       "2"
      ]
     },
     "execution_count": 10,
     "metadata": {},
     "output_type": "execute_result"
    }
   ],
   "source": [
    "tag2idx['B-time']"
   ]
  },
  {
   "cell_type": "markdown",
   "metadata": {},
   "source": [
    "## Tokenize and prepare the sentences\n",
    "\n",
    "Construyendo una representación vectorial numérica. Ahora se mapea las oraciones en una secuencia de números y si el tweet es más pequeño que el `max_len` se agrega una secuencia de pads."
   ]
  },
  {
   "cell_type": "code",
   "execution_count": 11,
   "metadata": {},
   "outputs": [],
   "source": [
    "from tensorflow.keras.preprocessing.sequence import pad_sequences\n",
    "from tensorflow.keras.utils import to_categorical"
   ]
  },
  {
   "cell_type": "markdown",
   "metadata": {},
   "source": [
    "Agregando PAD para rellenar las oraciones cortas que cummplan con el tamaño de 55 tokens"
   ]
  },
  {
   "cell_type": "code",
   "execution_count": 12,
   "metadata": {},
   "outputs": [
    {
     "name": "stdout",
     "output_type": "stream",
     "text": [
      "[384 281 427 190 230 427 390 448 428 174   5 227 291 336 211 291  43 364\n",
      " 380 128 292  26 272 223 331   5 405 407 223 422 376   5 274 428 136   1\n",
      "   0   0   0   0   0   0   0   0   0   0   0   0   0   0   0   0   0   0\n",
      "   0]\n",
      "[4 4 4 4 4 4 4 4 4 4 4 4 4 4 4 4 0 1 1 1 1 1 4 4 4 4 4 4 4 4 4 4 4 4 4 4 4\n",
      " 4 4 4 4 4 4 4 4 4 4 4 4 4 4 4 4 4 4]\n"
     ]
    }
   ],
   "source": [
    "X = [[word2idx[w[0]] for w in s] for s in sentences]\n",
    "X = pad_sequences(maxlen=max_len, sequences=X, padding=\"post\", value=0)\n",
    "#value = 0, significa que la mask para endpad será 0\n",
    "\n",
    "y = [[tag2idx[w[2]] for w in s] for s in sentences]\n",
    "y = pad_sequences(maxlen=max_len, sequences=y, padding=\"post\", value=tag2idx[\"O\"])\n",
    "\n",
    "print(X[1])\n",
    "print(y[1])"
   ]
  },
  {
   "cell_type": "markdown",
   "metadata": {},
   "source": [
    "**Para entrenar la red, necesitamos tambien cambiar 'label' a categorical.**"
   ]
  },
  {
   "cell_type": "code",
   "execution_count": 13,
   "metadata": {},
   "outputs": [],
   "source": [
    "y = [to_categorical(i, num_classes=n_tags) for i in y]"
   ]
  },
  {
   "cell_type": "markdown",
   "metadata": {},
   "source": [
    "## Train and Test set"
   ]
  },
  {
   "cell_type": "code",
   "execution_count": 14,
   "metadata": {},
   "outputs": [],
   "source": [
    "from sklearn.model_selection import train_test_split"
   ]
  },
  {
   "cell_type": "code",
   "execution_count": 15,
   "metadata": {},
   "outputs": [],
   "source": [
    "X_train, X_test, y_train, y_test = train_test_split(X, y, test_size=0.2, random_state=123)"
   ]
  },
  {
   "cell_type": "code",
   "execution_count": 16,
   "metadata": {},
   "outputs": [
    {
     "name": "stdout",
     "output_type": "stream",
     "text": [
      "Train: (40, 55) 40\n",
      "Test: (10, 55) 40\n"
     ]
    }
   ],
   "source": [
    "print(\"Train:\",X_train.shape, len(y_train))\n",
    "print(\"Test:\",X_test.shape, len(y_train))"
   ]
  },
  {
   "cell_type": "markdown",
   "metadata": {},
   "source": [
    "## Build and fit the LSTM model"
   ]
  },
  {
   "cell_type": "code",
   "execution_count": 17,
   "metadata": {},
   "outputs": [],
   "source": [
    "from tensorflow.keras.models import Model\n",
    "from tensorflow.keras import Input, Sequential\n",
    "from tensorflow.keras.layers import LSTM, Embedding, Dense, TimeDistributed, Dropout, Bidirectional\n",
    "from tensorflow import keras\n",
    "#import tensorflow_addons as tfa\n",
    "#import tensorflow as tf\n",
    "\n",
    "#from keras_contrib.layers import CRF\n",
    "from tf2crf import CRF"
   ]
  },
  {
   "cell_type": "code",
   "execution_count": 18,
   "metadata": {},
   "outputs": [
    {
     "name": "stdout",
     "output_type": "stream",
     "text": [
      "Epoch 1/10\n",
      "8/8 [==============================] - 1s 143ms/step - loss: 30.2606 - accuracy: 0.7824 - val_loss: 50.3074 - val_accuracy: 0.7869\n",
      "Epoch 2/10\n",
      "8/8 [==============================] - 0s 42ms/step - loss: 11.6733 - accuracy: 0.7824 - val_loss: 49.4490 - val_accuracy: 0.7869\n",
      "Epoch 3/10\n",
      "8/8 [==============================] - 0s 46ms/step - loss: 7.4993 - accuracy: 0.7562 - val_loss: 50.6482 - val_accuracy: 0.6926\n",
      "Epoch 4/10\n",
      "8/8 [==============================] - 0s 47ms/step - loss: 6.7547 - accuracy: 0.7658 - val_loss: 48.5925 - val_accuracy: 0.7869\n",
      "Epoch 5/10\n",
      "8/8 [==============================] - 0s 43ms/step - loss: 6.2176 - accuracy: 0.7824 - val_loss: 48.3446 - val_accuracy: 0.7869\n",
      "Epoch 6/10\n",
      "8/8 [==============================] - 0s 42ms/step - loss: 5.7986 - accuracy: 0.7824 - val_loss: 48.0890 - val_accuracy: 0.7869\n",
      "Epoch 7/10\n",
      "8/8 [==============================] - 0s 42ms/step - loss: 5.5076 - accuracy: 0.7824 - val_loss: 47.8875 - val_accuracy: 0.7869\n",
      "Epoch 8/10\n",
      "8/8 [==============================] - 0s 51ms/step - loss: 5.0953 - accuracy: 0.7824 - val_loss: 47.6691 - val_accuracy: 0.7869\n",
      "Epoch 9/10\n",
      "8/8 [==============================] - 0s 45ms/step - loss: 5.0436 - accuracy: 0.7824 - val_loss: 47.4608 - val_accuracy: 0.7869\n",
      "Epoch 10/10\n",
      "8/8 [==============================] - 0s 45ms/step - loss: 4.3330 - accuracy: 0.7879 - val_loss: 47.2723 - val_accuracy: 0.7869\n"
     ]
    }
   ],
   "source": [
    "dropout = 0.1\n",
    "\n",
    "model = Sequential()\n",
    "# n_words + 1, es por la max_zero = 0\n",
    "model.add(Embedding(input_dim=n_words+1, output_dim=20, input_length=max_len, mask_zero=True)) # 20-dim embedding\n",
    "model.add(Bidirectional(LSTM(units=50, return_sequences=True, dropout=dropout, recurrent_dropout=dropout)))\n",
    "model.add(TimeDistributed(Dense(50, activation=\"relu\")))\n",
    "crf = CRF(n_tags)\n",
    "model.add(crf)\n",
    "\n",
    "optimizer = keras.optimizers.Adam(lr=0.005, beta_1=0.9, beta_2=0.999)\n",
    "model.compile(optimizer=optimizer, loss=crf.loss, metrics=[crf.accuracy])\n",
    "#model.compile(optimizer=\"rmsprop\", loss=crf.loss, metrics=[crf.accuracy])\n",
    "\n",
    "history = model.fit(X_train, np.array(y_train), batch_size=4, epochs=10, validation_split=0.2, verbose=1)"
   ]
  },
  {
   "cell_type": "raw",
   "metadata": {},
   "source": [
    "model.summary()"
   ]
  },
  {
   "cell_type": "raw",
   "metadata": {},
   "source": [
    "history = model.fit(X_train, np.array(y_train), batch_size=8, epochs=10, validation_split=0.2, verbose=1)"
   ]
  },
  {
   "cell_type": "code",
   "execution_count": 19,
   "metadata": {},
   "outputs": [
    {
     "name": "stdout",
     "output_type": "stream",
     "text": [
      "dict_keys(['loss', 'accuracy', 'val_loss', 'val_accuracy'])\n"
     ]
    },
    {
     "data": {
      "image/png": "[encoded data removed]",
      "text/plain": [
       "<Figure size 1080x576 with 1 Axes>"
      ]
     },
     "metadata": {
      "needs_background": "light"
     },
     "output_type": "display_data"
    },
    {
     "data": {
      "image/png": "[encoded data removed]",
      "text/plain": [
       "<Figure size 1080x576 with 1 Axes>"
      ]
     },
     "metadata": {
      "needs_background": "light"
     },
     "output_type": "display_data"
    }
   ],
   "source": [
    "# list all data in history\n",
    "print(history.history.keys())\n",
    "# summarize history for accuracy\n",
    "plt.figure(figsize=(15, 8))\n",
    "plt.plot(history.history['accuracy'])\n",
    "plt.plot(history.history['val_accuracy'])\n",
    "plt.title('model accuracy')\n",
    "plt.ylabel('accuracy')\n",
    "plt.xlabel('epoch')\n",
    "plt.legend(['train', 'test'], loc='upper left')\n",
    "plt.show()\n",
    "# summarize history for loss\n",
    "plt.figure(figsize=(15, 8))\n",
    "plt.plot(history.history['loss'])\n",
    "plt.plot(history.history['val_loss'])\n",
    "plt.title('model loss')\n",
    "plt.ylabel('loss')\n",
    "plt.xlabel('epoch')\n",
    "plt.legend(['train', 'test'], loc='upper left')\n",
    "plt.show()"
   ]
  },
  {
   "cell_type": "raw",
   "metadata": {},
   "source": [
    "input = Input(shape=(max_len,))\n",
    "model = Embedding(input_dim=n_words + 1, output_dim=20,\n",
    "                  input_length=max_len, mask_zero=True)(input)  # 20-dim embedding\n",
    "model = Bidirectional(LSTM(units=51, return_sequences=True,\n",
    "                           recurrent_dropout=0.1))(model)  # variational biLSTM\n",
    "model = TimeDistributed(Dense(51, activation=\"relu\"))(model)  # a dense layer as suggested by neuralNer\n",
    "crf = CRF(n_tags)  # CRF layer\n",
    "#crf = CRF(dtype='float32')\n",
    "out = crf(model)  # output\n",
    "#label_sequences = tf.convert_to_tensor(y, dtype=tf.float32)\n",
    "# @tf.function\n",
    "#out = tfa.text.crf_log_likelihood(model,label_sequences, max_len, transition_params=None)"
   ]
  },
  {
   "cell_type": "raw",
   "metadata": {},
   "source": [
    "model = Model(input, out)"
   ]
  },
  {
   "cell_type": "raw",
   "metadata": {},
   "source": [
    "model.compile(optimizer=\"rmsprop\", loss=crf.loss, metrics=[crf.accuracy])"
   ]
  },
  {
   "cell_type": "raw",
   "metadata": {},
   "source": [
    "hist = pd.DataFrame(history.history)"
   ]
  },
  {
   "cell_type": "raw",
   "metadata": {},
   "source": [
    "import matplotlib.pyplot as plt\n",
    "plt.style.use(\"ggplot\")\n",
    "plt.figure(figsize=(12, 12))\n",
    "plt.plot(hist[\"accuracy\"])\n",
    "plt.plot(hist[\"val_accuracy\"])\n",
    "plt.show()"
   ]
  },
  {
   "cell_type": "markdown",
   "metadata": {},
   "source": [
    "## Evaluate"
   ]
  },
  {
   "cell_type": "raw",
   "metadata": {},
   "source": [
    "!pip install seqeval"
   ]
  },
  {
   "cell_type": "code",
   "execution_count": 20,
   "metadata": {},
   "outputs": [],
   "source": [
    "from seqeval.metrics import precision_score, recall_score, f1_score, classification_report"
   ]
  },
  {
   "cell_type": "code",
   "execution_count": 21,
   "metadata": {},
   "outputs": [
    {
     "name": "stdout",
     "output_type": "stream",
     "text": [
      "1/1 [==============================] - 0s 679us/step\n"
     ]
    }
   ],
   "source": [
    "test_pred = model.predict(X_test, verbose=1)"
   ]
  },
  {
   "cell_type": "raw",
   "metadata": {
    "jupyter": {
     "outputs_hidden": true
    }
   },
   "source": [
    "test_pred"
   ]
  },
  {
   "cell_type": "code",
   "execution_count": 22,
   "metadata": {},
   "outputs": [],
   "source": [
    "idx2tag = {i: w for w, i in tag2idx.items()}\n",
    "\n",
    "def pred2label(pred,is_test):\n",
    "    out = []\n",
    "    for pred_i in pred:        \n",
    "        out_i = []\n",
    "        for p in pred_i:   \n",
    "            if is_test:\n",
    "                p_i = np.argmax(p)            \n",
    "            else:\n",
    "                p_i = int(p)            \n",
    "            out_i.append(idx2tag[p_i].replace(\"PAD\", \"O\"))            \n",
    "        out.append(out_i)        \n",
    "    return out\n",
    "\n",
    "pred_labels = pred2label(test_pred,False)\n",
    "test_labels = pred2label(y_test,True)"
   ]
  },
  {
   "cell_type": "raw",
   "metadata": {
    "jupyter": {
     "outputs_hidden": true
    }
   },
   "source": [
    "test_labels[1]"
   ]
  },
  {
   "cell_type": "raw",
   "metadata": {
    "jupyter": {
     "outputs_hidden": true
    }
   },
   "source": [
    "pred_labels[1]"
   ]
  },
  {
   "cell_type": "code",
   "execution_count": 23,
   "metadata": {},
   "outputs": [
    {
     "name": "stdout",
     "output_type": "stream",
     "text": [
      "F1-score: 0.0%\n"
     ]
    }
   ],
   "source": [
    "print(\"F1-score: {:.1%}\".format(f1_score(test_labels, pred_labels)))"
   ]
  },
  {
   "cell_type": "code",
   "execution_count": 24,
   "metadata": {},
   "outputs": [
    {
     "name": "stdout",
     "output_type": "stream",
     "text": [
      "              precision    recall  f1-score   support\n",
      "\n",
      "         loc       0.00      0.00      0.00        12\n",
      "        time       0.00      0.00      0.00         2\n",
      "\n",
      "   micro avg       0.00      0.00      0.00        14\n",
      "   macro avg       0.00      0.00      0.00        14\n",
      "weighted avg       0.00      0.00      0.00        14\n",
      "\n"
     ]
    }
   ],
   "source": [
    "print(classification_report(test_labels, pred_labels))"
   ]
  },
  {
   "cell_type": "markdown",
   "metadata": {},
   "source": [
    "### Evaluando con una muestra"
   ]
  },
  {
   "cell_type": "code",
   "execution_count": 25,
   "metadata": {},
   "outputs": [
    {
     "name": "stdout",
     "output_type": "stream",
     "text": [
      "Word            (True ): Pred\n",
      "En              (O    ): O\n",
      "la              (O    ): O\n",
      "av              (B-loc): O\n",
      "boyacá          (I-loc): O\n",
      "con             (I-loc): O\n",
      "calle           (I-loc): O\n",
      "62              (I-loc): O\n",
      "sur             (O    ): O\n",
      "sentido         (O    ): O\n",
      "norte           (O    ): O\n",
      "sur             (O    ): O\n",
      "choque          (O    ): O\n",
      "simple          (O    ): O\n",
      "de              (O    ): O\n",
      "camión          (O    ): O\n",
      "vs              (O    ): O\n",
      "zonal           (O    ): O\n",
      "provisional     (O    ): O\n",
      "paso            (O    ): O\n",
      "reducido        (O    ): O\n",
      ",               (O    ): O\n",
      "se              (O    ): O\n",
      "solicita        (O    ): O\n",
      "tránsito        (O    ): O\n",
      ".               (O    ): O\n",
      "ENDPAD          (O    ): O\n",
      "ENDPAD          (O    ): O\n",
      "ENDPAD          (O    ): O\n",
      "ENDPAD          (O    ): O\n",
      "ENDPAD          (O    ): O\n",
      "ENDPAD          (O    ): O\n",
      "ENDPAD          (O    ): O\n",
      "ENDPAD          (O    ): O\n",
      "ENDPAD          (O    ): O\n",
      "ENDPAD          (O    ): O\n",
      "ENDPAD          (O    ): O\n",
      "ENDPAD          (O    ): O\n",
      "ENDPAD          (O    ): O\n",
      "ENDPAD          (O    ): O\n",
      "ENDPAD          (O    ): O\n",
      "ENDPAD          (O    ): O\n",
      "ENDPAD          (O    ): O\n",
      "ENDPAD          (O    ): O\n",
      "ENDPAD          (O    ): O\n",
      "ENDPAD          (O    ): O\n",
      "ENDPAD          (O    ): O\n",
      "ENDPAD          (O    ): O\n",
      "ENDPAD          (O    ): O\n",
      "ENDPAD          (O    ): O\n",
      "ENDPAD          (O    ): O\n",
      "ENDPAD          (O    ): O\n",
      "ENDPAD          (O    ): O\n",
      "ENDPAD          (O    ): O\n",
      "ENDPAD          (O    ): O\n",
      "ENDPAD          (O    ): O\n"
     ]
    }
   ],
   "source": [
    "i = 1\n",
    "p = model.predict(np.array([X_test[i]]))\n",
    "#p = np.argmax(p, axis=-1)\n",
    "p = p[0].astype(int)\n",
    "#p\n",
    "true = np.argmax(y_test[i], axis=-1)\n",
    "print(\"{:15} ({:5}): {}\".format(\"Word\", \"True\", \"Pred\"))\n",
    "for w, true, pred in zip(X_test[i], true, p):\n",
    "     print(\"{:15} ({:5}): {}\".format(words[w-1], tags[true], tags[pred]))"
   ]
  },
  {
   "cell_type": "code",
   "execution_count": null,
   "metadata": {},
   "outputs": [],
   "source": []
  }
 ],
 "metadata": {
  "kernelspec": {
   "display_name": "Python 3",
   "language": "python",
   "name": "python3"
  },
  "language_info": {
   "codemirror_mode": {
    "name": "ipython",
    "version": 3
   },
   "file_extension": ".py",
   "mimetype": "text/x-python",
   "name": "python",
   "nbconvert_exporter": "python",
   "pygments_lexer": "ipython3",
   "version": "3.7.3"
  }
 },
 "nbformat": 4,
 "nbformat_minor": 4
}
