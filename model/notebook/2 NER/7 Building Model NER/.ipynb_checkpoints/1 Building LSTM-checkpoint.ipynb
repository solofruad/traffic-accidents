{
 "cells": [
  {
   "cell_type": "markdown",
   "metadata": {
    "id": "HlmFhTmQal_p"
   },
   "source": [
    "# Building Model LSTM\n",
    "### By **Néstor Suat** in 2020\n",
    "\n",
    "**Descripción:** Generando un modelo ML para la tarea de NER en tweets de accidentes para las etiquetas `loc` y `time` usando el estandar BIO.\n",
    "\n",
    "**Input:**\n",
    "* TSV con dataset etiquetado con BIO\n",
    "\n",
    "**Output:**\n",
    "* Model\n",
    "\n",
    "**Tomado de**: https://www.depends-on-the-definition.com/guide-sequence-tagging-neural-networks-python/\n",
    "***"
   ]
  },
  {
   "cell_type": "raw",
   "metadata": {},
   "source": [
    "!pip show pandas"
   ]
  },
  {
   "cell_type": "raw",
   "metadata": {},
   "source": [
    "!pip install pandas==0.25.3"
   ]
  },
  {
   "cell_type": "raw",
   "metadata": {},
   "source": [
    "!pip install numpy==1.19.1"
   ]
  },
  {
   "cell_type": "raw",
   "metadata": {
    "colab": {
     "base_uri": "https://localhost:8080/"
    },
    "executionInfo": {
     "elapsed": 38219,
     "status": "ok",
     "timestamp": 1609360065675,
     "user": {
      "displayName": "Nestor Eduardo Suat Rojas",
      "photoUrl": "https://lh3.googleusercontent.com/a-/AOh14GibFJcikGUQMcHrKsS0xJMeKuP9Ws7rdcvIrYCc=s64",
      "userId": "15029415382533621246"
     },
     "user_tz": 300
    },
    "id": "QDgIdj38azBd",
    "outputId": "ef05948e-fe73-4b22-f4ff-f050f9eb4fec"
   },
   "source": [
    "!pip install fasttext"
   ]
  },
  {
   "cell_type": "raw",
   "metadata": {
    "colab": {
     "base_uri": "https://localhost:8080/"
    },
    "executionInfo": {
     "elapsed": 45272,
     "status": "ok",
     "timestamp": 1609360073866,
     "user": {
      "displayName": "Nestor Eduardo Suat Rojas",
      "photoUrl": "https://lh3.googleusercontent.com/a-/AOh14GibFJcikGUQMcHrKsS0xJMeKuP9Ws7rdcvIrYCc=s64",
      "userId": "15029415382533621246"
     },
     "user_tz": 300
    },
    "id": "pxncH7HPfSCU",
    "outputId": "a6de1af0-ffff-480a-87b7-94bcee64f553"
   },
   "source": [
    "!pip install spacy==2.3.2"
   ]
  },
  {
   "cell_type": "raw",
   "metadata": {},
   "source": [
    "!pip install gensim==3.8.1"
   ]
  },
  {
   "cell_type": "markdown",
   "metadata": {
    "id": "7-E63EQ9al_y"
   },
   "source": [
    "### Importando librerías"
   ]
  },
  {
   "cell_type": "code",
   "execution_count": 1,
   "metadata": {
    "executionInfo": {
     "elapsed": 45733,
     "status": "ok",
     "timestamp": 1609360076971,
     "user": {
      "displayName": "Nestor Eduardo Suat Rojas",
      "photoUrl": "https://lh3.googleusercontent.com/a-/AOh14GibFJcikGUQMcHrKsS0xJMeKuP9Ws7rdcvIrYCc=s64",
      "userId": "15029415382533621246"
     },
     "user_tz": 300
    },
    "id": "uw8ELadual_0"
   },
   "outputs": [],
   "source": [
    "import pandas as pd\n",
    "import numpy as np\n",
    "import matplotlib.pyplot as plt\n",
    "\n",
    "plt.style.use(\"ggplot\")\n",
    "\n",
    "from gensim.models.doc2vec import Doc2Vec\n",
    "import spacy\n",
    "\n",
    "import fasttext\n",
    "import fasttext.util"
   ]
  },
  {
   "cell_type": "raw",
   "metadata": {
    "colab": {
     "base_uri": "https://localhost:8080/"
    },
    "executionInfo": {
     "elapsed": 306354,
     "status": "ok",
     "timestamp": 1609360339099,
     "user": {
      "displayName": "Nestor Eduardo Suat Rojas",
      "photoUrl": "https://lh3.googleusercontent.com/a-/AOh14GibFJcikGUQMcHrKsS0xJMeKuP9Ws7rdcvIrYCc=s64",
      "userId": "15029415382533621246"
     },
     "user_tz": 300
    },
    "id": "coSQL_lxbMji",
    "outputId": "9c3ddbcd-59b9-4223-da95-15650e0ec15d"
   },
   "source": [
    "from google.colab import drive\n",
    "drive.mount('/content/drive')"
   ]
  },
  {
   "cell_type": "markdown",
   "metadata": {
    "id": "sCbcTyF9al_2"
   },
   "source": [
    "### Source code"
   ]
  },
  {
   "cell_type": "markdown",
   "metadata": {
    "id": "9oVyhUOEal_3"
   },
   "source": [
    "La clase `StenteceGetter` es una clase generica en muchos proyectos de NER, permite tomar el dataset y prepararlo en una lista python para trabajar por oraciones."
   ]
  },
  {
   "cell_type": "code",
   "execution_count": 2,
   "metadata": {
    "executionInfo": {
     "elapsed": 522,
     "status": "ok",
     "timestamp": 1609360342044,
     "user": {
      "displayName": "Nestor Eduardo Suat Rojas",
      "photoUrl": "https://lh3.googleusercontent.com/a-/AOh14GibFJcikGUQMcHrKsS0xJMeKuP9Ws7rdcvIrYCc=s64",
      "userId": "15029415382533621246"
     },
     "user_tz": 300
    },
    "id": "vqWoBB_9al_3"
   },
   "outputs": [],
   "source": [
    "class SentenceGetter(object):\n",
    "    \n",
    "    def __init__(self, data):\n",
    "        self.n_sent = 1\n",
    "        self.data = data\n",
    "        self.empty = False\n",
    "        agg_func = lambda s: [(w, p, t) for w, p, t in zip(s[\"Word\"].values.tolist(),\n",
    "                                                           s[\"POS\"].values.tolist(),\n",
    "                                                           s[\"Tag\"].values.tolist())]\n",
    "        self.grouped = self.data.groupby(\"Sentence #\").apply(agg_func)\n",
    "        self.sentences = [s for s in self.grouped]\n",
    "    \n",
    "    def get_next(self):\n",
    "        try:\n",
    "            #s = self.grouped[\"Sentence: {}\".format(self.n_sent)]\n",
    "            s = self.grouped[self.n_sent]\n",
    "            self.n_sent += 1\n",
    "            return s\n",
    "        except:\n",
    "            return None"
   ]
  },
  {
   "cell_type": "markdown",
   "metadata": {
    "id": "iYYYWRzHal_5"
   },
   "source": [
    "### Importando dataset anotado"
   ]
  },
  {
   "cell_type": "markdown",
   "metadata": {
    "id": "GqkvUo2pal_6"
   },
   "source": [
    "El archivo `ner-crf-training-data.tsv` fue construido anteriormente transformando el formato de anotación de Standoff a BIO."
   ]
  },
  {
   "cell_type": "code",
   "execution_count": 3,
   "metadata": {
    "executionInfo": {
     "elapsed": 1501,
     "status": "ok",
     "timestamp": 1609360344375,
     "user": {
      "displayName": "Nestor Eduardo Suat Rojas",
      "photoUrl": "https://lh3.googleusercontent.com/a-/AOh14GibFJcikGUQMcHrKsS0xJMeKuP9Ws7rdcvIrYCc=s64",
      "userId": "15029415382533621246"
     },
     "user_tz": 300
    },
    "id": "CtAKCjZ3al_7"
   },
   "outputs": [],
   "source": [
    "file = 'ner-crf-training-data.tsv'\n",
    "dir_ = \"../../../data/v1/NER/train/\"\n",
    "train = pd.read_csv(dir_+file, delimiter = \"\\t\", quoting = 3, names=['Sentence #','Word','POS','Tag'])\n",
    "#dataset[:50]"
   ]
  },
  {
   "cell_type": "code",
   "execution_count": 4,
   "metadata": {
    "executionInfo": {
     "elapsed": 857,
     "status": "ok",
     "timestamp": 1609360344677,
     "user": {
      "displayName": "Nestor Eduardo Suat Rojas",
      "photoUrl": "https://lh3.googleusercontent.com/a-/AOh14GibFJcikGUQMcHrKsS0xJMeKuP9Ws7rdcvIrYCc=s64",
      "userId": "15029415382533621246"
     },
     "user_tz": 300
    },
    "id": "aJ5VwviNal_8"
   },
   "outputs": [],
   "source": [
    "file = 'ner-crf-test-data.tsv'\n",
    "dir_ = \"../../../data/v1/NER/test/\"\n",
    "test = pd.read_csv(dir_+file, delimiter = \"\\t\", quoting = 3, names=['Sentence #','Word','POS','Tag'])"
   ]
  },
  {
   "cell_type": "code",
   "execution_count": 5,
   "metadata": {},
   "outputs": [
    {
     "data": {
      "text/plain": [
       "O         20242\n",
       "I-loc      3768\n",
       "B-loc      1462\n",
       "B-time      131\n",
       "I-time      112\n",
       "Name: Tag, dtype: int64"
      ]
     },
     "execution_count": 5,
     "metadata": {},
     "output_type": "execute_result"
    }
   ],
   "source": [
    "train['Tag'].value_counts()"
   ]
  },
  {
   "cell_type": "code",
   "execution_count": 6,
   "metadata": {},
   "outputs": [
    {
     "data": {
      "text/plain": [
       "O         5038\n",
       "I-loc      893\n",
       "B-loc      369\n",
       "B-time      33\n",
       "I-time      33\n",
       "Name: Tag, dtype: int64"
      ]
     },
     "execution_count": 6,
     "metadata": {},
     "output_type": "execute_result"
    }
   ],
   "source": [
    "test['Tag'].value_counts()"
   ]
  },
  {
   "cell_type": "markdown",
   "metadata": {
    "id": "nmZqzn2pal__"
   },
   "source": [
    "#### **Preparando el dataset**"
   ]
  },
  {
   "cell_type": "markdown",
   "metadata": {
    "id": "O1IGn9tzamAB"
   },
   "source": [
    "Se construye un corpus de todas las palabras presentes en los tweets, se agrega un token esepcial para rellenar llamado ENDPAD, finalmente se calcula el tamaño del corpus de palabras. Esto mismo se hace para las etiquetas, aunque en este caso es más fácil porque son 5: `b-loc`, `i-loc`, `b-time`, `i-time` y `o`."
   ]
  },
  {
   "cell_type": "raw",
   "metadata": {
    "colab": {
     "base_uri": "https://localhost:8080/"
    },
    "executionInfo": {
     "elapsed": 670,
     "status": "ok",
     "timestamp": 1609360345614,
     "user": {
      "displayName": "Nestor Eduardo Suat Rojas",
      "photoUrl": "https://lh3.googleusercontent.com/a-/AOh14GibFJcikGUQMcHrKsS0xJMeKuP9Ws7rdcvIrYCc=s64",
      "userId": "15029415382533621246"
     },
     "user_tz": 300
    },
    "id": "qETLycviamAC",
    "outputId": "d5806b76-7ab3-4e36-deb6-cc7fd99116dd"
   },
   "source": [
    "words = list(set( list(set(train[\"Word\"].values)) + list(set(test[\"Word\"].values)) ))\n",
    "words.sort()\n",
    "words.append(\"UNDEFINED\")\n",
    "words.append(\"ENDPAD\")\n",
    "n_words = len(words); n_words"
   ]
  },
  {
   "cell_type": "code",
   "execution_count": 7,
   "metadata": {
    "colab": {
     "base_uri": "https://localhost:8080/"
    },
    "executionInfo": {
     "elapsed": 611,
     "status": "ok",
     "timestamp": 1609360346516,
     "user": {
      "displayName": "Nestor Eduardo Suat Rojas",
      "photoUrl": "https://lh3.googleusercontent.com/a-/AOh14GibFJcikGUQMcHrKsS0xJMeKuP9Ws7rdcvIrYCc=s64",
      "userId": "15029415382533621246"
     },
     "user_tz": 300
    },
    "id": "0lHYbC50amAE",
    "outputId": "759945b1-7444-4e59-c934-bfbd8d57cac9"
   },
   "outputs": [
    {
     "data": {
      "text/plain": [
       "5"
      ]
     },
     "execution_count": 7,
     "metadata": {},
     "output_type": "execute_result"
    }
   ],
   "source": [
    "#tags = list(set(data[\"Tag\"].values))\n",
    "tags = ['B-loc', 'I-loc', 'B-time', 'I-time', 'O']\n",
    "n_tags = len(tags); n_tags"
   ]
  },
  {
   "cell_type": "markdown",
   "metadata": {
    "id": "xNVtcTQaamAE"
   },
   "source": [
    "Se toman los datos y se construye el arreglo de las oraciones a trabajar"
   ]
  },
  {
   "cell_type": "markdown",
   "metadata": {
    "id": "174Z1oAbamAF"
   },
   "source": [
    "### Trainset"
   ]
  },
  {
   "cell_type": "code",
   "execution_count": 8,
   "metadata": {
    "executionInfo": {
     "elapsed": 603,
     "status": "ok",
     "timestamp": 1609360347673,
     "user": {
      "displayName": "Nestor Eduardo Suat Rojas",
      "photoUrl": "https://lh3.googleusercontent.com/a-/AOh14GibFJcikGUQMcHrKsS0xJMeKuP9Ws7rdcvIrYCc=s64",
      "userId": "15029415382533621246"
     },
     "user_tz": 300
    },
    "id": "sbt33HacamAF"
   },
   "outputs": [],
   "source": [
    "getter = SentenceGetter(train)\n",
    "train_sentences = getter.sentences\n",
    "#sentences"
   ]
  },
  {
   "cell_type": "code",
   "execution_count": 9,
   "metadata": {
    "colab": {
     "base_uri": "https://localhost:8080/",
     "height": 265
    },
    "executionInfo": {
     "elapsed": 695,
     "status": "ok",
     "timestamp": 1609360348312,
     "user": {
      "displayName": "Nestor Eduardo Suat Rojas",
      "photoUrl": "https://lh3.googleusercontent.com/a-/AOh14GibFJcikGUQMcHrKsS0xJMeKuP9Ws7rdcvIrYCc=s64",
      "userId": "15029415382533621246"
     },
     "user_tz": 300
    },
    "id": "iYVRyocfamAF",
    "outputId": "d55197b3-c98a-4893-eafb-97f6a325d366"
   },
   "outputs": [
    {
     "data": {
      "image/png": "[encoded data removed]",
      "text/plain": [
       "<Figure size 432x288 with 1 Axes>"
      ]
     },
     "metadata": {
      "needs_background": "light"
     },
     "output_type": "display_data"
    }
   ],
   "source": [
    "plt.hist([len(s) for s in train_sentences], bins=50)\n",
    "plt.show()"
   ]
  },
  {
   "cell_type": "markdown",
   "metadata": {
    "id": "xRicQokZamAH"
   },
   "source": [
    "En la gráfica anterior se puede observar el tamaño máximo de los tweets. Para Keras se necesita como entrada una longitud fija de secuencias, por esta razón se elije 70 como un valor máximo."
   ]
  },
  {
   "cell_type": "markdown",
   "metadata": {
    "id": "qSNkxTrFamAH"
   },
   "source": [
    "### Testset"
   ]
  },
  {
   "cell_type": "code",
   "execution_count": 10,
   "metadata": {
    "executionInfo": {
     "elapsed": 513,
     "status": "ok",
     "timestamp": 1609360349536,
     "user": {
      "displayName": "Nestor Eduardo Suat Rojas",
      "photoUrl": "https://lh3.googleusercontent.com/a-/AOh14GibFJcikGUQMcHrKsS0xJMeKuP9Ws7rdcvIrYCc=s64",
      "userId": "15029415382533621246"
     },
     "user_tz": 300
    },
    "id": "MXqr_ZQZamAI"
   },
   "outputs": [],
   "source": [
    "getter = SentenceGetter(test)\n",
    "test_sentences = getter.sentences"
   ]
  },
  {
   "cell_type": "code",
   "execution_count": 11,
   "metadata": {
    "colab": {
     "base_uri": "https://localhost:8080/",
     "height": 265
    },
    "executionInfo": {
     "elapsed": 563,
     "status": "ok",
     "timestamp": 1609360350543,
     "user": {
      "displayName": "Nestor Eduardo Suat Rojas",
      "photoUrl": "https://lh3.googleusercontent.com/a-/AOh14GibFJcikGUQMcHrKsS0xJMeKuP9Ws7rdcvIrYCc=s64",
      "userId": "15029415382533621246"
     },
     "user_tz": 300
    },
    "id": "GjrEtjChamAI",
    "outputId": "e51c6ba7-73f3-4957-fd54-149fe9912144"
   },
   "outputs": [
    {
     "data": {
      "image/png": "[encoded data removed]",
      "text/plain": [
       "<Figure size 432x288 with 1 Axes>"
      ]
     },
     "metadata": {
      "needs_background": "light"
     },
     "output_type": "display_data"
    }
   ],
   "source": [
    "plt.hist([len(s) for s in test_sentences], bins=50)\n",
    "plt.show()"
   ]
  },
  {
   "cell_type": "code",
   "execution_count": 12,
   "metadata": {
    "executionInfo": {
     "elapsed": 460,
     "status": "ok",
     "timestamp": 1609360352028,
     "user": {
      "displayName": "Nestor Eduardo Suat Rojas",
      "photoUrl": "https://lh3.googleusercontent.com/a-/AOh14GibFJcikGUQMcHrKsS0xJMeKuP9Ws7rdcvIrYCc=s64",
      "userId": "15029415382533621246"
     },
     "user_tz": 300
    },
    "id": "z9pAis6namAI"
   },
   "outputs": [],
   "source": [
    "max_len = 70\n",
    "#word2idx = {w: i for i, w in enumerate(words)}\n",
    "tag2idx = {t: i for i, t in enumerate(tags)}"
   ]
  },
  {
   "cell_type": "raw",
   "metadata": {
    "colab": {
     "base_uri": "https://localhost:8080/"
    },
    "executionInfo": {
     "elapsed": 615,
     "status": "ok",
     "timestamp": 1609360352933,
     "user": {
      "displayName": "Nestor Eduardo Suat Rojas",
      "photoUrl": "https://lh3.googleusercontent.com/a-/AOh14GibFJcikGUQMcHrKsS0xJMeKuP9Ws7rdcvIrYCc=s64",
      "userId": "15029415382533621246"
     },
     "user_tz": 300
    },
    "id": "zmXCLnrDamAJ",
    "outputId": "61c1f97d-53bb-40a9-ca71-db9bdc55282d"
   },
   "source": [
    "word2idx[words[0]]"
   ]
  },
  {
   "cell_type": "raw",
   "metadata": {
    "id": "2M2lliBnamAK",
    "jupyter": {
     "outputs_hidden": true
    }
   },
   "source": [
    "word2idx"
   ]
  },
  {
   "cell_type": "markdown",
   "metadata": {
    "id": "4vVHzvJ3amAK"
   },
   "source": [
    "Finalmente se crea un dicccionario (key:value) del corpus de palabras y se le asigna un id."
   ]
  },
  {
   "cell_type": "raw",
   "metadata": {
    "colab": {
     "base_uri": "https://localhost:8080/"
    },
    "executionInfo": {
     "elapsed": 737,
     "status": "ok",
     "timestamp": 1609360353807,
     "user": {
      "displayName": "Nestor Eduardo Suat Rojas",
      "photoUrl": "https://lh3.googleusercontent.com/a-/AOh14GibFJcikGUQMcHrKsS0xJMeKuP9Ws7rdcvIrYCc=s64",
      "userId": "15029415382533621246"
     },
     "user_tz": 300
    },
    "id": "iOKWljOpamAL",
    "outputId": "c5cf803b-60d6-4692-dfae-70c8ea83acfe"
   },
   "source": [
    "word2idx['ENDPAD'] #Por ejemplo el id para la palabra calle"
   ]
  },
  {
   "cell_type": "code",
   "execution_count": 13,
   "metadata": {
    "colab": {
     "base_uri": "https://localhost:8080/"
    },
    "executionInfo": {
     "elapsed": 372,
     "status": "ok",
     "timestamp": 1609360354583,
     "user": {
      "displayName": "Nestor Eduardo Suat Rojas",
      "photoUrl": "https://lh3.googleusercontent.com/a-/AOh14GibFJcikGUQMcHrKsS0xJMeKuP9Ws7rdcvIrYCc=s64",
      "userId": "15029415382533621246"
     },
     "user_tz": 300
    },
    "id": "dmlDS3qhamAL",
    "outputId": "1cb0cad7-031c-484a-d2ac-63b2a8cb1539"
   },
   "outputs": [
    {
     "data": {
      "text/plain": [
       "2"
      ]
     },
     "execution_count": 13,
     "metadata": {},
     "output_type": "execute_result"
    }
   ],
   "source": [
    "tag2idx[\"B-time\"] #Id para la etiqueta b-time"
   ]
  },
  {
   "cell_type": "markdown",
   "metadata": {
    "id": "WStaiWleamAL"
   },
   "source": [
    "## Tokenize and prepare the sentences"
   ]
  },
  {
   "cell_type": "raw",
   "metadata": {
    "executionInfo": {
     "elapsed": 19966,
     "status": "ok",
     "timestamp": 1609348228392,
     "user": {
      "displayName": "Nestor Eduardo Suat Rojas",
      "photoUrl": "https://lh3.googleusercontent.com/a-/AOh14GibFJcikGUQMcHrKsS0xJMeKuP9Ws7rdcvIrYCc=s64",
      "userId": "15029415382533621246"
     },
     "user_tz": 300
    },
    "id": "dgkAbONtamAN"
   },
   "source": [
    "directory = \"doc2vec/\"\n",
    "file = \"6_clean_lemma_dataset_propuesta1_5050\"\n",
    "\n",
    "dbow = Doc2Vec.load(directory+file+\".model\")"
   ]
  },
  {
   "cell_type": "raw",
   "metadata": {
    "executionInfo": {
     "elapsed": 30947,
     "status": "ok",
     "timestamp": 1609348239375,
     "user": {
      "displayName": "Nestor Eduardo Suat Rojas",
      "photoUrl": "https://lh3.googleusercontent.com/a-/AOh14GibFJcikGUQMcHrKsS0xJMeKuP9Ws7rdcvIrYCc=s64",
      "userId": "15029415382533621246"
     },
     "user_tz": 300
    },
    "id": "fOe9cWzJamAN"
   },
   "source": [
    "spacy_model = \"spacy_model_complete/\"\n",
    "nlp = spacy.load(spacy_model)\n",
    "\n",
    "#Resize vector to 200\n",
    "nlp_size = nlp.vocab.vectors.shape[0]\n",
    "nlp.vocab.vectors.resize((nlp_size,200))"
   ]
  },
  {
   "cell_type": "raw",
   "metadata": {
    "colab": {
     "base_uri": "https://localhost:8080/"
    },
    "executionInfo": {
     "elapsed": 112335,
     "status": "ok",
     "timestamp": 1609360467824,
     "user": {
      "displayName": "Nestor Eduardo Suat Rojas",
      "photoUrl": "https://lh3.googleusercontent.com/a-/AOh14GibFJcikGUQMcHrKsS0xJMeKuP9Ws7rdcvIrYCc=s64",
      "userId": "15029415382533621246"
     },
     "user_tz": 300
    },
    "id": "4I_iK5f6amAN",
    "outputId": "8b0d6a7f-fbf5-4a69-e439-c12cca9b5024"
   },
   "source": [
    "ft = fasttext.load_model('fasttext/cc.es.300.bin')\n",
    "#fasttext.util.reduce_model(ft, 200) #Resize vector to 200"
   ]
  },
  {
   "cell_type": "raw",
   "metadata": {
    "id": "g5foT4xhmdOU"
   },
   "source": [
    "ft.get_word_vector(\"sectormovilidad\").shape"
   ]
  },
  {
   "cell_type": "raw",
   "metadata": {
    "id": "j2CPKPADamAP"
   },
   "source": [
    "def embedding_fn(word):        \n",
    "    try:\n",
    "        return dbow.wv[word]\n",
    "    except KeyError as e:\n",
    "        try:            \n",
    "            token_id = nlp.vocab.strings[word]\n",
    "            token_vector = nlp.vocab.vectors[token_id]\n",
    "            return token_vector\n",
    "        except:\n",
    "            token_vector = ft.get_word_vector(word)         \n",
    "            return token_vector"
   ]
  },
  {
   "cell_type": "markdown",
   "metadata": {
    "id": "dP6M6h6BamAR"
   },
   "source": [
    "Ahora se mapea las oraciones en una secuencia de números y si el tweet es más pequeño que el `max_len` se agrega una secuencia de pads."
   ]
  },
  {
   "cell_type": "code",
   "execution_count": 14,
   "metadata": {
    "id": "6s2_W_2hamAS"
   },
   "outputs": [],
   "source": [
    "from tensorflow.keras.preprocessing.sequence import pad_sequences\n",
    "from tensorflow.keras.utils import to_categorical"
   ]
  },
  {
   "cell_type": "raw",
   "metadata": {},
   "source": [
    "X_train = [[embedding_fn(w[0]) for w in s] for s in train_sentences]\n",
    "X_test = [[embedding_fn(w[0]) for w in s] for s in test_sentences]"
   ]
  },
  {
   "cell_type": "code",
   "execution_count": 23,
   "metadata": {
    "id": "W9U0GKHkamAS",
    "outputId": "1ae203de-c473-4d4b-f568-779a8fd66a0e"
   },
   "outputs": [
    {
     "name": "stdout",
     "output_type": "stream",
     "text": [
      "[4 4 4 4 4 4 4 0 1 1 1 4 4 4 4 4 0 1 4 4 4 4 4 4 4 4 4 4 4 4 4 4 4 4 4 4 4\n",
      " 4 4 4 4 4 4 4 4 4 4 4 4 4 4 4 4 4 4 4 4 4 4 4 4 4 4 4 4 4 4 4 4 4]\n"
     ]
    }
   ],
   "source": [
    "#zeros = np.zeros(300,dtype=np.float32)\n",
    "#X_train = [[word2idx[w[0]] for w in s] for s in train_sentences]\n",
    "#X_train = pad_sequences(maxlen=max_len, dtype='float32', sequences=X_train, padding=\"post\", value=zeros) # (1072,70,200)\n",
    "\n",
    "y_train = [[tag2idx[w[2]] for w in s] for s in train_sentences]\n",
    "y_train = pad_sequences(maxlen=max_len, sequences=y_train, padding=\"post\", value=tag2idx[\"O\"])\n",
    "\n",
    "#print(X_train[1])\n",
    "print(y_train[1])"
   ]
  },
  {
   "cell_type": "code",
   "execution_count": 24,
   "metadata": {
    "id": "07mwOEZqamAT",
    "outputId": "c927c3eb-0349-4f98-9157-f10346213e2c"
   },
   "outputs": [
    {
     "name": "stdout",
     "output_type": "stream",
     "text": [
      "[4 4 4 4 4 2 3 3 4 4 4 4 4 4 0 4 4 4 4 4 4 4 4 4 4 4 4 4 4 4 4 4 4 4 4 4 4\n",
      " 4 0 1 1 4 4 4 4 4 4 4 4 4 4 4 4 4 4 4 4 4 4 4 4 4 4 4 4 4 4 4 4 4]\n"
     ]
    }
   ],
   "source": [
    "#zeros = np.zeros(300,dtype=np.float32)\n",
    "#X_test = [[word2idx[w[0]] if w[0] in words else word2idx['UNDEFINED'] for w in s] for s in test_sentences]\n",
    "#X_test = pad_sequences(maxlen=max_len, dtype='float32', sequences=X_test, padding=\"post\", value=zeros)\n",
    "\n",
    "y_test = [[tag2idx[w[2]] for w in s] for s in test_sentences]\n",
    "y_test = pad_sequences(maxlen=max_len, sequences=y_test, padding=\"post\", value=tag2idx[\"O\"])\n",
    "\n",
    "#print(X_test[1])\n",
    "print(y_test[1])"
   ]
  },
  {
   "cell_type": "markdown",
   "metadata": {
    "id": "2LS5tZDGamAU"
   },
   "source": [
    "**Para entrenar la red, necesitamos tambien cambiar 'label' a categorical.**"
   ]
  },
  {
   "cell_type": "code",
   "execution_count": 25,
   "metadata": {
    "id": "sYt1v1veamAU"
   },
   "outputs": [],
   "source": [
    "y_train = [to_categorical(i, num_classes=n_tags) for i in y_train]\n",
    "y_test = [to_categorical(i, num_classes=n_tags) for i in y_test]"
   ]
  },
  {
   "cell_type": "markdown",
   "metadata": {
    "id": "sPPOTqoSamAV"
   },
   "source": [
    "## Train and Test set"
   ]
  },
  {
   "cell_type": "markdown",
   "metadata": {
    "id": "ryAEUpusamAV"
   },
   "source": [
    "from sklearn.model_selection import train_test_split"
   ]
  },
  {
   "cell_type": "markdown",
   "metadata": {
    "id": "sxx3feQ7amAW"
   },
   "source": [
    "X_train, X_test, y_train, y_test = train_test_split(X, y, test_size=0.2, random_state=123)"
   ]
  },
  {
   "cell_type": "code",
   "execution_count": 17,
   "metadata": {},
   "outputs": [],
   "source": [
    "_dir = \"../../../data/v1/NER/numpy/\"\n",
    "X_train = np.load(_dir+'X_train-ft-300.npy')\n",
    "X_test = np.load(_dir+'X_test-ft-300.npy')"
   ]
  },
  {
   "cell_type": "code",
   "execution_count": 18,
   "metadata": {
    "id": "rfiwuXQsamAW",
    "outputId": "063ce5ca-4f97-4067-f9c7-68bb209bf56c"
   },
   "outputs": [
    {
     "name": "stdout",
     "output_type": "stream",
     "text": [
      "Train: (1072, 70, 300) 1072\n",
      "Test: (268, 70, 300) 268\n"
     ]
    }
   ],
   "source": [
    "print(\"Train:\",X_train.shape, len(y_train))\n",
    "print(\"Test:\",X_test.shape, len(y_test))"
   ]
  },
  {
   "cell_type": "raw",
   "metadata": {},
   "source": [
    "np.save('X_train-ft-300.npy', X_train)\n",
    "np.save('X_test-ft-300.npy', X_test)"
   ]
  },
  {
   "cell_type": "markdown",
   "metadata": {
    "id": "TOlW4FczamAX"
   },
   "source": [
    "## Build and fit the LSTM model"
   ]
  },
  {
   "cell_type": "code",
   "execution_count": 19,
   "metadata": {
    "id": "iFP8fJu8amAX"
   },
   "outputs": [],
   "source": [
    "from tensorflow.keras.models import Model\n",
    "from tensorflow.keras import Input, Sequential\n",
    "from tensorflow.keras.layers import LSTM, Embedding, Dense, TimeDistributed, Dropout, Bidirectional\n",
    "from tensorflow import keras\n",
    "import tensorflow as tf\n"
   ]
  },
  {
   "cell_type": "raw",
   "metadata": {},
   "source": [
    "def pred2label(pred):\n",
    "    out = []\n",
    "    for pred_i in pred:        \n",
    "        out_i = []\n",
    "        for p in pred_i:               \n",
    "            p_i = np.argmax(p)                                        \n",
    "            out_i.append(idx2tag[p_i].replace(\"PAD\", \"O\"))            \n",
    "        out.append(out_i)        \n",
    "    return out\n",
    "\n",
    "idx2tag = {i: w for w, i in tag2idx.items()}\n",
    "\n",
    "\n",
    "labels = ['B-loc', 'I-loc', 'B-time', 'I-time']\n",
    "# group B and I results\n",
    "sorted_labels = sorted(\n",
    "    labels,\n",
    "    key=lambda name: (name[1:], name[0])\n",
    ")"
   ]
  },
  {
   "cell_type": "code",
   "execution_count": 27,
   "metadata": {
    "id": "WFrbXVbiamAZ"
   },
   "outputs": [
    {
     "name": "stdout",
     "output_type": "stream",
     "text": [
      "Epoch 1/40\n",
      "54/54 [==============================] - 8s 154ms/step - loss: 0.2413 - accuracy: 0.9366 - val_loss: 0.0837 - val_accuracy: 0.9751\n",
      "Epoch 2/40\n",
      "54/54 [==============================] - 8s 147ms/step - loss: 0.0780 - accuracy: 0.9768 - val_loss: 0.0599 - val_accuracy: 0.9813\n",
      "Epoch 3/40\n",
      "54/54 [==============================] - 9s 161ms/step - loss: 0.0631 - accuracy: 0.9802 - val_loss: 0.0455 - val_accuracy: 0.9856\n",
      "Epoch 4/40\n",
      "54/54 [==============================] - 8s 145ms/step - loss: 0.0521 - accuracy: 0.9837 - val_loss: 0.0410 - val_accuracy: 0.9876\n",
      "Epoch 5/40\n",
      "54/54 [==============================] - 9s 160ms/step - loss: 0.0458 - accuracy: 0.9853 - val_loss: 0.0394 - val_accuracy: 0.9880\n",
      "Epoch 6/40\n",
      "54/54 [==============================] - 8s 151ms/step - loss: 0.0408 - accuracy: 0.9870 - val_loss: 0.0358 - val_accuracy: 0.9888\n",
      "Epoch 7/40\n",
      "54/54 [==============================] - 8s 152ms/step - loss: 0.0363 - accuracy: 0.9886 - val_loss: 0.0333 - val_accuracy: 0.9896\n",
      "Epoch 8/40\n",
      "54/54 [==============================] - 8s 152ms/step - loss: 0.0341 - accuracy: 0.9885 - val_loss: 0.0332 - val_accuracy: 0.9895\n",
      "Epoch 9/40\n",
      "54/54 [==============================] - 8s 152ms/step - loss: 0.0310 - accuracy: 0.9896 - val_loss: 0.0333 - val_accuracy: 0.9902\n",
      "Epoch 10/40\n",
      "54/54 [==============================] - 8s 151ms/step - loss: 0.0275 - accuracy: 0.9908 - val_loss: 0.0327 - val_accuracy: 0.9904\n",
      "Epoch 11/40\n",
      "54/54 [==============================] - 8s 156ms/step - loss: 0.0269 - accuracy: 0.9907 - val_loss: 0.0342 - val_accuracy: 0.9895\n",
      "Epoch 12/40\n",
      "54/54 [==============================] - 9s 158ms/step - loss: 0.0244 - accuracy: 0.9919 - val_loss: 0.0312 - val_accuracy: 0.9900\n",
      "Epoch 13/40\n",
      "54/54 [==============================] - 8s 150ms/step - loss: 0.0238 - accuracy: 0.9919 - val_loss: 0.0316 - val_accuracy: 0.9904\n",
      "Epoch 14/40\n",
      "54/54 [==============================] - 8s 150ms/step - loss: 0.0223 - accuracy: 0.9925 - val_loss: 0.0327 - val_accuracy: 0.9902\n",
      "Epoch 15/40\n",
      "54/54 [==============================] - 8s 149ms/step - loss: 0.0210 - accuracy: 0.9927 - val_loss: 0.0320 - val_accuracy: 0.9907\n",
      "Epoch 16/40\n",
      "54/54 [==============================] - 8s 154ms/step - loss: 0.0187 - accuracy: 0.9934 - val_loss: 0.0370 - val_accuracy: 0.9891\n",
      "Epoch 17/40\n",
      "54/54 [==============================] - 8s 155ms/step - loss: 0.0185 - accuracy: 0.9939 - val_loss: 0.0344 - val_accuracy: 0.9897\n",
      "Epoch 18/40\n",
      "54/54 [==============================] - 8s 152ms/step - loss: 0.0168 - accuracy: 0.9942 - val_loss: 0.0354 - val_accuracy: 0.9900\n",
      "Epoch 19/40\n",
      "54/54 [==============================] - 8s 153ms/step - loss: 0.0154 - accuracy: 0.9951 - val_loss: 0.0347 - val_accuracy: 0.9904\n",
      "Epoch 20/40\n",
      "54/54 [==============================] - 8s 152ms/step - loss: 0.0148 - accuracy: 0.9949 - val_loss: 0.0374 - val_accuracy: 0.9898\n",
      "Epoch 21/40\n",
      "54/54 [==============================] - 8s 152ms/step - loss: 0.0137 - accuracy: 0.9954 - val_loss: 0.0357 - val_accuracy: 0.9906\n",
      "Epoch 22/40\n",
      "54/54 [==============================] - 9s 159ms/step - loss: 0.0137 - accuracy: 0.9955 - val_loss: 0.0395 - val_accuracy: 0.9903\n"
     ]
    },
    {
     "data": {
      "text/plain": [
       "\"\\n    test_pred = model.predict(X_test, verbose=0)\\n\\n    pred_labels = pred2label(test_pred)\\n    test_labels = pred2label(y_test)\\n    \\n    metrics.flat_f1_score(test_labels, pred_labels, average='weighted', labels=labels)\\n    \\n    metrics.flat_precision_score(test_labels, pred_labels, average='weighted', labels=labels)\\n    metrics.flat_recall_score(test_labels, pred_labels, average='weighted', labels=labels)\\n\\n    acc.append(metrics.flat_accuracy_score(test_labels, pred_labels))\\n  \\n    r_micro.append(metrics.flat_recall_score(test_labels, pred_labels, average='micro', labels=labels))\\n    r_macro.append(metrics.flat_recall_score(test_labels, pred_labels, average='macro', labels=labels))\\n    r_weighted.append(metrics.flat_recall_score(test_labels, pred_labels, average='weighted', labels=labels))\\n    \\n    p_micro.append(metrics.flat_precision_score(test_labels, pred_labels, average='micro', labels=labels))\\n    p_macro.append(metrics.flat_precision_score(test_labels, pred_labels, average='macro', labels=labels))\\n    p_weighted.append(metrics.flat_precision_score(test_labels, pred_labels, average='weighted', labels=labels))\\n    \\n    f1_micro.append(metrics.flat_f1_score(test_labels, pred_labels, average='micro', labels=labels))\\n    f1_macro.append(metrics.flat_f1_score(test_labels, pred_labels, average='macro', labels=labels))\\n    f1_weighted.append(metrics.flat_f1_score(test_labels, pred_labels, average='weighted', labels=labels))\\n\\n    loss_val.append(history.history['val_loss'][::-1][0])\\n    acc_val.append(history.history['val_accuracy'][::-1][0])\\n\""
      ]
     },
     "execution_count": 27,
     "metadata": {},
     "output_type": "execute_result"
    }
   ],
   "source": [
    "\"\"\"\n",
    "from sklearn_crfsuite import metrics\n",
    "\n",
    "acc = [] \n",
    "r_micro = []\n",
    "r_macro = []\n",
    "r_weighted = []\n",
    "p_micro = []\n",
    "p_macro = []\n",
    "p_weighted = []\n",
    "f1_micro = []\n",
    "f1_macro = []\n",
    "f1_weighted = []\n",
    "loss_val = []\n",
    "acc_val = []\n",
    "for i in range(25):\n",
    "    print(i)\n",
    "    \"\"\"\n",
    "dropout = 0.5\n",
    "input_shape=(70,300)\n",
    "\n",
    "callback = tf.keras.callbacks.EarlyStopping(monitor='val_loss', patience=10, mode='min', restore_best_weights=True)\n",
    "\n",
    "\n",
    "model = Sequential()\n",
    "#model.add(Embedding(input_dim=n_words, output_dim=max_len, input_length=max_len)) # 70-dim embedding; input_dim=n_words+1 por el 9999 para otros tokens\n",
    "model.add(Bidirectional(LSTM(units=100, return_sequences=True, dropout=dropout, recurrent_dropout=dropout), input_shape=input_shape))\n",
    "model.add(TimeDistributed(Dense(n_tags, activation=\"softmax\")))\n",
    "optimizer = keras.optimizers.Adam(lr=0.005, beta_1=0.9, beta_2=0.999)\n",
    "model.compile(optimizer=optimizer, loss=\"categorical_crossentropy\", metrics=[\"accuracy\"])\n",
    "\n",
    "#print(model.summary())\n",
    "history = model.fit(X_train, np.array(y_train), batch_size=16, epochs=40, validation_split=0.2, verbose=1, callbacks=[callback])\n",
    "\"\"\"\n",
    "    test_pred = model.predict(X_test, verbose=0)\n",
    "\n",
    "    pred_labels = pred2label(test_pred)\n",
    "    test_labels = pred2label(y_test)\n",
    "    \n",
    "    metrics.flat_f1_score(test_labels, pred_labels, average='weighted', labels=labels)\n",
    "    \n",
    "    metrics.flat_precision_score(test_labels, pred_labels, average='weighted', labels=labels)\n",
    "    metrics.flat_recall_score(test_labels, pred_labels, average='weighted', labels=labels)\n",
    "\n",
    "    acc.append(metrics.flat_accuracy_score(test_labels, pred_labels))\n",
    "  \n",
    "    r_micro.append(metrics.flat_recall_score(test_labels, pred_labels, average='micro', labels=labels))\n",
    "    r_macro.append(metrics.flat_recall_score(test_labels, pred_labels, average='macro', labels=labels))\n",
    "    r_weighted.append(metrics.flat_recall_score(test_labels, pred_labels, average='weighted', labels=labels))\n",
    "    \n",
    "    p_micro.append(metrics.flat_precision_score(test_labels, pred_labels, average='micro', labels=labels))\n",
    "    p_macro.append(metrics.flat_precision_score(test_labels, pred_labels, average='macro', labels=labels))\n",
    "    p_weighted.append(metrics.flat_precision_score(test_labels, pred_labels, average='weighted', labels=labels))\n",
    "    \n",
    "    f1_micro.append(metrics.flat_f1_score(test_labels, pred_labels, average='micro', labels=labels))\n",
    "    f1_macro.append(metrics.flat_f1_score(test_labels, pred_labels, average='macro', labels=labels))\n",
    "    f1_weighted.append(metrics.flat_f1_score(test_labels, pred_labels, average='weighted', labels=labels))\n",
    "\n",
    "    loss_val.append(history.history['val_loss'][::-1][0])\n",
    "    acc_val.append(history.history['val_accuracy'][::-1][0])\n",
    "\"\"\""
   ]
  },
  {
   "cell_type": "code",
   "execution_count": 30,
   "metadata": {},
   "outputs": [
    {
     "name": "stdout",
     "output_type": "stream",
     "text": [
      "Model: \"sequential_3\"\n",
      "_________________________________________________________________\n",
      "Layer (type)                 Output Shape              Param #   \n",
      "=================================================================\n",
      "bidirectional_3 (Bidirection (None, 70, 200)           320800    \n",
      "_________________________________________________________________\n",
      "time_distributed_3 (TimeDist (None, 70, 5)             1005      \n",
      "=================================================================\n",
      "Total params: 321,805\n",
      "Trainable params: 321,805\n",
      "Non-trainable params: 0\n",
      "_________________________________________________________________\n"
     ]
    }
   ],
   "source": [
    "model.summary()"
   ]
  },
  {
   "cell_type": "raw",
   "metadata": {},
   "source": [
    "acc_val"
   ]
  },
  {
   "cell_type": "raw",
   "metadata": {},
   "source": [
    "from statistics import mean, stdev\n",
    "\n",
    "print(\"Accuracy: \"+str(round(mean(acc),6))+\" (+/-\"+str(round(stdev(acc),4))+\")\")\n",
    "\n",
    "print(\"F1-Micro: \"+str(round(mean(f1_micro),6))+\" (+/-\"+str(round(stdev(f1_micro),4))+\")\")\n",
    "print(\"Recall-Micro: \"+str(round(mean(r_micro),6))+\" (+/-\"+str(round(stdev(r_micro),3))+\")\")\n",
    "print(\"Precision-Micro: \"+str(round(mean(p_micro),6))+\" (+/-\"+str(round(stdev(p_micro),4))+\")\")\n",
    "\n",
    "print(\"F1-Macro: \"+str(round(mean(f1_macro),6))+\" (+/-\"+str(round(stdev(f1_macro),4))+\")\")\n",
    "print(\"Recall-Macro: \"+str(round(mean(r_macro),6))+\" (+/-\"+str(round(stdev(r_macro),3))+\")\")\n",
    "print(\"Precision-Macro: \"+str(round(mean(p_macro),6))+\" (+/-\"+str(round(stdev(p_macro),4))+\")\")\n",
    "\n",
    "print(\"F1-Weighted: \"+str(round(mean(f1_weighted),6))+\" (+/-\"+str(round(stdev(f1_weighted),4))+\")\")\n",
    "print(\"Recall-Weighted: \"+str(round(mean(r_weighted),6))+\" (+/-\"+str(round(stdev(r_weighted),3))+\")\")\n",
    "print(\"Precision-Weighted: \"+str(round(mean(p_weighted),6))+\" (+/-\"+str(round(stdev(p_weighted),4))+\")\")\n",
    "\n",
    "print(\"Val loss: \"+str(round(mean(loss_val),6))+\" (+/-\"+str(round(stdev(loss_val),4))+\")\")\n",
    "print(\"Val acc: \"+str(round(mean(acc_val),6))+\" (+/-\"+str(round(stdev(acc_val),4))+\")\")"
   ]
  },
  {
   "cell_type": "code",
   "execution_count": null,
   "metadata": {},
   "outputs": [],
   "source": []
  },
  {
   "cell_type": "code",
   "execution_count": 28,
   "metadata": {
    "id": "feSuDiFYamAb",
    "outputId": "aedd6a1c-1dec-461f-9801-83a5058dd30c"
   },
   "outputs": [
    {
     "name": "stdout",
     "output_type": "stream",
     "text": [
      "dict_keys(['loss', 'accuracy', 'val_loss', 'val_accuracy'])\n"
     ]
    },
    {
     "data": {
      "image/png": "[encoded data removed]",
      "text/plain": [
       "<Figure size 1080x576 with 1 Axes>"
      ]
     },
     "metadata": {
      "needs_background": "light"
     },
     "output_type": "display_data"
    },
    {
     "data": {
      "image/png": "[encoded data removed]",
      "text/plain": [
       "<Figure size 1080x576 with 1 Axes>"
      ]
     },
     "metadata": {
      "needs_background": "light"
     },
     "output_type": "display_data"
    }
   ],
   "source": [
    "# list all data in history\n",
    "print(history.history.keys())\n",
    "# summarize history for accuracy\n",
    "plt.figure(figsize=(15, 8))\n",
    "plt.plot(history.history['accuracy'])\n",
    "plt.plot(history.history['val_accuracy'])\n",
    "plt.title('model accuracy')\n",
    "plt.ylabel('accuracy')\n",
    "plt.xlabel('epoch')\n",
    "plt.legend(['train', 'test'], loc='upper left')\n",
    "plt.show()\n",
    "# summarize history for loss\n",
    "plt.figure(figsize=(15, 8))\n",
    "plt.plot(history.history['loss'])\n",
    "plt.plot(history.history['val_loss'])\n",
    "plt.title('model loss')\n",
    "plt.ylabel('loss')\n",
    "plt.xlabel('epoch')\n",
    "plt.legend(['train', 'test'], loc='upper left')\n",
    "plt.show()"
   ]
  },
  {
   "cell_type": "markdown",
   "metadata": {
    "id": "EgrKfy5LamAc"
   },
   "source": [
    "## Evaluate the model"
   ]
  },
  {
   "cell_type": "raw",
   "metadata": {
    "id": "sm_olXqSamAd"
   },
   "source": [
    "!pip install seqeval"
   ]
  },
  {
   "cell_type": "raw",
   "metadata": {},
   "source": [
    "!pip install sklearn-crfsuite"
   ]
  },
  {
   "cell_type": "code",
   "execution_count": 31,
   "metadata": {
    "id": "cwKY-F2WamAe"
   },
   "outputs": [],
   "source": [
    "from seqeval.metrics import precision_score, recall_score, f1_score, classification_report"
   ]
  },
  {
   "cell_type": "code",
   "execution_count": 39,
   "metadata": {
    "id": "RqMzHz09amAi"
   },
   "outputs": [
    {
     "name": "stdout",
     "output_type": "stream",
     "text": [
      "9/9 [==============================] - 0s 41ms/step\n",
      "F1-score: 75.7%\n",
      "              precision    recall  f1-score   support\n",
      "\n",
      "         loc       0.79      0.75      0.77       371\n",
      "        time       0.68      0.52      0.59        33\n",
      "\n",
      "   micro avg       0.78      0.74      0.76       404\n",
      "   macro avg       0.73      0.63      0.68       404\n",
      "weighted avg       0.78      0.74      0.76       404\n",
      "\n"
     ]
    }
   ],
   "source": [
    "test_pred = model.predict(X_test, verbose=1)\n",
    "\n",
    "idx2tag = {i: w for w, i in tag2idx.items()}\n",
    "\n",
    "def pred2label(pred):\n",
    "    out = []\n",
    "    for pred_i in pred:        \n",
    "        out_i = []\n",
    "        for p in pred_i:               \n",
    "            p_i = np.argmax(p)                                        \n",
    "            out_i.append(idx2tag[p_i].replace(\"PAD\", \"O\"))            \n",
    "        out.append(out_i)        \n",
    "    return out\n",
    "\n",
    "pred_labels = pred2label(test_pred)\n",
    "test_labels = pred2label(y_test)\n",
    "\n",
    "print(\"F1-score: {:.1%}\".format(f1_score(test_labels, pred_labels)))\n",
    "print(classification_report(test_labels, pred_labels))"
   ]
  },
  {
   "cell_type": "code",
   "execution_count": 44,
   "metadata": {
    "id": "zNRGScQAamAj",
    "outputId": "2b709a10-84ad-4818-b009-173abbc0aee7"
   },
   "outputs": [
    {
     "name": "stdout",
     "output_type": "stream",
     "text": [
      "              precision    recall  f1-score   support\n",
      "\n",
      "       B-loc     0.9053    0.8293    0.8656       369\n",
      "       I-loc     0.9465    0.9306    0.9385       893\n",
      "      B-time     0.7727    0.5152    0.6182        33\n",
      "      I-time     0.8333    0.6061    0.7018        33\n",
      "\n",
      "   micro avg     0.9303    0.8840    0.9066      1328\n",
      "   macro avg     0.8645    0.7203    0.7810      1328\n",
      "weighted avg     0.9279    0.8840    0.9044      1328\n",
      "\n",
      "F1-score: 90.4378%\n"
     ]
    }
   ],
   "source": [
    "from sklearn_crfsuite import metrics\n",
    "\n",
    "labels = ['B-loc', 'I-loc', 'B-time', 'I-time']\n",
    "# group B and I results\n",
    "sorted_labels = sorted(\n",
    "    labels,\n",
    "    key=lambda name: (name[1:], name[0])\n",
    ")\n",
    "print(metrics.flat_classification_report(\n",
    "    test_labels, pred_labels, labels=sorted_labels, digits=4\n",
    "))\n",
    "\n",
    "print(\"F1-score: {:.4%}\".format(metrics.flat_f1_score(test_labels, pred_labels, average='weighted', labels=labels)))"
   ]
  },
  {
   "cell_type": "markdown",
   "metadata": {
    "id": "PQ0rQ2MjamAk"
   },
   "source": [
    "### Evaluando con una muestra"
   ]
  },
  {
   "cell_type": "code",
   "execution_count": 36,
   "metadata": {
    "id": "wqVPIdWGamAk",
    "outputId": "9cffbb9f-aa76-4f18-d411-a1a39982260b"
   },
   "outputs": [
    {
     "name": "stdout",
     "output_type": "stream",
     "text": [
      "Word            (True ): Pred\n",
      "movilidad       (O    ): O\n",
      "bogota          (O    ): O\n",
      "acueducto       (O    ): O\n",
      "trancon         (O    ): O\n",
      "accidente       (O    ): O\n",
      "llevó           (B-time): O\n",
      "3               (I-time): O\n",
      "horas           (I-time): O\n",
      "en              (O    ): O\n",
      "el              (O    ): O\n",
      "carro           (O    ): O\n",
      "bajando         (O    ): O\n",
      "de              (O    ): O\n",
      "la              (O    ): O\n",
      "calera          (B-loc): O\n",
      "y               (O    ): O\n",
      "muchos          (O    ): O\n",
      "Buses           (O    ): O\n",
      "escolares       (O    ): O\n",
      "con             (O    ): O\n",
      "niños           (O    ): O\n",
      "pequeños        (O    ): O\n",
      "de              (O    ): O\n",
      "los             (O    ): O\n",
      "colegios        (O    ): O\n",
      ",               (O    ): O\n",
      "nada            (O    ): O\n",
      "que             (O    ): O\n",
      "quitan          (O    ): O\n",
      "el              (O    ): O\n",
      "camión          (O    ): O\n",
      "del             (O    ): O\n",
      "acueducto       (O    ): O\n",
      "que             (O    ): O\n",
      "se              (O    ): O\n",
      "accidentó       (O    ): O\n",
      "en              (O    ): O\n",
      "la              (O    ): O\n",
      "circunvalar     (B-loc): B-loc\n",
      "con             (I-loc): I-loc\n",
      "85              (I-loc): I-loc\n",
      ",               (O    ): O\n",
      "TERRIBLE        (O    ): O\n",
      "!!              (O    ): O\n"
     ]
    }
   ],
   "source": [
    "i = 1\n",
    "p = model.predict(np.array([X_test[i]]))\n",
    "p = np.argmax(p, axis=-1)\n",
    "np.argmax(y_test[i], axis=-1)\n",
    "print(\"{:15} ({:5}): {}\".format(\"Word\", \"True\", \"Pred\"))\n",
    "for w, true, pred in zip(test_sentences[i], np.argmax(y_test[i],axis=-1), p[0]):    \n",
    "    print(\"{:15} ({:5}): {}\".format(w[0], tags[true], tags[pred]))"
   ]
  },
  {
   "cell_type": "code",
   "execution_count": null,
   "metadata": {
    "id": "TAK94IDtamAk"
   },
   "outputs": [],
   "source": []
  },
  {
   "cell_type": "code",
   "execution_count": null,
   "metadata": {
    "id": "F_PnfGokamAk"
   },
   "outputs": [],
   "source": []
  }
 ],
 "metadata": {
  "accelerator": "GPU",
  "colab": {
   "collapsed_sections": [
    "PQ0rQ2MjamAk"
   ],
   "name": "1 Building LSTM.ipynb",
   "provenance": []
  },
  "environment": {
   "name": "tf2-2-3-gpu.2-3.m59",
   "type": "gcloud",
   "uri": "gcr.io/deeplearning-platform-release/tf2-2-3-gpu.2-3:m59"
  },
  "kernelspec": {
   "display_name": "Python 3",
   "language": "python",
   "name": "python3"
  },
  "language_info": {
   "codemirror_mode": {
    "name": "ipython",
    "version": 3
   },
   "file_extension": ".py",
   "mimetype": "text/x-python",
   "name": "python",
   "nbconvert_exporter": "python",
   "pygments_lexer": "ipython3",
   "version": "3.7.3"
  }
 },
 "nbformat": 4,
 "nbformat_minor": 4
}
