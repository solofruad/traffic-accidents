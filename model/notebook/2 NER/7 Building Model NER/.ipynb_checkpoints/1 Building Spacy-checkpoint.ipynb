{
 "cells": [
  {
   "cell_type": "markdown",
   "metadata": {},
   "source": [
    "# Building Model Spacy\n",
    "### By **Néstor Suat** in 2020\n",
    "\n",
    "**Descripción:** Generando un modelo ML con Spacy para la tarea de NER en tweets de accidentes para las etiquetas `loc` y `time` usando el estandar BIO.\n",
    "\n",
    "**Input:**\n",
    "* TSV con dataset etiquetado con BIO\n",
    "\n",
    "**Output:**\n",
    "* Model\n",
    "\n",
    "\n",
    "    \n",
    "    python 1\\ Building\\ Spacy\\ NER.py -m es_core_news_lg -o /home/hat/code/traffic-accidents/model/data/v1/NER/spacy_model/ -n 500\n",
    "\n",
    "***"
   ]
  },
  {
   "cell_type": "markdown",
   "metadata": {},
   "source": [
    "### Importando librerías"
   ]
  },
  {
   "cell_type": "code",
   "execution_count": 1,
   "metadata": {},
   "outputs": [],
   "source": [
    "import spacy"
   ]
  },
  {
   "cell_type": "markdown",
   "metadata": {},
   "source": [
    "#### Importando modelo spacy construido"
   ]
  },
  {
   "cell_type": "code",
   "execution_count": 3,
   "metadata": {},
   "outputs": [],
   "source": [
    "spacy_model = \"../../../data/v1/NER/spacy_model/\"\n",
    "nlp = spacy.load(spacy_model)"
   ]
  },
  {
   "cell_type": "markdown",
   "metadata": {},
   "source": [
    "### Evaluando Modelo"
   ]
  },
  {
   "cell_type": "code",
   "execution_count": 6,
   "metadata": {},
   "outputs": [
    {
     "name": "stdout",
     "output_type": "stream",
     "text": [
      "B-loc Troncal\n",
      "I-loc Caracas\n",
      "B-loc Calle\n",
      "I-loc 57\n"
     ]
    }
   ],
   "source": [
    "test_text = 'TM ahora (12:19 p.m.) Si te movilizas por la Troncal Caracas te informamos que se presenta un accidente vehicular a la altura de la estación Calle 57, sentido norte - sur. Nuestra flota debe salir al mixto'\n",
    "doc2 = nlp(test_text)\n",
    "for ent in doc2.ents:\n",
    "    print(ent.label_, ent.text)"
   ]
  },
  {
   "cell_type": "code",
   "execution_count": 10,
   "metadata": {},
   "outputs": [
    {
     "name": "stdout",
     "output_type": "stream",
     "text": [
      "B-loc Carrera\n",
      "I-loc 30\n",
      "I-loc con\n"
     ]
    }
   ],
   "source": [
    "test_text = 'Accidente 4 carros Carrera 30 con 13'\n",
    "doc2 = nlp(test_text)\n",
    "for ent in doc2.ents:\n",
    "    print(ent.label_, ent.text)"
   ]
  },
  {
   "cell_type": "code",
   "execution_count": null,
   "metadata": {},
   "outputs": [],
   "source": []
  }
 ],
 "metadata": {
  "kernelspec": {
   "display_name": "Python 3",
   "language": "python",
   "name": "python3"
  },
  "language_info": {
   "codemirror_mode": {
    "name": "ipython",
    "version": 3
   },
   "file_extension": ".py",
   "mimetype": "text/x-python",
   "name": "python",
   "nbconvert_exporter": "python",
   "pygments_lexer": "ipython3",
   "version": "3.7.3"
  }
 },
 "nbformat": 4,
 "nbformat_minor": 4
}
