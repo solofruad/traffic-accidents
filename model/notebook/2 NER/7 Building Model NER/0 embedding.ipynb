{
 "cells": [
  {
   "cell_type": "code",
   "execution_count": 1,
   "metadata": {},
   "outputs": [],
   "source": [
    "import sys\n",
    "sys.path.insert(0, '../../../')\n",
    "import spacy\n",
    "\n",
    "from classes.tweet2accident.doc2vec import Embedding\n",
    "from gensim.models.doc2vec import Doc2Vec"
   ]
  },
  {
   "cell_type": "code",
   "execution_count": 2,
   "metadata": {},
   "outputs": [],
   "source": [
    "directory = \"../../../data/v1/doc2vec/\"\n",
    "file = \"6_clean_lemma_dataset_propuesta1_5050\"\n",
    "\n",
    "model = Embedding(type_transform='dbow',directory=directory, file=file)"
   ]
  },
  {
   "cell_type": "code",
   "execution_count": 4,
   "metadata": {},
   "outputs": [
    {
     "data": {
      "text/plain": [
       "Embedding(directory='../../../data/v1/doc2vec/',\n",
       "          file='6_clean_lemma_dataset_propuesta1_5050', type_transform='dbow')"
      ]
     },
     "execution_count": 4,
     "metadata": {},
     "output_type": "execute_result"
    }
   ],
   "source": [
    "model"
   ]
  },
  {
   "cell_type": "code",
   "execution_count": 6,
   "metadata": {},
   "outputs": [],
   "source": [
    "dbow = Doc2Vec.load(directory+\"model_dbow/\"+file+\".model\")"
   ]
  },
  {
   "cell_type": "code",
   "execution_count": 44,
   "metadata": {},
   "outputs": [
    {
     "name": "stdout",
     "output_type": "stream",
     "text": [
      "\"word '19' not in vocabulary\"\n"
     ]
    }
   ],
   "source": [
    "try:\n",
    "    print(dbow.wv['19'])\n",
    "except KeyError as e:\n",
    "    print(e)\n"
   ]
  },
  {
   "cell_type": "code",
   "execution_count": null,
   "metadata": {},
   "outputs": [],
   "source": []
  },
  {
   "cell_type": "code",
   "execution_count": 27,
   "metadata": {},
   "outputs": [],
   "source": [
    "spacy_model = \"../../../data/v1/NER/spacy_model_complete/\"\n",
    "nlp = spacy.load(spacy_model)\n",
    "nlp = spacy.load(\"es_core_news_lg\",disabled=['ner','parser'])"
   ]
  },
  {
   "cell_type": "code",
   "execution_count": 21,
   "metadata": {},
   "outputs": [
    {
     "data": {
      "text/plain": [
       "16704127896150882460"
      ]
     },
     "execution_count": 21,
     "metadata": {},
     "output_type": "execute_result"
    }
   ],
   "source": [
    "token_id = nlp.vocab.strings[\"calle\"]\n",
    "token_id"
   ]
  },
  {
   "cell_type": "code",
   "execution_count": 34,
   "metadata": {},
   "outputs": [
    {
     "data": {
      "text/plain": [
       "(500000, 300)"
      ]
     },
     "execution_count": 34,
     "metadata": {},
     "output_type": "execute_result"
    }
   ],
   "source": [
    "nlp.vocab.vectors.shape"
   ]
  },
  {
   "cell_type": "code",
   "execution_count": 36,
   "metadata": {},
   "outputs": [
    {
     "data": {
      "text/plain": [
       "[]"
      ]
     },
     "execution_count": 36,
     "metadata": {},
     "output_type": "execute_result"
    }
   ],
   "source": [
    "nlp.vocab.vectors.resize((500000,200))"
   ]
  },
  {
   "cell_type": "code",
   "execution_count": 45,
   "metadata": {},
   "outputs": [
    {
     "data": {
      "text/plain": [
       "(200,)"
      ]
     },
     "execution_count": 45,
     "metadata": {},
     "output_type": "execute_result"
    }
   ],
   "source": [
    "token_id = nlp.vocab.strings[\"fuck\"]\n",
    "token_vector = nlp.vocab.vectors[token_id]\n",
    "token_vector.shape"
   ]
  },
  {
   "cell_type": "code",
   "execution_count": 58,
   "metadata": {},
   "outputs": [
    {
     "data": {
      "text/plain": [
       "array([ 2.3799e+00,  1.1454e+00,  9.4037e-01,  1.9944e+00, -2.1473e+00,\n",
       "        2.8744e+00, -7.1070e-01, -1.6108e-02,  2.6955e+00,  1.3712e+00,\n",
       "       -1.4198e-01, -1.8862e+00,  6.5072e-01,  6.5582e-01, -1.9567e+00,\n",
       "        6.8145e-01, -2.7089e+00,  1.4179e+00, -6.4822e+00,  1.2023e+00,\n",
       "       -2.9827e-01, -1.0691e+00, -1.1608e+00, -5.4216e-02,  3.4690e-01,\n",
       "       -1.0670e+00, -1.9744e+00,  5.1534e-01,  4.1627e+00,  4.5981e-01,\n",
       "        2.6729e-01, -1.8897e+00,  3.1325e+00, -4.5644e+00, -3.1096e-01,\n",
       "       -2.3631e-01,  3.5568e-01, -2.0162e+00, -4.6087e+00, -2.7454e-01,\n",
       "       -2.4095e+00, -3.4133e-01, -4.4475e+00,  3.6581e+00,  1.8828e+00,\n",
       "       -2.5637e-01, -6.9444e-01, -4.2799e+00,  3.8138e-01,  4.3841e-01,\n",
       "       -1.9739e+00, -3.2690e-01,  1.2094e-01, -8.1470e-01, -2.7563e-02,\n",
       "       -2.7665e+00, -2.2433e+00, -3.1934e+00,  2.5919e+00, -7.5063e-01,\n",
       "        4.6798e+00,  3.6118e+00,  1.3430e+00, -3.0254e+00,  8.0719e-01,\n",
       "       -5.6737e-01, -3.4365e+00,  2.3139e+00, -4.8555e+00,  1.8301e-01,\n",
       "        2.7567e+00, -1.2923e+00,  1.8927e+00, -8.1444e-01,  1.8311e+00,\n",
       "       -1.4861e-01, -4.6217e-01,  3.0490e+00, -1.7192e+00, -2.0886e+00,\n",
       "        2.1348e+00, -1.8932e+00, -1.3846e+00, -2.1754e+00, -2.1313e+00,\n",
       "        1.3458e+00, -1.8775e+00,  4.0792e+00,  6.4809e-01,  3.5361e+00,\n",
       "        2.0479e-01,  3.1642e-01, -3.1378e-01,  5.6224e-01, -3.6285e+00,\n",
       "       -8.1802e-01, -2.3972e+00,  1.3213e+00,  3.3570e-02,  1.2566e+00,\n",
       "       -4.8966e+00,  2.9003e+00, -4.9245e-01,  3.1536e-01, -4.8326e-02,\n",
       "        1.0849e+00,  4.2931e-01,  8.4182e-01, -1.0524e+00, -6.7313e-02,\n",
       "        1.3225e+00,  2.0648e+00, -5.6625e-01, -2.0342e+00,  1.0930e+00,\n",
       "        1.2684e+00, -1.5293e+00,  3.2852e+00,  7.3634e-01, -4.8005e+00,\n",
       "        2.3850e+00,  2.9617e-03, -2.5241e+00, -8.0355e-01,  8.0156e-01,\n",
       "       -1.4414e-01, -2.2362e+00, -2.0690e+00,  2.8400e-01, -1.5864e-01,\n",
       "       -4.7781e-01,  1.5136e+00, -2.0402e+00,  2.2419e+00,  1.7288e+00,\n",
       "        1.1643e+00, -2.9862e+00,  2.2425e+00,  4.5050e-01, -6.2606e-01,\n",
       "        2.8810e-01, -4.7817e-02,  8.4648e-01,  1.4028e+00,  1.9990e+00,\n",
       "       -8.1230e-01, -2.6169e+00, -2.0835e+00, -5.9500e-01, -3.9171e+00,\n",
       "       -1.4477e+00, -1.0802e+00, -4.1864e-01,  1.3646e+00,  7.3609e-02,\n",
       "       -5.9763e-01, -3.3556e+00, -1.4680e-01,  1.5768e+00, -1.5469e+00,\n",
       "       -7.2101e-01,  1.1238e+00,  1.3609e+00, -3.8411e-01,  2.2368e+00,\n",
       "        5.6450e-01, -1.5159e+00,  2.5353e+00, -1.2790e+00, -2.7133e+00,\n",
       "       -1.2143e-01, -1.0906e+00, -3.7254e-01,  1.5311e+00, -4.6934e+00,\n",
       "        1.7734e+00,  2.2102e-01,  9.7546e-01,  3.0628e+00,  1.4969e-01,\n",
       "        1.1511e+00, -2.4285e+00, -2.5972e+00,  2.3024e+00, -3.1131e-01,\n",
       "       -2.4590e+00,  1.0656e+00,  3.8696e+00,  2.8206e+00, -2.5913e+00,\n",
       "       -1.5779e+00,  4.9434e-01, -8.3468e-01, -1.2134e+00,  1.9102e+00,\n",
       "        1.1455e+00, -1.1664e-01, -1.4156e+00, -6.6880e-01, -7.6878e+00,\n",
       "       -8.9825e-01, -9.5641e-01, -5.3027e+00, -1.1735e+00,  1.7172e+00,\n",
       "       -2.2107e+00,  2.6688e+00, -5.3020e+00,  4.7519e-01, -2.8831e+00,\n",
       "       -3.6176e+00, -8.9229e-01,  2.6987e+00,  3.5052e+00, -8.9726e-01,\n",
       "       -1.7304e+00, -9.7691e-01,  9.4121e-01,  1.6997e+00,  2.4501e+00,\n",
       "        1.2952e+00, -1.3067e+00, -3.1783e-01, -5.9924e-02, -2.2966e+00,\n",
       "       -1.7022e+00,  2.8917e+00, -2.2159e+00, -2.1897e+00, -9.8455e-01,\n",
       "       -3.5474e-01, -2.5134e+00,  1.3632e+00,  7.3704e-01, -3.8287e+00,\n",
       "        2.0137e+00, -5.7468e-01, -5.6433e-01, -1.6582e+00,  9.8412e-01,\n",
       "       -2.7774e+00, -2.7316e-01,  6.5842e-01,  1.6546e+00,  2.8509e+00,\n",
       "        3.3652e+00, -3.6502e+00,  1.7897e+00, -1.0694e+00, -1.3351e+00,\n",
       "       -1.0301e+00, -1.6376e+00, -2.6933e+00, -1.4864e+00,  3.5076e+00,\n",
       "        8.5734e-01, -2.3038e+00, -1.7328e+00,  1.6574e-01, -4.9939e-01,\n",
       "       -1.3163e+00,  5.1003e-01, -1.9620e+00,  2.3045e+00,  1.2363e+00,\n",
       "       -2.1184e+00, -9.2052e-01, -2.6778e-01,  8.4242e-01,  2.4720e+00,\n",
       "       -1.2734e+00, -1.2631e+00,  1.5656e-01, -1.2974e+00,  1.1931e-01,\n",
       "       -2.3298e+00,  2.5154e-01, -4.5921e+00,  2.2269e+00, -2.5332e+00,\n",
       "        4.4670e-02,  2.8265e+00, -4.5339e+00,  2.9716e-01, -2.0207e+00,\n",
       "        5.6245e+00,  3.0036e+00,  3.5077e+00, -3.6239e+00,  4.1145e-04,\n",
       "        2.5023e+00,  9.8326e-01, -1.7280e+00,  2.8902e+00,  5.5891e+00,\n",
       "        2.3473e-01,  3.8240e+00,  1.4470e+00,  2.1870e+00,  2.6766e+00],\n",
       "      dtype=float32)"
      ]
     },
     "execution_count": 58,
     "metadata": {},
     "output_type": "execute_result"
    }
   ],
   "source": [
    "token_id = nlp.vocab.strings[\"calle\"]\n",
    "token_vector = nlp.vocab.vectors[token_id]\n",
    "token_vector"
   ]
  },
  {
   "cell_type": "markdown",
   "metadata": {},
   "source": [
    "---"
   ]
  },
  {
   "cell_type": "markdown",
   "metadata": {},
   "source": [
    "# NER with Spacy"
   ]
  },
  {
   "cell_type": "code",
   "execution_count": 6,
   "metadata": {},
   "outputs": [],
   "source": [
    "import spacy  # For preprocessing\n",
    "from spacy import displacy"
   ]
  },
  {
   "cell_type": "code",
   "execution_count": 3,
   "metadata": {},
   "outputs": [],
   "source": [
    "nlp = spacy.load(\"es_core_news_lg\")"
   ]
  },
  {
   "cell_type": "code",
   "execution_count": 40,
   "metadata": {},
   "outputs": [
    {
     "name": "stdout",
     "output_type": "stream",
     "text": [
      "acueducto O \n"
     ]
    }
   ],
   "source": [
    "doc = nlp(\"movilidad bogota acueducto trancon accidente llevó 3 horas en el carro bajando de la calera y muchos Buses escolares con niños pequeños de los colegios, nada que quitan el camión del acueducto que se accidentó en la circunvalar con 85, TERRIBLE!!\")\n",
    "\n",
    "for token in doc:\n",
    "    print(token.text, token.ent_iob_, token.ent_type_.lower())\n",
    "    \n",
    "#displacy.render(doc, style=\"ent\")"
   ]
  },
  {
   "cell_type": "code",
   "execution_count": 33,
   "metadata": {},
   "outputs": [
    {
     "name": "stdout",
     "output_type": "stream",
     "text": [
      "89c O-\n",
      "transito O-\n",
      "Bogota B-loc\n",
      "y O-\n",
      "en O-\n",
      "spanish O-\n"
     ]
    }
   ],
   "source": [
    "doc = nlp(\"89c transito Bogota y en spanish\")\n",
    "\n",
    "for token in doc:\n",
    "    print(token.text, token.ent_iob_+\"-\"+token.ent_type_.lower())\n",
    "    "
   ]
  },
  {
   "cell_type": "code",
   "execution_count": null,
   "metadata": {},
   "outputs": [],
   "source": []
  }
 ],
 "metadata": {
  "kernelspec": {
   "display_name": "Python 3",
   "language": "python",
   "name": "python3"
  },
  "language_info": {
   "codemirror_mode": {
    "name": "ipython",
    "version": 3
   },
   "file_extension": ".py",
   "mimetype": "text/x-python",
   "name": "python",
   "nbconvert_exporter": "python",
   "pygments_lexer": "ipython3",
   "version": "3.7.3"
  }
 },
 "nbformat": 4,
 "nbformat_minor": 4
}
