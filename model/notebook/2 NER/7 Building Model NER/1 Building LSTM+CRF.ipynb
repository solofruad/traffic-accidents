{
 "cells": [
  {
   "cell_type": "markdown",
   "metadata": {},
   "source": [
    "# Building Model LSTM+CRF\n",
    "### By **Néstor Suat** in 2020\n",
    "\n",
    "**Descripción:** Generando un modelo ML para la tarea de NER en tweets de accidentes para las etiquetas `loc` y `time` usando el estandar BIO.\n",
    "\n",
    "**Input:**\n",
    "* TSV con dataset etiquetado con BIO\n",
    "\n",
    "**Output:**\n",
    "* Model\n",
    "\n",
    "**Tomado de**: \n",
    "* https://www.depends-on-the-definition.com/sequence-tagging-lstm-crf/ \n",
    "* https://github.com/tensorflow/addons/issues/1769 \n",
    "* https://github.com/howl-anderson/tf_crf_layer\n",
    "***"
   ]
  },
  {
   "cell_type": "markdown",
   "metadata": {},
   "source": [
    "### Importando librerías"
   ]
  },
  {
   "cell_type": "code",
   "execution_count": 2,
   "metadata": {},
   "outputs": [],
   "source": [
    "import pandas as pd\n",
    "import numpy as np\n",
    "import matplotlib.pyplot as plt\n",
    "\n",
    "plt.style.use(\"ggplot\")\n",
    "\n",
    "from gensim.models.doc2vec import Doc2Vec\n",
    "import spacy\n",
    "\n",
    "import fasttext\n",
    "import fasttext.util"
   ]
  },
  {
   "cell_type": "markdown",
   "metadata": {},
   "source": [
    "### Source code"
   ]
  },
  {
   "cell_type": "markdown",
   "metadata": {},
   "source": [
    "La clase `StenteceGetter` es una clase generica en muchos proyectos de NER, permite tomar el dataset y prepararlo en una lista python para trabajar por oraciones."
   ]
  },
  {
   "cell_type": "code",
   "execution_count": 3,
   "metadata": {},
   "outputs": [],
   "source": [
    "class SentenceGetter(object):\n",
    "    \n",
    "    def __init__(self, data):\n",
    "        self.n_sent = 1\n",
    "        self.data = data\n",
    "        self.empty = False\n",
    "        agg_func = lambda s: [(w, p, t) for w, p, t in zip(s[\"Word\"].values.tolist(),\n",
    "                                                           s[\"POS\"].values.tolist(),\n",
    "                                                           s[\"Tag\"].values.tolist())]\n",
    "        self.grouped = self.data.groupby(\"Sentence #\").apply(agg_func)\n",
    "        self.sentences = [s for s in self.grouped]\n",
    "    \n",
    "    def get_next(self):\n",
    "        try:\n",
    "            #s = self.grouped[\"Sentence: {}\".format(self.n_sent)]\n",
    "            s = self.grouped[self.n_sent]\n",
    "            self.n_sent += 1\n",
    "            return s\n",
    "        except:\n",
    "            return None"
   ]
  },
  {
   "cell_type": "markdown",
   "metadata": {},
   "source": [
    "### Importando dataset anotado"
   ]
  },
  {
   "cell_type": "markdown",
   "metadata": {},
   "source": [
    "El archivo `ner-crf-training-data.tsv` fue construido anteriormente transformando el formato de anotación de Standoff a BIO."
   ]
  },
  {
   "cell_type": "code",
   "execution_count": 4,
   "metadata": {},
   "outputs": [],
   "source": [
    "file = 'ner-crf-training-data.tsv'\n",
    "dir_ = \"../../../data/v1/NER/train/\"\n",
    "train = pd.read_csv(dir_+file, delimiter = \"\\t\", quoting = 3, names=['Sentence #','Word','POS','Tag'])"
   ]
  },
  {
   "cell_type": "code",
   "execution_count": 5,
   "metadata": {},
   "outputs": [],
   "source": [
    "file = 'ner-crf-test-data.tsv'\n",
    "dir_ = \"../../../data/v1/NER/test/\"\n",
    "test = pd.read_csv(dir_+file, delimiter = \"\\t\", quoting = 3, names=['Sentence #','Word','POS','Tag'])"
   ]
  },
  {
   "cell_type": "markdown",
   "metadata": {},
   "source": [
    "#### **Preparando el dataset**"
   ]
  },
  {
   "cell_type": "markdown",
   "metadata": {},
   "source": [
    "Se construye un corpus de todas las palabras presentes en los tweets, se agrega un token esepcial para rellenar llamado ENDPAD, finalmente se calcula el tamaño del corpus de palabras. Esto mismo se hace para las etiquetas, aunque en este caso es más fácil porque son 5: `b-loc`, `i-loc`, `b-time`, `i-time` y `o`."
   ]
  },
  {
   "cell_type": "raw",
   "metadata": {},
   "source": [
    "words = list(set( list(set(train[\"Word\"].values)) + list(set(test[\"Word\"].values)) ))\n",
    "words.sort()\n",
    "words.append(\"UNDEFINED\")\n",
    "words.append(\"ENDPAD\")\n",
    "n_words = len(words); n_words"
   ]
  },
  {
   "cell_type": "code",
   "execution_count": 6,
   "metadata": {},
   "outputs": [
    {
     "data": {
      "text/plain": [
       "5"
      ]
     },
     "execution_count": 6,
     "metadata": {},
     "output_type": "execute_result"
    }
   ],
   "source": [
    "#tags = list(set(data[\"Tag\"].values))\n",
    "tags = ['B-loc', 'I-loc', 'B-time', 'I-time', 'O']\n",
    "n_tags = len(tags); n_tags"
   ]
  },
  {
   "cell_type": "markdown",
   "metadata": {},
   "source": [
    "Se toman los datos y se construye el arreglo de las oraciones a trabajar"
   ]
  },
  {
   "cell_type": "markdown",
   "metadata": {},
   "source": [
    "### Trainset"
   ]
  },
  {
   "cell_type": "code",
   "execution_count": 7,
   "metadata": {},
   "outputs": [],
   "source": [
    "getter = SentenceGetter(train)\n",
    "train_sentences = getter.sentences"
   ]
  },
  {
   "cell_type": "code",
   "execution_count": 45,
   "metadata": {},
   "outputs": [
    {
     "data": {
      "image/png": "[encoded data removed]",
      "text/plain": [
       "<Figure size 432x288 with 1 Axes>"
      ]
     },
     "metadata": {
      "needs_background": "light"
     },
     "output_type": "display_data"
    }
   ],
   "source": [
    "fig = plt.figure()\n",
    "#plt.plot(data)\n",
    "fig.suptitle('Trainset', fontsize=18)\n",
    "plt.xlabel('# Tokens', fontsize=16)\n",
    "plt.ylabel('Number of tweets', fontsize=14)\n",
    "\n",
    "plt.hist([len(s) for s in train_sentences], bins=50)\n",
    "plt.show()\n",
    "\n",
    "fig.savefig('test.jpg',dpi=300)"
   ]
  },
  {
   "cell_type": "markdown",
   "metadata": {},
   "source": [
    "En la gráfica anterior se puede observar el tamaño máximo de los tweets. Para Keras se necesita como entrada una longitud fija de secuencias, por esta razón se elije 70 como un valor máximo."
   ]
  },
  {
   "cell_type": "markdown",
   "metadata": {},
   "source": [
    "### Testset"
   ]
  },
  {
   "cell_type": "code",
   "execution_count": 9,
   "metadata": {},
   "outputs": [],
   "source": [
    "getter = SentenceGetter(test)\n",
    "test_sentences = getter.sentences"
   ]
  },
  {
   "cell_type": "code",
   "execution_count": 46,
   "metadata": {},
   "outputs": [
    {
     "data": {
      "image/png": "[encoded data removed]",
      "text/plain": [
       "<Figure size 432x288 with 1 Axes>"
      ]
     },
     "metadata": {
      "needs_background": "light"
     },
     "output_type": "display_data"
    }
   ],
   "source": [
    "fig = plt.figure()\n",
    "#plt.plot(data)\n",
    "fig.suptitle('Testset', fontsize=18)\n",
    "plt.xlabel('# Tokens', fontsize=16)\n",
    "plt.ylabel('Number of tweets', fontsize=14)\n",
    "\n",
    "plt.hist([len(s) for s in test_sentences], bins=50)\n",
    "plt.show()\n",
    "\n",
    "fig.savefig('test.jpg',dpi=300)"
   ]
  },
  {
   "cell_type": "code",
   "execution_count": 11,
   "metadata": {},
   "outputs": [],
   "source": [
    "#Aquí NO empezamos desde 0, ese id lo reservamos para el mask_zero de la capa Embedding\n",
    "max_len = 70\n",
    "#word2idx = {w: i + 1 for i, w in enumerate(words)}\n",
    "tag2idx = {t: i for i, t in enumerate(tags)}"
   ]
  },
  {
   "cell_type": "markdown",
   "metadata": {},
   "source": [
    "Finalmente se crea un dicccionario (key:value) del corpus de palabras y se le asigna un id."
   ]
  },
  {
   "cell_type": "raw",
   "metadata": {},
   "source": [
    "word2idx['calle']"
   ]
  },
  {
   "cell_type": "code",
   "execution_count": 12,
   "metadata": {},
   "outputs": [
    {
     "data": {
      "text/plain": [
       "2"
      ]
     },
     "execution_count": 12,
     "metadata": {},
     "output_type": "execute_result"
    }
   ],
   "source": [
    "tag2idx['B-time']"
   ]
  },
  {
   "cell_type": "markdown",
   "metadata": {},
   "source": [
    "## Tokenize and prepare the sentences\n",
    "\n",
    "Construyendo una representación vectorial numérica. Ahora se mapea las oraciones en una secuencia de números y si el tweet es más pequeño que el `max_len` se agrega una secuencia de pads."
   ]
  },
  {
   "cell_type": "raw",
   "metadata": {},
   "source": [
    "ft = fasttext.load_model('fasttext/cc.es.300.bin')\n",
    "fasttext.util.reduce_model(ft, 200)"
   ]
  },
  {
   "cell_type": "raw",
   "metadata": {},
   "source": [
    "ft.get_word_vector(\"sectormovilidad\").shape"
   ]
  },
  {
   "cell_type": "raw",
   "metadata": {},
   "source": [
    "directory = \"doc2vec/\"\n",
    "file = \"6_clean_lemma_dataset_propuesta1_5050\"\n",
    "\n",
    "dbow = Doc2Vec.load(directory+file+\".model\")"
   ]
  },
  {
   "cell_type": "raw",
   "metadata": {},
   "source": [
    "spacy_model = \"spacy_model_complete/\"\n",
    "nlp = spacy.load(spacy_model)\n",
    "\n",
    "nlp_size = nlp.vocab.vectors.shape[0]\n",
    "nlp.vocab.vectors.resize((nlp_size,200))"
   ]
  },
  {
   "cell_type": "raw",
   "metadata": {},
   "source": [
    "def embedding_fn(word):\n",
    "    try:\n",
    "        return dbow.wv[word]\n",
    "    except KeyError as e:\n",
    "        try:            \n",
    "            token_id = nlp.vocab.strings[word]\n",
    "            token_vector = nlp.vocab.vectors[token_id]\n",
    "            return token_vector\n",
    "        except:\n",
    "            token_vector = ft.get_word_vector(word)         \n",
    "            return token_vector"
   ]
  },
  {
   "cell_type": "code",
   "execution_count": 13,
   "metadata": {},
   "outputs": [],
   "source": [
    "from tensorflow.keras.preprocessing.sequence import pad_sequences\n",
    "from tensorflow.keras.utils import to_categorical"
   ]
  },
  {
   "cell_type": "markdown",
   "metadata": {},
   "source": [
    "Agregando PAD para rellenar las oraciones cortas que cummplan con el tamaño de 70 tokens"
   ]
  },
  {
   "cell_type": "raw",
   "metadata": {},
   "source": [
    "X_train = [[embedding_fn(w[0]) for w in s] for s in train_sentences]\n",
    "X_test = [[embedding_fn(w[0]) for w in s] for s in test_sentences]"
   ]
  },
  {
   "cell_type": "code",
   "execution_count": 14,
   "metadata": {},
   "outputs": [
    {
     "name": "stdout",
     "output_type": "stream",
     "text": [
      "[4 4 4 4 4 4 4 0 1 1 1 4 4 4 4 4 0 1 4 4 4 4 4 4 4 4 4 4 4 4 4 4 4 4 4 4 4\n",
      " 4 4 4 4 4 4 4 4 4 4 4 4 4 4 4 4 4 4 4 4 4 4 4 4 4 4 4 4 4 4 4 4 4]\n"
     ]
    }
   ],
   "source": [
    "#zeros = np.zeros(200,dtype=np.float32)\n",
    "#X_train = [[word2idx[w[0]] for w in s] for s in train_sentences]\n",
    "#X_train = pad_sequences(maxlen=max_len, dtype='float32', sequences=X_train, padding=\"post\", value=zeros) # (1072,70,200)\n",
    "#value = 0, significa que la mask para endpad será 0\n",
    "\n",
    "y_train = [[tag2idx[w[2]] for w in s] for s in train_sentences]\n",
    "y_train = pad_sequences(maxlen=max_len, sequences=y_train, padding=\"post\", value=tag2idx[\"O\"])\n",
    "\n",
    "#print(X_train[1])\n",
    "print(y_train[1])"
   ]
  },
  {
   "cell_type": "code",
   "execution_count": 15,
   "metadata": {},
   "outputs": [
    {
     "name": "stdout",
     "output_type": "stream",
     "text": [
      "[4 4 4 4 4 2 3 3 4 4 4 4 4 4 0 4 4 4 4 4 4 4 4 4 4 4 4 4 4 4 4 4 4 4 4 4 4\n",
      " 4 0 1 1 4 4 4 4 4 4 4 4 4 4 4 4 4 4 4 4 4 4 4 4 4 4 4 4 4 4 4 4 4]\n"
     ]
    }
   ],
   "source": [
    "#zeros = np.zeros(200,dtype=np.float32)\n",
    "#X_test = [[word2idx[w[0]] if w[0] in words else word2idx['UNDEFINED'] for w in s] for s in test_sentences]\n",
    "#X_test = pad_sequences(maxlen=max_len, dtype='float32', sequences=X_test, padding=\"post\", value=zeros)\n",
    "\n",
    "y_test = [[tag2idx[w[2]] for w in s] for s in test_sentences]\n",
    "y_test = pad_sequences(maxlen=max_len, sequences=y_test, padding=\"post\", value=tag2idx[\"O\"])\n",
    "\n",
    "#print(X_test[1])\n",
    "print(y_test[1])"
   ]
  },
  {
   "cell_type": "markdown",
   "metadata": {},
   "source": [
    "**Para entrenar la red, necesitamos tambien cambiar 'label' a categorical.**"
   ]
  },
  {
   "cell_type": "code",
   "execution_count": 16,
   "metadata": {},
   "outputs": [],
   "source": [
    "y_train = [to_categorical(i, num_classes=n_tags) for i in y_train]\n",
    "y_test = [to_categorical(i, num_classes=n_tags) for i in y_test]"
   ]
  },
  {
   "cell_type": "markdown",
   "metadata": {},
   "source": [
    "## Train and Test set"
   ]
  },
  {
   "cell_type": "raw",
   "metadata": {},
   "source": [
    "from sklearn.model_selection import train_test_split"
   ]
  },
  {
   "cell_type": "raw",
   "metadata": {},
   "source": [
    "X_train, X_test, y_train, y_test = train_test_split(X, y, test_size=0.2, random_state=123)"
   ]
  },
  {
   "cell_type": "code",
   "execution_count": 17,
   "metadata": {},
   "outputs": [],
   "source": [
    "_dir = \"../../../data/v1/NER/numpy/\"\n",
    "X_train = np.load(_dir+'X_train-ft-300.npy')\n",
    "X_test = np.load(_dir+'X_test-ft-300.npy')"
   ]
  },
  {
   "cell_type": "code",
   "execution_count": 18,
   "metadata": {},
   "outputs": [
    {
     "name": "stdout",
     "output_type": "stream",
     "text": [
      "Train: (1072, 70, 300) 1072\n",
      "Test: (268, 70, 300) 268\n"
     ]
    }
   ],
   "source": [
    "print(\"Train:\",X_train.shape, len(y_train))\n",
    "print(\"Test:\",X_test.shape, len(y_test))"
   ]
  },
  {
   "cell_type": "markdown",
   "metadata": {},
   "source": [
    "## Build and fit the LSTM model"
   ]
  },
  {
   "cell_type": "raw",
   "metadata": {},
   "source": [
    "!pip show tf2crf"
   ]
  },
  {
   "cell_type": "raw",
   "metadata": {
    "jupyter": {
     "outputs_hidden": true
    }
   },
   "source": [
    "!pip install tf2crf==0.1.19"
   ]
  },
  {
   "cell_type": "code",
   "execution_count": 19,
   "metadata": {},
   "outputs": [],
   "source": [
    "from tensorflow.keras.models import Model\n",
    "from tensorflow.keras import Input, Sequential\n",
    "from tensorflow.keras.layers import LSTM, Embedding, Dense, TimeDistributed, Dropout, Bidirectional\n",
    "from tensorflow import keras\n",
    "#import tensorflow_addons as tfa\n",
    "import tensorflow as tf\n",
    "\n",
    "#from keras_contrib.layers import CRF\n",
    "#from tf2crf import CRF"
   ]
  },
  {
   "cell_type": "raw",
   "metadata": {},
   "source": [
    "from tf_crf_layer.layer import CRF\n",
    "from tf_crf_layer.loss import crf_loss\n",
    "from tf_crf_layer.metrics import crf_accuracy"
   ]
  },
  {
   "cell_type": "code",
   "execution_count": 20,
   "metadata": {},
   "outputs": [],
   "source": [
    "from crf import CRF"
   ]
  },
  {
   "cell_type": "raw",
   "metadata": {},
   "source": [
    "def pred2label(pred):\n",
    "    out = []\n",
    "    for pred_i in pred:        \n",
    "        out_i = []\n",
    "        for p in pred_i:               \n",
    "            p_i = np.argmax(p)                                        \n",
    "            out_i.append(idx2tag[p_i].replace(\"PAD\", \"O\"))            \n",
    "        out.append(out_i)        \n",
    "    return out\n",
    "\n",
    "idx2tag = {i: w for w, i in tag2idx.items()}\n",
    "\n",
    "\n",
    "labels = ['B-loc', 'I-loc', 'B-time', 'I-time']\n",
    "# group B and I results\n",
    "sorted_labels = sorted(\n",
    "    labels,\n",
    "    key=lambda name: (name[1:], name[0])\n",
    ")"
   ]
  },
  {
   "cell_type": "code",
   "execution_count": 48,
   "metadata": {},
   "outputs": [
    {
     "name": "stdout",
     "output_type": "stream",
     "text": [
      "Epoch 1/40\n",
      "54/54 [==============================] - 11s 212ms/step - loss: 46.1694 - viterbi_accuracy: 0.6933 - val_loss: 58.5834 - val_viterbi_accuracy: 0.9286\n",
      "Epoch 2/40\n",
      "54/54 [==============================] - 9s 173ms/step - loss: 12.6591 - viterbi_accuracy: 0.9440 - val_loss: 56.5785 - val_viterbi_accuracy: 0.9421\n",
      "Epoch 3/40\n",
      "54/54 [==============================] - 10s 181ms/step - loss: 8.9759 - viterbi_accuracy: 0.9589 - val_loss: 55.8188 - val_viterbi_accuracy: 0.9504\n",
      "Epoch 4/40\n",
      "54/54 [==============================] - 10s 179ms/step - loss: 7.6940 - viterbi_accuracy: 0.9659 - val_loss: 55.3482 - val_viterbi_accuracy: 0.9552\n",
      "Epoch 5/40\n",
      "54/54 [==============================] - 11s 199ms/step - loss: 6.8772 - viterbi_accuracy: 0.9707 - val_loss: 54.7828 - val_viterbi_accuracy: 0.9584\n",
      "Epoch 6/40\n",
      "54/54 [==============================] - 11s 197ms/step - loss: 6.2694 - viterbi_accuracy: 0.9735 - val_loss: 54.5818 - val_viterbi_accuracy: 0.9599\n",
      "Epoch 7/40\n",
      "54/54 [==============================] - 10s 191ms/step - loss: 5.8442 - viterbi_accuracy: 0.9744 - val_loss: 54.3258 - val_viterbi_accuracy: 0.9606\n",
      "Epoch 8/40\n",
      "54/54 [==============================] - 12s 213ms/step - loss: 5.5001 - viterbi_accuracy: 0.9764 - val_loss: 54.0782 - val_viterbi_accuracy: 0.9616\n",
      "Epoch 9/40\n",
      "54/54 [==============================] - 19s 352ms/step - loss: 5.1269 - viterbi_accuracy: 0.9774 - val_loss: 53.8833 - val_viterbi_accuracy: 0.9618\n",
      "Epoch 10/40\n",
      "54/54 [==============================] - 20s 371ms/step - loss: 4.9128 - viterbi_accuracy: 0.9781 - val_loss: 53.6977 - val_viterbi_accuracy: 0.9622\n",
      "Epoch 11/40\n",
      "54/54 [==============================] - 21s 383ms/step - loss: 4.7520 - viterbi_accuracy: 0.9789 - val_loss: 53.4751 - val_viterbi_accuracy: 0.9682\n",
      "Epoch 12/40\n",
      "54/54 [==============================] - 20s 369ms/step - loss: 4.4744 - viterbi_accuracy: 0.9797 - val_loss: 53.3027 - val_viterbi_accuracy: 0.9687\n",
      "Epoch 13/40\n",
      "54/54 [==============================] - 21s 382ms/step - loss: 4.2760 - viterbi_accuracy: 0.9802 - val_loss: 53.1232 - val_viterbi_accuracy: 0.9698\n",
      "Epoch 14/40\n",
      "54/54 [==============================] - 20s 378ms/step - loss: 4.1533 - viterbi_accuracy: 0.9808 - val_loss: 52.9533 - val_viterbi_accuracy: 0.9698\n",
      "Epoch 15/40\n",
      "54/54 [==============================] - 21s 380ms/step - loss: 4.0191 - viterbi_accuracy: 0.9812 - val_loss: 52.8108 - val_viterbi_accuracy: 0.9827\n",
      "Epoch 16/40\n",
      "54/54 [==============================] - 18s 335ms/step - loss: 3.8982 - viterbi_accuracy: 0.9815 - val_loss: 52.7043 - val_viterbi_accuracy: 0.9819\n",
      "Epoch 17/40\n",
      "54/54 [==============================] - 18s 325ms/step - loss: 3.8533 - viterbi_accuracy: 0.9815 - val_loss: 52.5567 - val_viterbi_accuracy: 0.9822\n",
      "Epoch 18/40\n",
      "54/54 [==============================] - 18s 329ms/step - loss: 3.6695 - viterbi_accuracy: 0.9822 - val_loss: 52.3916 - val_viterbi_accuracy: 0.9822\n",
      "Epoch 19/40\n",
      "54/54 [==============================] - 18s 328ms/step - loss: 3.5296 - viterbi_accuracy: 0.9831 - val_loss: 52.1937 - val_viterbi_accuracy: 0.9830\n",
      "Epoch 20/40\n",
      "54/54 [==============================] - 17s 322ms/step - loss: 3.4511 - viterbi_accuracy: 0.9836 - val_loss: 51.9786 - val_viterbi_accuracy: 0.9842\n",
      "Epoch 21/40\n",
      "54/54 [==============================] - 17s 324ms/step - loss: 3.3500 - viterbi_accuracy: 0.9840 - val_loss: 51.8470 - val_viterbi_accuracy: 0.9843\n",
      "Epoch 22/40\n",
      "54/54 [==============================] - 18s 327ms/step - loss: 3.2540 - viterbi_accuracy: 0.9842 - val_loss: 51.6613 - val_viterbi_accuracy: 0.9853\n",
      "Epoch 23/40\n",
      "54/54 [==============================] - 18s 329ms/step - loss: 3.1843 - viterbi_accuracy: 0.9839 - val_loss: 51.5061 - val_viterbi_accuracy: 0.9853\n",
      "Epoch 24/40\n",
      "54/54 [==============================] - 18s 331ms/step - loss: 3.0430 - viterbi_accuracy: 0.9847 - val_loss: 51.4026 - val_viterbi_accuracy: 0.9850\n",
      "Epoch 25/40\n",
      "54/54 [==============================] - 18s 326ms/step - loss: 2.9667 - viterbi_accuracy: 0.9853 - val_loss: 51.2123 - val_viterbi_accuracy: 0.9858\n",
      "Epoch 26/40\n",
      "54/54 [==============================] - 18s 326ms/step - loss: 2.8573 - viterbi_accuracy: 0.9854 - val_loss: 51.0812 - val_viterbi_accuracy: 0.9857\n",
      "Epoch 27/40\n",
      "54/54 [==============================] - 18s 325ms/step - loss: 2.8402 - viterbi_accuracy: 0.9850 - val_loss: 50.9236 - val_viterbi_accuracy: 0.9858\n",
      "Epoch 28/40\n",
      "54/54 [==============================] - 18s 329ms/step - loss: 2.7341 - viterbi_accuracy: 0.9860 - val_loss: 50.7891 - val_viterbi_accuracy: 0.9859\n",
      "Epoch 29/40\n",
      "54/54 [==============================] - 18s 327ms/step - loss: 2.6935 - viterbi_accuracy: 0.9858 - val_loss: 50.6755 - val_viterbi_accuracy: 0.9857\n",
      "Epoch 30/40\n",
      "54/54 [==============================] - 12s 228ms/step - loss: 2.6747 - viterbi_accuracy: 0.9865 - val_loss: 50.4866 - val_viterbi_accuracy: 0.9859\n",
      "Epoch 31/40\n",
      "54/54 [==============================] - 9s 167ms/step - loss: 2.5097 - viterbi_accuracy: 0.9872 - val_loss: 50.3286 - val_viterbi_accuracy: 0.9868\n",
      "Epoch 32/40\n",
      "54/54 [==============================] - 9s 170ms/step - loss: 2.4621 - viterbi_accuracy: 0.9872 - val_loss: 50.1992 - val_viterbi_accuracy: 0.9867\n",
      "Epoch 33/40\n",
      "54/54 [==============================] - 9s 169ms/step - loss: 2.4601 - viterbi_accuracy: 0.9872 - val_loss: 50.0458 - val_viterbi_accuracy: 0.9871\n",
      "Epoch 34/40\n",
      "54/54 [==============================] - 9s 171ms/step - loss: 2.4076 - viterbi_accuracy: 0.9877 - val_loss: 49.9299 - val_viterbi_accuracy: 0.9864\n",
      "Epoch 35/40\n",
      "54/54 [==============================] - 9s 172ms/step - loss: 2.3703 - viterbi_accuracy: 0.9875 - val_loss: 49.8489 - val_viterbi_accuracy: 0.9860\n",
      "Epoch 36/40\n",
      "54/54 [==============================] - 9s 169ms/step - loss: 2.3832 - viterbi_accuracy: 0.9877 - val_loss: 49.6824 - val_viterbi_accuracy: 0.9868\n",
      "Epoch 37/40\n",
      "54/54 [==============================] - 9s 171ms/step - loss: 2.2953 - viterbi_accuracy: 0.9877 - val_loss: 49.5183 - val_viterbi_accuracy: 0.9870\n",
      "Epoch 38/40\n",
      "54/54 [==============================] - 9s 171ms/step - loss: 2.2098 - viterbi_accuracy: 0.9879 - val_loss: 49.4024 - val_viterbi_accuracy: 0.9868\n",
      "Epoch 39/40\n",
      "54/54 [==============================] - 9s 170ms/step - loss: 2.1628 - viterbi_accuracy: 0.9885 - val_loss: 49.2484 - val_viterbi_accuracy: 0.9871\n",
      "Epoch 40/40\n",
      "54/54 [==============================] - 10s 176ms/step - loss: 2.1506 - viterbi_accuracy: 0.9887 - val_loss: 49.1223 - val_viterbi_accuracy: 0.9878\n"
     ]
    },
    {
     "data": {
      "text/plain": [
       "\"\\n    test_pred = model.predict(X_test, verbose=0)\\n\\n    pred_labels = pred2label(test_pred)\\n    test_labels = pred2label(y_test)\\n    \\n    metrics.flat_f1_score(test_labels, pred_labels, average='weighted', labels=labels)\\n    \\n    metrics.flat_precision_score(test_labels, pred_labels, average='weighted', labels=labels)\\n    metrics.flat_recall_score(test_labels, pred_labels, average='weighted', labels=labels)\\n\\n    acc.append(metrics.flat_accuracy_score(test_labels, pred_labels))\\n  \\n    r_micro.append(metrics.flat_recall_score(test_labels, pred_labels, average='micro', labels=labels))\\n    r_macro.append(metrics.flat_recall_score(test_labels, pred_labels, average='macro', labels=labels))\\n    r_weighted.append(metrics.flat_recall_score(test_labels, pred_labels, average='weighted', labels=labels))\\n    \\n    p_micro.append(metrics.flat_precision_score(test_labels, pred_labels, average='micro', labels=labels))\\n    p_macro.append(metrics.flat_precision_score(test_labels, pred_labels, average='macro', labels=labels))\\n    p_weighted.append(metrics.flat_precision_score(test_labels, pred_labels, average='weighted', labels=labels))\\n    \\n    f1_micro.append(metrics.flat_f1_score(test_labels, pred_labels, average='micro', labels=labels))\\n    f1_macro.append(metrics.flat_f1_score(test_labels, pred_labels, average='macro', labels=labels))\\n    f1_weighted.append(metrics.flat_f1_score(test_labels, pred_labels, average='weighted', labels=labels))\\n\\n    loss_val.append(history.history['val_loss'][::-1][0])\\n    acc_val.append(history.history['val_viterbi_accuracy'][::-1][0])\\n\""
      ]
     },
     "execution_count": 48,
     "metadata": {},
     "output_type": "execute_result"
    }
   ],
   "source": [
    "\"\"\"\n",
    "from sklearn_crfsuite import metrics\n",
    "\n",
    "acc = [] \n",
    "r_micro = []\n",
    "r_macro = []\n",
    "r_weighted = []\n",
    "p_micro = []\n",
    "p_macro = []\n",
    "p_weighted = []\n",
    "f1_micro = []\n",
    "f1_macro = []\n",
    "f1_weighted = []\n",
    "loss_val = []\n",
    "acc_val = []\n",
    "for i in range(25):\n",
    "    print(i)\n",
    "\"\"\"\n",
    "dropout = 0.5\n",
    "input_shape=(70,300)\n",
    "\n",
    "callback = tf.keras.callbacks.EarlyStopping(monitor='val_viterbi_accuracy', patience=10, mode='max', restore_best_weights=True)\n",
    "\n",
    "\n",
    "model = Sequential()\n",
    "# n_words + 1, es por la max_zero = 0\n",
    "#model.add(Embedding(input_dim=n_words+1, output_dim=20, input_length=max_len, mask_zero=True)) # 20-dim embedding\n",
    "#input_layer = Input(shape=input_shape)\n",
    "model.add(Input(shape=input_shape))\n",
    "model.add(Bidirectional(LSTM(units=100, return_sequences=True, dropout=dropout, recurrent_dropout=dropout, kernel_initializer='he_uniform')))\n",
    "model.add(TimeDistributed(Dense(5, activation=\"relu\")))\n",
    "crf = CRF(n_tags)\n",
    "model.add(crf)\n",
    "\n",
    "optimizer = keras.optimizers.Adam(lr=0.0005, beta_1=0.9, beta_2=0.999)\n",
    "model.compile(optimizer=optimizer, loss=crf.loss, metrics=[crf.accuracy])\n",
    "#model.compile(optimizer='adam', loss=crf.loss, metrics=[crf.accuracy])\n",
    "#model.compile(optimizer='adam', loss=crf.loss_function, metrics=[crf.accuracy])\n",
    "#model.compile(optimizer='adam', loss=crf_loss, metrics=[crf_accuracy])\n",
    "#model.compile(optimizer=\"rmsprop\", loss=crf.loss, metrics=[crf.accuracy])\n",
    "\n",
    "history = model.fit(X_train, np.array(y_train), batch_size=16, epochs=40, validation_split=0.2, verbose=1, callbacks=[callback])\n",
    "\"\"\"\n",
    "    test_pred = model.predict(X_test, verbose=0)\n",
    "\n",
    "    pred_labels = pred2label(test_pred)\n",
    "    test_labels = pred2label(y_test)\n",
    "    \n",
    "    metrics.flat_f1_score(test_labels, pred_labels, average='weighted', labels=labels)\n",
    "    \n",
    "    metrics.flat_precision_score(test_labels, pred_labels, average='weighted', labels=labels)\n",
    "    metrics.flat_recall_score(test_labels, pred_labels, average='weighted', labels=labels)\n",
    "\n",
    "    acc.append(metrics.flat_accuracy_score(test_labels, pred_labels))\n",
    "  \n",
    "    r_micro.append(metrics.flat_recall_score(test_labels, pred_labels, average='micro', labels=labels))\n",
    "    r_macro.append(metrics.flat_recall_score(test_labels, pred_labels, average='macro', labels=labels))\n",
    "    r_weighted.append(metrics.flat_recall_score(test_labels, pred_labels, average='weighted', labels=labels))\n",
    "    \n",
    "    p_micro.append(metrics.flat_precision_score(test_labels, pred_labels, average='micro', labels=labels))\n",
    "    p_macro.append(metrics.flat_precision_score(test_labels, pred_labels, average='macro', labels=labels))\n",
    "    p_weighted.append(metrics.flat_precision_score(test_labels, pred_labels, average='weighted', labels=labels))\n",
    "    \n",
    "    f1_micro.append(metrics.flat_f1_score(test_labels, pred_labels, average='micro', labels=labels))\n",
    "    f1_macro.append(metrics.flat_f1_score(test_labels, pred_labels, average='macro', labels=labels))\n",
    "    f1_weighted.append(metrics.flat_f1_score(test_labels, pred_labels, average='weighted', labels=labels))\n",
    "\n",
    "    loss_val.append(history.history['val_loss'][::-1][0])\n",
    "    acc_val.append(history.history['val_viterbi_accuracy'][::-1][0])\n",
    "\"\"\""
   ]
  },
  {
   "cell_type": "raw",
   "metadata": {},
   "source": [
    "acc_val"
   ]
  },
  {
   "cell_type": "raw",
   "metadata": {},
   "source": [
    "from statistics import mean, stdev\n",
    "\n",
    "print(\"Accuracy: \"+str(round(mean(acc),6))+\" (+/-\"+str(round(stdev(acc),4))+\")\")\n",
    "\n",
    "print(\"F1-Micro: \"+str(round(mean(f1_micro),6))+\" (+/-\"+str(round(stdev(f1_micro),4))+\")\")\n",
    "print(\"Recall-Micro: \"+str(round(mean(r_micro),6))+\" (+/-\"+str(round(stdev(r_micro),3))+\")\")\n",
    "print(\"Precision-Micro: \"+str(round(mean(p_micro),6))+\" (+/-\"+str(round(stdev(p_micro),4))+\")\")\n",
    "\n",
    "print(\"F1-Macro: \"+str(round(mean(f1_macro),6))+\" (+/-\"+str(round(stdev(f1_macro),4))+\")\")\n",
    "print(\"Recall-Macro: \"+str(round(mean(r_macro),6))+\" (+/-\"+str(round(stdev(r_macro),3))+\")\")\n",
    "print(\"Precision-Macro: \"+str(round(mean(p_macro),6))+\" (+/-\"+str(round(stdev(p_macro),4))+\")\")\n",
    "\n",
    "print(\"F1-Weighted: \"+str(round(mean(f1_weighted),6))+\" (+/-\"+str(round(stdev(f1_weighted),4))+\")\")\n",
    "print(\"Recall-Weighted: \"+str(round(mean(r_weighted),6))+\" (+/-\"+str(round(stdev(r_weighted),3))+\")\")\n",
    "print(\"Precision-Weighted: \"+str(round(mean(p_weighted),6))+\" (+/-\"+str(round(stdev(p_weighted),4))+\")\")\n",
    "\n",
    "print(\"Val loss: \"+str(round(mean(loss_val),6))+\" (+/-\"+str(round(stdev(loss_val),4))+\")\")\n",
    "print(\"Val acc: \"+str(round(mean(acc_val),6))+\" (+/-\"+str(round(stdev(acc_val),4))+\")\")"
   ]
  },
  {
   "cell_type": "raw",
   "metadata": {},
   "source": [
    "history.history['val_viterbi_accuracy'][::-1][0]"
   ]
  },
  {
   "cell_type": "code",
   "execution_count": 22,
   "metadata": {},
   "outputs": [
    {
     "name": "stdout",
     "output_type": "stream",
     "text": [
      "9/9 [==============================] - 0s 48ms/step - loss: 34.5785 - viterbi_accuracy: 0.9691\n"
     ]
    },
    {
     "data": {
      "text/plain": [
       "[34.57848358154297, 0.969146728515625]"
      ]
     },
     "execution_count": 22,
     "metadata": {},
     "output_type": "execute_result"
    }
   ],
   "source": [
    "model.evaluate(X_test,np.array(y_test))"
   ]
  },
  {
   "cell_type": "code",
   "execution_count": 23,
   "metadata": {},
   "outputs": [
    {
     "name": "stdout",
     "output_type": "stream",
     "text": [
      "Model: \"sequential\"\n",
      "_________________________________________________________________\n",
      "Layer (type)                 Output Shape              Param #   \n",
      "=================================================================\n",
      "bidirectional (Bidirectional (None, 70, 200)           320800    \n",
      "_________________________________________________________________\n",
      "time_distributed (TimeDistri (None, 70, 5)             1005      \n",
      "_________________________________________________________________\n",
      "crf (CRF)                    (None, 70, 5)             25        \n",
      "=================================================================\n",
      "Total params: 321,830\n",
      "Trainable params: 321,830\n",
      "Non-trainable params: 0\n",
      "_________________________________________________________________\n"
     ]
    }
   ],
   "source": [
    "model.summary()"
   ]
  },
  {
   "cell_type": "raw",
   "metadata": {},
   "source": [
    "history = model.fit(X_train, np.array(y_train), batch_size=8, epochs=10, validation_split=0.2, verbose=1)"
   ]
  },
  {
   "cell_type": "code",
   "execution_count": 49,
   "metadata": {},
   "outputs": [
    {
     "name": "stdout",
     "output_type": "stream",
     "text": [
      "dict_keys(['loss', 'viterbi_accuracy', 'val_loss', 'val_viterbi_accuracy'])\n"
     ]
    },
    {
     "data": {
      "image/png": "[encoded data removed]",
      "text/plain": [
       "<Figure size 1080x576 with 1 Axes>"
      ]
     },
     "metadata": {
      "needs_background": "light"
     },
     "output_type": "display_data"
    },
    {
     "data": {
      "image/png": "[encoded data removed]",
      "text/plain": [
       "<Figure size 1080x576 with 1 Axes>"
      ]
     },
     "metadata": {
      "needs_background": "light"
     },
     "output_type": "display_data"
    }
   ],
   "source": [
    "# list all data in history\n",
    "print(history.history.keys())\n",
    "# summarize history for accuracy\n",
    "plt.figure(figsize=(15, 8))\n",
    "plt.plot(history.history['viterbi_accuracy'])\n",
    "plt.plot(history.history['val_viterbi_accuracy'])\n",
    "plt.title('model accuracy')\n",
    "plt.ylabel('accuracy')\n",
    "plt.xlabel('epoch')\n",
    "plt.legend(['train', 'test'], loc='upper left')\n",
    "plt.show()\n",
    "# summarize history for loss\n",
    "plt.figure(figsize=(15, 8))\n",
    "plt.plot(history.history['loss'])\n",
    "plt.plot(history.history['val_loss'])\n",
    "plt.title('model loss')\n",
    "plt.ylabel('loss')\n",
    "plt.xlabel('epoch')\n",
    "plt.legend(['train', 'test'], loc='upper left')\n",
    "plt.show()"
   ]
  },
  {
   "cell_type": "markdown",
   "metadata": {},
   "source": [
    "## Evaluate"
   ]
  },
  {
   "cell_type": "raw",
   "metadata": {},
   "source": [
    "!pip install seqeval"
   ]
  },
  {
   "cell_type": "code",
   "execution_count": 25,
   "metadata": {},
   "outputs": [],
   "source": [
    "from seqeval.metrics import precision_score, recall_score, f1_score, classification_report"
   ]
  },
  {
   "cell_type": "code",
   "execution_count": 50,
   "metadata": {},
   "outputs": [
    {
     "name": "stdout",
     "output_type": "stream",
     "text": [
      "9/9 [==============================] - 0s 39ms/step\n"
     ]
    }
   ],
   "source": [
    "test_pred = model.predict(X_test, verbose=1)"
   ]
  },
  {
   "cell_type": "code",
   "execution_count": 51,
   "metadata": {},
   "outputs": [
    {
     "name": "stdout",
     "output_type": "stream",
     "text": [
      "F1-score: 71.1%\n",
      "              precision    recall  f1-score   support\n",
      "\n",
      "         loc       0.77      0.71      0.74       371\n",
      "        time       0.45      0.39      0.42        33\n",
      "\n",
      "   micro avg       0.74      0.68      0.71       404\n",
      "   macro avg       0.61      0.55      0.58       404\n",
      "weighted avg       0.74      0.68      0.71       404\n",
      "\n"
     ]
    }
   ],
   "source": [
    "idx2tag = {i: w for w, i in tag2idx.items()}\n",
    "\n",
    "\"\"\"\n",
    "def pred2label(pred,is_test):\n",
    "    out = []\n",
    "    for pred_i in pred:        \n",
    "        out_i = []\n",
    "        for p in pred_i:   \n",
    "            if is_test:\n",
    "                p_i = np.argmax(p)            \n",
    "            else:\n",
    "                p_i = int(p)            \n",
    "            out_i.append(idx2tag[p_i].replace(\"PAD\", \"O\"))            \n",
    "        out.append(out_i)        \n",
    "    return out\n",
    "#pred_labels = pred2label(test_pred,False)\n",
    "#test_labels = pred2label(y_test,True)\n",
    "\"\"\"\n",
    "def pred2label(pred):\n",
    "    out = []\n",
    "    for pred_i in pred:        \n",
    "        out_i = []\n",
    "        for p in pred_i:               \n",
    "            p_i = np.argmax(p)                                        \n",
    "            out_i.append(idx2tag[p_i].replace(\"PAD\", \"O\"))            \n",
    "        out.append(out_i)        \n",
    "    return out\n",
    "\n",
    "pred_labels = pred2label(test_pred)\n",
    "test_labels = pred2label(y_test)\n",
    "\n",
    "print(\"F1-score: {:.1%}\".format(f1_score(test_labels, pred_labels)))\n",
    "print(classification_report(test_labels, pred_labels))"
   ]
  },
  {
   "cell_type": "code",
   "execution_count": 52,
   "metadata": {},
   "outputs": [
    {
     "name": "stdout",
     "output_type": "stream",
     "text": [
      "              precision    recall  f1-score   support\n",
      "\n",
      "       B-loc     0.9071    0.7940    0.8468       369\n",
      "       I-loc     0.9319    0.9194    0.9256       893\n",
      "      B-time     0.5556    0.4545    0.5000        33\n",
      "      I-time     0.9231    0.3636    0.5217        33\n",
      "\n",
      "   micro avg     0.9172    0.8592    0.8872      1328\n",
      "   macro avg     0.8294    0.6329    0.6985      1328\n",
      "weighted avg     0.9154    0.8592    0.8831      1328\n",
      "\n",
      "F1-score: 88.3%\n"
     ]
    }
   ],
   "source": [
    "from sklearn_crfsuite import metrics\n",
    "\n",
    "labels = ['B-loc', 'I-loc', 'B-time', 'I-time']\n",
    "# group B and I results\n",
    "sorted_labels = sorted(\n",
    "    labels,\n",
    "    key=lambda name: (name[1:], name[0])\n",
    ")\n",
    "print(metrics.flat_classification_report(\n",
    "    test_labels, pred_labels, labels=sorted_labels, digits=4\n",
    "))\n",
    "print(\"F1-score: {:.1%}\".format(metrics.flat_f1_score(test_labels, pred_labels, average='weighted', labels=labels)))"
   ]
  },
  {
   "cell_type": "code",
   "execution_count": 31,
   "metadata": {},
   "outputs": [
    {
     "name": "stdout",
     "output_type": "stream",
     "text": [
      "0.8734610229824442\n",
      "0.9866737739872068\n",
      "0.9122902961996354\n",
      "0.8403614457831325\n"
     ]
    }
   ],
   "source": [
    "print(metrics.flat_f1_score(test_labels, pred_labels, average='weighted', labels=labels))\n",
    "print(metrics.flat_accuracy_score(test_labels, pred_labels))\n",
    "print(metrics.flat_precision_score(test_labels, pred_labels, average='weighted', labels=labels))\n",
    "print(metrics.flat_recall_score(test_labels, pred_labels, average='weighted', labels=labels))"
   ]
  },
  {
   "cell_type": "code",
   "execution_count": 53,
   "metadata": {},
   "outputs": [
    {
     "name": "stdout",
     "output_type": "stream",
     "text": [
      "Word            (True ): Pred\n",
      "movilidad       (O    ): O\n",
      "bogota          (O    ): O\n",
      "acueducto       (O    ): O\n",
      "trancon         (O    ): O\n",
      "accidente       (O    ): O\n",
      "llevó           (B-time): O\n",
      "3               (I-time): O\n",
      "horas           (I-time): O\n",
      "en              (O    ): O\n",
      "el              (O    ): O\n",
      "carro           (O    ): O\n",
      "bajando         (O    ): O\n",
      "de              (O    ): O\n",
      "la              (O    ): O\n",
      "calera          (B-loc): O\n",
      "y               (O    ): O\n",
      "muchos          (O    ): O\n",
      "Buses           (O    ): O\n",
      "escolares       (O    ): O\n",
      "con             (O    ): O\n",
      "niños           (O    ): O\n",
      "pequeños        (O    ): O\n",
      "de              (O    ): O\n",
      "los             (O    ): O\n",
      "colegios        (O    ): O\n",
      ",               (O    ): O\n",
      "nada            (O    ): O\n",
      "que             (O    ): O\n",
      "quitan          (O    ): O\n",
      "el              (O    ): O\n",
      "camión          (O    ): O\n",
      "del             (O    ): O\n",
      "acueducto       (O    ): O\n",
      "que             (O    ): O\n",
      "se              (O    ): O\n",
      "accidentó       (O    ): O\n",
      "en              (O    ): O\n",
      "la              (O    ): O\n",
      "circunvalar     (B-loc): B-loc\n",
      "con             (I-loc): I-loc\n",
      "85              (I-loc): I-loc\n",
      ",               (O    ): O\n",
      "TERRIBLE        (O    ): O\n",
      "!!              (O    ): O\n"
     ]
    }
   ],
   "source": [
    "i=1\n",
    "p = model.predict(np.array([X_test[i]]))\n",
    "p = np.argmax(p, axis=-1)\n",
    "np.argmax(y_test[i], axis=-1)\n",
    "print(\"{:15} ({:5}): {}\".format(\"Word\", \"True\", \"Pred\"))\n",
    "for w, true, pred in zip(test_sentences[i], np.argmax(y_test[i],axis=-1), p[0]):    \n",
    "    print(\"{:15} ({:5}): {}\".format(w[0], tags[true], tags[pred]))"
   ]
  },
  {
   "cell_type": "code",
   "execution_count": null,
   "metadata": {},
   "outputs": [],
   "source": [
    "TP = {}\n",
    "TN = {}\n",
    "FP = {}\n",
    "FN = {}\n",
    "for tag in tag2idx.keys():\n",
    "    TP[tag] = 0\n",
    "    TN[tag] = 0    \n",
    "    FP[tag] = 0    \n",
    "    FN[tag] = 0    \n",
    "\n",
    "def accumulate_score_by_tag(gt, pred):\n",
    "    \"\"\"\n",
    "    For each tag keep stats\n",
    "    \"\"\"\n",
    "    if gt == pred:\n",
    "        TP[gt] += 1\n",
    "    elif gt != 'O' and pred == 'O':\n",
    "        FN[gt] +=1\n",
    "    elif gt == 'O' and pred != 'O':\n",
    "        FP[gt] += 1\n",
    "    else:\n",
    "        TN[gt] += 1"
   ]
  },
  {
   "cell_type": "code",
   "execution_count": null,
   "metadata": {},
   "outputs": [],
   "source": [
    "for i, sentence in enumerate(X_test):\n",
    "    y_hat = np.argmax(test_pred[0], axis=-1)\n",
    "    gt = np.argmax(y_test[0], axis=-1)\n",
    "    for idx, (w,pred) in enumerate(zip(sentence,y_hat)):\n",
    "        accumulate_score_by_tag(idx2tag[gt[idx]],tags[pred])\n"
   ]
  },
  {
   "cell_type": "code",
   "execution_count": null,
   "metadata": {},
   "outputs": [],
   "source": [
    "for tag in tag2idx.keys():\n",
    "    print(f'tag:{tag}')    \n",
    "    print('\\t TN:{:10}\\tFP:{:10}'.format(TN[tag],FP[tag]))\n",
    "    print('\\t FN:{:10}\\tTP:{:10}'.format(FN[tag],TP[tag]))    \n"
   ]
  },
  {
   "cell_type": "raw",
   "metadata": {},
   "source": [
    "i = 1\n",
    "p = model.predict(np.array([X_test[i]]))\n",
    "#p = np.argmax(p, axis=-1)\n",
    "p = p[0].astype(int)\n",
    "#p\n",
    "true = np.argmax(y_test[i], axis=-1)\n",
    "print(\"{:15} ({:5}): {}\".format(\"Word\", \"True\", \"Pred\"))\n",
    "for w, true, pred in zip(test_sentences[i], np.argmax(y_test[i],axis=-1), p):    \n",
    "    print(\"{:15} ({:5}): {}\".format(w[0], tags[true], tags[pred]))"
   ]
  },
  {
   "cell_type": "markdown",
   "metadata": {},
   "source": [
    "### Evaluando con una muestra"
   ]
  },
  {
   "cell_type": "code",
   "execution_count": null,
   "metadata": {},
   "outputs": [],
   "source": []
  }
 ],
 "metadata": {
  "environment": {
   "name": "tf2-2-3-gpu.2-3.m59",
   "type": "gcloud",
   "uri": "gcr.io/deeplearning-platform-release/tf2-2-3-gpu.2-3:m59"
  },
  "kernelspec": {
   "display_name": "Python 3",
   "language": "python",
   "name": "python3"
  },
  "language_info": {
   "codemirror_mode": {
    "name": "ipython",
    "version": 3
   },
   "file_extension": ".py",
   "mimetype": "text/x-python",
   "name": "python",
   "nbconvert_exporter": "python",
   "pygments_lexer": "ipython3",
   "version": "3.7.3"
  }
 },
 "nbformat": 4,
 "nbformat_minor": 4
}
