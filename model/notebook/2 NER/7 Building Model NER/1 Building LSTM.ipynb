{
 "cells": [
  {
   "cell_type": "markdown",
   "metadata": {},
   "source": [
    "# Building Model LSTM\n",
    "### By **Néstor Suat** in 2020\n",
    "\n",
    "**Descripción:** Generando un modelo ML para la tarea de NER en tweets de accidentes para las etiquetas `loc` y `time` usando el estandar BIO.\n",
    "\n",
    "**Input:**\n",
    "* TSV con dataset etiquetado con BIO\n",
    "\n",
    "**Output:**\n",
    "* Model\n",
    "\n",
    "**Tomado de**: https://www.depends-on-the-definition.com/guide-sequence-tagging-neural-networks-python/\n",
    "***"
   ]
  },
  {
   "cell_type": "markdown",
   "metadata": {},
   "source": [
    "### Importando librerías"
   ]
  },
  {
   "cell_type": "code",
   "execution_count": 1,
   "metadata": {},
   "outputs": [],
   "source": [
    "import pandas as pd\n",
    "import numpy as np\n",
    "import matplotlib.pyplot as plt\n",
    "\n",
    "plt.style.use(\"ggplot\")"
   ]
  },
  {
   "cell_type": "markdown",
   "metadata": {},
   "source": [
    "### Source code"
   ]
  },
  {
   "cell_type": "markdown",
   "metadata": {},
   "source": [
    "La clase `StenteceGetter` es una clase generica en muchos proyectos de NER, permite tomar el dataset y prepararlo en una lista python para trabajar por oraciones."
   ]
  },
  {
   "cell_type": "code",
   "execution_count": 2,
   "metadata": {},
   "outputs": [],
   "source": [
    "class SentenceGetter(object):\n",
    "    \n",
    "    def __init__(self, data):\n",
    "        self.n_sent = 1\n",
    "        self.data = data\n",
    "        self.empty = False\n",
    "        agg_func = lambda s: [(w, p, t) for w, p, t in zip(s[\"Word\"].values.tolist(),\n",
    "                                                           s[\"POS\"].values.tolist(),\n",
    "                                                           s[\"Tag\"].values.tolist())]\n",
    "        self.grouped = self.data.groupby(\"Sentence #\").apply(agg_func)\n",
    "        self.sentences = [s for s in self.grouped]\n",
    "    \n",
    "    def get_next(self):\n",
    "        try:\n",
    "            #s = self.grouped[\"Sentence: {}\".format(self.n_sent)]\n",
    "            s = self.grouped[self.n_sent]\n",
    "            self.n_sent += 1\n",
    "            return s\n",
    "        except:\n",
    "            return None"
   ]
  },
  {
   "cell_type": "markdown",
   "metadata": {},
   "source": [
    "### Importando dataset anotado"
   ]
  },
  {
   "cell_type": "markdown",
   "metadata": {},
   "source": [
    "El archivo `ner-crf-training-data.tsv` fue construido anteriormente transformando el formato de anotación de Standoff a BIO."
   ]
  },
  {
   "cell_type": "code",
   "execution_count": 3,
   "metadata": {},
   "outputs": [],
   "source": [
    "file = 'ner-crf-training-data.tsv'\n",
    "dir_ = \"../../../data/v1/NER/\"\n",
    "data = pd.read_csv(dir_+file, delimiter = \"\\t\", quoting = 3, names=['Sentence #','Word','POS','Tag'])\n",
    "#dataset[:50]"
   ]
  },
  {
   "cell_type": "markdown",
   "metadata": {},
   "source": [
    "#### **Preparando el dataset**"
   ]
  },
  {
   "cell_type": "markdown",
   "metadata": {},
   "source": [
    "Se construye un corpus de todas las palabras presentes en los tweets, se agrega un token esepcial para rellenar llamado ENDPAD, finalmente se calcula el tamaño del corpus de palabras. Esto mismo se hace para las etiquetas, aunque en este caso es más fácil porque son 5: `b-loc`, `i-loc`, `b-time`, `i-time` y `o`."
   ]
  },
  {
   "cell_type": "code",
   "execution_count": 4,
   "metadata": {},
   "outputs": [
    {
     "data": {
      "text/plain": [
       "456"
      ]
     },
     "execution_count": 4,
     "metadata": {},
     "output_type": "execute_result"
    }
   ],
   "source": [
    "words = list(set(data[\"Word\"].values))\n",
    "words.sort()\n",
    "words.append(\"ENDPAD\")\n",
    "n_words = len(words); n_words"
   ]
  },
  {
   "cell_type": "code",
   "execution_count": 5,
   "metadata": {},
   "outputs": [
    {
     "data": {
      "text/plain": [
       "5"
      ]
     },
     "execution_count": 5,
     "metadata": {},
     "output_type": "execute_result"
    }
   ],
   "source": [
    "#tags = list(set(data[\"Tag\"].values))\n",
    "tags = ['B-loc', 'I-loc', 'B-time', 'I-time', 'O']\n",
    "n_tags = len(tags); n_tags"
   ]
  },
  {
   "cell_type": "markdown",
   "metadata": {},
   "source": [
    "Se toman los datos y se construye el arreglo de las oraciones a trabajar"
   ]
  },
  {
   "cell_type": "code",
   "execution_count": 6,
   "metadata": {},
   "outputs": [],
   "source": [
    "getter = SentenceGetter(data)\n",
    "sentences = getter.sentences\n",
    "#sentences"
   ]
  },
  {
   "cell_type": "code",
   "execution_count": 7,
   "metadata": {},
   "outputs": [
    {
     "data": {
      "image/png": "[encoded data removed]",
      "text/plain": [
       "<Figure size 432x288 with 1 Axes>"
      ]
     },
     "metadata": {
      "needs_background": "light"
     },
     "output_type": "display_data"
    }
   ],
   "source": [
    "plt.hist([len(s) for s in sentences], bins=50)\n",
    "plt.show()"
   ]
  },
  {
   "cell_type": "markdown",
   "metadata": {},
   "source": [
    "En la gráfica anterior se puede observar el tamaño máximo de los tweets. Para Keras se necesita como entrada una longitud fija de secuencias, por esta razón se elije 55 como un valor máximo."
   ]
  },
  {
   "cell_type": "code",
   "execution_count": 50,
   "metadata": {},
   "outputs": [],
   "source": [
    "max_len = 55\n",
    "word2idx = {w: i for i, w in enumerate(words)}\n",
    "tag2idx = {t: i for i, t in enumerate(tags)}"
   ]
  },
  {
   "cell_type": "code",
   "execution_count": 51,
   "metadata": {
    "collapsed": true,
    "jupyter": {
     "outputs_hidden": true
    }
   },
   "outputs": [
    {
     "data": {
      "text/plain": [
       "{'!!': 0,\n",
       " '(': 1,\n",
       " ')': 2,\n",
       " '*': 3,\n",
       " ',': 4,\n",
       " '-': 5,\n",
       " '.': 6,\n",
       " '10': 7,\n",
       " '100': 8,\n",
       " '102': 9,\n",
       " '106': 10,\n",
       " '116': 11,\n",
       " '123': 12,\n",
       " '127': 13,\n",
       " '128': 14,\n",
       " '13': 15,\n",
       " '131': 16,\n",
       " '146': 17,\n",
       " '15': 18,\n",
       " '17': 19,\n",
       " '170': 20,\n",
       " '183': 21,\n",
       " '2': 22,\n",
       " '23D': 23,\n",
       " '24': 24,\n",
       " '26': 25,\n",
       " '27': 26,\n",
       " '29': 27,\n",
       " '3': 28,\n",
       " '30': 29,\n",
       " '34': 30,\n",
       " '36': 31,\n",
       " '4': 32,\n",
       " '50': 33,\n",
       " '53': 34,\n",
       " '59': 35,\n",
       " '5:30': 36,\n",
       " '62': 37,\n",
       " '63': 38,\n",
       " '64': 39,\n",
       " '65': 40,\n",
       " '66': 41,\n",
       " '68': 42,\n",
       " '7': 43,\n",
       " '70': 44,\n",
       " '72': 45,\n",
       " '79': 46,\n",
       " '7ma': 47,\n",
       " '8': 48,\n",
       " '80': 49,\n",
       " '81': 50,\n",
       " '9': 51,\n",
       " '9:45': 52,\n",
       " ':': 53,\n",
       " ';': 54,\n",
       " '?': 55,\n",
       " '??': 56,\n",
       " 'A': 57,\n",
       " 'Acabo': 58,\n",
       " 'Accidente': 59,\n",
       " 'Accidentes': 60,\n",
       " 'Actualización': 61,\n",
       " 'Américas': 62,\n",
       " 'Aranda': 63,\n",
       " 'Aut': 64,\n",
       " 'Autonorte': 65,\n",
       " 'Autopista': 66,\n",
       " 'Autoridades': 67,\n",
       " 'Av': 68,\n",
       " 'Av.': 69,\n",
       " 'Avenida': 70,\n",
       " 'Beisbol': 71,\n",
       " 'Bicentenario': 72,\n",
       " 'Bogotá': 73,\n",
       " 'Boyaca': 74,\n",
       " 'Boyacá': 75,\n",
       " 'Bus': 76,\n",
       " 'Cafam': 77,\n",
       " 'Cali': 78,\n",
       " 'Calle': 79,\n",
       " 'Caracas': 80,\n",
       " 'Caro': 81,\n",
       " 'Carrera': 82,\n",
       " 'Catorce': 83,\n",
       " 'Chapinero': 84,\n",
       " 'Choque': 85,\n",
       " 'Ciudad': 86,\n",
       " 'Colombia': 87,\n",
       " 'Corabastos': 88,\n",
       " 'Cr': 89,\n",
       " 'De': 90,\n",
       " 'Dos': 91,\n",
       " 'Durante': 92,\n",
       " 'El': 93,\n",
       " 'En': 94,\n",
       " 'Esta': 95,\n",
       " 'Galerías': 96,\n",
       " 'Grave': 97,\n",
       " 'La': 98,\n",
       " 'Las': 99,\n",
       " 'Los': 100,\n",
       " 'Lourdes': 101,\n",
       " 'Moto': 102,\n",
       " 'Motociclista': 103,\n",
       " 'No': 104,\n",
       " 'Normandía': 105,\n",
       " 'Norte': 106,\n",
       " 'Nuestras': 107,\n",
       " 'Olaya': 108,\n",
       " 'Oriente': 109,\n",
       " 'Panamericana': 110,\n",
       " 'Por': 111,\n",
       " 'Prado': 112,\n",
       " 'Puente': 113,\n",
       " 'SITP': 114,\n",
       " 'Se': 115,\n",
       " 'Sentido': 116,\n",
       " 'Señores': 117,\n",
       " 'Siberia': 118,\n",
       " 'Sitp': 119,\n",
       " 'Sur': 120,\n",
       " 'Sur-Norte': 121,\n",
       " 'TM': 122,\n",
       " 'Trancón': 123,\n",
       " 'Un': 124,\n",
       " 'Una': 125,\n",
       " 'Ya': 126,\n",
       " 'a': 127,\n",
       " 'a.m': 128,\n",
       " 'accidente': 129,\n",
       " 'accidentes': 130,\n",
       " 'afectaciones': 131,\n",
       " 'al': 132,\n",
       " 'altura': 133,\n",
       " 'am': 134,\n",
       " 'ambulancia': 135,\n",
       " 'anoche': 136,\n",
       " 'arriba': 137,\n",
       " 'arriesga': 138,\n",
       " 'asignaron': 139,\n",
       " 'asunto': 140,\n",
       " 'atencion': 141,\n",
       " 'atender': 142,\n",
       " 'atendieron': 143,\n",
       " 'atienden': 144,\n",
       " 'atrapadas': 145,\n",
       " 'atrapados': 146,\n",
       " 'atropellamiento': 147,\n",
       " 'atropelló': 148,\n",
       " 'auto': 149,\n",
       " 'autonorte': 150,\n",
       " 'autopista': 151,\n",
       " 'autoridades': 152,\n",
       " 'av': 153,\n",
       " 'avenida': 154,\n",
       " 'año': 155,\n",
       " 'bajo': 156,\n",
       " 'basuras': 157,\n",
       " 'bicicleta': 158,\n",
       " 'bloquea': 159,\n",
       " 'bloqueado': 160,\n",
       " 'bogota': 161,\n",
       " 'bogotatransito': 162,\n",
       " 'bomberos': 163,\n",
       " 'boyacá': 164,\n",
       " 'bus': 165,\n",
       " 'buses': 166,\n",
       " 'cablenoticias': 167,\n",
       " 'calle': 168,\n",
       " 'calles': 169,\n",
       " 'camarada': 170,\n",
       " 'camilo': 171,\n",
       " 'camino': 172,\n",
       " 'camioneta': 173,\n",
       " 'camión': 174,\n",
       " 'cancha': 175,\n",
       " 'caos': 176,\n",
       " 'caracol': 177,\n",
       " 'caracolradio': 178,\n",
       " 'carrera': 179,\n",
       " 'carril': 180,\n",
       " 'carriles': 181,\n",
       " 'carro': 182,\n",
       " 'carros': 183,\n",
       " 'causa': 184,\n",
       " 'caída': 185,\n",
       " 'central': 186,\n",
       " 'cerca': 187,\n",
       " 'cerraron': 188,\n",
       " 'choque': 189,\n",
       " 'ciclista': 190,\n",
       " 'ciclistas': 191,\n",
       " 'citynoticias': 192,\n",
       " 'citytv': 193,\n",
       " 'cl': 194,\n",
       " 'club': 195,\n",
       " 'colar': 196,\n",
       " 'colision': 197,\n",
       " 'colsubsidio': 198,\n",
       " 'como': 199,\n",
       " 'completamente': 200,\n",
       " 'con': 201,\n",
       " 'conductor': 202,\n",
       " 'congestión': 203,\n",
       " 'contingencia': 204,\n",
       " 'contra': 205,\n",
       " 'controlar': 206,\n",
       " 'corto': 207,\n",
       " 'costado': 208,\n",
       " 'cra': 209,\n",
       " 'de': 210,\n",
       " 'dejando': 211,\n",
       " 'del': 212,\n",
       " 'delicado': 213,\n",
       " 'desarrollo': 214,\n",
       " 'desde': 215,\n",
       " 'desplazamiento': 216,\n",
       " 'domingo': 217,\n",
       " 'donde': 218,\n",
       " 'dos': 219,\n",
       " 'dual': 220,\n",
       " 'días': 221,\n",
       " 'el': 222,\n",
       " 'embestido': 223,\n",
       " 'embiste': 224,\n",
       " 'emergencia': 225,\n",
       " 'en': 226,\n",
       " 'enorme': 227,\n",
       " 'entiendo': 228,\n",
       " 'entre': 229,\n",
       " 'enviar': 230,\n",
       " 'erika': 231,\n",
       " 'es': 232,\n",
       " 'esa': 233,\n",
       " 'escolar': 234,\n",
       " 'ese': 235,\n",
       " 'esos': 236,\n",
       " 'esta': 237,\n",
       " 'estacion': 238,\n",
       " 'estación': 239,\n",
       " 'este': 240,\n",
       " 'estrella': 241,\n",
       " 'estrellada': 242,\n",
       " 'está': 243,\n",
       " 'exceso': 244,\n",
       " 'fallecido': 245,\n",
       " 'fatalidad': 246,\n",
       " 'favor': 247,\n",
       " 'fds': 248,\n",
       " 'floresta': 249,\n",
       " 'fm': 250,\n",
       " 'fontalvo': 251,\n",
       " 'fontibón': 252,\n",
       " 'forma': 253,\n",
       " 'frente': 254,\n",
       " 'frontal': 255,\n",
       " 'fue': 256,\n",
       " 'fuertes': 257,\n",
       " 'furgón': 258,\n",
       " 'g': 259,\n",
       " 'gaseosas': 260,\n",
       " 'genera': 261,\n",
       " 'generaron': 262,\n",
       " 'gente': 263,\n",
       " 'giro': 264,\n",
       " 'grabe': 265,\n",
       " 'gran': 266,\n",
       " 'grandes': 267,\n",
       " 'guaduas': 268,\n",
       " 'gusgomez1701': 269,\n",
       " 'ha': 270,\n",
       " 'hacia': 271,\n",
       " 'han': 272,\n",
       " 'hay': 273,\n",
       " 'heridas': 274,\n",
       " 'herido': 275,\n",
       " 'heridos': 276,\n",
       " 'hora': 277,\n",
       " 'horas': 278,\n",
       " 'hoy': 279,\n",
       " 'hubo': 280,\n",
       " 'hueco': 281,\n",
       " 'iba': 282,\n",
       " 'imbéciles': 283,\n",
       " 'impactante': 284,\n",
       " 'incidente': 285,\n",
       " 'informan': 286,\n",
       " 'informaron': 287,\n",
       " 'j': 288,\n",
       " 'joven': 289,\n",
       " 'la': 290,\n",
       " 'las': 291,\n",
       " 'latas': 292,\n",
       " 'lento': 293,\n",
       " 'lesionada': 294,\n",
       " 'lesionado': 295,\n",
       " 'lesiones': 296,\n",
       " 'llame': 297,\n",
       " 'llegó': 298,\n",
       " 'lo': 299,\n",
       " 'los': 300,\n",
       " 'luego': 301,\n",
       " 'madrugada': 302,\n",
       " 'mayo': 303,\n",
       " 'mañana': 304,\n",
       " 'me': 305,\n",
       " 'medio': 306,\n",
       " 'minutos': 307,\n",
       " 'mismo': 308,\n",
       " 'monumental': 309,\n",
       " 'motero': 310,\n",
       " 'motocicleta': 311,\n",
       " 'motociclista': 312,\n",
       " 'movilidad': 313,\n",
       " 'muchacho': 314,\n",
       " 'muere': 315,\n",
       " 'muerto': 316,\n",
       " 'muertos': 317,\n",
       " 'mueve': 318,\n",
       " 'multiple': 319,\n",
       " 'más': 320,\n",
       " 'ni': 321,\n",
       " 'ningún': 322,\n",
       " 'no': 323,\n",
       " 'norte': 324,\n",
       " 'noticia': 325,\n",
       " 'noticiascaracol': 326,\n",
       " 'nuestras': 327,\n",
       " 'o': 328,\n",
       " 'occ-or': 329,\n",
       " 'occidente': 330,\n",
       " 'ocurrido': 331,\n",
       " 'ocurridos': 332,\n",
       " 'ocurrió': 333,\n",
       " 'operativo': 334,\n",
       " 'oreja': 335,\n",
       " 'oriente': 336,\n",
       " 'otro': 337,\n",
       " 'p': 338,\n",
       " 'paa': 339,\n",
       " 'para': 340,\n",
       " 'paralizó': 341,\n",
       " 'parecer': 342,\n",
       " 'parque': 343,\n",
       " 'parte': 344,\n",
       " 'particular': 345,\n",
       " 'particulares': 346,\n",
       " 'paso': 347,\n",
       " 'persona': 348,\n",
       " 'personas': 349,\n",
       " 'piscina': 350,\n",
       " 'policia': 351,\n",
       " 'policiabogota': 352,\n",
       " 'policía': 353,\n",
       " 'politransito': 354,\n",
       " 'poquito': 355,\n",
       " 'por': 356,\n",
       " 'porquería': 357,\n",
       " 'presentó': 358,\n",
       " 'producida': 359,\n",
       " 'provisional': 360,\n",
       " 'puente': 361,\n",
       " 'público': 362,\n",
       " 'que': 363,\n",
       " 'quedado': 364,\n",
       " 'quieta': 365,\n",
       " 'ramirez': 366,\n",
       " 'recoger': 367,\n",
       " 'recolector': 368,\n",
       " 'red': 369,\n",
       " 'reducido': 370,\n",
       " 'registra': 371,\n",
       " 'reportado': 372,\n",
       " 'resulta': 373,\n",
       " 'resultó': 374,\n",
       " 'retenido': 375,\n",
       " 'roce': 376,\n",
       " 'rotonda': 377,\n",
       " 'ruta': 378,\n",
       " 'sale': 379,\n",
       " 'salen': 380,\n",
       " 'se': 381,\n",
       " 'sector': 382,\n",
       " 'sectormovilidad': 383,\n",
       " 'según': 384,\n",
       " 'sentido': 385,\n",
       " 'servicio': 386,\n",
       " 'simple': 387,\n",
       " 'sitio': 388,\n",
       " 'sitp': 389,\n",
       " 'situación': 390,\n",
       " 'sobre': 391,\n",
       " 'solicita': 392,\n",
       " 'su': 393,\n",
       " 'suba': 394,\n",
       " 'subiendo': 395,\n",
       " 'sufrió': 396,\n",
       " 'sur': 397,\n",
       " 'sur-norte': 398,\n",
       " 'tarde': 399,\n",
       " 'taxi': 400,\n",
       " 'taxis': 401,\n",
       " 'taxista': 402,\n",
       " 'tiene': 403,\n",
       " 'tienen': 404,\n",
       " 'tocó': 405,\n",
       " 'todo': 406,\n",
       " 'todos': 407,\n",
       " 'tomar': 408,\n",
       " 'trabajar': 409,\n",
       " 'tractocamión': 410,\n",
       " 'trafico': 411,\n",
       " 'tramo': 412,\n",
       " 'trancón': 413,\n",
       " 'transito': 414,\n",
       " 'transitobta': 415,\n",
       " 'transmilenio': 416,\n",
       " 'tras': 417,\n",
       " 'trasladado': 418,\n",
       " 'tremendo': 419,\n",
       " 'tres': 420,\n",
       " 'tráfico': 421,\n",
       " 'tránsito': 422,\n",
       " 'tv': 423,\n",
       " 'ubicado': 424,\n",
       " 'ultimo': 425,\n",
       " 'un': 426,\n",
       " 'una': 427,\n",
       " 'unidad': 428,\n",
       " 'unidades': 429,\n",
       " 'uno': 430,\n",
       " 'unos': 431,\n",
       " 'va': 432,\n",
       " 'van': 433,\n",
       " 'variante': 434,\n",
       " 'vehiculos': 435,\n",
       " 'vehículo': 436,\n",
       " 'vehículos': 437,\n",
       " 'velocidad': 438,\n",
       " 'ver': 439,\n",
       " 'vida': 440,\n",
       " 'vientos': 441,\n",
       " 'viernes': 442,\n",
       " 'volcamiento': 443,\n",
       " 'volcó': 444,\n",
       " 'vs': 445,\n",
       " 'vía': 446,\n",
       " 'y': 447,\n",
       " 'ya': 448,\n",
       " 'youtube': 449,\n",
       " 'zona': 450,\n",
       " 'zonal': 451,\n",
       " '¿': 452,\n",
       " 'árbol': 453,\n",
       " 'últimas': 454,\n",
       " 'ENDPAD': 455}"
      ]
     },
     "execution_count": 51,
     "metadata": {},
     "output_type": "execute_result"
    }
   ],
   "source": [
    "word2idx"
   ]
  },
  {
   "cell_type": "markdown",
   "metadata": {},
   "source": [
    "Finalmente se crea un dicccionario (key:value) del corpus de palabras y se le asigna un id."
   ]
  },
  {
   "cell_type": "code",
   "execution_count": 9,
   "metadata": {},
   "outputs": [
    {
     "data": {
      "text/plain": [
       "168"
      ]
     },
     "execution_count": 9,
     "metadata": {},
     "output_type": "execute_result"
    }
   ],
   "source": [
    "word2idx['calle'] #Por ejemplo el id para la palabra calle"
   ]
  },
  {
   "cell_type": "code",
   "execution_count": 10,
   "metadata": {},
   "outputs": [
    {
     "data": {
      "text/plain": [
       "2"
      ]
     },
     "execution_count": 10,
     "metadata": {},
     "output_type": "execute_result"
    }
   ],
   "source": [
    "tag2idx[\"B-time\"] #Id para la etiqueta b-time"
   ]
  },
  {
   "cell_type": "markdown",
   "metadata": {},
   "source": [
    "## Tokenize and prepare the sentences"
   ]
  },
  {
   "cell_type": "markdown",
   "metadata": {},
   "source": [
    "Ahora se mapea las oraciones en una secuencia de números y si el tweet es más pequeño que el `max_len` se agrega una secuencia de pads."
   ]
  },
  {
   "cell_type": "code",
   "execution_count": 11,
   "metadata": {},
   "outputs": [],
   "source": [
    "from tensorflow.keras.preprocessing.sequence import pad_sequences\n",
    "from tensorflow.keras.utils import to_categorical"
   ]
  },
  {
   "cell_type": "code",
   "execution_count": 24,
   "metadata": {},
   "outputs": [
    {
     "name": "stdout",
     "output_type": "stream",
     "text": [
      "[383 280 426 189 229 426 389 447 427 173   4 226 290 335 210 290  42 363\n",
      " 379 127 291  25 271 222 330   4 404 406 222 421 375   4 273 427 135   0\n",
      " 455 455 455 455 455 455 455 455 455 455 455 455 455 455 455 455 455 455\n",
      " 455]\n",
      "[4 4 4 4 4 4 4 4 4 4 4 4 4 4 4 4 0 1 1 1 1 1 4 4 4 4 4 4 4 4 4 4 4 4 4 4 4\n",
      " 4 4 4 4 4 4 4 4 4 4 4 4 4 4 4 4 4 4]\n"
     ]
    }
   ],
   "source": [
    "X = [[word2idx[w[0]] for w in s] for s in sentences]\n",
    "X = pad_sequences(maxlen=max_len, sequences=X, padding=\"post\", value=n_words - 1)\n",
    "\n",
    "y = [[tag2idx[w[2]] for w in s] for s in sentences]\n",
    "y = pad_sequences(maxlen=max_len, sequences=y, padding=\"post\", value=tag2idx[\"O\"])\n",
    "\n",
    "print(X[1])\n",
    "print(y[1])"
   ]
  },
  {
   "cell_type": "markdown",
   "metadata": {},
   "source": [
    "**Para entrenar la red, necesitamos tambien cambiar 'label' a categorical.**"
   ]
  },
  {
   "cell_type": "code",
   "execution_count": 25,
   "metadata": {
    "collapsed": true,
    "jupyter": {
     "outputs_hidden": true
    }
   },
   "outputs": [
    {
     "data": {
      "text/plain": [
       "array([[0., 0., 0., 0., 1.],\n",
       "       [0., 0., 0., 0., 1.],\n",
       "       [0., 0., 0., 0., 1.],\n",
       "       [0., 0., 0., 0., 1.],\n",
       "       [0., 0., 0., 0., 1.],\n",
       "       [0., 0., 0., 0., 1.],\n",
       "       [0., 0., 0., 0., 1.],\n",
       "       [0., 0., 0., 0., 1.],\n",
       "       [0., 0., 0., 0., 1.],\n",
       "       [0., 0., 0., 0., 1.],\n",
       "       [0., 0., 0., 0., 1.],\n",
       "       [0., 0., 0., 0., 1.],\n",
       "       [0., 0., 0., 0., 1.],\n",
       "       [0., 0., 0., 0., 1.],\n",
       "       [0., 0., 0., 0., 1.],\n",
       "       [0., 0., 0., 0., 1.],\n",
       "       [1., 0., 0., 0., 0.],\n",
       "       [0., 1., 0., 0., 0.],\n",
       "       [0., 1., 0., 0., 0.],\n",
       "       [0., 1., 0., 0., 0.],\n",
       "       [0., 1., 0., 0., 0.],\n",
       "       [0., 1., 0., 0., 0.],\n",
       "       [0., 0., 0., 0., 1.],\n",
       "       [0., 0., 0., 0., 1.],\n",
       "       [0., 0., 0., 0., 1.],\n",
       "       [0., 0., 0., 0., 1.],\n",
       "       [0., 0., 0., 0., 1.],\n",
       "       [0., 0., 0., 0., 1.],\n",
       "       [0., 0., 0., 0., 1.],\n",
       "       [0., 0., 0., 0., 1.],\n",
       "       [0., 0., 0., 0., 1.],\n",
       "       [0., 0., 0., 0., 1.],\n",
       "       [0., 0., 0., 0., 1.],\n",
       "       [0., 0., 0., 0., 1.],\n",
       "       [0., 0., 0., 0., 1.],\n",
       "       [0., 0., 0., 0., 1.],\n",
       "       [0., 0., 0., 0., 1.],\n",
       "       [0., 0., 0., 0., 1.],\n",
       "       [0., 0., 0., 0., 1.],\n",
       "       [0., 0., 0., 0., 1.],\n",
       "       [0., 0., 0., 0., 1.],\n",
       "       [0., 0., 0., 0., 1.],\n",
       "       [0., 0., 0., 0., 1.],\n",
       "       [0., 0., 0., 0., 1.],\n",
       "       [0., 0., 0., 0., 1.],\n",
       "       [0., 0., 0., 0., 1.],\n",
       "       [0., 0., 0., 0., 1.],\n",
       "       [0., 0., 0., 0., 1.],\n",
       "       [0., 0., 0., 0., 1.],\n",
       "       [0., 0., 0., 0., 1.],\n",
       "       [0., 0., 0., 0., 1.],\n",
       "       [0., 0., 0., 0., 1.],\n",
       "       [0., 0., 0., 0., 1.],\n",
       "       [0., 0., 0., 0., 1.],\n",
       "       [0., 0., 0., 0., 1.]], dtype=float32)"
      ]
     },
     "execution_count": 25,
     "metadata": {},
     "output_type": "execute_result"
    }
   ],
   "source": [
    "y = [to_categorical(i, num_classes=n_tags) for i in y]\n",
    "#y[1]"
   ]
  },
  {
   "cell_type": "markdown",
   "metadata": {},
   "source": [
    "## Train and Test set"
   ]
  },
  {
   "cell_type": "code",
   "execution_count": 1,
   "metadata": {},
   "outputs": [],
   "source": [
    "from sklearn.model_selection import train_test_split"
   ]
  },
  {
   "cell_type": "code",
   "execution_count": 27,
   "metadata": {},
   "outputs": [],
   "source": [
    "X_train, X_test, y_train, y_test = train_test_split(X, y, test_size=0.2, random_state=123)"
   ]
  },
  {
   "cell_type": "code",
   "execution_count": 28,
   "metadata": {},
   "outputs": [
    {
     "name": "stdout",
     "output_type": "stream",
     "text": [
      "Train: (40, 55) 40\n",
      "Test: (10, 55) 40\n"
     ]
    }
   ],
   "source": [
    "print(\"Train:\",X_train.shape, len(y_train))\n",
    "print(\"Test:\",X_test.shape, len(y_test))"
   ]
  },
  {
   "cell_type": "markdown",
   "metadata": {},
   "source": [
    "## Build and fit the LSTM model"
   ]
  },
  {
   "cell_type": "code",
   "execution_count": 29,
   "metadata": {},
   "outputs": [],
   "source": [
    "from tensorflow.keras.models import Model\n",
    "from tensorflow.keras import Input, Sequential\n",
    "from tensorflow.keras.layers import LSTM, Embedding, Dense, TimeDistributed, Dropout, Bidirectional\n",
    "from tensorflow import keras"
   ]
  },
  {
   "cell_type": "code",
   "execution_count": 67,
   "metadata": {},
   "outputs": [],
   "source": [
    "dropout = 0.5\n",
    "\n",
    "model = Sequential()\n",
    "model.add(Embedding(input_dim=n_words, output_dim=max_len, input_length=max_len)) # 55-dim embedding\n",
    "model.add(Bidirectional(LSTM(units=100, return_sequences=True, dropout=dropout, recurrent_dropout=dropout)))\n",
    "model.add(TimeDistributed(Dense(n_tags, activation=\"softmax\")))\n",
    "optimizer = keras.optimizers.Adam(lr=0.005, beta_1=0.9, beta_2=0.999)\n",
    "model.compile(optimizer=optimizer, loss=\"categorical_crossentropy\", metrics=[\"accuracy\"])"
   ]
  },
  {
   "cell_type": "code",
   "execution_count": 68,
   "metadata": {},
   "outputs": [
    {
     "name": "stdout",
     "output_type": "stream",
     "text": [
      "Model: \"sequential_2\"\n",
      "_________________________________________________________________\n",
      "Layer (type)                 Output Shape              Param #   \n",
      "=================================================================\n",
      "embedding_2 (Embedding)      (None, 55, 55)            25080     \n",
      "_________________________________________________________________\n",
      "bidirectional_2 (Bidirection (None, 55, 200)           124800    \n",
      "_________________________________________________________________\n",
      "time_distributed_2 (TimeDist (None, 55, 5)             1005      \n",
      "=================================================================\n",
      "Total params: 150,885\n",
      "Trainable params: 150,885\n",
      "Non-trainable params: 0\n",
      "_________________________________________________________________\n"
     ]
    }
   ],
   "source": [
    "model.summary()"
   ]
  },
  {
   "cell_type": "code",
   "execution_count": 69,
   "metadata": {},
   "outputs": [
    {
     "name": "stdout",
     "output_type": "stream",
     "text": [
      "Epoch 1/10\n",
      "8/8 [==============================] - 1s 98ms/step - loss: 0.8668 - accuracy: 0.8028 - val_loss: 0.5357 - val_accuracy: 0.8818\n",
      "Epoch 2/10\n",
      "8/8 [==============================] - 0s 50ms/step - loss: 0.3460 - accuracy: 0.9045 - val_loss: 0.5202 - val_accuracy: 0.8818\n",
      "Epoch 3/10\n",
      "8/8 [==============================] - 0s 51ms/step - loss: 0.2870 - accuracy: 0.9102 - val_loss: 0.4036 - val_accuracy: 0.8818\n",
      "Epoch 4/10\n",
      "8/8 [==============================] - 0s 53ms/step - loss: 0.2381 - accuracy: 0.9102 - val_loss: 0.3781 - val_accuracy: 0.8818\n",
      "Epoch 5/10\n",
      "8/8 [==============================] - 0s 54ms/step - loss: 0.2034 - accuracy: 0.9210 - val_loss: 0.3686 - val_accuracy: 0.8977\n",
      "Epoch 6/10\n",
      "8/8 [==============================] - 0s 50ms/step - loss: 0.1689 - accuracy: 0.9443 - val_loss: 0.3339 - val_accuracy: 0.9136\n",
      "Epoch 7/10\n",
      "8/8 [==============================] - 1s 65ms/step - loss: 0.1362 - accuracy: 0.9523 - val_loss: 0.3102 - val_accuracy: 0.9182\n",
      "Epoch 8/10\n",
      "8/8 [==============================] - 0s 56ms/step - loss: 0.1067 - accuracy: 0.9602 - val_loss: 0.2971 - val_accuracy: 0.9182\n",
      "Epoch 9/10\n",
      "8/8 [==============================] - 0s 52ms/step - loss: 0.0828 - accuracy: 0.9744 - val_loss: 0.2780 - val_accuracy: 0.9318\n",
      "Epoch 10/10\n",
      "8/8 [==============================] - 0s 49ms/step - loss: 0.0593 - accuracy: 0.9847 - val_loss: 0.2866 - val_accuracy: 0.9273\n"
     ]
    }
   ],
   "source": [
    "history = model.fit(X_train, np.array(y_train), batch_size=4, epochs=10, validation_split=0.2, verbose=1)"
   ]
  },
  {
   "cell_type": "code",
   "execution_count": 70,
   "metadata": {},
   "outputs": [
    {
     "name": "stdout",
     "output_type": "stream",
     "text": [
      "dict_keys(['loss', 'accuracy', 'val_loss', 'val_accuracy'])\n"
     ]
    },
    {
     "data": {
      "image/png": "[encoded data removed]",
      "text/plain": [
       "<Figure size 1080x576 with 1 Axes>"
      ]
     },
     "metadata": {
      "needs_background": "light"
     },
     "output_type": "display_data"
    },
    {
     "data": {
      "image/png": "[encoded data removed]",
      "text/plain": [
       "<Figure size 1080x576 with 1 Axes>"
      ]
     },
     "metadata": {
      "needs_background": "light"
     },
     "output_type": "display_data"
    }
   ],
   "source": [
    "# list all data in history\n",
    "print(history.history.keys())\n",
    "# summarize history for accuracy\n",
    "plt.figure(figsize=(15, 8))\n",
    "plt.plot(history.history['accuracy'])\n",
    "plt.plot(history.history['val_accuracy'])\n",
    "plt.title('model accuracy')\n",
    "plt.ylabel('accuracy')\n",
    "plt.xlabel('epoch')\n",
    "plt.legend(['train', 'test'], loc='upper left')\n",
    "plt.show()\n",
    "# summarize history for loss\n",
    "plt.figure(figsize=(15, 8))\n",
    "plt.plot(history.history['loss'])\n",
    "plt.plot(history.history['val_loss'])\n",
    "plt.title('model loss')\n",
    "plt.ylabel('loss')\n",
    "plt.xlabel('epoch')\n",
    "plt.legend(['train', 'test'], loc='upper left')\n",
    "plt.show()"
   ]
  },
  {
   "cell_type": "markdown",
   "metadata": {},
   "source": [
    "## Evaluate the model"
   ]
  },
  {
   "cell_type": "raw",
   "metadata": {},
   "source": [
    "!pip install seqeval"
   ]
  },
  {
   "cell_type": "code",
   "execution_count": 71,
   "metadata": {},
   "outputs": [],
   "source": [
    "from seqeval.metrics import precision_score, recall_score, f1_score, classification_report"
   ]
  },
  {
   "cell_type": "code",
   "execution_count": 72,
   "metadata": {},
   "outputs": [
    {
     "name": "stdout",
     "output_type": "stream",
     "text": [
      "1/1 [==============================] - 0s 678us/step\n"
     ]
    }
   ],
   "source": [
    "test_pred = model.predict(X_test, verbose=1)"
   ]
  },
  {
   "cell_type": "code",
   "execution_count": 59,
   "metadata": {
    "collapsed": true,
    "jupyter": {
     "outputs_hidden": true
    }
   },
   "outputs": [
    {
     "data": {
      "text/plain": [
       "array([[[2.08620708e-02, 2.54442524e-02, 9.61023103e-03, 5.32596791e-03,\n",
       "         9.38757479e-01],\n",
       "        [1.65401548e-02, 4.31846045e-02, 9.70223453e-03, 5.58138965e-03,\n",
       "         9.24991548e-01],\n",
       "        [1.57583393e-02, 2.59858929e-02, 8.02756567e-03, 4.57893126e-03,\n",
       "         9.45649266e-01],\n",
       "        ...,\n",
       "        [1.42319168e-05, 5.54079379e-05, 7.00034298e-06, 4.21589903e-06,\n",
       "         9.99919176e-01],\n",
       "        [4.41162410e-05, 1.14681083e-04, 2.26823213e-05, 1.57689574e-05,\n",
       "         9.99802768e-01],\n",
       "        [1.83309647e-04, 3.14846315e-04, 1.07830652e-04, 7.93075960e-05,\n",
       "         9.99314666e-01]],\n",
       "\n",
       "       [[3.57537589e-04, 1.05922017e-03, 3.40510916e-04, 1.96988898e-04,\n",
       "         9.98045683e-01],\n",
       "        [1.93771385e-02, 7.01967441e-03, 4.40128986e-03, 2.12190626e-03,\n",
       "         9.67079937e-01],\n",
       "        [1.62858572e-02, 1.08960429e-02, 4.34467616e-03, 2.28732079e-03,\n",
       "         9.66186047e-01],\n",
       "        ...,\n",
       "        [1.84628220e-06, 7.20231810e-06, 1.01410274e-06, 6.89074113e-07,\n",
       "         9.99989271e-01],\n",
       "        [1.14923805e-05, 2.83939662e-05, 6.10748202e-06, 4.82030600e-06,\n",
       "         9.99949217e-01],\n",
       "        [7.70968254e-05, 1.20980614e-04, 4.48271203e-05, 3.73805269e-05,\n",
       "         9.99719679e-01]],\n",
       "\n",
       "       [[5.20269270e-04, 1.33791345e-03, 5.75939426e-04, 3.54025397e-04,\n",
       "         9.97211874e-01],\n",
       "        [1.98178037e-04, 4.14396753e-04, 1.92441410e-04, 1.05712294e-04,\n",
       "         9.99089241e-01],\n",
       "        [5.85857779e-05, 9.45862485e-05, 4.26166953e-05, 2.12169252e-05,\n",
       "         9.99782979e-01],\n",
       "        ...,\n",
       "        [1.35641790e-06, 6.11070345e-06, 8.08739173e-07, 5.19686239e-07,\n",
       "         9.99991179e-01],\n",
       "        [8.59653119e-06, 2.43347677e-05, 4.93721291e-06, 3.70018620e-06,\n",
       "         9.99958396e-01],\n",
       "        [5.86610477e-05, 1.04677587e-04, 3.67045905e-05, 2.91752021e-05,\n",
       "         9.99770820e-01]],\n",
       "\n",
       "       ...,\n",
       "\n",
       "       [[1.03215255e-01, 1.68690369e-01, 3.87738980e-02, 2.39047576e-02,\n",
       "         6.65415704e-01],\n",
       "        [1.94739259e-03, 8.99177510e-03, 2.20269850e-03, 1.59395568e-03,\n",
       "         9.85264182e-01],\n",
       "        [2.71573983e-04, 9.47916647e-04, 2.54248414e-04, 1.51775530e-04,\n",
       "         9.98374462e-01],\n",
       "        ...,\n",
       "        [1.26451141e-06, 5.95209212e-06, 7.45570276e-07, 4.60652956e-07,\n",
       "         9.99991536e-01],\n",
       "        [7.97531902e-06, 2.35520911e-05, 4.54039218e-06, 3.27425391e-06,\n",
       "         9.99960661e-01],\n",
       "        [5.42501803e-05, 1.00837067e-04, 3.37203128e-05, 2.58166383e-05,\n",
       "         9.99785364e-01]],\n",
       "\n",
       "       [[1.19974278e-02, 1.78149827e-02, 6.56327000e-03, 3.78702139e-03,\n",
       "         9.59837258e-01],\n",
       "        [1.36308195e-02, 1.79421119e-02, 7.03386636e-03, 3.98193067e-03,\n",
       "         9.57411289e-01],\n",
       "        [9.35918093e-03, 1.47069935e-02, 5.57153998e-03, 3.25801200e-03,\n",
       "         9.67104256e-01],\n",
       "        ...,\n",
       "        [8.18463263e-07, 4.61974469e-06, 5.41429017e-07, 2.96456591e-07,\n",
       "         9.99993682e-01],\n",
       "        [5.25751511e-06, 1.85347471e-05, 3.35066215e-06, 2.15309183e-06,\n",
       "         9.99970675e-01],\n",
       "        [3.63896579e-05, 8.03661023e-05, 2.52553964e-05, 1.73238950e-05,\n",
       "         9.99840617e-01]],\n",
       "\n",
       "       [[2.08709046e-01, 2.98944145e-01, 5.25844060e-02, 2.63021719e-02,\n",
       "         4.13460195e-01],\n",
       "        [6.37141243e-02, 7.14202642e-01, 4.07857113e-02, 2.75851395e-02,\n",
       "         1.53712362e-01],\n",
       "        [6.82895910e-03, 1.84530929e-01, 1.21632945e-02, 9.72934067e-03,\n",
       "         7.86747515e-01],\n",
       "        ...,\n",
       "        [1.67532414e-06, 6.84739507e-06, 9.43967336e-07, 6.24790061e-07,\n",
       "         9.99989867e-01],\n",
       "        [1.04708934e-05, 2.70438486e-05, 5.70126622e-06, 4.39126370e-06,\n",
       "         9.99952435e-01],\n",
       "        [7.05317798e-05, 1.15447227e-04, 4.19667376e-05, 3.42113126e-05,\n",
       "         9.99737799e-01]]], dtype=float32)"
      ]
     },
     "execution_count": 59,
     "metadata": {},
     "output_type": "execute_result"
    }
   ],
   "source": [
    "test_pred"
   ]
  },
  {
   "cell_type": "code",
   "execution_count": 60,
   "metadata": {},
   "outputs": [],
   "source": [
    "idx2tag = {i: w for w, i in tag2idx.items()}\n",
    "\n",
    "def pred2label(pred):\n",
    "    out = []\n",
    "    for pred_i in pred:        \n",
    "        out_i = []\n",
    "        for p in pred_i:               \n",
    "            p_i = np.argmax(p)                                        \n",
    "            out_i.append(idx2tag[p_i].replace(\"PAD\", \"O\"))            \n",
    "        out.append(out_i)        \n",
    "    return out\n",
    "\n",
    "pred_labels = pred2label(test_pred)\n",
    "test_labels = pred2label(y_test)"
   ]
  },
  {
   "cell_type": "code",
   "execution_count": 64,
   "metadata": {},
   "outputs": [
    {
     "name": "stdout",
     "output_type": "stream",
     "text": [
      "F1-score: 48.0%\n"
     ]
    }
   ],
   "source": [
    "print(\"F1-score: {:.1%}\".format(f1_score(test_labels, pred_labels)))"
   ]
  },
  {
   "cell_type": "code",
   "execution_count": 65,
   "metadata": {},
   "outputs": [
    {
     "name": "stdout",
     "output_type": "stream",
     "text": [
      "              precision    recall  f1-score   support\n",
      "\n",
      "         loc       0.55      0.50      0.52        12\n",
      "        time       0.00      0.00      0.00         2\n",
      "\n",
      "   micro avg       0.55      0.43      0.48        14\n",
      "   macro avg       0.27      0.25      0.26        14\n",
      "weighted avg       0.47      0.43      0.45        14\n",
      "\n"
     ]
    }
   ],
   "source": [
    "print(classification_report(test_labels, pred_labels))"
   ]
  },
  {
   "cell_type": "markdown",
   "metadata": {},
   "source": [
    "### Evaluando con una muestra"
   ]
  },
  {
   "cell_type": "code",
   "execution_count": 56,
   "metadata": {},
   "outputs": [
    {
     "name": "stdout",
     "output_type": "stream",
     "text": [
      "Word            (True ): Pred\n",
      "En              (O    ): O\n",
      "la              (O    ): O\n",
      "av              (B-loc): O\n",
      "boyacá          (I-loc): O\n",
      "con             (I-loc): I-loc\n",
      "calle           (I-loc): I-loc\n",
      "62              (I-loc): I-loc\n",
      "sur             (O    ): I-loc\n",
      "sentido         (O    ): O\n",
      "norte           (O    ): O\n",
      "sur             (O    ): O\n",
      "choque          (O    ): O\n",
      "simple          (O    ): O\n",
      "de              (O    ): O\n",
      "camión          (O    ): O\n",
      "vs              (O    ): O\n",
      "zonal           (O    ): O\n",
      "provisional     (O    ): O\n",
      "paso            (O    ): O\n",
      "reducido        (O    ): O\n",
      ",               (O    ): O\n",
      "se              (O    ): O\n",
      "solicita        (O    ): O\n",
      "tránsito        (O    ): O\n",
      ".               (O    ): O\n",
      "ENDPAD          (O    ): O\n",
      "ENDPAD          (O    ): O\n",
      "ENDPAD          (O    ): O\n",
      "ENDPAD          (O    ): O\n",
      "ENDPAD          (O    ): O\n",
      "ENDPAD          (O    ): O\n",
      "ENDPAD          (O    ): O\n",
      "ENDPAD          (O    ): O\n",
      "ENDPAD          (O    ): O\n",
      "ENDPAD          (O    ): O\n",
      "ENDPAD          (O    ): O\n",
      "ENDPAD          (O    ): O\n",
      "ENDPAD          (O    ): O\n",
      "ENDPAD          (O    ): O\n",
      "ENDPAD          (O    ): O\n",
      "ENDPAD          (O    ): O\n",
      "ENDPAD          (O    ): O\n",
      "ENDPAD          (O    ): O\n",
      "ENDPAD          (O    ): O\n",
      "ENDPAD          (O    ): O\n",
      "ENDPAD          (O    ): O\n",
      "ENDPAD          (O    ): O\n",
      "ENDPAD          (O    ): O\n",
      "ENDPAD          (O    ): O\n",
      "ENDPAD          (O    ): O\n",
      "ENDPAD          (O    ): O\n",
      "ENDPAD          (O    ): O\n",
      "ENDPAD          (O    ): O\n",
      "ENDPAD          (O    ): O\n",
      "ENDPAD          (O    ): O\n"
     ]
    }
   ],
   "source": [
    "i = 1\n",
    "p = model.predict(np.array([X_test[i]]))\n",
    "p = np.argmax(p, axis=-1)\n",
    "np.argmax(y_test[i], axis=-1)\n",
    "print(\"{:15} ({:5}): {}\".format(\"Word\", \"True\", \"Pred\"))\n",
    "for w, true, pred in zip(X_test[i], np.argmax(y_test[i],axis=-1), p[0]):\n",
    "    print(\"{:15} ({:5}): {}\".format(words[w], tags[true], tags[pred]))"
   ]
  },
  {
   "cell_type": "code",
   "execution_count": null,
   "metadata": {},
   "outputs": [],
   "source": []
  },
  {
   "cell_type": "code",
   "execution_count": null,
   "metadata": {},
   "outputs": [],
   "source": []
  }
 ],
 "metadata": {
  "kernelspec": {
   "display_name": "Python 3",
   "language": "python",
   "name": "python3"
  },
  "language_info": {
   "codemirror_mode": {
    "name": "ipython",
    "version": 3
   },
   "file_extension": ".py",
   "mimetype": "text/x-python",
   "name": "python",
   "nbconvert_exporter": "python",
   "pygments_lexer": "ipython3",
   "version": "3.7.3"
  }
 },
 "nbformat": 4,
 "nbformat_minor": 4
}
