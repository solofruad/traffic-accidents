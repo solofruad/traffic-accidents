{
 "cells": [
  {
   "cell_type": "markdown",
   "metadata": {},
   "source": [
    "# Building Model Spacy\n",
    "### By **Néstor Suat** in 2020\n",
    "\n",
    "**Descripción:** Generando un modelo ML con Spacy para la tarea de NER en tweets de accidentes para las etiquetas `loc` y `time` usando el estandar BIO.\n",
    "\n",
    "**Input:**\n",
    "* TSV con dataset etiquetado con BIO\n",
    "\n",
    "**Output:**\n",
    "* Model\n",
    "\n",
    "\n",
    "    \n",
    "    python 1\\ Building\\ Spacy\\ NER.py -m es_core_news_lg -o /home/hat/code/traffic-accidents/model/data/v1/NER/spacy_model/ -n 500\n",
    "\n",
    "***"
   ]
  },
  {
   "cell_type": "markdown",
   "metadata": {},
   "source": [
    "### Importando librerías"
   ]
  },
  {
   "cell_type": "code",
   "execution_count": 1,
   "metadata": {},
   "outputs": [],
   "source": [
    "import pandas as pd\n",
    "import spacy\n",
    "\n",
    "from sklearn.model_selection import train_test_split"
   ]
  },
  {
   "cell_type": "code",
   "execution_count": 2,
   "metadata": {},
   "outputs": [],
   "source": [
    "class SentenceGetter(object):\n",
    "    \n",
    "    def __init__(self, data):\n",
    "        self.n_sent = 1\n",
    "        self.data = data\n",
    "        self.empty = False\n",
    "        #agg_func = lambda s: \" \".join(s[\"Word\"].values.tolist())\n",
    "        agg_func = lambda s: [(w, p, t) for w, p, t in zip(s[\"Word\"].values.tolist(),\n",
    "                                                           s[\"POS\"].values.tolist(),\n",
    "                                                           s[\"Tag\"].values.tolist())]\n",
    "        self.grouped = self.data.groupby(\"Sentence #\").apply(agg_func)\n",
    "        self.sentences = [s for s in self.grouped]\n",
    "    \n",
    "    def get_next(self):\n",
    "        try:\n",
    "            #s = self.grouped[\"Sentence: {}\".format(self.n_sent)]\n",
    "            s = self.grouped[self.n_sent]\n",
    "            self.n_sent += 1\n",
    "            return s\n",
    "        except:\n",
    "            return None"
   ]
  },
  {
   "cell_type": "markdown",
   "metadata": {},
   "source": [
    "#### Importando modelo spacy construido localmente"
   ]
  },
  {
   "cell_type": "code",
   "execution_count": 3,
   "metadata": {},
   "outputs": [],
   "source": [
    "spacy_model = \"../../../data/v1/NER/spacy_model_complete/\"\n",
    "nlp = spacy.load(spacy_model)"
   ]
  },
  {
   "cell_type": "markdown",
   "metadata": {},
   "source": [
    "### Importando dataset anotado\n",
    "\n",
    "El archivo `ner-crf-training-data.tsv` fue construido anteriormente transformando el formato de anotación de Standoff a BIO."
   ]
  },
  {
   "cell_type": "code",
   "execution_count": 4,
   "metadata": {},
   "outputs": [],
   "source": [
    "file = 'ner-crf-test-data.tsv'\n",
    "dir_ = \"../../../data/v1/NER/test/\"\n",
    "data = pd.read_csv(dir_+file, delimiter = \"\\t\", quoting = 3, names=['Sentence #','Word','POS','Tag'])"
   ]
  },
  {
   "cell_type": "code",
   "execution_count": 5,
   "metadata": {},
   "outputs": [
    {
     "data": {
      "text/plain": [
       "[('Rt', 'NOUN', 'O'),\n",
       " ('accidente', 'NOUN', 'O'),\n",
       " ('de', 'ADP', 'O'),\n",
       " ('transito', 'NOUN', 'O'),\n",
       " ('de', 'ADP', 'O'),\n",
       " ('biarticulado', 'NOUN', 'O'),\n",
       " ('y', 'CCONJ', 'O'),\n",
       " ('bicitaxi', 'NOUN', 'O'),\n",
       " ('en', 'ADP', 'O'),\n",
       " ('la', 'DET', 'O'),\n",
       " ('cali', 'NOUN', 'B-loc'),\n",
       " ('con', 'ADP', 'I-loc'),\n",
       " ('villavicencio', 'NOUN', 'I-loc'),\n",
       " (',', 'PUNCT', 'O'),\n",
       " ('es', 'AUX', 'O'),\n",
       " ('en', 'ADP', 'O'),\n",
       " ('la', 'DET', 'O'),\n",
       " ('salida', 'NOUN', 'O'),\n",
       " ('de', 'ADP', 'O'),\n",
       " ('Portal', 'PROPN', 'B-loc'),\n",
       " ('Americas', 'PROPN', 'I-loc')]"
      ]
     },
     "execution_count": 5,
     "metadata": {},
     "output_type": "execute_result"
    }
   ],
   "source": [
    "getter = SentenceGetter(data)\n",
    "sentences = getter.sentences\n",
    "sentences[0]"
   ]
  },
  {
   "cell_type": "markdown",
   "metadata": {},
   "source": [
    "### Construyendo X e Y."
   ]
  },
  {
   "cell_type": "code",
   "execution_count": 6,
   "metadata": {},
   "outputs": [
    {
     "name": "stdout",
     "output_type": "stream",
     "text": [
      "movilidad bogota acueducto trancon accidente llevó 3 horas en el carro bajando de la calera y muchos Buses escolares con niños pequeños de los colegios , nada que quitan el camión del acueducto que se accidentó en la circunvalar con 85 , TERRIBLE !!\n",
      "['O', 'O', 'O', 'O', 'O', 'B-time', 'I-time', 'I-time', 'O', 'O', 'O', 'O', 'O', 'O', 'B-loc', 'O', 'O', 'O', 'O', 'O', 'O', 'O', 'O', 'O', 'O', 'O', 'O', 'O', 'O', 'O', 'O', 'O', 'O', 'O', 'O', 'O', 'O', 'O', 'B-loc', 'I-loc', 'I-loc', 'O', 'O', 'O']\n"
     ]
    }
   ],
   "source": [
    "X = [\" \".join([w[0] for w in s]) for s in sentences]\n",
    "y = [[w[2] for w in s] for s in sentences]\n",
    "\n",
    "print(X[1])\n",
    "print(y[1])"
   ]
  },
  {
   "cell_type": "markdown",
   "metadata": {},
   "source": [
    "## Train and Test set"
   ]
  },
  {
   "cell_type": "raw",
   "metadata": {},
   "source": [
    "from sklearn.model_selection import train_test_split"
   ]
  },
  {
   "cell_type": "raw",
   "metadata": {},
   "source": [
    "X_train, X_test, y_train, y_test = train_test_split(X, y, test_size=0.2, random_state=123)\n",
    "print(\"Train:\",len(X_train), len(y_train))\n",
    "print(\"Test:\",len(X_test), len(y_test))"
   ]
  },
  {
   "cell_type": "markdown",
   "metadata": {},
   "source": [
    "### Evaluando Modelo"
   ]
  },
  {
   "cell_type": "code",
   "execution_count": 7,
   "metadata": {},
   "outputs": [],
   "source": [
    "from seqeval.metrics import precision_score, recall_score, f1_score, classification_report"
   ]
  },
  {
   "cell_type": "code",
   "execution_count": 8,
   "metadata": {},
   "outputs": [],
   "source": [
    "def predict_fn(sentence):\n",
    "    labels = []\n",
    "    words = []\n",
    "    doc2 = nlp(sentence)\n",
    "    for token in doc2:\n",
    "        l = token.ent_type_ if token.ent_type_ != '' else 'O'\n",
    "        w = token.text\n",
    "        labels.append(l)\n",
    "        words.append(w)\n",
    "    return words,labels\n",
    "\n",
    "def predict_all_fn(test):\n",
    "    pred = []\n",
    "    words = []\n",
    "    for s in test:\n",
    "        w, p = predict_fn(s)\n",
    "        pred.append(p)\n",
    "        words.append(w)\n",
    "    return words, pred\n",
    "        "
   ]
  },
  {
   "cell_type": "code",
   "execution_count": 9,
   "metadata": {},
   "outputs": [],
   "source": [
    "tokens, y_pred = predict_all_fn(X)"
   ]
  },
  {
   "cell_type": "code",
   "execution_count": 10,
   "metadata": {},
   "outputs": [],
   "source": [
    "#tokens"
   ]
  },
  {
   "cell_type": "markdown",
   "metadata": {},
   "source": [
    "#Comparar diferencias de tokenización\n",
    "for i in range(len(y_pred)):\n",
    "    print(len(y_test[i]),len(y_pred[i]))"
   ]
  },
  {
   "cell_type": "raw",
   "metadata": {},
   "source": [
    "from sklearn.metrics import classification_report\n",
    "labels = ['B-loc','I-loc', 'B-time','I-time','O']\n",
    "classification_report(y, y_pred)"
   ]
  },
  {
   "cell_type": "code",
   "execution_count": 14,
   "metadata": {},
   "outputs": [
    {
     "name": "stdout",
     "output_type": "stream",
     "text": [
      "F1-score: 79.100529%\n"
     ]
    }
   ],
   "source": [
    "#print(\"F1-score: {:.1%}\".format(f1_score(y_test, y_pred)))\n",
    "print(\"F1-score: {:.6%}\".format(f1_score(y, y_pred)))"
   ]
  },
  {
   "cell_type": "code",
   "execution_count": 15,
   "metadata": {},
   "outputs": [
    {
     "name": "stdout",
     "output_type": "stream",
     "text": [
      "              precision    recall  f1-score   support\n",
      "\n",
      "         loc       0.80      0.81      0.81       354\n",
      "        time       0.67      0.44      0.53        27\n",
      "\n",
      "   micro avg       0.80      0.78      0.79       381\n",
      "   macro avg       0.74      0.63      0.67       381\n",
      "weighted avg       0.79      0.78      0.79       381\n",
      "\n"
     ]
    }
   ],
   "source": [
    "#print(classification_report(y_test, y_pred))\n",
    "print(classification_report(y, y_pred))"
   ]
  },
  {
   "cell_type": "code",
   "execution_count": 13,
   "metadata": {},
   "outputs": [],
   "source": [
    "cont = 0\n",
    "for i in range(len(y_pred)-1):\n",
    "    if len(y_pred[i]) != len(y[i]):\n",
    "        print(i)\n",
    "        del y_pred[i]\n",
    "        del y[i]"
   ]
  },
  {
   "cell_type": "code",
   "execution_count": 16,
   "metadata": {},
   "outputs": [
    {
     "name": "stdout",
     "output_type": "stream",
     "text": [
      "              precision    recall  f1-score   support\n",
      "\n",
      "       B-loc     0.8960    0.8782    0.8870       353\n",
      "       I-loc     0.9386    0.9582    0.9483       862\n",
      "      B-time     0.7778    0.5185    0.6222        27\n",
      "      I-time     0.8636    0.6552    0.7451        29\n",
      "\n",
      "   micro avg     0.9234    0.9197    0.9216      1271\n",
      "   macro avg     0.8690    0.7525    0.8007      1271\n",
      "weighted avg     0.9217    0.9197    0.9197      1271\n",
      "\n"
     ]
    }
   ],
   "source": [
    "from sklearn_crfsuite import metrics\n",
    "\n",
    "labels = ['B-loc', 'I-loc', 'B-time', 'I-time']\n",
    "# group B and I results\n",
    "sorted_labels = sorted(\n",
    "    labels,\n",
    "    key=lambda name: (name[1:], name[0])\n",
    ")\n",
    "print(metrics.flat_classification_report(\n",
    "    y, y_pred, labels=sorted_labels, digits=4\n",
    "))"
   ]
  },
  {
   "cell_type": "code",
   "execution_count": 17,
   "metadata": {},
   "outputs": [
    {
     "name": "stdout",
     "output_type": "stream",
     "text": [
      "F1-score: 91.9730%\n"
     ]
    }
   ],
   "source": [
    "print(\"F1-score: {:.4%}\".format(metrics.flat_f1_score(y, y_pred, average='weighted', labels=labels)))"
   ]
  },
  {
   "cell_type": "code",
   "execution_count": 18,
   "metadata": {},
   "outputs": [
    {
     "name": "stdout",
     "output_type": "stream",
     "text": [
      "Accuracy: 0.973344\n",
      "F1-Micro: 0.921561\n",
      "Recall-Micro: 0.919748\n",
      "Precision-Micro: 0.923381\n",
      "F1-Macro: 0.800659\n",
      "Recall-Macro: 0.752529\n",
      "Precision-Macro: 0.869001\n",
      "F1-Weighted: 0.91973\n",
      "Recall-Weighted: 0.919748\n",
      "Precision-Weighted: 0.921654\n"
     ]
    }
   ],
   "source": [
    "print(\"Accuracy: \"+str(round(metrics.flat_accuracy_score(y, y_pred),6)))\n",
    "\n",
    "print(\"F1-Micro: \"+str(round(metrics.flat_f1_score(y, y_pred, average='micro', labels=labels),6)))\n",
    "print(\"Recall-Micro: \"+str(round(metrics.flat_recall_score(y, y_pred, average='micro', labels=labels),6)))\n",
    "print(\"Precision-Micro: \"+str(round(metrics.flat_precision_score(y, y_pred, average='micro', labels=labels),6)))\n",
    "\n",
    "print(\"F1-Macro: \"+str(round(metrics.flat_f1_score(y, y_pred, average='macro', labels=labels),6)))\n",
    "print(\"Recall-Macro: \"+str(round(metrics.flat_recall_score(y, y_pred, average='macro', labels=labels),6)))\n",
    "print(\"Precision-Macro: \"+str(round(metrics.flat_precision_score(y, y_pred, average='macro', labels=labels),6)))\n",
    "\n",
    "print(\"F1-Weighted: \"+str(round(metrics.flat_f1_score(y, y_pred, average='weighted', labels=labels),6)))\n",
    "print(\"Recall-Weighted: \"+str(round(metrics.flat_recall_score(y, y_pred, average='weighted', labels=labels),6)))\n",
    "print(\"Precision-Weighted: \"+str(round(metrics.flat_precision_score(y, y_pred, average='weighted', labels=labels),6)))"
   ]
  },
  {
   "cell_type": "markdown",
   "metadata": {},
   "source": [
    "### Evaluando con una muestra"
   ]
  },
  {
   "cell_type": "code",
   "execution_count": null,
   "metadata": {},
   "outputs": [],
   "source": [
    "data"
   ]
  },
  {
   "cell_type": "code",
   "execution_count": 19,
   "metadata": {},
   "outputs": [
    {
     "name": "stdout",
     "output_type": "stream",
     "text": [
      "Word            (True    ): Pred\n",
      "sectormovilidad (O       ): O\n",
      "policia         (O       ): O\n",
      "c               (O       ): O\n",
      "marca           (O       ): O\n",
      "transito        (O       ): O\n",
      "policia         (O       ): O\n",
      "supertrancon    (O       ): O\n",
      "ingreso         (O       ): O\n",
      "a               (O       ): O\n",
      "Bogota          (B-loc   ): B-loc\n",
      "por             (O       ): O\n",
      "calle           (B-loc   ): B-loc\n",
      "80              (I-loc   ): I-loc\n",
      "va              (O       ): O\n",
      "hasta           (O       ): O\n",
      "el              (B-loc   ): B-loc\n",
      ".               (I-loc   ): I-loc\n",
      "peaje           (I-loc   ): I-loc\n",
      "la              (I-loc   ): I-loc\n",
      "vega            (I-loc   ): I-loc\n",
      "por             (O       ): O\n",
      "incidente       (O       ): O\n",
      "en              (O       ): O\n",
      "la              (O       ): O\n",
      "kra.114         (B-loc   ): B-loc\n",
      "con             (I-loc   ): I-loc\n",
      "80              (I-loc   ): I-loc\n",
      "no              (O       ): O\n",
      "hay             (O       ): O\n",
      "policia         (O       ): O\n",
      "y               (O       ): O\n",
      "no              (O       ): O\n",
      "hay             (O       ): O\n",
      "semaforos       (O       ): O\n",
      ".               (O       ): O\n",
      ".               (O       ): O\n",
      "donde           (O       ): O\n",
      "estan           (O       ): O\n",
      "los             (O       ): O\n",
      "de              (O       ): O\n",
      "transito        (O       ): O\n",
      ".               (O       ): O\n",
      ".               (O       ): O\n",
      "urgente         (O       ): O\n",
      ".               (O       ): O\n",
      ".               (O       ): O\n"
     ]
    }
   ],
   "source": [
    "i = 0\n",
    "n = 64\n",
    "\n",
    "test_text = X[n]\n",
    "sent, y_predict = predict_fn(test_text)\n",
    "\n",
    "tags = data[data['Sentence #']==n+1073]['Tag']\n",
    "print(\"{:15} ({:8}): {}\".format(\"Word\", \"True\", \"Pred\"))\n",
    "for w, true,  pred in zip(sent, tags, y_predict):        \n",
    "    print(\"{:15} ({:8}): {}\".format(w, true, pred))    "
   ]
  },
  {
   "cell_type": "code",
   "execution_count": 20,
   "metadata": {},
   "outputs": [
    {
     "name": "stdout",
     "output_type": "stream",
     "text": [
      "sectormovilidad policia c marca transito policia supertrancon ingreso a Bogota por calle 80 va hasta el . peaje la vega por incidente en la kra.114 con 80 no hay policia y no hay semaforos . . donde estan los de transito . . urgente . .\n",
      "['Bogota']\n",
      "Bogota B-loc\n",
      "['Bogota']\n",
      "['calle']\n",
      "calle B-loc\n",
      "['calle', '80']\n",
      "80 I-loc\n",
      "['calle', '80']\n",
      "['el']\n",
      "el B-loc\n",
      "['el', '.']\n",
      ". I-loc\n",
      "['el', '.', 'peaje']\n",
      "peaje I-loc\n",
      "['el', '.', 'peaje', 'la']\n",
      "la I-loc\n",
      "['el', '.', 'peaje', 'la', 'vega']\n",
      "vega I-loc\n",
      "['el', '.', 'peaje', 'la', 'vega']\n",
      "['kra.114']\n",
      "kra.114 B-loc\n",
      "['kra.114', 'con']\n",
      "con I-loc\n",
      "['kra.114', 'con', '80']\n",
      "80 I-loc\n",
      "[('Bogota', 'loc'), ('calle 80', 'loc'), ('el . peaje la vega', 'loc'), ('kra.114 con 80', 'loc')]\n"
     ]
    },
    {
     "data": {
      "text/html": [
       "<span class=\"tex2jax_ignore\"><div class=\"entities\" style=\"line-height: 2.5; direction: ltr\">sectormovilidad policia c marca transito policia supertrancon ingreso a \n",
       "<mark class=\"entity\" style=\"background: #fc9ce7; padding: 0.45em 0.6em; margin: 0 0.25em; line-height: 1; border-radius: 0.35em;\">\n",
       "    Bogota\n",
       "    <span style=\"font-size: 0.8em; font-weight: bold; line-height: 1; border-radius: 0.35em; text-transform: uppercase; vertical-align: middle; margin-left: 0.5rem\">B-loc</span>\n",
       "</mark>\n",
       " por \n",
       "<mark class=\"entity\" style=\"background: #fc9ce7; padding: 0.45em 0.6em; margin: 0 0.25em; line-height: 1; border-radius: 0.35em;\">\n",
       "    calle\n",
       "    <span style=\"font-size: 0.8em; font-weight: bold; line-height: 1; border-radius: 0.35em; text-transform: uppercase; vertical-align: middle; margin-left: 0.5rem\">B-loc</span>\n",
       "</mark>\n",
       " \n",
       "<mark class=\"entity\" style=\"background: #fc9ce7; padding: 0.45em 0.6em; margin: 0 0.25em; line-height: 1; border-radius: 0.35em;\">\n",
       "    80\n",
       "    <span style=\"font-size: 0.8em; font-weight: bold; line-height: 1; border-radius: 0.35em; text-transform: uppercase; vertical-align: middle; margin-left: 0.5rem\">I-loc</span>\n",
       "</mark>\n",
       " va hasta \n",
       "<mark class=\"entity\" style=\"background: #fc9ce7; padding: 0.45em 0.6em; margin: 0 0.25em; line-height: 1; border-radius: 0.35em;\">\n",
       "    el\n",
       "    <span style=\"font-size: 0.8em; font-weight: bold; line-height: 1; border-radius: 0.35em; text-transform: uppercase; vertical-align: middle; margin-left: 0.5rem\">B-loc</span>\n",
       "</mark>\n",
       " \n",
       "<mark class=\"entity\" style=\"background: #fc9ce7; padding: 0.45em 0.6em; margin: 0 0.25em; line-height: 1; border-radius: 0.35em;\">\n",
       "    .\n",
       "    <span style=\"font-size: 0.8em; font-weight: bold; line-height: 1; border-radius: 0.35em; text-transform: uppercase; vertical-align: middle; margin-left: 0.5rem\">I-loc</span>\n",
       "</mark>\n",
       " \n",
       "<mark class=\"entity\" style=\"background: #fc9ce7; padding: 0.45em 0.6em; margin: 0 0.25em; line-height: 1; border-radius: 0.35em;\">\n",
       "    peaje\n",
       "    <span style=\"font-size: 0.8em; font-weight: bold; line-height: 1; border-radius: 0.35em; text-transform: uppercase; vertical-align: middle; margin-left: 0.5rem\">I-loc</span>\n",
       "</mark>\n",
       " \n",
       "<mark class=\"entity\" style=\"background: #fc9ce7; padding: 0.45em 0.6em; margin: 0 0.25em; line-height: 1; border-radius: 0.35em;\">\n",
       "    la\n",
       "    <span style=\"font-size: 0.8em; font-weight: bold; line-height: 1; border-radius: 0.35em; text-transform: uppercase; vertical-align: middle; margin-left: 0.5rem\">I-loc</span>\n",
       "</mark>\n",
       " \n",
       "<mark class=\"entity\" style=\"background: #fc9ce7; padding: 0.45em 0.6em; margin: 0 0.25em; line-height: 1; border-radius: 0.35em;\">\n",
       "    vega\n",
       "    <span style=\"font-size: 0.8em; font-weight: bold; line-height: 1; border-radius: 0.35em; text-transform: uppercase; vertical-align: middle; margin-left: 0.5rem\">I-loc</span>\n",
       "</mark>\n",
       " por incidente en la \n",
       "<mark class=\"entity\" style=\"background: #fc9ce7; padding: 0.45em 0.6em; margin: 0 0.25em; line-height: 1; border-radius: 0.35em;\">\n",
       "    kra.114\n",
       "    <span style=\"font-size: 0.8em; font-weight: bold; line-height: 1; border-radius: 0.35em; text-transform: uppercase; vertical-align: middle; margin-left: 0.5rem\">B-loc</span>\n",
       "</mark>\n",
       " \n",
       "<mark class=\"entity\" style=\"background: #fc9ce7; padding: 0.45em 0.6em; margin: 0 0.25em; line-height: 1; border-radius: 0.35em;\">\n",
       "    con\n",
       "    <span style=\"font-size: 0.8em; font-weight: bold; line-height: 1; border-radius: 0.35em; text-transform: uppercase; vertical-align: middle; margin-left: 0.5rem\">I-loc</span>\n",
       "</mark>\n",
       " \n",
       "<mark class=\"entity\" style=\"background: #fc9ce7; padding: 0.45em 0.6em; margin: 0 0.25em; line-height: 1; border-radius: 0.35em;\">\n",
       "    80\n",
       "    <span style=\"font-size: 0.8em; font-weight: bold; line-height: 1; border-radius: 0.35em; text-transform: uppercase; vertical-align: middle; margin-left: 0.5rem\">I-loc</span>\n",
       "</mark>\n",
       " no hay policia y no hay semaforos . . donde estan los de transito . . urgente . .</div></span>"
      ],
      "text/plain": [
       "<IPython.core.display.HTML object>"
      ]
     },
     "metadata": {},
     "output_type": "display_data"
    }
   ],
   "source": [
    "from spacy import displacy\n",
    "n=64\n",
    "test_text = X[n]\n",
    "print(test_text)\n",
    "doc2 = nlp(test_text)\n",
    "entities = []\n",
    "entity = []\n",
    "for ent in doc2.ents:\n",
    "    if ent.label_.split(\"-\")[0] == 'B' and len(entity) > 0:\n",
    "        print(entity)\n",
    "        entities.append((' '.join(entity),ent.label_.split(\"-\")[1]))\n",
    "        entity = []\n",
    "    entity.append(ent.text)\n",
    "    print(entity)\n",
    "    print(ent.text, ent.label_)\n",
    "\n",
    "entities.append((' '.join(entity),ent.label_.split(\"-\")[1]))\n",
    "\n",
    "print(entities)\n",
    "colors = {\"B-LOC\": \"#fc9ce7\", \"I-LOC\": \"#fc9ce7\",\"B-TIME\":'#3371ff',\"I-TIME\":'#3371ff'}\n",
    "options = {\"ents\": [\"B-LOC\",\"I-LOC\",\"B-TIME\",\"I-TIME\"], \"colors\": colors}\n",
    "displacy.render(doc2, style=\"ent\",options=options)"
   ]
  },
  {
   "cell_type": "code",
   "execution_count": 114,
   "metadata": {},
   "outputs": [
    {
     "name": "stdout",
     "output_type": "stream",
     "text": [
      "[('Bogota', 'B-loc'), ('calle', 'B-loc'), ('80', 'I-loc'), ('el', 'B-loc'), ('.', 'I-loc'), ('peaje', 'I-loc'), ('la', 'I-loc'), ('vega', 'I-loc'), ('kra.114', 'B-loc'), ('con', 'I-loc'), ('80', 'I-loc')]\n"
     ]
    }
   ],
   "source": [
    "ents = [(e.text, e.label_) for e in doc2.ents]\n",
    "print(ents)"
   ]
  },
  {
   "cell_type": "code",
   "execution_count": 21,
   "metadata": {},
   "outputs": [
    {
     "data": {
      "text/html": [
       "<span class=\"tex2jax_ignore\"><div class=\"entities\" style=\"line-height: 2.5; direction: ltr\">sectormovilidad policia c marca transito policia supertrancon ingreso a \n",
       "<mark class=\"entity\" style=\"background: #fc9ce7; padding: 0.45em 0.6em; margin: 0 0.25em; line-height: 1; border-radius: 0.35em;\">\n",
       "    Bogota\n",
       "    <span style=\"font-size: 0.8em; font-weight: bold; line-height: 1; border-radius: 0.35em; text-transform: uppercase; vertical-align: middle; margin-left: 0.5rem\">B-loc</span>\n",
       "</mark>\n",
       " por \n",
       "<mark class=\"entity\" style=\"background: #fc9ce7; padding: 0.45em 0.6em; margin: 0 0.25em; line-height: 1; border-radius: 0.35em;\">\n",
       "    calle\n",
       "    <span style=\"font-size: 0.8em; font-weight: bold; line-height: 1; border-radius: 0.35em; text-transform: uppercase; vertical-align: middle; margin-left: 0.5rem\">B-loc</span>\n",
       "</mark>\n",
       " \n",
       "<mark class=\"entity\" style=\"background: #fc9ce7; padding: 0.45em 0.6em; margin: 0 0.25em; line-height: 1; border-radius: 0.35em;\">\n",
       "    80\n",
       "    <span style=\"font-size: 0.8em; font-weight: bold; line-height: 1; border-radius: 0.35em; text-transform: uppercase; vertical-align: middle; margin-left: 0.5rem\">I-loc</span>\n",
       "</mark>\n",
       " va hasta \n",
       "<mark class=\"entity\" style=\"background: #fc9ce7; padding: 0.45em 0.6em; margin: 0 0.25em; line-height: 1; border-radius: 0.35em;\">\n",
       "    el\n",
       "    <span style=\"font-size: 0.8em; font-weight: bold; line-height: 1; border-radius: 0.35em; text-transform: uppercase; vertical-align: middle; margin-left: 0.5rem\">B-loc</span>\n",
       "</mark>\n",
       " \n",
       "<mark class=\"entity\" style=\"background: #fc9ce7; padding: 0.45em 0.6em; margin: 0 0.25em; line-height: 1; border-radius: 0.35em;\">\n",
       "    .\n",
       "    <span style=\"font-size: 0.8em; font-weight: bold; line-height: 1; border-radius: 0.35em; text-transform: uppercase; vertical-align: middle; margin-left: 0.5rem\">I-loc</span>\n",
       "</mark>\n",
       " \n",
       "<mark class=\"entity\" style=\"background: #fc9ce7; padding: 0.45em 0.6em; margin: 0 0.25em; line-height: 1; border-radius: 0.35em;\">\n",
       "    peaje\n",
       "    <span style=\"font-size: 0.8em; font-weight: bold; line-height: 1; border-radius: 0.35em; text-transform: uppercase; vertical-align: middle; margin-left: 0.5rem\">I-loc</span>\n",
       "</mark>\n",
       " \n",
       "<mark class=\"entity\" style=\"background: #fc9ce7; padding: 0.45em 0.6em; margin: 0 0.25em; line-height: 1; border-radius: 0.35em;\">\n",
       "    la\n",
       "    <span style=\"font-size: 0.8em; font-weight: bold; line-height: 1; border-radius: 0.35em; text-transform: uppercase; vertical-align: middle; margin-left: 0.5rem\">I-loc</span>\n",
       "</mark>\n",
       " \n",
       "<mark class=\"entity\" style=\"background: #fc9ce7; padding: 0.45em 0.6em; margin: 0 0.25em; line-height: 1; border-radius: 0.35em;\">\n",
       "    vega\n",
       "    <span style=\"font-size: 0.8em; font-weight: bold; line-height: 1; border-radius: 0.35em; text-transform: uppercase; vertical-align: middle; margin-left: 0.5rem\">I-loc</span>\n",
       "</mark>\n",
       " por incidente en la \n",
       "<mark class=\"entity\" style=\"background: #fc9ce7; padding: 0.45em 0.6em; margin: 0 0.25em; line-height: 1; border-radius: 0.35em;\">\n",
       "    kra.114\n",
       "    <span style=\"font-size: 0.8em; font-weight: bold; line-height: 1; border-radius: 0.35em; text-transform: uppercase; vertical-align: middle; margin-left: 0.5rem\">B-loc</span>\n",
       "</mark>\n",
       " \n",
       "<mark class=\"entity\" style=\"background: #fc9ce7; padding: 0.45em 0.6em; margin: 0 0.25em; line-height: 1; border-radius: 0.35em;\">\n",
       "    con\n",
       "    <span style=\"font-size: 0.8em; font-weight: bold; line-height: 1; border-radius: 0.35em; text-transform: uppercase; vertical-align: middle; margin-left: 0.5rem\">I-loc</span>\n",
       "</mark>\n",
       " \n",
       "<mark class=\"entity\" style=\"background: #fc9ce7; padding: 0.45em 0.6em; margin: 0 0.25em; line-height: 1; border-radius: 0.35em;\">\n",
       "    80\n",
       "    <span style=\"font-size: 0.8em; font-weight: bold; line-height: 1; border-radius: 0.35em; text-transform: uppercase; vertical-align: middle; margin-left: 0.5rem\">I-loc</span>\n",
       "</mark>\n",
       " no hay policia y no hay semaforos . . donde estan los de transito . . urgente . .</div></span>"
      ],
      "text/plain": [
       "<IPython.core.display.HTML object>"
      ]
     },
     "metadata": {},
     "output_type": "display_data"
    },
    {
     "data": {
      "text/plain": [
       "[('Bogota', 'loc'),\n",
       " ('calle 80', 'loc'),\n",
       " ('el . peaje la vega', 'loc'),\n",
       " ('kra.114 con 80', 'loc')]"
      ]
     },
     "execution_count": 21,
     "metadata": {},
     "output_type": "execute_result"
    }
   ],
   "source": [
    "from spacy import displacy\n",
    "\n",
    "\n",
    "n=64\n",
    "test_text = X[n]\n",
    "\n",
    "doc2 = nlp(test_text)\n",
    "colors = {\"B-LOC\": \"#fc9ce7\", \"I-LOC\": \"#fc9ce7\",\"B-TIME\":'#3371ff',\"I-TIME\":'#3371ff'}\n",
    "options = {\"ents\": [\"B-LOC\",\"I-LOC\",\"B-TIME\",\"I-TIME\"], \"colors\": colors}\n",
    "displacy.render(doc2, style=\"ent\",options=options)\n",
    "\n",
    "ents = [(e.text, e.label_) for e in doc2.ents]\n",
    "\n",
    "def get_entities():\n",
    "    entities = []\n",
    "    entity = ''\n",
    "    tokens = []\n",
    "    for e in range(len(ents)):\n",
    "        token = ents[e][0]\n",
    "        ner = ents[e][1]\n",
    "        ner_iob = ner.split(\"-\")[0]\n",
    "        ner_text = ner.split(\"-\")[1] \n",
    "\n",
    "        if (ner_iob == 'B' and len(tokens) > 0):        \n",
    "            t = ' '.join(tokens)\n",
    "            entities.append((t,entity))\n",
    "            tokens = []\n",
    "\n",
    "        entity = ner_text        \n",
    "        tokens.append(token)\n",
    "        if e == len(ents)-1:\n",
    "            t = ' '.join(tokens)\n",
    "            entities.append((t,entity))\n",
    "\n",
    "\n",
    "    return entities\n",
    "\n",
    "entities = get_entities()\n",
    "entities"
   ]
  },
  {
   "cell_type": "code",
   "execution_count": 24,
   "metadata": {},
   "outputs": [
    {
     "data": {
      "text/plain": [
       "['Bogota', 'calle 80', 'el . peaje la vega', 'kra.114 con 80']"
      ]
     },
     "execution_count": 24,
     "metadata": {},
     "output_type": "execute_result"
    }
   ],
   "source": [
    "ent = [ t for (t,l) in entities  if l == 'loc' ]\n",
    "ent"
   ]
  },
  {
   "cell_type": "code",
   "execution_count": 159,
   "metadata": {},
   "outputs": [
    {
     "data": {
      "text/plain": [
       "'Bogota calle 80 el . peaje la vega kra.114 con 80'"
      ]
     },
     "execution_count": 159,
     "metadata": {},
     "output_type": "execute_result"
    }
   ],
   "source": [
    "' '.join(ent)"
   ]
  },
  {
   "cell_type": "code",
   "execution_count": null,
   "metadata": {},
   "outputs": [],
   "source": []
  }
 ],
 "metadata": {
  "kernelspec": {
   "display_name": "Python 3",
   "language": "python",
   "name": "python3"
  },
  "language_info": {
   "codemirror_mode": {
    "name": "ipython",
    "version": 3
   },
   "file_extension": ".py",
   "mimetype": "text/x-python",
   "name": "python",
   "nbconvert_exporter": "python",
   "pygments_lexer": "ipython3",
   "version": "3.7.3"
  }
 },
 "nbformat": 4,
 "nbformat_minor": 4
}
