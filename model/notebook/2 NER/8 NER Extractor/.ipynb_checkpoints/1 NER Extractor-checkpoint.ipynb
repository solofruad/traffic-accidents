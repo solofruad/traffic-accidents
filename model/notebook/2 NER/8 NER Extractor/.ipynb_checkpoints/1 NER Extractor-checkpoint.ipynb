{
 "cells": [
  {
   "cell_type": "markdown",
   "metadata": {},
   "source": [
    "# Named Entity Extractor with Spacy\n",
    "### By **Néstor Suat** in 2021\n",
    "\n",
    "**Descripción:** Con el modelo Spacy entrenado previamente se extrae las entidades **loc** y **time**\n",
    "\n",
    "**Input:**\n",
    "* TSV con tweets\n",
    "\n",
    "**Output:**\n",
    "* TSV agregando columna clean y entities\n",
    "\n",
    "***"
   ]
  },
  {
   "cell_type": "markdown",
   "metadata": {},
   "source": [
    "### Importando librerías e Inicializando variables"
   ]
  },
  {
   "cell_type": "code",
   "execution_count": 1,
   "metadata": {},
   "outputs": [],
   "source": [
    "import pandas as pd\n",
    "import sys\n",
    "sys.path.insert(0, '../../../')\n",
    "\n",
    "from classes.tweet2accident.ner_preprocessing import NerPreprocessing\n",
    "from classes.tweet2accident.ner_extractor import NerExtractor"
   ]
  },
  {
   "cell_type": "code",
   "execution_count": 2,
   "metadata": {},
   "outputs": [],
   "source": [
    "## Variables para importar modelos y demás\n",
    "dir_ = \"../../../data/v1/NER/\"\n",
    "\n",
    "file = 'ner_dataset.tsv' # Dataset\n",
    "\n",
    "spacy_model = dir_+\"spacy_model_complete/\" #Spacy model entrenado previamente\n",
    "corpus_segmentation = dir_+'spanish_count_1w_small_v2_twitter.txt' # Corpus para entrenar el wordsemgentation"
   ]
  },
  {
   "cell_type": "code",
   "execution_count": 3,
   "metadata": {},
   "outputs": [
    {
     "data": {
      "text/html": [
       "<div>\n",
       "<style scoped>\n",
       "    .dataframe tbody tr th:only-of-type {\n",
       "        vertical-align: middle;\n",
       "    }\n",
       "\n",
       "    .dataframe tbody tr th {\n",
       "        vertical-align: top;\n",
       "    }\n",
       "\n",
       "    .dataframe thead th {\n",
       "        text-align: right;\n",
       "    }\n",
       "</style>\n",
       "<table border=\"1\" class=\"dataframe\">\n",
       "  <thead>\n",
       "    <tr style=\"text-align: right;\">\n",
       "      <th></th>\n",
       "      <th>id_tweet</th>\n",
       "      <th>text</th>\n",
       "      <th>created_at</th>\n",
       "      <th>user_name</th>\n",
       "      <th>user_location</th>\n",
       "      <th>source</th>\n",
       "    </tr>\n",
       "  </thead>\n",
       "  <tbody>\n",
       "    <tr>\n",
       "      <th>0</th>\n",
       "      <td>1047808970847604737</td>\n",
       "      <td>Rt Avenida Primero de Mayo frente al sena de l...</td>\n",
       "      <td>2018-10-04 6:21:40</td>\n",
       "      <td>camilogallardoa</td>\n",
       "      <td>NaN</td>\n",
       "      <td>Search BOGOTA</td>\n",
       "    </tr>\n",
       "    <tr>\n",
       "      <th>1</th>\n",
       "      <td>1047809516937596928</td>\n",
       "      <td>Rt *Accidente* Se presenta volcamiento de vehí...</td>\n",
       "      <td>2018-10-04 6:23:50</td>\n",
       "      <td>camilogallardoa</td>\n",
       "      <td>NaN</td>\n",
       "      <td>Search BOGOTA</td>\n",
       "    </tr>\n",
       "    <tr>\n",
       "      <th>2</th>\n",
       "      <td>1047809727118430210</td>\n",
       "      <td>Rt Av. Las villas norte al sur llegando a la 1...</td>\n",
       "      <td>2018-10-04 6:24:40</td>\n",
       "      <td>camilogallardoa</td>\n",
       "      <td>NaN</td>\n",
       "      <td>Search BOGOTA</td>\n",
       "    </tr>\n",
       "    <tr>\n",
       "      <th>3</th>\n",
       "      <td>1047821671854473216</td>\n",
       "      <td>Rt *Accidente*Se presenta siniestro vial entre...</td>\n",
       "      <td>2018-10-04 7:12:08</td>\n",
       "      <td>camilogallardoa</td>\n",
       "      <td>NaN</td>\n",
       "      <td>Search BOGOTA</td>\n",
       "    </tr>\n",
       "    <tr>\n",
       "      <th>4</th>\n",
       "      <td>1047843812977065985</td>\n",
       "      <td>Para peor tristeza, muerto en la Av. Cra. 30, ...</td>\n",
       "      <td>2018-10-04 8:40:07</td>\n",
       "      <td>capdiaz</td>\n",
       "      <td>Bogotá, Colombia</td>\n",
       "      <td>Search BOGOTA</td>\n",
       "    </tr>\n",
       "  </tbody>\n",
       "</table>\n",
       "</div>"
      ],
      "text/plain": [
       "              id_tweet                                               text  \\\n",
       "0  1047808970847604737  Rt Avenida Primero de Mayo frente al sena de l...   \n",
       "1  1047809516937596928  Rt *Accidente* Se presenta volcamiento de vehí...   \n",
       "2  1047809727118430210  Rt Av. Las villas norte al sur llegando a la 1...   \n",
       "3  1047821671854473216  Rt *Accidente*Se presenta siniestro vial entre...   \n",
       "4  1047843812977065985  Para peor tristeza, muerto en la Av. Cra. 30, ...   \n",
       "\n",
       "           created_at        user_name     user_location         source  \n",
       "0  2018-10-04 6:21:40  camilogallardoa               NaN  Search BOGOTA  \n",
       "1  2018-10-04 6:23:50  camilogallardoa               NaN  Search BOGOTA  \n",
       "2  2018-10-04 6:24:40  camilogallardoa               NaN  Search BOGOTA  \n",
       "3  2018-10-04 7:12:08  camilogallardoa               NaN  Search BOGOTA  \n",
       "4  2018-10-04 8:40:07          capdiaz  Bogotá, Colombia  Search BOGOTA  "
      ]
     },
     "execution_count": 3,
     "metadata": {},
     "output_type": "execute_result"
    }
   ],
   "source": [
    "## Importando Dataset\n",
    "dataset = pd.read_csv(dir_+file, delimiter = \"\\t\", quoting = 3)\n",
    "dataset.head(5)"
   ]
  },
  {
   "cell_type": "code",
   "execution_count": 4,
   "metadata": {},
   "outputs": [
    {
     "data": {
      "text/plain": [
       "(1340, 6)"
      ]
     },
     "execution_count": 4,
     "metadata": {},
     "output_type": "execute_result"
    }
   ],
   "source": [
    "dataset.shape"
   ]
  },
  {
   "cell_type": "markdown",
   "metadata": {},
   "source": [
    "### Limpieza y normalización para NER"
   ]
  },
  {
   "cell_type": "code",
   "execution_count": 5,
   "metadata": {},
   "outputs": [],
   "source": [
    "ner_preprocessing = NerPreprocessing(spacy_model=spacy_model, corpus_segmentation=corpus_segmentation,njobs=4)\n",
    "txt = ner_preprocessing.transform(dataset['text'])\n",
    "dataset['clean'] = txt"
   ]
  },
  {
   "cell_type": "code",
   "execution_count": 6,
   "metadata": {},
   "outputs": [
    {
     "data": {
      "text/html": [
       "<div>\n",
       "<style scoped>\n",
       "    .dataframe tbody tr th:only-of-type {\n",
       "        vertical-align: middle;\n",
       "    }\n",
       "\n",
       "    .dataframe tbody tr th {\n",
       "        vertical-align: top;\n",
       "    }\n",
       "\n",
       "    .dataframe thead th {\n",
       "        text-align: right;\n",
       "    }\n",
       "</style>\n",
       "<table border=\"1\" class=\"dataframe\">\n",
       "  <thead>\n",
       "    <tr style=\"text-align: right;\">\n",
       "      <th></th>\n",
       "      <th>text</th>\n",
       "      <th>clean</th>\n",
       "    </tr>\n",
       "  </thead>\n",
       "  <tbody>\n",
       "    <tr>\n",
       "      <th>0</th>\n",
       "      <td>Rt Avenida Primero de Mayo frente al sena de l...</td>\n",
       "      <td>Rt Avenida Primero de Mayo frente al sena de l...</td>\n",
       "    </tr>\n",
       "    <tr>\n",
       "      <th>1</th>\n",
       "      <td>Rt *Accidente* Se presenta volcamiento de vehí...</td>\n",
       "      <td>Rt *Accidente* Se presenta volcamiento de vehí...</td>\n",
       "    </tr>\n",
       "    <tr>\n",
       "      <th>2</th>\n",
       "      <td>Rt Av. Las villas norte al sur llegando a la 1...</td>\n",
       "      <td>Rt Av. Las villas norte al sur llegando a la 1...</td>\n",
       "    </tr>\n",
       "    <tr>\n",
       "      <th>3</th>\n",
       "      <td>Rt *Accidente*Se presenta siniestro vial entre...</td>\n",
       "      <td>Rt *Accidente*Se presenta siniestro vial entre...</td>\n",
       "    </tr>\n",
       "    <tr>\n",
       "      <th>4</th>\n",
       "      <td>Para peor tristeza, muerto en la Av. Cra. 30, ...</td>\n",
       "      <td>Para peor tristeza, muerto en la Av. Cra. 30, ...</td>\n",
       "    </tr>\n",
       "  </tbody>\n",
       "</table>\n",
       "</div>"
      ],
      "text/plain": [
       "                                                text  \\\n",
       "0  Rt Avenida Primero de Mayo frente al sena de l...   \n",
       "1  Rt *Accidente* Se presenta volcamiento de vehí...   \n",
       "2  Rt Av. Las villas norte al sur llegando a la 1...   \n",
       "3  Rt *Accidente*Se presenta siniestro vial entre...   \n",
       "4  Para peor tristeza, muerto en la Av. Cra. 30, ...   \n",
       "\n",
       "                                               clean  \n",
       "0  Rt Avenida Primero de Mayo frente al sena de l...  \n",
       "1  Rt *Accidente* Se presenta volcamiento de vehí...  \n",
       "2  Rt Av. Las villas norte al sur llegando a la 1...  \n",
       "3  Rt *Accidente*Se presenta siniestro vial entre...  \n",
       "4  Para peor tristeza, muerto en la Av. Cra. 30, ...  "
      ]
     },
     "execution_count": 6,
     "metadata": {},
     "output_type": "execute_result"
    }
   ],
   "source": [
    "dataset[['text','clean']].head(5)"
   ]
  },
  {
   "cell_type": "markdown",
   "metadata": {},
   "source": [
    "### Predicción Etiquetar NER\n",
    "Etiquetas **'loc'** y **'time'**"
   ]
  },
  {
   "cell_type": "code",
   "execution_count": 7,
   "metadata": {},
   "outputs": [],
   "source": [
    "ner_extractor = NerExtractor(spacy_model=spacy_model, njobs=4)\n",
    "txt = ner_extractor.transform(dataset['clean'])\n",
    "dataset['entities'] = txt "
   ]
  },
  {
   "cell_type": "code",
   "execution_count": 8,
   "metadata": {},
   "outputs": [
    {
     "data": {
      "text/html": [
       "<div>\n",
       "<style scoped>\n",
       "    .dataframe tbody tr th:only-of-type {\n",
       "        vertical-align: middle;\n",
       "    }\n",
       "\n",
       "    .dataframe tbody tr th {\n",
       "        vertical-align: top;\n",
       "    }\n",
       "\n",
       "    .dataframe thead th {\n",
       "        text-align: right;\n",
       "    }\n",
       "</style>\n",
       "<table border=\"1\" class=\"dataframe\">\n",
       "  <thead>\n",
       "    <tr style=\"text-align: right;\">\n",
       "      <th></th>\n",
       "      <th>text</th>\n",
       "      <th>entities</th>\n",
       "    </tr>\n",
       "  </thead>\n",
       "  <tbody>\n",
       "    <tr>\n",
       "      <th>0</th>\n",
       "      <td>Rt Avenida Primero de Mayo frente al sena de l...</td>\n",
       "      <td>[(Avenida Primero de Mayo, loc), (sena, loc), ...</td>\n",
       "    </tr>\n",
       "    <tr>\n",
       "      <th>1</th>\n",
       "      <td>Rt *Accidente* Se presenta volcamiento de vehí...</td>\n",
       "      <td>[(carrera 68 con la Av Esperanza, loc)]</td>\n",
       "    </tr>\n",
       "    <tr>\n",
       "      <th>2</th>\n",
       "      <td>Rt Av. Las villas norte al sur llegando a la 1...</td>\n",
       "      <td>[(Av. Las villas, loc), (la 127, loc), (buleva...</td>\n",
       "    </tr>\n",
       "    <tr>\n",
       "      <th>3</th>\n",
       "      <td>Rt *Accidente*Se presenta siniestro vial entre...</td>\n",
       "      <td>[(Av. NQS con calle 67, loc)]</td>\n",
       "    </tr>\n",
       "    <tr>\n",
       "      <th>4</th>\n",
       "      <td>Para peor tristeza, muerto en la Av. Cra. 30, ...</td>\n",
       "      <td>[(Av. Cra . 30, loc), (Calle 67, loc)]</td>\n",
       "    </tr>\n",
       "  </tbody>\n",
       "</table>\n",
       "</div>"
      ],
      "text/plain": [
       "                                                text  \\\n",
       "0  Rt Avenida Primero de Mayo frente al sena de l...   \n",
       "1  Rt *Accidente* Se presenta volcamiento de vehí...   \n",
       "2  Rt Av. Las villas norte al sur llegando a la 1...   \n",
       "3  Rt *Accidente*Se presenta siniestro vial entre...   \n",
       "4  Para peor tristeza, muerto en la Av. Cra. 30, ...   \n",
       "\n",
       "                                            entities  \n",
       "0  [(Avenida Primero de Mayo, loc), (sena, loc), ...  \n",
       "1            [(carrera 68 con la Av Esperanza, loc)]  \n",
       "2  [(Av. Las villas, loc), (la 127, loc), (buleva...  \n",
       "3                      [(Av. NQS con calle 67, loc)]  \n",
       "4             [(Av. Cra . 30, loc), (Calle 67, loc)]  "
      ]
     },
     "execution_count": 8,
     "metadata": {},
     "output_type": "execute_result"
    }
   ],
   "source": [
    "dataset[['text','entities']].head(5)"
   ]
  },
  {
   "cell_type": "code",
   "execution_count": 9,
   "metadata": {},
   "outputs": [
    {
     "name": "stdout",
     "output_type": "stream",
     "text": [
      "#AEstaHora (6:00 P.M.) se registra una fuerte congestión vehicular sobre la Cll 26 en sentido Oriente-Occidente hasta el @BOG_ELDORADO por dos choques menores. Te recomendamos salir con tiempo de anticipación para cumplir con tu plan de vuelo. #Comparte #QueNoTeDejeElAvión https://t.co/0jb7hPHlWc\n",
      "[('esta hora', 'time'), ('6:00 P.M.', 'time'), ('Cll 26', 'loc')]\n",
      "<class 'list'>\n",
      "('esta hora', 'time')\n",
      "<class 'tuple'>\n"
     ]
    }
   ],
   "source": [
    "i = 46\n",
    "print(dataset.iloc[i]['text'])\n",
    "print(dataset.iloc[i]['entities'])\n",
    "print(type(dataset.iloc[i]['entities']))\n",
    "print(dataset.iloc[i]['entities'][0])\n",
    "print(type(dataset.iloc[i]['entities'][0]))"
   ]
  },
  {
   "cell_type": "code",
   "execution_count": 10,
   "metadata": {},
   "outputs": [
    {
     "data": {
      "text/plain": [
       "['Cll 26']"
      ]
     },
     "execution_count": 10,
     "metadata": {},
     "output_type": "execute_result"
    }
   ],
   "source": [
    "ent = [ t for (t,l) in dataset.iloc[i]['entities']  if l == 'loc' ]\n",
    "ent"
   ]
  },
  {
   "cell_type": "code",
   "execution_count": 11,
   "metadata": {},
   "outputs": [
    {
     "data": {
      "text/plain": [
       "['esta hora', '6:00 P.M.']"
      ]
     },
     "execution_count": 11,
     "metadata": {},
     "output_type": "execute_result"
    }
   ],
   "source": [
    "ent = [ t for (t,l) in dataset.iloc[i]['entities']  if l == 'time' ]\n",
    "ent"
   ]
  },
  {
   "cell_type": "markdown",
   "metadata": {},
   "source": [
    "### Exportar tsv"
   ]
  },
  {
   "cell_type": "code",
   "execution_count": null,
   "metadata": {},
   "outputs": [],
   "source": [
    "dataset = dataset.sample(frac=1)\n",
    "dataset.to_csv(\"../../../data/v1/NER/ner_dataset_shuffle.tsv\",sep='\\t')"
   ]
  }
 ],
 "metadata": {
  "kernelspec": {
   "display_name": "Python 3",
   "language": "python",
   "name": "python3"
  },
  "language_info": {
   "codemirror_mode": {
    "name": "ipython",
    "version": 3
   },
   "file_extension": ".py",
   "mimetype": "text/x-python",
   "name": "python",
   "nbconvert_exporter": "python",
   "pygments_lexer": "ipython3",
   "version": "3.7.3"
  }
 },
 "nbformat": 4,
 "nbformat_minor": 4
}
