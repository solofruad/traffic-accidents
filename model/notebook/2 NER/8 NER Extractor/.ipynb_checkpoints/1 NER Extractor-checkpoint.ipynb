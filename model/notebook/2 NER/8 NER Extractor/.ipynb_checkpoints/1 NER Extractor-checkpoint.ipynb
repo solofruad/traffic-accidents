{
 "cells": [
  {
   "cell_type": "markdown",
   "metadata": {},
   "source": [
    "# Named Entity Extractor with Spacy\n",
    "### By **Néstor Suat** in 2021\n",
    "\n",
    "**Descripción:** Con el modelo Spacy entrenado previamente se extrae las entidades **loc** y **time**\n",
    "\n",
    "**Input:**\n",
    "* TSV con tweets\n",
    "\n",
    "**Output:**\n",
    "* TSV agregando columna clean y entities\n",
    "\n",
    "***"
   ]
  },
  {
   "cell_type": "markdown",
   "metadata": {},
   "source": [
    "### Importando librerías e Inicializando variables"
   ]
  },
  {
   "cell_type": "code",
   "execution_count": 1,
   "metadata": {},
   "outputs": [],
   "source": [
    "import pandas as pd\n",
    "import sys\n",
    "sys.path.insert(0, '../../../')\n",
    "\n",
    "from classes.tweet2accident.ner_preprocessing import NerPreprocessing\n",
    "from classes.tweet2accident.ner_extractor import NerExtractor"
   ]
  },
  {
   "cell_type": "raw",
   "metadata": {},
   "source": [
    "accident_1_server_bogota -- 5.832 tweets\n",
    "accident_2_server_token_search -- 60.970 tweets\n",
    "accident_3_server_token_user -- 50.111\n",
    "accident_4_server_follow_timeline_user -- 87.271"
   ]
  },
  {
   "cell_type": "code",
   "execution_count": 7,
   "metadata": {},
   "outputs": [],
   "source": [
    "## Variables para importar modelos y demás\n",
    "dir_ = \"../../../data/v1/NER/\"\n",
    "dir_dataset = \"../../../data/database/output_ml/M1/\"\n",
    "\n",
    "#file = 'ner_dataset.tsv' # Dataset\n",
    "file = 'accident_4_server_follow_timeline_user.tsv' # Dataset\n",
    "\n",
    "spacy_model = dir_+\"spacy_model_complete/\" #Spacy model entrenado previamente\n",
    "corpus_segmentation = dir_+'spanish_count_1w_small_v2_twitter.txt' # Corpus para entrenar el wordsemgentation"
   ]
  },
  {
   "cell_type": "code",
   "execution_count": 8,
   "metadata": {},
   "outputs": [
    {
     "name": "stdout",
     "output_type": "stream",
     "text": [
      "(86882, 25)\n"
     ]
    },
    {
     "data": {
      "text/html": [
       "<div>\n",
       "<style scoped>\n",
       "    .dataframe tbody tr th:only-of-type {\n",
       "        vertical-align: middle;\n",
       "    }\n",
       "\n",
       "    .dataframe tbody tr th {\n",
       "        vertical-align: top;\n",
       "    }\n",
       "\n",
       "    .dataframe thead th {\n",
       "        text-align: right;\n",
       "    }\n",
       "</style>\n",
       "<table border=\"1\" class=\"dataframe\">\n",
       "  <thead>\n",
       "    <tr style=\"text-align: right;\">\n",
       "      <th></th>\n",
       "      <th>_id</th>\n",
       "      <th>api</th>\n",
       "      <th>coordinates</th>\n",
       "      <th>created_at</th>\n",
       "      <th>created_at_str</th>\n",
       "      <th>favorite_count</th>\n",
       "      <th>geo</th>\n",
       "      <th>id_tweet</th>\n",
       "      <th>place_coordinates</th>\n",
       "      <th>place_country</th>\n",
       "      <th>...</th>\n",
       "      <th>user_followers_count</th>\n",
       "      <th>user_friends_count</th>\n",
       "      <th>user_id</th>\n",
       "      <th>user_listed_count</th>\n",
       "      <th>user_location</th>\n",
       "      <th>user_name</th>\n",
       "      <th>user_profile_image_url</th>\n",
       "      <th>user_statuses_count</th>\n",
       "      <th>user_verified</th>\n",
       "      <th>label</th>\n",
       "    </tr>\n",
       "  </thead>\n",
       "  <tbody>\n",
       "    <tr>\n",
       "      <th>0</th>\n",
       "      <td>5bbc1901dc5d3f22d9c38821</td>\n",
       "      <td>Stream-follow</td>\n",
       "      <td>{}</td>\n",
       "      <td>2018-10-08 21:57:04</td>\n",
       "      <td>2018-10-09 02:57:04</td>\n",
       "      <td>0</td>\n",
       "      <td>{}</td>\n",
       "      <td>1049493924291727360</td>\n",
       "      <td>{}</td>\n",
       "      <td>NaN</td>\n",
       "      <td>...</td>\n",
       "      <td>7386</td>\n",
       "      <td>7477</td>\n",
       "      <td>91371148</td>\n",
       "      <td>45</td>\n",
       "      <td>NaN</td>\n",
       "      <td>Isgarvan</td>\n",
       "      <td>http://pbs.twimg.com/profile_images/6921179185...</td>\n",
       "      <td>56478</td>\n",
       "      <td>False</td>\n",
       "      <td>1</td>\n",
       "    </tr>\n",
       "    <tr>\n",
       "      <th>1</th>\n",
       "      <td>5bbc243fdc5d3f2354ac637a</td>\n",
       "      <td>Stream-follow</td>\n",
       "      <td>{}</td>\n",
       "      <td>2018-10-08 22:45:03</td>\n",
       "      <td>2018-10-09 03:45:03</td>\n",
       "      <td>0</td>\n",
       "      <td>{}</td>\n",
       "      <td>1049505997600055296</td>\n",
       "      <td>{}</td>\n",
       "      <td>NaN</td>\n",
       "      <td>...</td>\n",
       "      <td>59</td>\n",
       "      <td>335</td>\n",
       "      <td>985956584655290391</td>\n",
       "      <td>0</td>\n",
       "      <td>NaN</td>\n",
       "      <td>K940223593</td>\n",
       "      <td>http://pbs.twimg.com/profile_images/1013532920...</td>\n",
       "      <td>5712</td>\n",
       "      <td>False</td>\n",
       "      <td>1</td>\n",
       "    </tr>\n",
       "    <tr>\n",
       "      <th>2</th>\n",
       "      <td>5bbc292bdc5d3f2580132dee</td>\n",
       "      <td>Stream-follow</td>\n",
       "      <td>{}</td>\n",
       "      <td>2018-10-08 23:06:03</td>\n",
       "      <td>2018-10-09 04:06:03</td>\n",
       "      <td>0</td>\n",
       "      <td>{}</td>\n",
       "      <td>1049511282624335872</td>\n",
       "      <td>{}</td>\n",
       "      <td>NaN</td>\n",
       "      <td>...</td>\n",
       "      <td>80</td>\n",
       "      <td>268</td>\n",
       "      <td>4114754413</td>\n",
       "      <td>1</td>\n",
       "      <td>Seachells Islands Indian Ocean</td>\n",
       "      <td>lp972039</td>\n",
       "      <td>http://pbs.twimg.com/profile_images/8955346283...</td>\n",
       "      <td>74</td>\n",
       "      <td>False</td>\n",
       "      <td>1</td>\n",
       "    </tr>\n",
       "    <tr>\n",
       "      <th>3</th>\n",
       "      <td>5bbc2adcdc5d3f2580132dfa</td>\n",
       "      <td>Stream-follow</td>\n",
       "      <td>{}</td>\n",
       "      <td>2018-10-08 23:13:16</td>\n",
       "      <td>2018-10-09 04:13:16</td>\n",
       "      <td>0</td>\n",
       "      <td>{}</td>\n",
       "      <td>1049513098774765568</td>\n",
       "      <td>{}</td>\n",
       "      <td>NaN</td>\n",
       "      <td>...</td>\n",
       "      <td>87</td>\n",
       "      <td>270</td>\n",
       "      <td>141597111</td>\n",
       "      <td>4</td>\n",
       "      <td>Bogota</td>\n",
       "      <td>lordviktor23</td>\n",
       "      <td>http://pbs.twimg.com/profile_images/1031371042...</td>\n",
       "      <td>10261</td>\n",
       "      <td>False</td>\n",
       "      <td>1</td>\n",
       "    </tr>\n",
       "    <tr>\n",
       "      <th>4</th>\n",
       "      <td>5bbc2da9dc5d3f2580132e10</td>\n",
       "      <td>Stream-follow</td>\n",
       "      <td>{}</td>\n",
       "      <td>2018-10-08 23:25:13</td>\n",
       "      <td>2018-10-09 04:25:13</td>\n",
       "      <td>0</td>\n",
       "      <td>{}</td>\n",
       "      <td>1049516105922953217</td>\n",
       "      <td>{}</td>\n",
       "      <td>NaN</td>\n",
       "      <td>...</td>\n",
       "      <td>120</td>\n",
       "      <td>1150</td>\n",
       "      <td>1973074842</td>\n",
       "      <td>0</td>\n",
       "      <td>Cicloton ciudad de mexico</td>\n",
       "      <td>osvaldocente</td>\n",
       "      <td>http://pbs.twimg.com/profile_images/3788000008...</td>\n",
       "      <td>1530</td>\n",
       "      <td>False</td>\n",
       "      <td>1</td>\n",
       "    </tr>\n",
       "  </tbody>\n",
       "</table>\n",
       "<p>5 rows × 25 columns</p>\n",
       "</div>"
      ],
      "text/plain": [
       "                        _id            api coordinates           created_at  \\\n",
       "0  5bbc1901dc5d3f22d9c38821  Stream-follow          {}  2018-10-08 21:57:04   \n",
       "1  5bbc243fdc5d3f2354ac637a  Stream-follow          {}  2018-10-08 22:45:03   \n",
       "2  5bbc292bdc5d3f2580132dee  Stream-follow          {}  2018-10-08 23:06:03   \n",
       "3  5bbc2adcdc5d3f2580132dfa  Stream-follow          {}  2018-10-08 23:13:16   \n",
       "4  5bbc2da9dc5d3f2580132e10  Stream-follow          {}  2018-10-08 23:25:13   \n",
       "\n",
       "        created_at_str  favorite_count geo             id_tweet  \\\n",
       "0  2018-10-09 02:57:04               0  {}  1049493924291727360   \n",
       "1  2018-10-09 03:45:03               0  {}  1049505997600055296   \n",
       "2  2018-10-09 04:06:03               0  {}  1049511282624335872   \n",
       "3  2018-10-09 04:13:16               0  {}  1049513098774765568   \n",
       "4  2018-10-09 04:25:13               0  {}  1049516105922953217   \n",
       "\n",
       "  place_coordinates place_country  ... user_followers_count  \\\n",
       "0                {}           NaN  ...                 7386   \n",
       "1                {}           NaN  ...                   59   \n",
       "2                {}           NaN  ...                   80   \n",
       "3                {}           NaN  ...                   87   \n",
       "4                {}           NaN  ...                  120   \n",
       "\n",
       "  user_friends_count             user_id user_listed_count  \\\n",
       "0               7477            91371148                45   \n",
       "1                335  985956584655290391                 0   \n",
       "2                268          4114754413                 1   \n",
       "3                270           141597111                 4   \n",
       "4               1150          1973074842                 0   \n",
       "\n",
       "                    user_location     user_name  \\\n",
       "0                             NaN      Isgarvan   \n",
       "1                             NaN    K940223593   \n",
       "2  Seachells Islands Indian Ocean      lp972039   \n",
       "3                         Bogota   lordviktor23   \n",
       "4       Cicloton ciudad de mexico  osvaldocente   \n",
       "\n",
       "                              user_profile_image_url  user_statuses_count  \\\n",
       "0  http://pbs.twimg.com/profile_images/6921179185...                56478   \n",
       "1  http://pbs.twimg.com/profile_images/1013532920...                 5712   \n",
       "2  http://pbs.twimg.com/profile_images/8955346283...                   74   \n",
       "3  http://pbs.twimg.com/profile_images/1031371042...                10261   \n",
       "4  http://pbs.twimg.com/profile_images/3788000008...                 1530   \n",
       "\n",
       "   user_verified label  \n",
       "0          False     1  \n",
       "1          False     1  \n",
       "2          False     1  \n",
       "3          False     1  \n",
       "4          False     1  \n",
       "\n",
       "[5 rows x 25 columns]"
      ]
     },
     "execution_count": 8,
     "metadata": {},
     "output_type": "execute_result"
    }
   ],
   "source": [
    "## Importando Dataset\n",
    "dataset = pd.read_csv(dir_dataset+file, delimiter = \"\\t\", quoting = 3)\n",
    "del dataset['Unnamed: 0']\n",
    "print(dataset.shape)\n",
    "dataset.head(5)"
   ]
  },
  {
   "cell_type": "code",
   "execution_count": 5,
   "metadata": {},
   "outputs": [
    {
     "data": {
      "text/plain": [
       "(6037, 25)"
      ]
     },
     "execution_count": 5,
     "metadata": {},
     "output_type": "execute_result"
    }
   ],
   "source": [
    "dataset.shape"
   ]
  },
  {
   "cell_type": "markdown",
   "metadata": {},
   "source": [
    "### Limpieza y normalización para NER"
   ]
  },
  {
   "cell_type": "code",
   "execution_count": 6,
   "metadata": {},
   "outputs": [],
   "source": [
    "ner_preprocessing = NerPreprocessing(spacy_model=spacy_model, corpus_segmentation=corpus_segmentation,njobs=4)\n",
    "txt = ner_preprocessing.transform(dataset['text'])\n",
    "dataset['clean'] = txt"
   ]
  },
  {
   "cell_type": "code",
   "execution_count": 7,
   "metadata": {},
   "outputs": [
    {
     "data": {
      "text/html": [
       "<div>\n",
       "<style scoped>\n",
       "    .dataframe tbody tr th:only-of-type {\n",
       "        vertical-align: middle;\n",
       "    }\n",
       "\n",
       "    .dataframe tbody tr th {\n",
       "        vertical-align: top;\n",
       "    }\n",
       "\n",
       "    .dataframe thead th {\n",
       "        text-align: right;\n",
       "    }\n",
       "</style>\n",
       "<table border=\"1\" class=\"dataframe\">\n",
       "  <thead>\n",
       "    <tr style=\"text-align: right;\">\n",
       "      <th></th>\n",
       "      <th>text</th>\n",
       "      <th>clean</th>\n",
       "    </tr>\n",
       "  </thead>\n",
       "  <tbody>\n",
       "    <tr>\n",
       "      <th>0</th>\n",
       "      <td>Desmanes en Bogotá dejaron anoche dos personas...</td>\n",
       "      <td>Desmanes en Bogotá dejaron anoche dos personas...</td>\n",
       "    </tr>\n",
       "    <tr>\n",
       "      <th>1</th>\n",
       "      <td>Rt grave accidente en cumaral un camión choca ...</td>\n",
       "      <td>Rt grave accidente en cumaral un camión choca ...</td>\n",
       "    </tr>\n",
       "    <tr>\n",
       "      <th>2</th>\n",
       "      <td>Art. 141 Derecho de vía de peatones y ciclista...</td>\n",
       "      <td>Art. 141 Derecho de vía de peatones y ciclista...</td>\n",
       "    </tr>\n",
       "    <tr>\n",
       "      <th>3</th>\n",
       "      <td>Instituto de Tránsito de Boyacá, Secretaria de...</td>\n",
       "      <td>Instituto de Tránsito de Boyacá, Secretaria de...</td>\n",
       "    </tr>\n",
       "    <tr>\n",
       "      <th>4</th>\n",
       "      <td>Mujer de carne y hueso #temazo @VicenteMoros @...</td>\n",
       "      <td>Mujer de carne y hueso temazo vicente moros da...</td>\n",
       "    </tr>\n",
       "  </tbody>\n",
       "</table>\n",
       "</div>"
      ],
      "text/plain": [
       "                                                text  \\\n",
       "0  Desmanes en Bogotá dejaron anoche dos personas...   \n",
       "1  Rt grave accidente en cumaral un camión choca ...   \n",
       "2  Art. 141 Derecho de vía de peatones y ciclista...   \n",
       "3  Instituto de Tránsito de Boyacá, Secretaria de...   \n",
       "4  Mujer de carne y hueso #temazo @VicenteMoros @...   \n",
       "\n",
       "                                               clean  \n",
       "0  Desmanes en Bogotá dejaron anoche dos personas...  \n",
       "1  Rt grave accidente en cumaral un camión choca ...  \n",
       "2  Art. 141 Derecho de vía de peatones y ciclista...  \n",
       "3  Instituto de Tránsito de Boyacá, Secretaria de...  \n",
       "4  Mujer de carne y hueso temazo vicente moros da...  "
      ]
     },
     "execution_count": 7,
     "metadata": {},
     "output_type": "execute_result"
    }
   ],
   "source": [
    "dataset[['text','clean']].head(5)"
   ]
  },
  {
   "cell_type": "markdown",
   "metadata": {},
   "source": [
    "### Predicción Etiquetar NER\n",
    "Etiquetas **'loc'** y **'time'**"
   ]
  },
  {
   "cell_type": "code",
   "execution_count": 11,
   "metadata": {},
   "outputs": [
    {
     "data": {
      "text/plain": [
       "'Rt grave accidente en cumaral un camión choca de frente contra una aerovans   2 personas fallecidas y seis heridos hasta el momento la vía esta cerrada en estos momentoscierre total de via Cumaral - Restrepo por accidente de transito, Km 25+500 entrada a cumaral'"
      ]
     },
     "execution_count": 11,
     "metadata": {},
     "output_type": "execute_result"
    }
   ],
   "source": [
    "dataset.iloc[1]['text']"
   ]
  },
  {
   "cell_type": "code",
   "execution_count": 8,
   "metadata": {},
   "outputs": [],
   "source": [
    "ner_extractor = NerExtractor(spacy_model=spacy_model, njobs=4)\n",
    "txt = ner_extractor.transform(dataset['clean'])\n",
    "dataset['entities'] = txt "
   ]
  },
  {
   "cell_type": "code",
   "execution_count": 9,
   "metadata": {},
   "outputs": [
    {
     "data": {
      "text/html": [
       "<div>\n",
       "<style scoped>\n",
       "    .dataframe tbody tr th:only-of-type {\n",
       "        vertical-align: middle;\n",
       "    }\n",
       "\n",
       "    .dataframe tbody tr th {\n",
       "        vertical-align: top;\n",
       "    }\n",
       "\n",
       "    .dataframe thead th {\n",
       "        text-align: right;\n",
       "    }\n",
       "</style>\n",
       "<table border=\"1\" class=\"dataframe\">\n",
       "  <thead>\n",
       "    <tr style=\"text-align: right;\">\n",
       "      <th></th>\n",
       "      <th>text</th>\n",
       "      <th>entities</th>\n",
       "    </tr>\n",
       "  </thead>\n",
       "  <tbody>\n",
       "    <tr>\n",
       "      <th>0</th>\n",
       "      <td>Desmanes en Bogotá dejaron anoche dos personas...</td>\n",
       "      <td>[(santafe, loc)]</td>\n",
       "    </tr>\n",
       "    <tr>\n",
       "      <th>1</th>\n",
       "      <td>Rt grave accidente en cumaral un camión choca ...</td>\n",
       "      <td>[(Km 25 500, loc)]</td>\n",
       "    </tr>\n",
       "    <tr>\n",
       "      <th>2</th>\n",
       "      <td>Art. 141 Derecho de vía de peatones y ciclista...</td>\n",
       "      <td>[(Art 141, loc)]</td>\n",
       "    </tr>\n",
       "    <tr>\n",
       "      <th>3</th>\n",
       "      <td>Instituto de Tránsito de Boyacá, Secretaria de...</td>\n",
       "      <td>[(Instituto, loc), (Boyacá, loc), (Buenaventur...</td>\n",
       "    </tr>\n",
       "    <tr>\n",
       "      <th>4</th>\n",
       "      <td>Mujer de carne y hueso #temazo @VicenteMoros @...</td>\n",
       "      <td>[]</td>\n",
       "    </tr>\n",
       "  </tbody>\n",
       "</table>\n",
       "</div>"
      ],
      "text/plain": [
       "                                                text  \\\n",
       "0  Desmanes en Bogotá dejaron anoche dos personas...   \n",
       "1  Rt grave accidente en cumaral un camión choca ...   \n",
       "2  Art. 141 Derecho de vía de peatones y ciclista...   \n",
       "3  Instituto de Tránsito de Boyacá, Secretaria de...   \n",
       "4  Mujer de carne y hueso #temazo @VicenteMoros @...   \n",
       "\n",
       "                                            entities  \n",
       "0                                   [(santafe, loc)]  \n",
       "1                                 [(Km 25 500, loc)]  \n",
       "2                                   [(Art 141, loc)]  \n",
       "3  [(Instituto, loc), (Boyacá, loc), (Buenaventur...  \n",
       "4                                                 []  "
      ]
     },
     "execution_count": 9,
     "metadata": {},
     "output_type": "execute_result"
    }
   ],
   "source": [
    "dataset[['text','entities']].head(5)"
   ]
  },
  {
   "cell_type": "code",
   "execution_count": 13,
   "metadata": {},
   "outputs": [
    {
     "data": {
      "text/plain": [
       "(6037, 27)"
      ]
     },
     "execution_count": 13,
     "metadata": {},
     "output_type": "execute_result"
    }
   ],
   "source": [
    "dataset.shape"
   ]
  },
  {
   "cell_type": "code",
   "execution_count": 16,
   "metadata": {},
   "outputs": [],
   "source": [
    "dataset.to_csv(dir_dataset+\"NER_extractor/entities_\"+file,sep='\\t')"
   ]
  },
  {
   "cell_type": "markdown",
   "metadata": {},
   "source": [
    "---\n",
    "### Pruebas"
   ]
  },
  {
   "cell_type": "code",
   "execution_count": 9,
   "metadata": {},
   "outputs": [
    {
     "name": "stdout",
     "output_type": "stream",
     "text": [
      "#AEstaHora (6:00 P.M.) se registra una fuerte congestión vehicular sobre la Cll 26 en sentido Oriente-Occidente hasta el @BOG_ELDORADO por dos choques menores. Te recomendamos salir con tiempo de anticipación para cumplir con tu plan de vuelo. #Comparte #QueNoTeDejeElAvión https://t.co/0jb7hPHlWc\n",
      "[('esta hora', 'time'), ('6:00 P.M.', 'time'), ('Cll 26', 'loc')]\n",
      "<class 'list'>\n",
      "('esta hora', 'time')\n",
      "<class 'tuple'>\n"
     ]
    }
   ],
   "source": [
    "i = 46\n",
    "print(dataset.iloc[i]['text'])\n",
    "print(dataset.iloc[i]['entities'])\n",
    "print(type(dataset.iloc[i]['entities']))\n",
    "print(dataset.iloc[i]['entities'][0])\n",
    "print(type(dataset.iloc[i]['entities'][0]))"
   ]
  },
  {
   "cell_type": "code",
   "execution_count": 10,
   "metadata": {},
   "outputs": [
    {
     "data": {
      "text/plain": [
       "['Cll 26']"
      ]
     },
     "execution_count": 10,
     "metadata": {},
     "output_type": "execute_result"
    }
   ],
   "source": [
    "ent = [ t for (t,l) in dataset.iloc[i]['entities']  if l == 'loc' ]\n",
    "ent"
   ]
  },
  {
   "cell_type": "code",
   "execution_count": 11,
   "metadata": {},
   "outputs": [
    {
     "data": {
      "text/plain": [
       "['esta hora', '6:00 P.M.']"
      ]
     },
     "execution_count": 11,
     "metadata": {},
     "output_type": "execute_result"
    }
   ],
   "source": [
    "ent = [ t for (t,l) in dataset.iloc[i]['entities']  if l == 'time' ]\n",
    "ent"
   ]
  },
  {
   "cell_type": "markdown",
   "metadata": {},
   "source": [
    "### Exportar tsv"
   ]
  },
  {
   "cell_type": "code",
   "execution_count": 12,
   "metadata": {},
   "outputs": [],
   "source": [
    "dataset.to_csv(dir_+\"ner_dataset_entities.tsv\",sep='\\t')"
   ]
  }
 ],
 "metadata": {
  "kernelspec": {
   "display_name": "traffic",
   "language": "python",
   "name": "traffic"
  },
  "language_info": {
   "codemirror_mode": {
    "name": "ipython",
    "version": 3
   },
   "file_extension": ".py",
   "mimetype": "text/x-python",
   "name": "python",
   "nbconvert_exporter": "python",
   "pygments_lexer": "ipython3",
   "version": "3.8.5"
  }
 },
 "nbformat": 4,
 "nbformat_minor": 4
}
