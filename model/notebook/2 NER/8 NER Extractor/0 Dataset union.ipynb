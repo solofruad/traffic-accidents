{
 "cells": [
  {
   "cell_type": "markdown",
   "id": "rapid-richardson",
   "metadata": {},
   "source": [
    "# Dataset Union\n",
    "### By **Néstor Suat** in 2021\n",
    "\n",
    "**Descripción:** Uniendo los datasets debido que algunos estan particionados, como por ejemplo el de `1_server_bogota`\n",
    "\n",
    "---"
   ]
  },
  {
   "cell_type": "code",
   "execution_count": 2,
   "id": "constitutional-petroleum",
   "metadata": {},
   "outputs": [],
   "source": [
    "import pandas as pd"
   ]
  },
  {
   "cell_type": "code",
   "execution_count": 5,
   "id": "speaking-tunnel",
   "metadata": {},
   "outputs": [],
   "source": [
    "dir_ = \"../../../data/database/output_ml/M1/\""
   ]
  },
  {
   "cell_type": "markdown",
   "id": "filled-sally",
   "metadata": {},
   "source": [
    "### Dataset `1_server_bogota`"
   ]
  },
  {
   "cell_type": "code",
   "execution_count": 9,
   "id": "neutral-colony",
   "metadata": {
    "tags": []
   },
   "outputs": [],
   "source": [
    "file = 'accident_1_server_bogota_part'\n",
    "\n",
    "df1 = pd.read_csv(dir_+file+'1.tsv', delimiter = \"\\t\", quoting = 3)\n",
    "del df1['Unnamed: 0']\n",
    "\n",
    "df2 = pd.read_csv(dir_+file+'2.tsv', delimiter = \"\\t\", quoting = 3)\n",
    "del df2['Unnamed: 0']\n",
    "\n",
    "df3 = pd.read_csv(dir_+file+'3.tsv', delimiter = \"\\t\", quoting = 3)\n",
    "del df3['Unnamed: 0']\n",
    "\n",
    "df4 = pd.read_csv(dir_+file+'4.tsv', delimiter = \"\\t\", quoting = 3)\n",
    "del df4['Unnamed: 0']"
   ]
  },
  {
   "cell_type": "code",
   "execution_count": 10,
   "id": "laden-familiar",
   "metadata": {},
   "outputs": [
    {
     "name": "stdout",
     "output_type": "stream",
     "text": [
      "(624, 25)\n",
      "(2756, 25)\n",
      "(1873, 25)\n",
      "(784, 25)\n"
     ]
    }
   ],
   "source": [
    "print(df1.shape)\n",
    "print(df2.shape)\n",
    "print(df3.shape)\n",
    "print(df4.shape)"
   ]
  },
  {
   "cell_type": "code",
   "execution_count": 11,
   "id": "passing-exhaust",
   "metadata": {},
   "outputs": [
    {
     "data": {
      "text/plain": [
       "(6037, 25)"
      ]
     },
     "execution_count": 11,
     "metadata": {},
     "output_type": "execute_result"
    }
   ],
   "source": [
    "dataset = pd.concat([df1,df2,df3,df4])\n",
    "dataset.shape"
   ]
  },
  {
   "cell_type": "code",
   "execution_count": 15,
   "id": "basic-ozone",
   "metadata": {
    "tags": []
   },
   "outputs": [
    {
     "data": {
      "text/plain": [
       "(6037, 25)"
      ]
     },
     "execution_count": 15,
     "metadata": {},
     "output_type": "execute_result"
    }
   ],
   "source": [
    "dataset = dataset.drop_duplicates(subset=['id_tweet'], keep='last')\n",
    "dataset.shape"
   ]
  },
  {
   "cell_type": "code",
   "execution_count": 14,
   "id": "challenging-single",
   "metadata": {
    "collapsed": true,
    "jupyter": {
     "outputs_hidden": true
    },
    "tags": []
   },
   "outputs": [
    {
     "name": "stdout",
     "output_type": "stream",
     "text": [
      "<class 'pandas.core.frame.DataFrame'>\n",
      "Int64Index: 6037 entries, 0 to 783\n",
      "Data columns (total 25 columns):\n",
      "_id                       6037 non-null object\n",
      "api                       6037 non-null object\n",
      "coordinates               6037 non-null object\n",
      "created_at                6037 non-null object\n",
      "created_at_str            6037 non-null object\n",
      "favorite_count            6037 non-null int64\n",
      "geo                       6037 non-null object\n",
      "id_tweet                  6037 non-null int64\n",
      "place_coordinates         6037 non-null object\n",
      "place_country             6036 non-null object\n",
      "place_name                6037 non-null object\n",
      "place_type                6037 non-null object\n",
      "retweet_count             6037 non-null int64\n",
      "text                      6037 non-null object\n",
      "user_created_at           6037 non-null object\n",
      "user_followers_count      6037 non-null int64\n",
      "user_friends_count        6037 non-null int64\n",
      "user_id                   6037 non-null int64\n",
      "user_listed_count         6037 non-null float64\n",
      "user_location             5656 non-null object\n",
      "user_name                 6037 non-null object\n",
      "user_profile_image_url    6037 non-null object\n",
      "user_statuses_count       6037 non-null int64\n",
      "user_verified             6037 non-null bool\n",
      "label                     6037 non-null int64\n",
      "dtypes: bool(1), float64(1), int64(8), object(15)\n",
      "memory usage: 1.2+ MB\n"
     ]
    }
   ],
   "source": [
    "dataset.info()"
   ]
  },
  {
   "cell_type": "code",
   "execution_count": 17,
   "id": "assured-slovak",
   "metadata": {},
   "outputs": [],
   "source": [
    "dataset.to_csv(dir_+\"accident_1_server_bogota.tsv\",sep='\\t',index=False)"
   ]
  }
 ],
 "metadata": {
  "kernelspec": {
   "display_name": "traffic",
   "language": "python",
   "name": "traffic"
  },
  "language_info": {
   "codemirror_mode": {
    "name": "ipython",
    "version": 3
   },
   "file_extension": ".py",
   "mimetype": "text/x-python",
   "name": "python",
   "nbconvert_exporter": "python",
   "pygments_lexer": "ipython3",
   "version": "3.8.5"
  }
 },
 "nbformat": 4,
 "nbformat_minor": 5
}
