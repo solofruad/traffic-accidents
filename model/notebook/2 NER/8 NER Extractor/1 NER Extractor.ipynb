{
 "cells": [
  {
   "cell_type": "markdown",
   "metadata": {},
   "source": [
    "# Named Entity Extractor with Spacy\n",
    "### By **Néstor Suat** in 2021\n",
    "\n",
    "**Descripción:** Con el modelo Spacy entrenado previamente se extrae las entidades **loc** y **time**\n",
    "\n",
    "**Input:**\n",
    "* TSV con tweets\n",
    "\n",
    "**Output:**\n",
    "* TSV agregando columna clean y entities\n",
    "\n",
    "***"
   ]
  },
  {
   "cell_type": "markdown",
   "metadata": {},
   "source": [
    "### Importando librerías e Inicializando variables"
   ]
  },
  {
   "cell_type": "code",
   "execution_count": 1,
   "metadata": {},
   "outputs": [],
   "source": [
    "import pandas as pd\n",
    "import sys\n",
    "sys.path.insert(0, '../../../')\n",
    "\n",
    "from classes.tweet2accident.ner_preprocessing import NerPreprocessing\n",
    "from classes.tweet2accident.ner_extractor import NerExtractor"
   ]
  },
  {
   "cell_type": "raw",
   "metadata": {},
   "source": [
    "accident_1_server_bogota -- 5.832 tweets\n",
    "accident_2_server_token_search -- 60.970 tweets\n",
    "accident_3_server_token_user -- 50.111\n",
    "accident_4_server_follow_timeline_user -- 87.271"
   ]
  },
  {
   "cell_type": "code",
   "execution_count": 2,
   "metadata": {},
   "outputs": [],
   "source": [
    "## Variables para importar modelos y demás\n",
    "dir_ = \"../../../data/v1/NER/\"\n",
    "dir_dataset = \"../../../data/database/output_ml/M1/\"\n",
    "\n",
    "#file = 'ner_dataset.tsv' # Dataset\n",
    "file = 'accident_1_server_bogota.tsv' # Dataset\n",
    "\n",
    "spacy_model = dir_+\"spacy_model_complete/\" #Spacy model entrenado previamente\n",
    "corpus_segmentation = dir_+'spanish_count_1w_small_v2_twitter.txt' # Corpus para entrenar el wordsemgentation"
   ]
  },
  {
   "cell_type": "code",
   "execution_count": 3,
   "metadata": {},
   "outputs": [
    {
     "name": "stdout",
     "output_type": "stream",
     "text": [
      "(5832, 25)\n"
     ]
    },
    {
     "data": {
      "text/html": [
       "<div>\n",
       "<style scoped>\n",
       "    .dataframe tbody tr th:only-of-type {\n",
       "        vertical-align: middle;\n",
       "    }\n",
       "\n",
       "    .dataframe tbody tr th {\n",
       "        vertical-align: top;\n",
       "    }\n",
       "\n",
       "    .dataframe thead th {\n",
       "        text-align: right;\n",
       "    }\n",
       "</style>\n",
       "<table border=\"1\" class=\"dataframe\">\n",
       "  <thead>\n",
       "    <tr style=\"text-align: right;\">\n",
       "      <th></th>\n",
       "      <th>_id</th>\n",
       "      <th>api</th>\n",
       "      <th>coordinates</th>\n",
       "      <th>created_at</th>\n",
       "      <th>created_at_str</th>\n",
       "      <th>favorite_count</th>\n",
       "      <th>geo</th>\n",
       "      <th>id_tweet</th>\n",
       "      <th>place_coordinates</th>\n",
       "      <th>place_country</th>\n",
       "      <th>...</th>\n",
       "      <th>user_followers_count</th>\n",
       "      <th>user_friends_count</th>\n",
       "      <th>user_id</th>\n",
       "      <th>user_listed_count</th>\n",
       "      <th>user_location</th>\n",
       "      <th>user_name</th>\n",
       "      <th>user_profile_image_url</th>\n",
       "      <th>user_statuses_count</th>\n",
       "      <th>user_verified</th>\n",
       "      <th>label</th>\n",
       "    </tr>\n",
       "  </thead>\n",
       "  <tbody>\n",
       "    <tr>\n",
       "      <th>0</th>\n",
       "      <td>5bb4a18069d02d6942f0b4e0</td>\n",
       "      <td>Stream</td>\n",
       "      <td>{}</td>\n",
       "      <td>2018-10-03 06:01:20</td>\n",
       "      <td>2018-10-03 11:01:20</td>\n",
       "      <td>0</td>\n",
       "      <td>{}</td>\n",
       "      <td>1047441463322316800</td>\n",
       "      <td>{'type': 'Polygon', 'coordinates': [[[{'$numbe...</td>\n",
       "      <td>Colombia</td>\n",
       "      <td>...</td>\n",
       "      <td>21261</td>\n",
       "      <td>1533</td>\n",
       "      <td>189192159</td>\n",
       "      <td>226.0</td>\n",
       "      <td>Bogotá - Colombia</td>\n",
       "      <td>EsperanzaRicoL</td>\n",
       "      <td>http://pbs.twimg.com/profile_images/9887424484...</td>\n",
       "      <td>88093</td>\n",
       "      <td>False</td>\n",
       "      <td>1</td>\n",
       "    </tr>\n",
       "    <tr>\n",
       "      <th>1</th>\n",
       "      <td>5bb4b8b969d02d78e814fbbc</td>\n",
       "      <td>Stream</td>\n",
       "      <td>{}</td>\n",
       "      <td>2018-10-03 07:40:24</td>\n",
       "      <td>2018-10-03 12:40:24</td>\n",
       "      <td>0</td>\n",
       "      <td>{}</td>\n",
       "      <td>1047466397146796034</td>\n",
       "      <td>{'type': 'Polygon', 'coordinates': [[[{'$numbe...</td>\n",
       "      <td>Colombia</td>\n",
       "      <td>...</td>\n",
       "      <td>709</td>\n",
       "      <td>4996</td>\n",
       "      <td>4798808621</td>\n",
       "      <td>1.0</td>\n",
       "      <td>NaN</td>\n",
       "      <td>camilogallardoa</td>\n",
       "      <td>http://pbs.twimg.com/profile_images/6874214127...</td>\n",
       "      <td>13469</td>\n",
       "      <td>False</td>\n",
       "      <td>1</td>\n",
       "    </tr>\n",
       "    <tr>\n",
       "      <th>2</th>\n",
       "      <td>5bb4e90069d02d297e7df854</td>\n",
       "      <td>Stream</td>\n",
       "      <td>{}</td>\n",
       "      <td>2018-10-03 11:06:24</td>\n",
       "      <td>2018-10-03 16:06:24</td>\n",
       "      <td>0</td>\n",
       "      <td>{}</td>\n",
       "      <td>1047518237301325825</td>\n",
       "      <td>{'type': 'Polygon', 'coordinates': [[[{'$numbe...</td>\n",
       "      <td>Colombia</td>\n",
       "      <td>...</td>\n",
       "      <td>3417</td>\n",
       "      <td>142</td>\n",
       "      <td>796390153191387137</td>\n",
       "      <td>18.0</td>\n",
       "      <td>Meta, Colombia</td>\n",
       "      <td>PoliciaMeta</td>\n",
       "      <td>http://pbs.twimg.com/profile_images/9847893547...</td>\n",
       "      <td>13900</td>\n",
       "      <td>True</td>\n",
       "      <td>1</td>\n",
       "    </tr>\n",
       "    <tr>\n",
       "      <th>3</th>\n",
       "      <td>5bb4f1c669d02d303fad6c8f</td>\n",
       "      <td>Stream</td>\n",
       "      <td>{}</td>\n",
       "      <td>2018-10-03 11:43:49</td>\n",
       "      <td>2018-10-03 16:43:49</td>\n",
       "      <td>0</td>\n",
       "      <td>{}</td>\n",
       "      <td>1047527654830891008</td>\n",
       "      <td>{'type': 'Polygon', 'coordinates': [[[{'$numbe...</td>\n",
       "      <td>Colombia</td>\n",
       "      <td>...</td>\n",
       "      <td>621</td>\n",
       "      <td>455</td>\n",
       "      <td>602432456</td>\n",
       "      <td>2.0</td>\n",
       "      <td>Combita</td>\n",
       "      <td>JavierAraqueEla</td>\n",
       "      <td>http://pbs.twimg.com/profile_images/8451021853...</td>\n",
       "      <td>839</td>\n",
       "      <td>False</td>\n",
       "      <td>1</td>\n",
       "    </tr>\n",
       "    <tr>\n",
       "      <th>4</th>\n",
       "      <td>5bb5541e69d02d0680213e47</td>\n",
       "      <td>Stream</td>\n",
       "      <td>{'type': 'Point', 'coordinates': [{'$numberDou...</td>\n",
       "      <td>2018-10-03 18:43:26</td>\n",
       "      <td>2018-10-03 23:43:26</td>\n",
       "      <td>0</td>\n",
       "      <td>{'type': 'Point', 'coordinates': [{'$numberDou...</td>\n",
       "      <td>1047633252834594816</td>\n",
       "      <td>{'type': 'Polygon', 'coordinates': [[[{'$numbe...</td>\n",
       "      <td>Colombia</td>\n",
       "      <td>...</td>\n",
       "      <td>2</td>\n",
       "      <td>88</td>\n",
       "      <td>933487951023169536</td>\n",
       "      <td>0.0</td>\n",
       "      <td>Bogotá, D.C., Colombia</td>\n",
       "      <td>JPRUIZ1995</td>\n",
       "      <td>http://pbs.twimg.com/profile_images/9572315669...</td>\n",
       "      <td>169</td>\n",
       "      <td>False</td>\n",
       "      <td>1</td>\n",
       "    </tr>\n",
       "  </tbody>\n",
       "</table>\n",
       "<p>5 rows × 25 columns</p>\n",
       "</div>"
      ],
      "text/plain": [
       "                        _id     api  \\\n",
       "0  5bb4a18069d02d6942f0b4e0  Stream   \n",
       "1  5bb4b8b969d02d78e814fbbc  Stream   \n",
       "2  5bb4e90069d02d297e7df854  Stream   \n",
       "3  5bb4f1c669d02d303fad6c8f  Stream   \n",
       "4  5bb5541e69d02d0680213e47  Stream   \n",
       "\n",
       "                                         coordinates           created_at  \\\n",
       "0                                                 {}  2018-10-03 06:01:20   \n",
       "1                                                 {}  2018-10-03 07:40:24   \n",
       "2                                                 {}  2018-10-03 11:06:24   \n",
       "3                                                 {}  2018-10-03 11:43:49   \n",
       "4  {'type': 'Point', 'coordinates': [{'$numberDou...  2018-10-03 18:43:26   \n",
       "\n",
       "        created_at_str  favorite_count  \\\n",
       "0  2018-10-03 11:01:20               0   \n",
       "1  2018-10-03 12:40:24               0   \n",
       "2  2018-10-03 16:06:24               0   \n",
       "3  2018-10-03 16:43:49               0   \n",
       "4  2018-10-03 23:43:26               0   \n",
       "\n",
       "                                                 geo             id_tweet  \\\n",
       "0                                                 {}  1047441463322316800   \n",
       "1                                                 {}  1047466397146796034   \n",
       "2                                                 {}  1047518237301325825   \n",
       "3                                                 {}  1047527654830891008   \n",
       "4  {'type': 'Point', 'coordinates': [{'$numberDou...  1047633252834594816   \n",
       "\n",
       "                                   place_coordinates place_country  ...  \\\n",
       "0  {'type': 'Polygon', 'coordinates': [[[{'$numbe...      Colombia  ...   \n",
       "1  {'type': 'Polygon', 'coordinates': [[[{'$numbe...      Colombia  ...   \n",
       "2  {'type': 'Polygon', 'coordinates': [[[{'$numbe...      Colombia  ...   \n",
       "3  {'type': 'Polygon', 'coordinates': [[[{'$numbe...      Colombia  ...   \n",
       "4  {'type': 'Polygon', 'coordinates': [[[{'$numbe...      Colombia  ...   \n",
       "\n",
       "  user_followers_count user_friends_count             user_id  \\\n",
       "0                21261               1533           189192159   \n",
       "1                  709               4996          4798808621   \n",
       "2                 3417                142  796390153191387137   \n",
       "3                  621                455           602432456   \n",
       "4                    2                 88  933487951023169536   \n",
       "\n",
       "  user_listed_count           user_location        user_name  \\\n",
       "0             226.0       Bogotá - Colombia   EsperanzaRicoL   \n",
       "1               1.0                     NaN  camilogallardoa   \n",
       "2              18.0          Meta, Colombia      PoliciaMeta   \n",
       "3               2.0                 Combita  JavierAraqueEla   \n",
       "4               0.0  Bogotá, D.C., Colombia       JPRUIZ1995   \n",
       "\n",
       "                              user_profile_image_url  user_statuses_count  \\\n",
       "0  http://pbs.twimg.com/profile_images/9887424484...                88093   \n",
       "1  http://pbs.twimg.com/profile_images/6874214127...                13469   \n",
       "2  http://pbs.twimg.com/profile_images/9847893547...                13900   \n",
       "3  http://pbs.twimg.com/profile_images/8451021853...                  839   \n",
       "4  http://pbs.twimg.com/profile_images/9572315669...                  169   \n",
       "\n",
       "   user_verified label  \n",
       "0          False     1  \n",
       "1          False     1  \n",
       "2           True     1  \n",
       "3          False     1  \n",
       "4          False     1  \n",
       "\n",
       "[5 rows x 25 columns]"
      ]
     },
     "execution_count": 3,
     "metadata": {},
     "output_type": "execute_result"
    }
   ],
   "source": [
    "## Importando Dataset\n",
    "dataset = pd.read_csv(dir_dataset+file, delimiter = \"\\t\", quoting = 3)\n",
    "del dataset['Unnamed: 0']\n",
    "print(dataset.shape)\n",
    "dataset.head(5)"
   ]
  },
  {
   "cell_type": "code",
   "execution_count": 4,
   "metadata": {},
   "outputs": [
    {
     "data": {
      "text/plain": [
       "(5832, 25)"
      ]
     },
     "execution_count": 4,
     "metadata": {},
     "output_type": "execute_result"
    }
   ],
   "source": [
    "dataset.shape"
   ]
  },
  {
   "cell_type": "markdown",
   "metadata": {},
   "source": [
    "### Limpieza y normalización para NER"
   ]
  },
  {
   "cell_type": "code",
   "execution_count": 5,
   "metadata": {},
   "outputs": [],
   "source": [
    "ner_preprocessing = NerPreprocessing(spacy_model=spacy_model, corpus_segmentation=corpus_segmentation,njobs=4)\n",
    "txt = ner_preprocessing.transform(dataset['text'])\n",
    "dataset['clean'] = txt"
   ]
  },
  {
   "cell_type": "code",
   "execution_count": 6,
   "metadata": {},
   "outputs": [
    {
     "data": {
      "text/html": [
       "<div>\n",
       "<style scoped>\n",
       "    .dataframe tbody tr th:only-of-type {\n",
       "        vertical-align: middle;\n",
       "    }\n",
       "\n",
       "    .dataframe tbody tr th {\n",
       "        vertical-align: top;\n",
       "    }\n",
       "\n",
       "    .dataframe thead th {\n",
       "        text-align: right;\n",
       "    }\n",
       "</style>\n",
       "<table border=\"1\" class=\"dataframe\">\n",
       "  <thead>\n",
       "    <tr style=\"text-align: right;\">\n",
       "      <th></th>\n",
       "      <th>text</th>\n",
       "      <th>clean</th>\n",
       "    </tr>\n",
       "  </thead>\n",
       "  <tbody>\n",
       "    <tr>\n",
       "      <th>0</th>\n",
       "      <td>Desmanes en Bogotá dejaron anoche dos personas...</td>\n",
       "      <td>Desmanes en Bogotá dejaron anoche dos personas...</td>\n",
       "    </tr>\n",
       "    <tr>\n",
       "      <th>1</th>\n",
       "      <td>Rt grave accidente en cumaral un camión choca ...</td>\n",
       "      <td>Rt grave accidente en cumaral un camión choca ...</td>\n",
       "    </tr>\n",
       "    <tr>\n",
       "      <th>2</th>\n",
       "      <td>Art. 141 Derecho de vía de peatones y ciclista...</td>\n",
       "      <td>Art. 141 Derecho de vía de peatones y ciclista...</td>\n",
       "    </tr>\n",
       "    <tr>\n",
       "      <th>3</th>\n",
       "      <td>Instituto de Tránsito de Boyacá, Secretaria de...</td>\n",
       "      <td>Instituto de Tránsito de Boyacá, Secretaria de...</td>\n",
       "    </tr>\n",
       "    <tr>\n",
       "      <th>4</th>\n",
       "      <td>Acaba de publicar una foto en Clinica Colsubsi...</td>\n",
       "      <td>Acaba de publicar una foto en Clinica Colsubsi...</td>\n",
       "    </tr>\n",
       "  </tbody>\n",
       "</table>\n",
       "</div>"
      ],
      "text/plain": [
       "                                                text  \\\n",
       "0  Desmanes en Bogotá dejaron anoche dos personas...   \n",
       "1  Rt grave accidente en cumaral un camión choca ...   \n",
       "2  Art. 141 Derecho de vía de peatones y ciclista...   \n",
       "3  Instituto de Tránsito de Boyacá, Secretaria de...   \n",
       "4  Acaba de publicar una foto en Clinica Colsubsi...   \n",
       "\n",
       "                                               clean  \n",
       "0  Desmanes en Bogotá dejaron anoche dos personas...  \n",
       "1  Rt grave accidente en cumaral un camión choca ...  \n",
       "2  Art. 141 Derecho de vía de peatones y ciclista...  \n",
       "3  Instituto de Tránsito de Boyacá, Secretaria de...  \n",
       "4  Acaba de publicar una foto en Clinica Colsubsi...  "
      ]
     },
     "execution_count": 6,
     "metadata": {},
     "output_type": "execute_result"
    }
   ],
   "source": [
    "dataset[['text','clean']].head(5)"
   ]
  },
  {
   "cell_type": "markdown",
   "metadata": {},
   "source": [
    "### Predicción Etiquetar NER\n",
    "Etiquetas **'loc'** y **'time'**"
   ]
  },
  {
   "cell_type": "code",
   "execution_count": 7,
   "metadata": {},
   "outputs": [
    {
     "data": {
      "text/plain": [
       "'Rt grave accidente en cumaral un camión choca de frente contra una aerovans 2 personas fallecidas y seis heridos hasta el momento la vía esta cerrada en estos momentoscierre total de via Cumaral - Restrepo por accidente de transito, Km 25 500 entrada a cumaral'"
      ]
     },
     "execution_count": 7,
     "metadata": {},
     "output_type": "execute_result"
    }
   ],
   "source": [
    "dataset.iloc[1]['clean']"
   ]
  },
  {
   "cell_type": "code",
   "execution_count": 8,
   "metadata": {},
   "outputs": [],
   "source": [
    "ner_extractor = NerExtractor(spacy_model=spacy_model, njobs=4)\n",
    "txt = ner_extractor.transform(dataset['clean'])\n",
    "dataset['entities'] = txt "
   ]
  },
  {
   "cell_type": "code",
   "execution_count": 9,
   "metadata": {},
   "outputs": [
    {
     "data": {
      "text/html": [
       "<div>\n",
       "<style scoped>\n",
       "    .dataframe tbody tr th:only-of-type {\n",
       "        vertical-align: middle;\n",
       "    }\n",
       "\n",
       "    .dataframe tbody tr th {\n",
       "        vertical-align: top;\n",
       "    }\n",
       "\n",
       "    .dataframe thead th {\n",
       "        text-align: right;\n",
       "    }\n",
       "</style>\n",
       "<table border=\"1\" class=\"dataframe\">\n",
       "  <thead>\n",
       "    <tr style=\"text-align: right;\">\n",
       "      <th></th>\n",
       "      <th>text</th>\n",
       "      <th>entities</th>\n",
       "    </tr>\n",
       "  </thead>\n",
       "  <tbody>\n",
       "    <tr>\n",
       "      <th>0</th>\n",
       "      <td>Desmanes en Bogotá dejaron anoche dos personas...</td>\n",
       "      <td>[(santafe, loc)]</td>\n",
       "    </tr>\n",
       "    <tr>\n",
       "      <th>1</th>\n",
       "      <td>Rt grave accidente en cumaral un camión choca ...</td>\n",
       "      <td>[(Km 25 500, loc)]</td>\n",
       "    </tr>\n",
       "    <tr>\n",
       "      <th>2</th>\n",
       "      <td>Art. 141 Derecho de vía de peatones y ciclista...</td>\n",
       "      <td>[(Art 141, loc)]</td>\n",
       "    </tr>\n",
       "    <tr>\n",
       "      <th>3</th>\n",
       "      <td>Instituto de Tránsito de Boyacá, Secretaria de...</td>\n",
       "      <td>[(Instituto, loc), (Boyacá, loc), (Buenaventur...</td>\n",
       "    </tr>\n",
       "    <tr>\n",
       "      <th>4</th>\n",
       "      <td>Acaba de publicar una foto en Clinica Colsubsi...</td>\n",
       "      <td>[(Clinica Colsubsidio Calle 100, loc)]</td>\n",
       "    </tr>\n",
       "  </tbody>\n",
       "</table>\n",
       "</div>"
      ],
      "text/plain": [
       "                                                text  \\\n",
       "0  Desmanes en Bogotá dejaron anoche dos personas...   \n",
       "1  Rt grave accidente en cumaral un camión choca ...   \n",
       "2  Art. 141 Derecho de vía de peatones y ciclista...   \n",
       "3  Instituto de Tránsito de Boyacá, Secretaria de...   \n",
       "4  Acaba de publicar una foto en Clinica Colsubsi...   \n",
       "\n",
       "                                            entities  \n",
       "0                                   [(santafe, loc)]  \n",
       "1                                 [(Km 25 500, loc)]  \n",
       "2                                   [(Art 141, loc)]  \n",
       "3  [(Instituto, loc), (Boyacá, loc), (Buenaventur...  \n",
       "4             [(Clinica Colsubsidio Calle 100, loc)]  "
      ]
     },
     "execution_count": 9,
     "metadata": {},
     "output_type": "execute_result"
    }
   ],
   "source": [
    "dataset[['text','entities']].head(5)"
   ]
  },
  {
   "cell_type": "code",
   "execution_count": 10,
   "metadata": {},
   "outputs": [
    {
     "data": {
      "text/plain": [
       "(5832, 27)"
      ]
     },
     "execution_count": 10,
     "metadata": {},
     "output_type": "execute_result"
    }
   ],
   "source": [
    "dataset.shape"
   ]
  },
  {
   "cell_type": "code",
   "execution_count": 11,
   "metadata": {},
   "outputs": [],
   "source": [
    "dataset.to_csv(dir_dataset+\"NER_extractor/entities_\"+file,sep='\\t',index=False)"
   ]
  },
  {
   "cell_type": "markdown",
   "metadata": {},
   "source": [
    "---\n",
    "### Pruebas"
   ]
  },
  {
   "cell_type": "code",
   "execution_count": 9,
   "metadata": {},
   "outputs": [
    {
     "name": "stdout",
     "output_type": "stream",
     "text": [
      "#AEstaHora (6:00 P.M.) se registra una fuerte congestión vehicular sobre la Cll 26 en sentido Oriente-Occidente hasta el @BOG_ELDORADO por dos choques menores. Te recomendamos salir con tiempo de anticipación para cumplir con tu plan de vuelo. #Comparte #QueNoTeDejeElAvión https://t.co/0jb7hPHlWc\n",
      "[('esta hora', 'time'), ('6:00 P.M.', 'time'), ('Cll 26', 'loc')]\n",
      "<class 'list'>\n",
      "('esta hora', 'time')\n",
      "<class 'tuple'>\n"
     ]
    }
   ],
   "source": [
    "i = 46\n",
    "print(dataset.iloc[i]['text'])\n",
    "print(dataset.iloc[i]['entities'])\n",
    "print(type(dataset.iloc[i]['entities']))\n",
    "print(dataset.iloc[i]['entities'][0])\n",
    "print(type(dataset.iloc[i]['entities'][0]))"
   ]
  },
  {
   "cell_type": "code",
   "execution_count": 10,
   "metadata": {},
   "outputs": [
    {
     "data": {
      "text/plain": [
       "['Cll 26']"
      ]
     },
     "execution_count": 10,
     "metadata": {},
     "output_type": "execute_result"
    }
   ],
   "source": [
    "ent = [ t for (t,l) in dataset.iloc[i]['entities']  if l == 'loc' ]\n",
    "ent"
   ]
  },
  {
   "cell_type": "code",
   "execution_count": 11,
   "metadata": {},
   "outputs": [
    {
     "data": {
      "text/plain": [
       "['esta hora', '6:00 P.M.']"
      ]
     },
     "execution_count": 11,
     "metadata": {},
     "output_type": "execute_result"
    }
   ],
   "source": [
    "ent = [ t for (t,l) in dataset.iloc[i]['entities']  if l == 'time' ]\n",
    "ent"
   ]
  },
  {
   "cell_type": "markdown",
   "metadata": {},
   "source": [
    "### Exportar tsv"
   ]
  },
  {
   "cell_type": "code",
   "execution_count": 12,
   "metadata": {},
   "outputs": [],
   "source": [
    "dataset.to_csv(dir_+\"ner_dataset_entities.tsv\",sep='\\t')"
   ]
  }
 ],
 "metadata": {
  "kernelspec": {
   "display_name": "traffic",
   "language": "python",
   "name": "traffic"
  },
  "language_info": {
   "codemirror_mode": {
    "name": "ipython",
    "version": 3
   },
   "file_extension": ".py",
   "mimetype": "text/x-python",
   "name": "python",
   "nbconvert_exporter": "python",
   "pygments_lexer": "ipython3",
   "version": "3.8.5"
  }
 },
 "nbformat": 4,
 "nbformat_minor": 4
}
