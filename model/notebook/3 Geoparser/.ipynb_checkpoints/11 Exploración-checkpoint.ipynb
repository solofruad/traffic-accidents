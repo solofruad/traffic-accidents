{
 "cells": [
  {
   "cell_type": "markdown",
   "id": "current-dancing",
   "metadata": {},
   "source": [
    "# Exploración\n",
    "### By **Néstor Suat** in 2021\n",
    "\n",
    "**Descripción:** Explorando el conjunto de datos de **84.262 tweets de accidentes** con entidades reconocidas.\n",
    "\n",
    "**Input:**\n",
    "* accidents_tweets\n",
    "---"
   ]
  },
  {
   "cell_type": "code",
   "execution_count": 1,
   "id": "british-dispute",
   "metadata": {},
   "outputs": [],
   "source": [
    "import pandas as pd"
   ]
  },
  {
   "cell_type": "code",
   "execution_count": 6,
   "id": "virtual-drove",
   "metadata": {},
   "outputs": [
    {
     "data": {
      "text/plain": [
       "(84262, 30)"
      ]
     },
     "execution_count": 6,
     "metadata": {},
     "output_type": "execute_result"
    }
   ],
   "source": [
    "dir_ = '../../data/database/output_ml/M1/NER_extractor/'\n",
    "\n",
    "file_bogota = 'accidents_tweets'\n",
    "dataset = pd.read_csv(dir_+file_bogota+'.tsv', delimiter = \"\\t\", quoting = 3)\n",
    "dataset.shape"
   ]
  },
  {
   "cell_type": "code",
   "execution_count": 3,
   "id": "atlantic-value",
   "metadata": {
    "collapsed": true,
    "jupyter": {
     "outputs_hidden": true
    },
    "tags": []
   },
   "outputs": [
    {
     "data": {
      "text/html": [
       "<div>\n",
       "<style scoped>\n",
       "    .dataframe tbody tr th:only-of-type {\n",
       "        vertical-align: middle;\n",
       "    }\n",
       "\n",
       "    .dataframe tbody tr th {\n",
       "        vertical-align: top;\n",
       "    }\n",
       "\n",
       "    .dataframe thead th {\n",
       "        text-align: right;\n",
       "    }\n",
       "</style>\n",
       "<table border=\"1\" class=\"dataframe\">\n",
       "  <thead>\n",
       "    <tr style=\"text-align: right;\">\n",
       "      <th></th>\n",
       "      <th>_id</th>\n",
       "      <th>api</th>\n",
       "      <th>coordinates</th>\n",
       "      <th>created_at</th>\n",
       "      <th>created_at_str</th>\n",
       "      <th>favorite_count</th>\n",
       "      <th>geo</th>\n",
       "      <th>id_tweet</th>\n",
       "      <th>place_coordinates</th>\n",
       "      <th>place_country</th>\n",
       "      <th>...</th>\n",
       "      <th>user_name</th>\n",
       "      <th>user_profile_image_url</th>\n",
       "      <th>user_statuses_count</th>\n",
       "      <th>user_verified</th>\n",
       "      <th>label</th>\n",
       "      <th>clean</th>\n",
       "      <th>entities</th>\n",
       "      <th>location</th>\n",
       "      <th>address_normalization</th>\n",
       "      <th>dataset</th>\n",
       "    </tr>\n",
       "  </thead>\n",
       "  <tbody>\n",
       "    <tr>\n",
       "      <th>0</th>\n",
       "      <td>5bb5541e69d02d0680213e47</td>\n",
       "      <td>Stream</td>\n",
       "      <td>{'type': 'Point', 'coordinates': [{'$numberDou...</td>\n",
       "      <td>2018-10-03 18:43:26</td>\n",
       "      <td>2018-10-03 23:43:26</td>\n",
       "      <td>0</td>\n",
       "      <td>{'type': 'Point', 'coordinates': [{'$numberDou...</td>\n",
       "      <td>1047633252834594816</td>\n",
       "      <td>{'type': 'Polygon', 'coordinates': [[[{'$numbe...</td>\n",
       "      <td>Colombia</td>\n",
       "      <td>...</td>\n",
       "      <td>JPRUIZ1995</td>\n",
       "      <td>http://pbs.twimg.com/profile_images/9572315669...</td>\n",
       "      <td>169</td>\n",
       "      <td>False</td>\n",
       "      <td>1</td>\n",
       "      <td>Acaba de publicar una foto en Clinica Colsubsi...</td>\n",
       "      <td>[('Clinica Colsubsidio Calle 100', 'loc')]</td>\n",
       "      <td>Clinica Colsubsidio Calle 100</td>\n",
       "      <td>BOGOTA CLINICA COLSUBSIDIO AVENIDA CALLE 100</td>\n",
       "      <td>1_server_bogota</td>\n",
       "    </tr>\n",
       "    <tr>\n",
       "      <th>1</th>\n",
       "      <td>5bb56ab369d02d1df34891d2</td>\n",
       "      <td>Stream</td>\n",
       "      <td>{}</td>\n",
       "      <td>2018-10-03 20:19:47</td>\n",
       "      <td>2018-10-04 01:19:47</td>\n",
       "      <td>0</td>\n",
       "      <td>{}</td>\n",
       "      <td>1047657500437336064</td>\n",
       "      <td>{'type': 'Polygon', 'coordinates': [[[{'$numbe...</td>\n",
       "      <td>Colombia</td>\n",
       "      <td>...</td>\n",
       "      <td>camilogallardoa</td>\n",
       "      <td>http://pbs.twimg.com/profile_images/6874214127...</td>\n",
       "      <td>13470</td>\n",
       "      <td>False</td>\n",
       "      <td>1</td>\n",
       "      <td>Rt Informan de derrumbe por la vía San Miguel ...</td>\n",
       "      <td>[('vía San Miguel Fusagasugá', 'loc'), ('grd',...</td>\n",
       "      <td>vía San Miguel Fusagasugá grd</td>\n",
       "      <td>BOGOTA VI SAN MIGUEL FUSAGASUGA GRD</td>\n",
       "      <td>1_server_bogota</td>\n",
       "    </tr>\n",
       "    <tr>\n",
       "      <th>2</th>\n",
       "      <td>5bb5f7c469d02d6b8665cf88</td>\n",
       "      <td>Stream</td>\n",
       "      <td>{}</td>\n",
       "      <td>2018-10-04 06:21:40</td>\n",
       "      <td>2018-10-04 11:21:40</td>\n",
       "      <td>0</td>\n",
       "      <td>{}</td>\n",
       "      <td>1047808970847604737</td>\n",
       "      <td>{'type': 'Polygon', 'coordinates': [[[{'$numbe...</td>\n",
       "      <td>Colombia</td>\n",
       "      <td>...</td>\n",
       "      <td>camilogallardoa</td>\n",
       "      <td>http://pbs.twimg.com/profile_images/6874214127...</td>\n",
       "      <td>13474</td>\n",
       "      <td>False</td>\n",
       "      <td>1</td>\n",
       "      <td>Rt Avenida Primero de Mayo frente al sena de l...</td>\n",
       "      <td>[('Avenida Primero de Mayo', 'loc'), ('sena', ...</td>\n",
       "      <td>Avenida Primero de Mayo sena carrera 30</td>\n",
       "      <td>BOGOTA AVENIDA PRIMERO DE MAYO SENA AVENIDA CA...</td>\n",
       "      <td>1_server_bogota</td>\n",
       "    </tr>\n",
       "    <tr>\n",
       "      <th>3</th>\n",
       "      <td>5bb5f84769d02d6b8665cfaa</td>\n",
       "      <td>Stream</td>\n",
       "      <td>{}</td>\n",
       "      <td>2018-10-04 06:23:50</td>\n",
       "      <td>2018-10-04 11:23:50</td>\n",
       "      <td>0</td>\n",
       "      <td>{}</td>\n",
       "      <td>1047809516937596928</td>\n",
       "      <td>{'type': 'Polygon', 'coordinates': [[[{'$numbe...</td>\n",
       "      <td>Colombia</td>\n",
       "      <td>...</td>\n",
       "      <td>camilogallardoa</td>\n",
       "      <td>http://pbs.twimg.com/profile_images/6874214127...</td>\n",
       "      <td>13476</td>\n",
       "      <td>False</td>\n",
       "      <td>1</td>\n",
       "      <td>Rt *Accidente* Se presenta volcamiento de vehí...</td>\n",
       "      <td>[('carrera 68 con la Av Esperanza', 'loc')]</td>\n",
       "      <td>carrera 68 con la Av Esperanza</td>\n",
       "      <td>BOGOTA AVENIDA CARRERA 68 LA AVENIDA DE LA ESP...</td>\n",
       "      <td>1_server_bogota</td>\n",
       "    </tr>\n",
       "    <tr>\n",
       "      <th>4</th>\n",
       "      <td>5bb5f87969d02d6b8665cfb4</td>\n",
       "      <td>Stream</td>\n",
       "      <td>{}</td>\n",
       "      <td>2018-10-04 06:24:40</td>\n",
       "      <td>2018-10-04 11:24:40</td>\n",
       "      <td>0</td>\n",
       "      <td>{}</td>\n",
       "      <td>1047809727118430210</td>\n",
       "      <td>{'type': 'Polygon', 'coordinates': [[[{'$numbe...</td>\n",
       "      <td>Colombia</td>\n",
       "      <td>...</td>\n",
       "      <td>camilogallardoa</td>\n",
       "      <td>http://pbs.twimg.com/profile_images/6874214127...</td>\n",
       "      <td>13477</td>\n",
       "      <td>False</td>\n",
       "      <td>1</td>\n",
       "      <td>Rt Av. Las villas norte al sur llegando a la 1...</td>\n",
       "      <td>[('Av. Las villas', 'loc'), ('la 127', 'loc'),...</td>\n",
       "      <td>Av. Las villas la 127 bulevar Niza</td>\n",
       "      <td>BOGOTA AVENIDA LAS VILLAS LA 127 BULEVAR NIZA</td>\n",
       "      <td>1_server_bogota</td>\n",
       "    </tr>\n",
       "  </tbody>\n",
       "</table>\n",
       "<p>5 rows × 30 columns</p>\n",
       "</div>"
      ],
      "text/plain": [
       "                        _id     api  \\\n",
       "0  5bb5541e69d02d0680213e47  Stream   \n",
       "1  5bb56ab369d02d1df34891d2  Stream   \n",
       "2  5bb5f7c469d02d6b8665cf88  Stream   \n",
       "3  5bb5f84769d02d6b8665cfaa  Stream   \n",
       "4  5bb5f87969d02d6b8665cfb4  Stream   \n",
       "\n",
       "                                         coordinates           created_at  \\\n",
       "0  {'type': 'Point', 'coordinates': [{'$numberDou...  2018-10-03 18:43:26   \n",
       "1                                                 {}  2018-10-03 20:19:47   \n",
       "2                                                 {}  2018-10-04 06:21:40   \n",
       "3                                                 {}  2018-10-04 06:23:50   \n",
       "4                                                 {}  2018-10-04 06:24:40   \n",
       "\n",
       "        created_at_str  favorite_count  \\\n",
       "0  2018-10-03 23:43:26               0   \n",
       "1  2018-10-04 01:19:47               0   \n",
       "2  2018-10-04 11:21:40               0   \n",
       "3  2018-10-04 11:23:50               0   \n",
       "4  2018-10-04 11:24:40               0   \n",
       "\n",
       "                                                 geo             id_tweet  \\\n",
       "0  {'type': 'Point', 'coordinates': [{'$numberDou...  1047633252834594816   \n",
       "1                                                 {}  1047657500437336064   \n",
       "2                                                 {}  1047808970847604737   \n",
       "3                                                 {}  1047809516937596928   \n",
       "4                                                 {}  1047809727118430210   \n",
       "\n",
       "                                   place_coordinates place_country  ...  \\\n",
       "0  {'type': 'Polygon', 'coordinates': [[[{'$numbe...      Colombia  ...   \n",
       "1  {'type': 'Polygon', 'coordinates': [[[{'$numbe...      Colombia  ...   \n",
       "2  {'type': 'Polygon', 'coordinates': [[[{'$numbe...      Colombia  ...   \n",
       "3  {'type': 'Polygon', 'coordinates': [[[{'$numbe...      Colombia  ...   \n",
       "4  {'type': 'Polygon', 'coordinates': [[[{'$numbe...      Colombia  ...   \n",
       "\n",
       "         user_name                             user_profile_image_url  \\\n",
       "0       JPRUIZ1995  http://pbs.twimg.com/profile_images/9572315669...   \n",
       "1  camilogallardoa  http://pbs.twimg.com/profile_images/6874214127...   \n",
       "2  camilogallardoa  http://pbs.twimg.com/profile_images/6874214127...   \n",
       "3  camilogallardoa  http://pbs.twimg.com/profile_images/6874214127...   \n",
       "4  camilogallardoa  http://pbs.twimg.com/profile_images/6874214127...   \n",
       "\n",
       "   user_statuses_count user_verified label  \\\n",
       "0                  169         False     1   \n",
       "1                13470         False     1   \n",
       "2                13474         False     1   \n",
       "3                13476         False     1   \n",
       "4                13477         False     1   \n",
       "\n",
       "                                               clean  \\\n",
       "0  Acaba de publicar una foto en Clinica Colsubsi...   \n",
       "1  Rt Informan de derrumbe por la vía San Miguel ...   \n",
       "2  Rt Avenida Primero de Mayo frente al sena de l...   \n",
       "3  Rt *Accidente* Se presenta volcamiento de vehí...   \n",
       "4  Rt Av. Las villas norte al sur llegando a la 1...   \n",
       "\n",
       "                                            entities  \\\n",
       "0         [('Clinica Colsubsidio Calle 100', 'loc')]   \n",
       "1  [('vía San Miguel Fusagasugá', 'loc'), ('grd',...   \n",
       "2  [('Avenida Primero de Mayo', 'loc'), ('sena', ...   \n",
       "3        [('carrera 68 con la Av Esperanza', 'loc')]   \n",
       "4  [('Av. Las villas', 'loc'), ('la 127', 'loc'),...   \n",
       "\n",
       "                                  location  \\\n",
       "0            Clinica Colsubsidio Calle 100   \n",
       "1            vía San Miguel Fusagasugá grd   \n",
       "2  Avenida Primero de Mayo sena carrera 30   \n",
       "3           carrera 68 con la Av Esperanza   \n",
       "4       Av. Las villas la 127 bulevar Niza   \n",
       "\n",
       "                               address_normalization          dataset  \n",
       "0       BOGOTA CLINICA COLSUBSIDIO AVENIDA CALLE 100  1_server_bogota  \n",
       "1                BOGOTA VI SAN MIGUEL FUSAGASUGA GRD  1_server_bogota  \n",
       "2  BOGOTA AVENIDA PRIMERO DE MAYO SENA AVENIDA CA...  1_server_bogota  \n",
       "3  BOGOTA AVENIDA CARRERA 68 LA AVENIDA DE LA ESP...  1_server_bogota  \n",
       "4      BOGOTA AVENIDA LAS VILLAS LA 127 BULEVAR NIZA  1_server_bogota  \n",
       "\n",
       "[5 rows x 30 columns]"
      ]
     },
     "execution_count": 3,
     "metadata": {},
     "output_type": "execute_result"
    }
   ],
   "source": [
    "dataset.head(5)"
   ]
  },
  {
   "cell_type": "markdown",
   "id": "ambient-framing",
   "metadata": {},
   "source": [
    "### Analizando ventanas de tiempo diferente\n",
    "* Manualmente"
   ]
  },
  {
   "cell_type": "markdown",
   "id": "grateful-thanks",
   "metadata": {},
   "source": [
    "# Octubre 2018"
   ]
  },
  {
   "cell_type": "code",
   "execution_count": 8,
   "id": "neutral-belle",
   "metadata": {},
   "outputs": [
    {
     "name": "stdout",
     "output_type": "stream",
     "text": [
      "Min: 2018-10-01 05:54:59\n",
      "MAx: 2018-10-31 21:08:54\n",
      "(7101, 30)\n"
     ]
    }
   ],
   "source": [
    "df = dataset[(dataset['created_at'] >= '2018-10-01') & (dataset['created_at'] < '2018-11-01')]\n",
    "print(\"Min:\", min(df['created_at']))\n",
    "print(\"MAx:\", max(df['created_at']))\n",
    "print(df.shape)"
   ]
  },
  {
   "cell_type": "markdown",
   "id": "national-market",
   "metadata": {},
   "source": [
    "### #Tweets por Dataset"
   ]
  },
  {
   "cell_type": "code",
   "execution_count": 10,
   "id": "generic-buyer",
   "metadata": {},
   "outputs": [
    {
     "data": {
      "text/plain": [
       "2_server_token_search            5439\n",
       "4_server_follow_timeline_user    1351\n",
       "3_server_token_user               166\n",
       "1_server_bogota                   145\n",
       "Name: dataset, dtype: int64"
      ]
     },
     "execution_count": 10,
     "metadata": {},
     "output_type": "execute_result"
    }
   ],
   "source": [
    "df['dataset'].value_counts()"
   ]
  },
  {
   "cell_type": "markdown",
   "id": "preliminary-geometry",
   "metadata": {},
   "source": [
    "### #Tweets por username"
   ]
  },
  {
   "cell_type": "code",
   "execution_count": 12,
   "id": "delayed-mountain",
   "metadata": {},
   "outputs": [
    {
     "data": {
      "text/plain": [
       "BogotaTransito     3574\n",
       "rutassitp          1902\n",
       "SectorMovilidad     421\n",
       "RedapBogota          75\n",
       "EMOB2018             67\n",
       "                   ... \n",
       "jeixonmc              1\n",
       "PabloPardoC_          1\n",
       "_mfpotyy              1\n",
       "puliesmitierra        1\n",
       "OxigenoJuan           1\n",
       "Name: user_name, Length: 516, dtype: int64"
      ]
     },
     "execution_count": 12,
     "metadata": {},
     "output_type": "execute_result"
    }
   ],
   "source": [
    "df['user_name'].value_counts()"
   ]
  },
  {
   "cell_type": "markdown",
   "id": "useful-finish",
   "metadata": {},
   "source": [
    "# Noviembre 2018"
   ]
  },
  {
   "cell_type": "code",
   "execution_count": 14,
   "id": "unlikely-relative",
   "metadata": {},
   "outputs": [
    {
     "name": "stdout",
     "output_type": "stream",
     "text": [
      "Min: 2018-11-01 00:29:12\n",
      "MAx: 2018-11-30 22:37:23\n",
      "(7948, 30)\n"
     ]
    }
   ],
   "source": [
    "df = dataset[(dataset['created_at'] >= '2018-11-01') & (dataset['created_at'] < '2018-12-01')]\n",
    "print(\"Min:\", min(df['created_at']))\n",
    "print(\"MAx:\", max(df['created_at']))\n",
    "print(df.shape)"
   ]
  },
  {
   "cell_type": "code",
   "execution_count": 15,
   "id": "psychological-session",
   "metadata": {},
   "outputs": [
    {
     "data": {
      "text/plain": [
       "2_server_token_search            5768\n",
       "4_server_follow_timeline_user    1901\n",
       "3_server_token_user               170\n",
       "1_server_bogota                   109\n",
       "Name: dataset, dtype: int64"
      ]
     },
     "execution_count": 15,
     "metadata": {},
     "output_type": "execute_result"
    }
   ],
   "source": [
    "### Tweets por Dataset\n",
    "df['dataset'].value_counts()"
   ]
  },
  {
   "cell_type": "code",
   "execution_count": 16,
   "id": "environmental-cliff",
   "metadata": {},
   "outputs": [
    {
     "data": {
      "text/plain": [
       "BogotaTransito     3973\n",
       "rutassitp          1782\n",
       "SectorMovilidad     523\n",
       "nikolai68843464     256\n",
       "RedapBogota         127\n",
       "                   ... \n",
       "carlosrockgabi        1\n",
       "tocayo_5              1\n",
       "theliyluna            1\n",
       "attalaevigata         1\n",
       "LuNaLeXa              1\n",
       "Name: user_name, Length: 567, dtype: int64"
      ]
     },
     "execution_count": 16,
     "metadata": {},
     "output_type": "execute_result"
    }
   ],
   "source": [
    "### #Tweets por username\n",
    "df['user_name'].value_counts()"
   ]
  },
  {
   "cell_type": "markdown",
   "id": "collective-bandwidth",
   "metadata": {},
   "source": [
    "# Diciembre 2018"
   ]
  },
  {
   "cell_type": "code",
   "execution_count": 17,
   "id": "legitimate-mailing",
   "metadata": {},
   "outputs": [
    {
     "name": "stdout",
     "output_type": "stream",
     "text": [
      "Min: 2018-12-01 00:54:47\n",
      "MAx: 2018-12-31 20:38:32\n",
      "(9730, 30)\n"
     ]
    }
   ],
   "source": [
    "df = dataset[(dataset['created_at'] >= '2018-12-01') & (dataset['created_at'] < '2019-01-01')]\n",
    "print(\"Min:\", min(df['created_at']))\n",
    "print(\"MAx:\", max(df['created_at']))\n",
    "print(df.shape)"
   ]
  },
  {
   "cell_type": "code",
   "execution_count": 18,
   "id": "collectible-criminal",
   "metadata": {},
   "outputs": [
    {
     "data": {
      "text/plain": [
       "2_server_token_search            5593\n",
       "4_server_follow_timeline_user    3991\n",
       "3_server_token_user                78\n",
       "1_server_bogota                    68\n",
       "Name: dataset, dtype: int64"
      ]
     },
     "execution_count": 18,
     "metadata": {},
     "output_type": "execute_result"
    }
   ],
   "source": [
    "### Tweets por Dataset\n",
    "df['dataset'].value_counts()"
   ]
  },
  {
   "cell_type": "code",
   "execution_count": 19,
   "id": "electoral-subsection",
   "metadata": {},
   "outputs": [
    {
     "data": {
      "text/plain": [
       "BogotaTransito     3503\n",
       "rutassitp          1971\n",
       "nikolai68843464    1437\n",
       "nikolai16340807    1326\n",
       "SectorMovilidad     443\n",
       "                   ... \n",
       "lucilamejia53         1\n",
       "Gust1964              1\n",
       "leoandpar             1\n",
       "AdriAlvarezU          1\n",
       "MiguelMontanaL        1\n",
       "Name: user_name, Length: 496, dtype: int64"
      ]
     },
     "execution_count": 19,
     "metadata": {},
     "output_type": "execute_result"
    }
   ],
   "source": [
    "### #Tweets por username\n",
    "df['user_name'].value_counts()"
   ]
  },
  {
   "cell_type": "markdown",
   "id": "proper-cause",
   "metadata": {},
   "source": [
    "# Enero 2019"
   ]
  },
  {
   "cell_type": "code",
   "execution_count": 20,
   "id": "altered-geneva",
   "metadata": {},
   "outputs": [
    {
     "name": "stdout",
     "output_type": "stream",
     "text": [
      "Min: 2019-01-01 00:55:07\n",
      "MAx: 2019-01-31 23:04:21\n",
      "(10690, 30)\n"
     ]
    }
   ],
   "source": [
    "df = dataset[(dataset['created_at'] >= '2019-01-01') & (dataset['created_at'] < '2019-02-01')]\n",
    "print(\"Min:\", min(df['created_at']))\n",
    "print(\"MAx:\", max(df['created_at']))\n",
    "print(df.shape)"
   ]
  },
  {
   "cell_type": "code",
   "execution_count": 21,
   "id": "identified-oklahoma",
   "metadata": {},
   "outputs": [
    {
     "data": {
      "text/plain": [
       "2_server_token_search            5416\n",
       "4_server_follow_timeline_user    4145\n",
       "1_server_bogota                  1043\n",
       "3_server_token_user                86\n",
       "Name: dataset, dtype: int64"
      ]
     },
     "execution_count": 21,
     "metadata": {},
     "output_type": "execute_result"
    }
   ],
   "source": [
    "### Tweets por Dataset\n",
    "df['dataset'].value_counts()"
   ]
  },
  {
   "cell_type": "code",
   "execution_count": 22,
   "id": "backed-implement",
   "metadata": {},
   "outputs": [
    {
     "data": {
      "text/plain": [
       "BogotaTransito     4254\n",
       "nikolai68843464    2771\n",
       "rutassitp          2107\n",
       "SectorMovilidad     523\n",
       "RedapBogota         112\n",
       "                   ... \n",
       "JormedialJorge        1\n",
       "IvonneABauti          1\n",
       "julysumo19            1\n",
       "ampirius              1\n",
       "Santiag73092449       1\n",
       "Name: user_name, Length: 454, dtype: int64"
      ]
     },
     "execution_count": 22,
     "metadata": {},
     "output_type": "execute_result"
    }
   ],
   "source": [
    "### #Tweets por username\n",
    "df['user_name'].value_counts()"
   ]
  },
  {
   "cell_type": "markdown",
   "id": "collect-delhi",
   "metadata": {},
   "source": [
    "# Febrero 2019"
   ]
  },
  {
   "cell_type": "code",
   "execution_count": 23,
   "id": "sudden-times",
   "metadata": {},
   "outputs": [
    {
     "name": "stdout",
     "output_type": "stream",
     "text": [
      "Min: 2019-02-01 00:17:52\n",
      "MAx: 2019-02-28 22:05:11\n",
      "(9292, 30)\n"
     ]
    }
   ],
   "source": [
    "df = dataset[(dataset['created_at'] >= '2019-02-01') & (dataset['created_at'] < '2019-03-01')]\n",
    "print(\"Min:\", min(df['created_at']))\n",
    "print(\"MAx:\", max(df['created_at']))\n",
    "print(df.shape)"
   ]
  },
  {
   "cell_type": "code",
   "execution_count": 24,
   "id": "proud-champagne",
   "metadata": {},
   "outputs": [
    {
     "data": {
      "text/plain": [
       "2_server_token_search            4620\n",
       "4_server_follow_timeline_user    3253\n",
       "1_server_bogota                  1308\n",
       "3_server_token_user               111\n",
       "Name: dataset, dtype: int64"
      ]
     },
     "execution_count": 24,
     "metadata": {},
     "output_type": "execute_result"
    }
   ],
   "source": [
    "### Tweets por Dataset\n",
    "df['dataset'].value_counts()"
   ]
  },
  {
   "cell_type": "code",
   "execution_count": 25,
   "id": "better-roots",
   "metadata": {},
   "outputs": [
    {
     "data": {
      "text/plain": [
       "BogotaTransito     4012\n",
       "nikolai68843464    1986\n",
       "rutassitp          1712\n",
       "SectorMovilidad     455\n",
       "RedapBogota         165\n",
       "                   ... \n",
       "BetoValdiviesoG       1\n",
       "SECCIONALBOGOT2       1\n",
       "AleePRincon           1\n",
       "jigomezhgc            1\n",
       "JonnyBelloM           1\n",
       "Name: user_name, Length: 618, dtype: int64"
      ]
     },
     "execution_count": 25,
     "metadata": {},
     "output_type": "execute_result"
    }
   ],
   "source": [
    "### #Tweets por username\n",
    "df['user_name'].value_counts()"
   ]
  },
  {
   "cell_type": "markdown",
   "id": "agricultural-reading",
   "metadata": {},
   "source": [
    "# Marzo 2019"
   ]
  },
  {
   "cell_type": "code",
   "execution_count": 30,
   "id": "blocked-championship",
   "metadata": {},
   "outputs": [
    {
     "name": "stdout",
     "output_type": "stream",
     "text": [
      "Min: 2019-03-01 02:53:02\n",
      "MAx: 2019-03-31 20:58:12\n",
      "(7638, 30)\n"
     ]
    }
   ],
   "source": [
    "df = dataset[(dataset['created_at'] >= '2019-03-01') & (dataset['created_at'] < '2019-04-01')]\n",
    "print(\"Min:\", min(df['created_at']))\n",
    "print(\"MAx:\", max(df['created_at']))\n",
    "print(df.shape)"
   ]
  },
  {
   "cell_type": "code",
   "execution_count": 31,
   "id": "placed-richards",
   "metadata": {},
   "outputs": [
    {
     "data": {
      "text/plain": [
       "2_server_token_search            4974\n",
       "4_server_follow_timeline_user    1462\n",
       "1_server_bogota                  1102\n",
       "3_server_token_user               100\n",
       "Name: dataset, dtype: int64"
      ]
     },
     "execution_count": 31,
     "metadata": {},
     "output_type": "execute_result"
    }
   ],
   "source": [
    "### Tweets por Dataset\n",
    "df['dataset'].value_counts()"
   ]
  },
  {
   "cell_type": "code",
   "execution_count": 32,
   "id": "rental-heading",
   "metadata": {},
   "outputs": [
    {
     "data": {
      "text/plain": [
       "BogotaTransito     3943\n",
       "rutassitp          1976\n",
       "SectorMovilidad     450\n",
       "nikolai16340807     262\n",
       "RedapBogota          85\n",
       "                   ... \n",
       "Robinso02106963       1\n",
       "PACHITO67917284       1\n",
       "OmarTriana17          1\n",
       "macarenazoo           1\n",
       "MrApalacios           1\n",
       "Name: user_name, Length: 568, dtype: int64"
      ]
     },
     "execution_count": 32,
     "metadata": {},
     "output_type": "execute_result"
    }
   ],
   "source": [
    "### #Tweets por username\n",
    "df['user_name'].value_counts()"
   ]
  },
  {
   "cell_type": "markdown",
   "id": "matched-conviction",
   "metadata": {},
   "source": [
    "# Abril 2019"
   ]
  },
  {
   "cell_type": "code",
   "execution_count": 33,
   "id": "tired-bailey",
   "metadata": {},
   "outputs": [
    {
     "name": "stdout",
     "output_type": "stream",
     "text": [
      "Min: 2019-04-01 05:45:53\n",
      "MAx: 2019-04-30 21:11:03\n",
      "(6996, 30)\n"
     ]
    }
   ],
   "source": [
    "df = dataset[(dataset['created_at'] >= '2019-04-01') & (dataset['created_at'] < '2019-05-01')]\n",
    "print(\"Min:\", min(df['created_at']))\n",
    "print(\"MAx:\", max(df['created_at']))\n",
    "print(df.shape)"
   ]
  },
  {
   "cell_type": "code",
   "execution_count": 34,
   "id": "played-allocation",
   "metadata": {},
   "outputs": [
    {
     "data": {
      "text/plain": [
       "2_server_token_search            5325\n",
       "4_server_follow_timeline_user    1188\n",
       "1_server_bogota                   336\n",
       "3_server_token_user               147\n",
       "Name: dataset, dtype: int64"
      ]
     },
     "execution_count": 34,
     "metadata": {},
     "output_type": "execute_result"
    }
   ],
   "source": [
    "### Tweets por Dataset\n",
    "df['dataset'].value_counts()"
   ]
  },
  {
   "cell_type": "code",
   "execution_count": 35,
   "id": "measured-motorcycle",
   "metadata": {},
   "outputs": [
    {
     "data": {
      "text/plain": [
       "BogotaTransito     3659\n",
       "rutassitp          1900\n",
       "SectorMovilidad     361\n",
       "RedapBogota          84\n",
       "Citytv               40\n",
       "                   ... \n",
       "MaraStellaAlar2       1\n",
       "HaroldWayne11         1\n",
       "bikesandskating       1\n",
       "OSCALEHS8504          1\n",
       "Joral1980             1\n",
       "Name: user_name, Length: 620, dtype: int64"
      ]
     },
     "execution_count": 35,
     "metadata": {},
     "output_type": "execute_result"
    }
   ],
   "source": [
    "### #Tweets por username\n",
    "df['user_name'].value_counts()"
   ]
  },
  {
   "cell_type": "markdown",
   "id": "seventh-jerusalem",
   "metadata": {},
   "source": [
    "# Mayo 2019"
   ]
  },
  {
   "cell_type": "code",
   "execution_count": 37,
   "id": "computational-slope",
   "metadata": {},
   "outputs": [
    {
     "name": "stdout",
     "output_type": "stream",
     "text": [
      "Min: 2019-05-01 02:08:30\n",
      "MAx: 2019-05-31 22:58:18\n",
      "(8325, 30)\n"
     ]
    }
   ],
   "source": [
    "df = dataset[(dataset['created_at'] >= '2019-05-01') & (dataset['created_at'] < '2019-06-01')]\n",
    "print(\"Min:\", min(df['created_at']))\n",
    "print(\"MAx:\", max(df['created_at']))\n",
    "print(df.shape)"
   ]
  },
  {
   "cell_type": "code",
   "execution_count": 38,
   "id": "pregnant-merit",
   "metadata": {},
   "outputs": [
    {
     "data": {
      "text/plain": [
       "2_server_token_search            5973\n",
       "4_server_follow_timeline_user    2097\n",
       "3_server_token_user               155\n",
       "1_server_bogota                   100\n",
       "Name: dataset, dtype: int64"
      ]
     },
     "execution_count": 38,
     "metadata": {},
     "output_type": "execute_result"
    }
   ],
   "source": [
    "### Tweets por Dataset\n",
    "df['dataset'].value_counts()"
   ]
  },
  {
   "cell_type": "code",
   "execution_count": 39,
   "id": "checked-balloon",
   "metadata": {},
   "outputs": [
    {
     "data": {
      "text/plain": [
       "BogotaTransito     4054\n",
       "rutassitp          1932\n",
       "SectorMovilidad     534\n",
       "AngelaR30481636     215\n",
       "sebastdeporte       164\n",
       "                   ... \n",
       "JohnSil18308268       1\n",
       "villitar              1\n",
       "mauriciocediel        1\n",
       "YANNYLi               1\n",
       "JuniorSHR             1\n",
       "Name: user_name, Length: 727, dtype: int64"
      ]
     },
     "execution_count": 39,
     "metadata": {},
     "output_type": "execute_result"
    }
   ],
   "source": [
    "### #Tweets por username\n",
    "df['user_name'].value_counts()"
   ]
  },
  {
   "cell_type": "markdown",
   "id": "about-operator",
   "metadata": {},
   "source": [
    "# Junio 2019"
   ]
  },
  {
   "cell_type": "code",
   "execution_count": 40,
   "id": "competent-reservoir",
   "metadata": {},
   "outputs": [
    {
     "name": "stdout",
     "output_type": "stream",
     "text": [
      "Min: 2019-06-01 00:22:24\n",
      "MAx: 2019-06-30 21:43:59\n",
      "(7528, 30)\n"
     ]
    }
   ],
   "source": [
    "df = dataset[(dataset['created_at'] >= '2019-06-01') & (dataset['created_at'] < '2019-07-01')]\n",
    "print(\"Min:\", min(df['created_at']))\n",
    "print(\"MAx:\", max(df['created_at']))\n",
    "print(df.shape)"
   ]
  },
  {
   "cell_type": "code",
   "execution_count": 41,
   "id": "covered-ladder",
   "metadata": {},
   "outputs": [
    {
     "data": {
      "text/plain": [
       "2_server_token_search            5225\n",
       "4_server_follow_timeline_user    1974\n",
       "3_server_token_user               245\n",
       "1_server_bogota                    84\n",
       "Name: dataset, dtype: int64"
      ]
     },
     "execution_count": 41,
     "metadata": {},
     "output_type": "execute_result"
    }
   ],
   "source": [
    "### Tweets por Dataset\n",
    "df['dataset'].value_counts()"
   ]
  },
  {
   "cell_type": "code",
   "execution_count": 42,
   "id": "private-cookbook",
   "metadata": {},
   "outputs": [
    {
     "data": {
      "text/plain": [
       "BogotaTransito     5399\n",
       "SectorMovilidad     464\n",
       "sebastdeporte       423\n",
       "AngelaR30481636     131\n",
       "RedapBogota          69\n",
       "                   ... \n",
       "UnTalJeison           1\n",
       "AAALBERTOCUBILL       1\n",
       "gabogotano            1\n",
       "monafernandezg        1\n",
       "canomeri14            1\n",
       "Name: user_name, Length: 596, dtype: int64"
      ]
     },
     "execution_count": 42,
     "metadata": {},
     "output_type": "execute_result"
    }
   ],
   "source": [
    "### #Tweets por username\n",
    "df['user_name'].value_counts()"
   ]
  },
  {
   "cell_type": "markdown",
   "id": "political-swiss",
   "metadata": {},
   "source": [
    "# Julio 2019"
   ]
  },
  {
   "cell_type": "code",
   "execution_count": 43,
   "id": "competent-consumption",
   "metadata": {},
   "outputs": [
    {
     "name": "stdout",
     "output_type": "stream",
     "text": [
      "Min: 2019-07-01 06:22:12\n",
      "MAx: 2019-07-31 18:52:45\n",
      "(9014, 30)\n"
     ]
    }
   ],
   "source": [
    "df = dataset[(dataset['created_at'] >= '2019-07-01') & (dataset['created_at'] < '2019-08-01')]\n",
    "print(\"Min:\", min(df['created_at']))\n",
    "print(\"MAx:\", max(df['created_at']))\n",
    "print(df.shape)"
   ]
  },
  {
   "cell_type": "code",
   "execution_count": 44,
   "id": "nonprofit-liquid",
   "metadata": {},
   "outputs": [
    {
     "data": {
      "text/plain": [
       "2_server_token_search            6146\n",
       "4_server_follow_timeline_user    2376\n",
       "3_server_token_user               324\n",
       "1_server_bogota                   168\n",
       "Name: dataset, dtype: int64"
      ]
     },
     "execution_count": 44,
     "metadata": {},
     "output_type": "execute_result"
    }
   ],
   "source": [
    "### Tweets por Dataset\n",
    "df['dataset'].value_counts()"
   ]
  },
  {
   "cell_type": "code",
   "execution_count": 45,
   "id": "governmental-channels",
   "metadata": {},
   "outputs": [
    {
     "data": {
      "text/plain": [
       "BogotaTransito     6354\n",
       "SectorMovilidad     435\n",
       "sebastdeporte       254\n",
       "BOGOTASINMIEDO      209\n",
       "AngelaR30481636     137\n",
       "                   ... \n",
       "giovanotti            1\n",
       "LOPEZsoyy             1\n",
       "alejitamaya84         1\n",
       "VivianaMachadoC       1\n",
       "ndelapava             1\n",
       "Name: user_name, Length: 879, dtype: int64"
      ]
     },
     "execution_count": 45,
     "metadata": {},
     "output_type": "execute_result"
    }
   ],
   "source": [
    "### #Tweets por username\n",
    "df['user_name'].value_counts()"
   ]
  },
  {
   "cell_type": "code",
   "execution_count": 46,
   "id": "incident-winner",
   "metadata": {},
   "outputs": [
    {
     "ename": "ValueError",
     "evalue": "min() arg is an empty sequence",
     "output_type": "error",
     "traceback": [
      "\u001b[0;31m---------------------------------------------------------------------------\u001b[0m",
      "\u001b[0;31mValueError\u001b[0m                                Traceback (most recent call last)",
      "\u001b[0;32m<ipython-input-46-a1c265345c7f>\u001b[0m in \u001b[0;36m<module>\u001b[0;34m\u001b[0m\n\u001b[1;32m      1\u001b[0m \u001b[0mdf\u001b[0m \u001b[0;34m=\u001b[0m \u001b[0mdataset\u001b[0m\u001b[0;34m[\u001b[0m\u001b[0;34m(\u001b[0m\u001b[0mdataset\u001b[0m\u001b[0;34m[\u001b[0m\u001b[0;34m'created_at'\u001b[0m\u001b[0;34m]\u001b[0m \u001b[0;34m>=\u001b[0m \u001b[0;34m'2019-08-01'\u001b[0m\u001b[0;34m)\u001b[0m \u001b[0;34m&\u001b[0m \u001b[0;34m(\u001b[0m\u001b[0mdataset\u001b[0m\u001b[0;34m[\u001b[0m\u001b[0;34m'created_at'\u001b[0m\u001b[0;34m]\u001b[0m \u001b[0;34m<\u001b[0m \u001b[0;34m'2019-09-01'\u001b[0m\u001b[0;34m)\u001b[0m\u001b[0;34m]\u001b[0m\u001b[0;34m\u001b[0m\u001b[0;34m\u001b[0m\u001b[0m\n\u001b[0;32m----> 2\u001b[0;31m \u001b[0mprint\u001b[0m\u001b[0;34m(\u001b[0m\u001b[0;34m\"Min:\"\u001b[0m\u001b[0;34m,\u001b[0m \u001b[0mmin\u001b[0m\u001b[0;34m(\u001b[0m\u001b[0mdf\u001b[0m\u001b[0;34m[\u001b[0m\u001b[0;34m'created_at'\u001b[0m\u001b[0;34m]\u001b[0m\u001b[0;34m)\u001b[0m\u001b[0;34m)\u001b[0m\u001b[0;34m\u001b[0m\u001b[0;34m\u001b[0m\u001b[0m\n\u001b[0m\u001b[1;32m      3\u001b[0m \u001b[0mprint\u001b[0m\u001b[0;34m(\u001b[0m\u001b[0;34m\"MAx:\"\u001b[0m\u001b[0;34m,\u001b[0m \u001b[0mmax\u001b[0m\u001b[0;34m(\u001b[0m\u001b[0mdf\u001b[0m\u001b[0;34m[\u001b[0m\u001b[0;34m'created_at'\u001b[0m\u001b[0;34m]\u001b[0m\u001b[0;34m)\u001b[0m\u001b[0;34m)\u001b[0m\u001b[0;34m\u001b[0m\u001b[0;34m\u001b[0m\u001b[0m\n\u001b[1;32m      4\u001b[0m \u001b[0mprint\u001b[0m\u001b[0;34m(\u001b[0m\u001b[0mdf\u001b[0m\u001b[0;34m.\u001b[0m\u001b[0mshape\u001b[0m\u001b[0;34m)\u001b[0m\u001b[0;34m\u001b[0m\u001b[0;34m\u001b[0m\u001b[0m\n",
      "\u001b[0;31mValueError\u001b[0m: min() arg is an empty sequence"
     ]
    }
   ],
   "source": [
    "df = dataset[(dataset['created_at'] >= '2019-08-01') & (dataset['created_at'] < '2019-09-01')]\n",
    "print(\"Min:\", min(df['created_at']))\n",
    "print(\"MAx:\", max(df['created_at']))\n",
    "print(df.shape)"
   ]
  }
 ],
 "metadata": {
  "kernelspec": {
   "display_name": "traffic",
   "language": "python",
   "name": "traffic"
  },
  "language_info": {
   "codemirror_mode": {
    "name": "ipython",
    "version": 3
   },
   "file_extension": ".py",
   "mimetype": "text/x-python",
   "name": "python",
   "nbconvert_exporter": "python",
   "pygments_lexer": "ipython3",
   "version": "3.8.5"
  }
 },
 "nbformat": 4,
 "nbformat_minor": 5
}
