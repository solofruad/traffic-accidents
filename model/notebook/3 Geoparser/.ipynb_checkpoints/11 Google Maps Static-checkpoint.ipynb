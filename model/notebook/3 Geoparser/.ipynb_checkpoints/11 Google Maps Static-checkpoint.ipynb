{
 "cells": [
  {
   "cell_type": "markdown",
   "metadata": {},
   "source": [
    "# Maps Static API\n",
    "### By **Néstor Suat** in 2021\n",
    "\n",
    "**Descripción:** Tomando las coordenadas y graficando con gmplot\n",
    "\n",
    "**Input:**\n",
    "* TSV con tweets con location\n",
    "\n",
    "**Output:**\n",
    "* Web page\n",
    "\n",
    "***"
   ]
  },
  {
   "cell_type": "markdown",
   "metadata": {},
   "source": [
    "Enlace\n",
    "https://github.com/gmplot/gmplot/wiki/GoogleMapPlotter.marker"
   ]
  },
  {
   "cell_type": "markdown",
   "metadata": {},
   "source": [
    "### Importando librerías e Inicializando variables"
   ]
  },
  {
   "cell_type": "markdown",
   "metadata": {},
   "source": [
    "!pip install gmplot"
   ]
  },
  {
   "cell_type": "code",
   "execution_count": 1,
   "metadata": {},
   "outputs": [],
   "source": [
    "import gmplot\n",
    "\n",
    "from ast import literal_eval\n",
    "import sys\n",
    "\n",
    "import pandas as pd\n",
    "\n",
    "sys.path.insert(0, '../../')\n",
    "\n",
    "from classes.tweet2accident.enviroments import Global"
   ]
  },
  {
   "cell_type": "code",
   "execution_count": 2,
   "metadata": {},
   "outputs": [],
   "source": [
    "## Variables para importar modelos y demás\n",
    "dir_ = \"../../data/v1/NER/\"\n",
    "\n",
    "#file = 'ner_dataset_geocoding.tsv' # Dataset\n",
    "file = 'ner_dataset_test_ok.tsv' # Dataset\n",
    "\n",
    "api_key = Global()\n",
    "gmap = gmplot.GoogleMapPlotter(4.626383,-74.105074, 13, apikey=api_key.getMapsKey(), title=\"Geo Twitter\")"
   ]
  },
  {
   "cell_type": "code",
   "execution_count": 3,
   "metadata": {},
   "outputs": [
    {
     "name": "stdout",
     "output_type": "stream",
     "text": [
      "(1337, 9)\n"
     ]
    },
    {
     "data": {
      "text/html": [
       "<div>\n",
       "<style scoped>\n",
       "    .dataframe tbody tr th:only-of-type {\n",
       "        vertical-align: middle;\n",
       "    }\n",
       "\n",
       "    .dataframe tbody tr th {\n",
       "        vertical-align: top;\n",
       "    }\n",
       "\n",
       "    .dataframe thead th {\n",
       "        text-align: right;\n",
       "    }\n",
       "</style>\n",
       "<table border=\"1\" class=\"dataframe\">\n",
       "  <thead>\n",
       "    <tr style=\"text-align: right;\">\n",
       "      <th></th>\n",
       "      <th>id_tweet</th>\n",
       "      <th>text</th>\n",
       "      <th>created_at</th>\n",
       "      <th>user_name</th>\n",
       "      <th>user_location</th>\n",
       "      <th>source</th>\n",
       "      <th>clean</th>\n",
       "      <th>entities</th>\n",
       "      <th>location</th>\n",
       "    </tr>\n",
       "  </thead>\n",
       "  <tbody>\n",
       "    <tr>\n",
       "      <th>0</th>\n",
       "      <td>1047808970847604737</td>\n",
       "      <td>Rt Avenida Primero de Mayo frente al sena de l...</td>\n",
       "      <td>2018-10-04 6:21:40</td>\n",
       "      <td>camilogallardoa</td>\n",
       "      <td>NaN</td>\n",
       "      <td>Search BOGOTA</td>\n",
       "      <td>Rt Avenida Primero de Mayo frente al sena de l...</td>\n",
       "      <td>[(Avenida Primero de Mayo, loc), (sena, loc), ...</td>\n",
       "      <td>{'lat': 4.595911000000001, 'lng': -74.11117349...</td>\n",
       "    </tr>\n",
       "    <tr>\n",
       "      <th>1</th>\n",
       "      <td>1047809516937596928</td>\n",
       "      <td>Rt *Accidente* Se presenta volcamiento de vehí...</td>\n",
       "      <td>2018-10-04 6:23:50</td>\n",
       "      <td>camilogallardoa</td>\n",
       "      <td>NaN</td>\n",
       "      <td>Search BOGOTA</td>\n",
       "      <td>Rt *Accidente* Se presenta volcamiento de vehí...</td>\n",
       "      <td>[(carrera 68 con la Av Esperanza, loc)]</td>\n",
       "      <td>{'lat': 4.649509999999999, 'lng': -74.10652}</td>\n",
       "    </tr>\n",
       "    <tr>\n",
       "      <th>2</th>\n",
       "      <td>1047809727118430210</td>\n",
       "      <td>Rt Av. Las villas norte al sur llegando a la 1...</td>\n",
       "      <td>2018-10-04 6:24:40</td>\n",
       "      <td>camilogallardoa</td>\n",
       "      <td>NaN</td>\n",
       "      <td>Search BOGOTA</td>\n",
       "      <td>Rt Av. Las villas norte al sur llegando a la 1...</td>\n",
       "      <td>[(Av. Las villas, loc), (la 127, loc), (buleva...</td>\n",
       "      <td>{'lat': 4.7122761, 'lng': -74.071337}</td>\n",
       "    </tr>\n",
       "    <tr>\n",
       "      <th>3</th>\n",
       "      <td>1047821671854473216</td>\n",
       "      <td>Rt *Accidente*Se presenta siniestro vial entre...</td>\n",
       "      <td>2018-10-04 7:12:08</td>\n",
       "      <td>camilogallardoa</td>\n",
       "      <td>NaN</td>\n",
       "      <td>Search BOGOTA</td>\n",
       "      <td>Rt *Accidente*Se presenta siniestro vial entre...</td>\n",
       "      <td>[(Av. NQS con calle 67, loc)]</td>\n",
       "      <td>{'lat': 4.6623968, 'lng': -74.0762203}</td>\n",
       "    </tr>\n",
       "    <tr>\n",
       "      <th>4</th>\n",
       "      <td>1047843812977065985</td>\n",
       "      <td>Para peor tristeza, muerto en la Av. Cra. 30, ...</td>\n",
       "      <td>2018-10-04 8:40:07</td>\n",
       "      <td>capdiaz</td>\n",
       "      <td>Bogotá, Colombia</td>\n",
       "      <td>Search BOGOTA</td>\n",
       "      <td>Para peor tristeza, muerto en la Av. Cra. 30, ...</td>\n",
       "      <td>[(Av. Cra . 30, loc), (Calle 67, loc)]</td>\n",
       "      <td>{'lat': 4.6629957, 'lng': -74.07686389999999}</td>\n",
       "    </tr>\n",
       "  </tbody>\n",
       "</table>\n",
       "</div>"
      ],
      "text/plain": [
       "              id_tweet                                               text  \\\n",
       "0  1047808970847604737  Rt Avenida Primero de Mayo frente al sena de l...   \n",
       "1  1047809516937596928  Rt *Accidente* Se presenta volcamiento de vehí...   \n",
       "2  1047809727118430210  Rt Av. Las villas norte al sur llegando a la 1...   \n",
       "3  1047821671854473216  Rt *Accidente*Se presenta siniestro vial entre...   \n",
       "4  1047843812977065985  Para peor tristeza, muerto en la Av. Cra. 30, ...   \n",
       "\n",
       "           created_at        user_name     user_location         source  \\\n",
       "0  2018-10-04 6:21:40  camilogallardoa               NaN  Search BOGOTA   \n",
       "1  2018-10-04 6:23:50  camilogallardoa               NaN  Search BOGOTA   \n",
       "2  2018-10-04 6:24:40  camilogallardoa               NaN  Search BOGOTA   \n",
       "3  2018-10-04 7:12:08  camilogallardoa               NaN  Search BOGOTA   \n",
       "4  2018-10-04 8:40:07          capdiaz  Bogotá, Colombia  Search BOGOTA   \n",
       "\n",
       "                                               clean  \\\n",
       "0  Rt Avenida Primero de Mayo frente al sena de l...   \n",
       "1  Rt *Accidente* Se presenta volcamiento de vehí...   \n",
       "2  Rt Av. Las villas norte al sur llegando a la 1...   \n",
       "3  Rt *Accidente*Se presenta siniestro vial entre...   \n",
       "4  Para peor tristeza, muerto en la Av. Cra. 30, ...   \n",
       "\n",
       "                                            entities  \\\n",
       "0  [(Avenida Primero de Mayo, loc), (sena, loc), ...   \n",
       "1            [(carrera 68 con la Av Esperanza, loc)]   \n",
       "2  [(Av. Las villas, loc), (la 127, loc), (buleva...   \n",
       "3                      [(Av. NQS con calle 67, loc)]   \n",
       "4             [(Av. Cra . 30, loc), (Calle 67, loc)]   \n",
       "\n",
       "                                            location  \n",
       "0  {'lat': 4.595911000000001, 'lng': -74.11117349...  \n",
       "1       {'lat': 4.649509999999999, 'lng': -74.10652}  \n",
       "2              {'lat': 4.7122761, 'lng': -74.071337}  \n",
       "3             {'lat': 4.6623968, 'lng': -74.0762203}  \n",
       "4      {'lat': 4.6629957, 'lng': -74.07686389999999}  "
      ]
     },
     "execution_count": 3,
     "metadata": {},
     "output_type": "execute_result"
    }
   ],
   "source": [
    "## Importando Dataset\n",
    "dataset = pd.read_csv(dir_+file, delimiter = \"\\t\", quoting = 3)\n",
    "dataset.entities = dataset.entities.apply(literal_eval)\n",
    "dataset = dataset[dataset['location'] != 'Ningún resultado encontrado']\n",
    "dataset.location = dataset.location.apply(literal_eval)\n",
    "del dataset['Unnamed: 0']\n",
    "print(dataset.shape)\n",
    "dataset.head(5)"
   ]
  },
  {
   "cell_type": "code",
   "execution_count": 4,
   "metadata": {},
   "outputs": [
    {
     "data": {
      "text/plain": [
       "0       {'lat': 4.595911000000001, 'lng': -74.11117349...\n",
       "1            {'lat': 4.649509999999999, 'lng': -74.10652}\n",
       "2                   {'lat': 4.7122761, 'lng': -74.071337}\n",
       "3                  {'lat': 4.6623968, 'lng': -74.0762203}\n",
       "4           {'lat': 4.6629957, 'lng': -74.07686389999999}\n",
       "                              ...                        \n",
       "1335               {'lat': 4.7117566, 'lng': -74.0290891}\n",
       "1336               {'lat': 4.7161849, 'lng': -74.0286632}\n",
       "1337               {'lat': 4.5973352, 'lng': -74.1470736}\n",
       "1338               {'lat': 4.6781145, 'lng': -74.0445347}\n",
       "1339               {'lat': 4.7158439, 'lng': -74.0327832}\n",
       "Name: location, Length: 1337, dtype: object"
      ]
     },
     "execution_count": 4,
     "metadata": {},
     "output_type": "execute_result"
    }
   ],
   "source": [
    "dataset['location']"
   ]
  },
  {
   "cell_type": "code",
   "execution_count": 5,
   "metadata": {},
   "outputs": [],
   "source": [
    "def info_window_fn(row):\n",
    "    link = \"https://twitter.com/i/status/\"+row['id_tweet']\n",
    "    info = \"<b>Tweet: </b>%s<br><b>Created at: </b>%s<br><b>Link: </b><a href='%s' target='_blank'>%s</a><br><b>Entities: </b>%s<br><b>Coordinates: </b>%s\"%(\n",
    "        row['text'], \n",
    "        row['created_at'], \n",
    "        link,\n",
    "        link,\n",
    "        row['entities'], \n",
    "        row['location']\n",
    "    )\n",
    "    return info\n",
    "\n",
    "for i in range(len(dataset)):\n",
    "    info_window = info_window_fn(dataset.iloc[i])\n",
    "    gmap.marker(dataset.iloc[i]['location']['lat'], dataset.iloc[i]['location']['lng'], info_window=info_window)\n",
    "                                            \n",
    "gmap.draw('test_ok.html')"
   ]
  },
  {
   "cell_type": "code",
   "execution_count": 45,
   "metadata": {},
   "outputs": [
    {
     "data": {
      "text/plain": [
       "id_tweet                                       1047809516937596928\n",
       "text             Rt *Accidente* Se presenta volcamiento de vehí...\n",
       "created_at                                      2018-10-04 6:23:50\n",
       "user_name                                          camilogallardoa\n",
       "user_location                                                  NaN\n",
       "source                                               Search BOGOTA\n",
       "clean            Rt *Accidente* Se presenta volcamiento de vehí...\n",
       "entities                   [(carrera 68 con la Av Esperanza, loc)]\n",
       "location              {'lat': 4.649509999999999, 'lng': -74.10652}\n",
       "Name: 1, dtype: object"
      ]
     },
     "execution_count": 45,
     "metadata": {},
     "output_type": "execute_result"
    }
   ],
   "source": [
    "dataset.iloc[1]"
   ]
  },
  {
   "cell_type": "code",
   "execution_count": null,
   "metadata": {},
   "outputs": [],
   "source": []
  }
 ],
 "metadata": {
  "kernelspec": {
   "display_name": "Python 3",
   "language": "python",
   "name": "python3"
  },
  "language_info": {
   "codemirror_mode": {
    "name": "ipython",
    "version": 3
   },
   "file_extension": ".py",
   "mimetype": "text/x-python",
   "name": "python",
   "nbconvert_exporter": "python",
   "pygments_lexer": "ipython3",
   "version": "3.7.3"
  }
 },
 "nbformat": 4,
 "nbformat_minor": 4
}
