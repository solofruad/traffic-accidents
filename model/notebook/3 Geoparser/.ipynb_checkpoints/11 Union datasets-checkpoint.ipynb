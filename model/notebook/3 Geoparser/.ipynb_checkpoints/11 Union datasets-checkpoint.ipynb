{
 "cells": [
  {
   "cell_type": "markdown",
   "id": "reliable-marina",
   "metadata": {},
   "source": [
    "# Union datasets (Remove duplicates)\n",
    "### By **Néstor Suat** in 2021\n",
    "\n",
    "**Descripción:** Combinando los resultados normalizados de los diferentes datasets para eliminar duplicados y comenzar a Geocodificar.\n",
    "\n",
    "**Input:**\n",
    "* norm_entities_accident_1_server_bogota -- 4.463 tweets\n",
    "* norm_entities_accident_2_server_token_search -- 54.765 tweets\n",
    "* norm_entities_accident_3_server_token_user -- 47.398 tweets\n",
    "* norm_entities_accident_4_server_follow_timeline_user -- 80.277 tweets\n",
    "\n",
    "---"
   ]
  },
  {
   "cell_type": "code",
   "execution_count": 2,
   "id": "political-sussex",
   "metadata": {},
   "outputs": [],
   "source": [
    "import pandas as pd"
   ]
  },
  {
   "cell_type": "code",
   "execution_count": 4,
   "id": "postal-belief",
   "metadata": {
    "tags": []
   },
   "outputs": [
    {
     "name": "stdout",
     "output_type": "stream",
     "text": [
      "(4463, 30)\n",
      "(54765, 30)\n",
      "(47398, 30)\n",
      "(80277, 30)\n"
     ]
    }
   ],
   "source": [
    "dir_ = '../../data/database/output_ml/M1/NER_extractor/'\n",
    "\n",
    "file_bogota = 'norm_entities_accident_1_server_bogota'\n",
    "df_bogota = pd.read_csv(dir_+file_bogota+'.tsv', delimiter = \"\\t\", quoting = 3)\n",
    "df_bogota['dataset'] = '1_server_bogota'\n",
    "print(df_bogota.shape)\n",
    "\n",
    "file_token = 'norm_entities_accident_2_server_token_search'\n",
    "df_token = pd.read_csv(dir_+file_token+'.tsv', delimiter = \"\\t\", quoting = 3)\n",
    "df_token['dataset'] = '2_server_token_search'\n",
    "print(df_token.shape)\n",
    "\n",
    "file_token_user = 'norm_entities_accident_3_server_token_user'\n",
    "df_token_user = pd.read_csv(dir_+file_token_user+'.tsv', delimiter = \"\\t\", quoting = 3)\n",
    "df_token_user['dataset'] = '3_server_token_user'\n",
    "print(df_token_user.shape)\n",
    "\n",
    "file_timeline = 'norm_entities_accident_4_server_follow_timeline_user'\n",
    "df_timeline = pd.read_csv(dir_+file_timeline+'.tsv', delimiter = \"\\t\", quoting = 3)\n",
    "df_timeline['dataset'] = '4_server_follow_timeline_user'\n",
    "print(df_timeline.shape)"
   ]
  },
  {
   "cell_type": "code",
   "execution_count": 5,
   "id": "micro-state",
   "metadata": {},
   "outputs": [
    {
     "data": {
      "text/plain": [
       "(186903, 30)"
      ]
     },
     "execution_count": 5,
     "metadata": {},
     "output_type": "execute_result"
    }
   ],
   "source": [
    "dataset = pd.concat([df_bogota,df_token,df_token_user,df_timeline])\n",
    "dataset.shape"
   ]
  },
  {
   "cell_type": "markdown",
   "id": "intelligent-climate",
   "metadata": {},
   "source": [
    "### Limitando dataset Oct18 al Jul19"
   ]
  },
  {
   "cell_type": "code",
   "execution_count": 6,
   "id": "recent-prior",
   "metadata": {},
   "outputs": [
    {
     "name": "stdout",
     "output_type": "stream",
     "text": [
      "<class 'pandas.core.frame.DataFrame'>\n",
      "Int64Index: 186903 entries, 0 to 80276\n",
      "Data columns (total 30 columns):\n",
      "_id                       186903 non-null object\n",
      "api                       186903 non-null object\n",
      "coordinates               186903 non-null object\n",
      "created_at                186903 non-null object\n",
      "created_at_str            186903 non-null object\n",
      "favorite_count            186903 non-null int64\n",
      "geo                       186903 non-null object\n",
      "id_tweet                  186903 non-null int64\n",
      "place_coordinates         186903 non-null object\n",
      "place_country             11546 non-null object\n",
      "place_name                11548 non-null object\n",
      "place_type                11548 non-null object\n",
      "retweet_count             186903 non-null int64\n",
      "text                      186903 non-null object\n",
      "user_created_at           186903 non-null object\n",
      "user_followers_count      186903 non-null int64\n",
      "user_friends_count        186903 non-null int64\n",
      "user_id                   186903 non-null int64\n",
      "user_listed_count         186903 non-null float64\n",
      "user_location             175213 non-null object\n",
      "user_name                 186903 non-null object\n",
      "user_profile_image_url    186903 non-null object\n",
      "user_statuses_count       186903 non-null int64\n",
      "user_verified             186903 non-null bool\n",
      "label                     186903 non-null int64\n",
      "clean                     186903 non-null object\n",
      "entities                  186903 non-null object\n",
      "location                  186903 non-null object\n",
      "address_normalization     186903 non-null object\n",
      "dataset                   186903 non-null object\n",
      "dtypes: bool(1), float64(1), int64(8), object(20)\n",
      "memory usage: 43.0+ MB\n"
     ]
    }
   ],
   "source": [
    "dataset.info()"
   ]
  },
  {
   "cell_type": "code",
   "execution_count": 14,
   "id": "right-portrait",
   "metadata": {},
   "outputs": [
    {
     "data": {
      "text/plain": [
       "'2018-10-03 18:43:26'"
      ]
     },
     "execution_count": 14,
     "metadata": {},
     "output_type": "execute_result"
    }
   ],
   "source": [
    "dataset.iloc[0][\"created_at\"]"
   ]
  },
  {
   "cell_type": "code",
   "execution_count": 29,
   "id": "indoor-frame",
   "metadata": {
    "tags": []
   },
   "outputs": [
    {
     "data": {
      "text/plain": [
       "(182726, 30)"
      ]
     },
     "execution_count": 29,
     "metadata": {},
     "output_type": "execute_result"
    }
   ],
   "source": [
    "dataset = dataset[(dataset['created_at'] >= '2018-10-01') & (dataset['created_at'] < '2019-08-01')]\n",
    "dataset.shape"
   ]
  },
  {
   "cell_type": "code",
   "execution_count": 31,
   "id": "meaningful-viewer",
   "metadata": {},
   "outputs": [
    {
     "data": {
      "text/plain": [
       "4_server_follow_timeline_user    80277\n",
       "2_server_token_search            54513\n",
       "3_server_token_user              43473\n",
       "1_server_bogota                   4463\n",
       "Name: dataset, dtype: int64"
      ]
     },
     "execution_count": 31,
     "metadata": {},
     "output_type": "execute_result"
    }
   ],
   "source": [
    "dataset['dataset'].value_counts()"
   ]
  },
  {
   "cell_type": "code",
   "execution_count": 32,
   "id": "leading-macro",
   "metadata": {},
   "outputs": [
    {
     "data": {
      "text/plain": [
       "(84262, 30)"
      ]
     },
     "execution_count": 32,
     "metadata": {},
     "output_type": "execute_result"
    }
   ],
   "source": [
    "dataset = dataset.drop_duplicates(subset=['id_tweet'], keep='first')\n",
    "dataset.shape"
   ]
  },
  {
   "cell_type": "code",
   "execution_count": 34,
   "id": "helpful-cricket",
   "metadata": {},
   "outputs": [
    {
     "name": "stdout",
     "output_type": "stream",
     "text": [
      "(84262, 30)\n"
     ]
    },
    {
     "data": {
      "text/plain": [
       "2_server_token_search            54479\n",
       "4_server_follow_timeline_user    23738\n",
       "1_server_bogota                   4463\n",
       "3_server_token_user               1582\n",
       "Name: dataset, dtype: int64"
      ]
     },
     "execution_count": 34,
     "metadata": {},
     "output_type": "execute_result"
    }
   ],
   "source": [
    "print(dataset.shape)\n",
    "dataset['dataset'].value_counts()"
   ]
  },
  {
   "cell_type": "code",
   "execution_count": 36,
   "id": "marine-property",
   "metadata": {},
   "outputs": [
    {
     "data": {
      "text/plain": [
       "BogotaTransito     42725\n",
       "rutassitp          15282\n",
       "nikolai68843464     6454\n",
       "SectorMovilidad     4609\n",
       "nikolai16340807     1669\n",
       "                   ...  \n",
       "ANAELLY1979            1\n",
       "ROVYSUAREZ             1\n",
       "DarkMauro25            1\n",
       "mcestupinan            1\n",
       "Andrssilva             1\n",
       "Name: user_name, Length: 4300, dtype: int64"
      ]
     },
     "execution_count": 36,
     "metadata": {},
     "output_type": "execute_result"
    }
   ],
   "source": [
    "dataset['user_name'].value_counts()"
   ]
  },
  {
   "cell_type": "code",
   "execution_count": 35,
   "id": "atomic-surname",
   "metadata": {},
   "outputs": [],
   "source": [
    "dataset.to_csv(dir_+\"accidents_tweets.tsv\",sep='\\t',index=False)"
   ]
  }
 ],
 "metadata": {
  "kernelspec": {
   "display_name": "traffic",
   "language": "python",
   "name": "traffic"
  },
  "language_info": {
   "codemirror_mode": {
    "name": "ipython",
    "version": 3
   },
   "file_extension": ".py",
   "mimetype": "text/x-python",
   "name": "python",
   "nbconvert_exporter": "python",
   "pygments_lexer": "ipython3",
   "version": "3.8.5"
  }
 },
 "nbformat": 4,
 "nbformat_minor": 5
}
