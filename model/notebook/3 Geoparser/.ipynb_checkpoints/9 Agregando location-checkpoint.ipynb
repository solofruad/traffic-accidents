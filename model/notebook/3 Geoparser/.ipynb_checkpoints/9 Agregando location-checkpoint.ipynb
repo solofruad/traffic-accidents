{
 "cells": [
  {
   "cell_type": "markdown",
   "metadata": {},
   "source": [
    "# Agregando columna Location\n",
    "### By **Néstor Suat** in 2021\n",
    "\n",
    "**Descripción:** Seleccionando las entidades **'loc'** reconocidas de los tweets generar una columna extra llamada location."
   ]
  },
  {
   "cell_type": "code",
   "execution_count": 2,
   "metadata": {},
   "outputs": [],
   "source": [
    "from ast import literal_eval\n",
    "import sys\n",
    "\n",
    "import pandas as pd"
   ]
  },
  {
   "cell_type": "code",
   "execution_count": 3,
   "metadata": {},
   "outputs": [],
   "source": [
    "## Variables para importar modelos y demás\n",
    "dir_ = \"../../data/v1/NER/\"\n",
    "\n",
    "file = 'ner_dataset_entities.tsv' # Dataset"
   ]
  },
  {
   "cell_type": "code",
   "execution_count": 4,
   "metadata": {},
   "outputs": [
    {
     "name": "stdout",
     "output_type": "stream",
     "text": [
      "(1340, 8)\n"
     ]
    },
    {
     "data": {
      "text/html": [
       "<div>\n",
       "<style scoped>\n",
       "    .dataframe tbody tr th:only-of-type {\n",
       "        vertical-align: middle;\n",
       "    }\n",
       "\n",
       "    .dataframe tbody tr th {\n",
       "        vertical-align: top;\n",
       "    }\n",
       "\n",
       "    .dataframe thead th {\n",
       "        text-align: right;\n",
       "    }\n",
       "</style>\n",
       "<table border=\"1\" class=\"dataframe\">\n",
       "  <thead>\n",
       "    <tr style=\"text-align: right;\">\n",
       "      <th></th>\n",
       "      <th>id_tweet</th>\n",
       "      <th>text</th>\n",
       "      <th>created_at</th>\n",
       "      <th>user_name</th>\n",
       "      <th>user_location</th>\n",
       "      <th>source</th>\n",
       "      <th>clean</th>\n",
       "      <th>entities</th>\n",
       "    </tr>\n",
       "  </thead>\n",
       "  <tbody>\n",
       "    <tr>\n",
       "      <th>0</th>\n",
       "      <td>1047808970847604737</td>\n",
       "      <td>Rt Avenida Primero de Mayo frente al sena de l...</td>\n",
       "      <td>2018-10-04 6:21:40</td>\n",
       "      <td>camilogallardoa</td>\n",
       "      <td>NaN</td>\n",
       "      <td>Search BOGOTA</td>\n",
       "      <td>Rt Avenida Primero de Mayo frente al sena de l...</td>\n",
       "      <td>[(Avenida Primero de Mayo, loc), (sena, loc), ...</td>\n",
       "    </tr>\n",
       "    <tr>\n",
       "      <th>1</th>\n",
       "      <td>1047809516937596928</td>\n",
       "      <td>Rt *Accidente* Se presenta volcamiento de vehí...</td>\n",
       "      <td>2018-10-04 6:23:50</td>\n",
       "      <td>camilogallardoa</td>\n",
       "      <td>NaN</td>\n",
       "      <td>Search BOGOTA</td>\n",
       "      <td>Rt *Accidente* Se presenta volcamiento de vehí...</td>\n",
       "      <td>[(carrera 68 con la Av Esperanza, loc)]</td>\n",
       "    </tr>\n",
       "    <tr>\n",
       "      <th>2</th>\n",
       "      <td>1047809727118430210</td>\n",
       "      <td>Rt Av. Las villas norte al sur llegando a la 1...</td>\n",
       "      <td>2018-10-04 6:24:40</td>\n",
       "      <td>camilogallardoa</td>\n",
       "      <td>NaN</td>\n",
       "      <td>Search BOGOTA</td>\n",
       "      <td>Rt Av. Las villas norte al sur llegando a la 1...</td>\n",
       "      <td>[(Av. Las villas, loc), (la 127, loc), (buleva...</td>\n",
       "    </tr>\n",
       "    <tr>\n",
       "      <th>3</th>\n",
       "      <td>1047821671854473216</td>\n",
       "      <td>Rt *Accidente*Se presenta siniestro vial entre...</td>\n",
       "      <td>2018-10-04 7:12:08</td>\n",
       "      <td>camilogallardoa</td>\n",
       "      <td>NaN</td>\n",
       "      <td>Search BOGOTA</td>\n",
       "      <td>Rt *Accidente*Se presenta siniestro vial entre...</td>\n",
       "      <td>[(Av. NQS con calle 67, loc)]</td>\n",
       "    </tr>\n",
       "    <tr>\n",
       "      <th>4</th>\n",
       "      <td>1047843812977065985</td>\n",
       "      <td>Para peor tristeza, muerto en la Av. Cra. 30, ...</td>\n",
       "      <td>2018-10-04 8:40:07</td>\n",
       "      <td>capdiaz</td>\n",
       "      <td>Bogotá, Colombia</td>\n",
       "      <td>Search BOGOTA</td>\n",
       "      <td>Para peor tristeza, muerto en la Av. Cra. 30, ...</td>\n",
       "      <td>[(Av. Cra . 30, loc), (Calle 67, loc)]</td>\n",
       "    </tr>\n",
       "  </tbody>\n",
       "</table>\n",
       "</div>"
      ],
      "text/plain": [
       "              id_tweet                                               text  \\\n",
       "0  1047808970847604737  Rt Avenida Primero de Mayo frente al sena de l...   \n",
       "1  1047809516937596928  Rt *Accidente* Se presenta volcamiento de vehí...   \n",
       "2  1047809727118430210  Rt Av. Las villas norte al sur llegando a la 1...   \n",
       "3  1047821671854473216  Rt *Accidente*Se presenta siniestro vial entre...   \n",
       "4  1047843812977065985  Para peor tristeza, muerto en la Av. Cra. 30, ...   \n",
       "\n",
       "           created_at        user_name     user_location         source  \\\n",
       "0  2018-10-04 6:21:40  camilogallardoa               NaN  Search BOGOTA   \n",
       "1  2018-10-04 6:23:50  camilogallardoa               NaN  Search BOGOTA   \n",
       "2  2018-10-04 6:24:40  camilogallardoa               NaN  Search BOGOTA   \n",
       "3  2018-10-04 7:12:08  camilogallardoa               NaN  Search BOGOTA   \n",
       "4  2018-10-04 8:40:07          capdiaz  Bogotá, Colombia  Search BOGOTA   \n",
       "\n",
       "                                               clean  \\\n",
       "0  Rt Avenida Primero de Mayo frente al sena de l...   \n",
       "1  Rt *Accidente* Se presenta volcamiento de vehí...   \n",
       "2  Rt Av. Las villas norte al sur llegando a la 1...   \n",
       "3  Rt *Accidente*Se presenta siniestro vial entre...   \n",
       "4  Para peor tristeza, muerto en la Av. Cra. 30, ...   \n",
       "\n",
       "                                            entities  \n",
       "0  [(Avenida Primero de Mayo, loc), (sena, loc), ...  \n",
       "1            [(carrera 68 con la Av Esperanza, loc)]  \n",
       "2  [(Av. Las villas, loc), (la 127, loc), (buleva...  \n",
       "3                      [(Av. NQS con calle 67, loc)]  \n",
       "4             [(Av. Cra . 30, loc), (Calle 67, loc)]  "
      ]
     },
     "execution_count": 4,
     "metadata": {},
     "output_type": "execute_result"
    }
   ],
   "source": [
    "## Importando Dataset\n",
    "dataset = pd.read_csv(dir_+file, delimiter = \"\\t\", quoting = 3)\n",
    "dataset.entities = dataset.entities.apply(literal_eval)\n",
    "del dataset['Unnamed: 0']\n",
    "print(dataset.shape)\n",
    "dataset.head(5)"
   ]
  },
  {
   "cell_type": "code",
   "execution_count": 7,
   "metadata": {},
   "outputs": [],
   "source": [
    "def add_location(entities):\n",
    "    loc = [ t for (t,l) in entities  if l == 'loc' ]\n",
    "    loc = ' '.join(loc)\n",
    "    return loc"
   ]
  },
  {
   "cell_type": "code",
   "execution_count": 9,
   "metadata": {},
   "outputs": [
    {
     "data": {
      "text/plain": [
       "0       Avenida Primero de Mayo sena carrera 30\n",
       "1                carrera 68 con la Av Esperanza\n",
       "2            Av. Las villas la 127 bulevar Niza\n",
       "3                          Av. NQS con calle 67\n",
       "4                         Av. Cra . 30 Calle 67\n",
       "                         ...                   \n",
       "1335                            Cra 7 calle 134\n",
       "1336                            Cra 7 calle 140\n",
       "1337                         CRA 80 X CL 45 SUR\n",
       "1338                        Carrera 91 calle 95\n",
       "1339                       Carrera 9a con 135 C\n",
       "Name: location, Length: 1340, dtype: object"
      ]
     },
     "execution_count": 9,
     "metadata": {},
     "output_type": "execute_result"
    }
   ],
   "source": [
    "dataset['location'] = dataset.entities.apply(add_location)\n",
    "dataset['location']"
   ]
  },
  {
   "cell_type": "code",
   "execution_count": 12,
   "metadata": {},
   "outputs": [],
   "source": [
    "dataset.to_csv(dir_+\"ner_dataset_location.tsv\",sep='\\t')"
   ]
  },
  {
   "cell_type": "raw",
   "metadata": {},
   "source": [
    "#Ejemplos\n",
    "#carrera 24 52-72\n",
    "#carrera 7a con 110 <--- No se porque me elimina la 'a'\n",
    "#\n",
    "from postal.expand import expand_address\n",
    "expansions = expand_address('carrera 7a con 110',\n",
    "                            roman_numerals=False, \n",
    "                            split_alpha_from_numeric=True, \n",
    "                            expand_numex=True,\n",
    "                            replace_numeric_hyphens=True,\n",
    "                            languages=[\"es\"])\n",
    "\n",
    "print(expansions)"
   ]
  },
  {
   "cell_type": "raw",
   "metadata": {},
   "source": [
    "from postal.parser import parse_address\n",
    "parse_address('calle 37')"
   ]
  },
  {
   "cell_type": "code",
   "execution_count": null,
   "metadata": {},
   "outputs": [],
   "source": []
  }
 ],
 "metadata": {
  "kernelspec": {
   "display_name": "Python 3",
   "language": "python",
   "name": "python3"
  },
  "language_info": {
   "codemirror_mode": {
    "name": "ipython",
    "version": 3
   },
   "file_extension": ".py",
   "mimetype": "text/x-python",
   "name": "python",
   "nbconvert_exporter": "python",
   "pygments_lexer": "ipython3",
   "version": "3.8.5"
  }
 },
 "nbformat": 4,
 "nbformat_minor": 4
}
