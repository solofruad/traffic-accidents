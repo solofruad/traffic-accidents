{
 "cells": [
  {
   "cell_type": "markdown",
   "id": "competitive-myanmar",
   "metadata": {},
   "source": [
    "# Dataset Union\n",
    "### By **Néstor Suat** in 2021\n",
    "\n",
    "**Descripción:** Uniendo los datasets debido que algunos estan particionados, como por ejemplo el de `1_server_bogota`\n",
    "\n",
    "---"
   ]
  },
  {
   "cell_type": "code",
   "execution_count": 1,
   "id": "bored-deadline",
   "metadata": {},
   "outputs": [],
   "source": [
    "import pandas as pd"
   ]
  },
  {
   "cell_type": "code",
   "execution_count": 5,
   "id": "reverse-indian",
   "metadata": {},
   "outputs": [
    {
     "name": "stdout",
     "output_type": "stream",
     "text": [
      "<class 'pandas.core.frame.DataFrame'>\n",
      "RangeIndex: 624 entries, 0 to 623\n",
      "Data columns (total 26 columns):\n",
      "Unnamed: 0                624 non-null int64\n",
      "_id                       624 non-null object\n",
      "api                       624 non-null object\n",
      "coordinates               624 non-null object\n",
      "created_at                624 non-null object\n",
      "created_at_str            624 non-null object\n",
      "favorite_count            624 non-null int64\n",
      "geo                       624 non-null object\n",
      "id_tweet                  624 non-null int64\n",
      "place_coordinates         624 non-null object\n",
      "place_country             624 non-null object\n",
      "place_name                624 non-null object\n",
      "place_type                624 non-null object\n",
      "retweet_count             624 non-null int64\n",
      "text                      624 non-null object\n",
      "user_created_at           624 non-null object\n",
      "user_followers_count      624 non-null int64\n",
      "user_friends_count        624 non-null int64\n",
      "user_id                   624 non-null int64\n",
      "user_listed_count         624 non-null float64\n",
      "user_location             495 non-null object\n",
      "user_name                 624 non-null object\n",
      "user_profile_image_url    624 non-null object\n",
      "user_statuses_count       624 non-null int64\n",
      "user_verified             624 non-null bool\n",
      "label                     624 non-null int64\n",
      "dtypes: bool(1), float64(1), int64(9), object(15)\n",
      "memory usage: 122.6+ KB\n"
     ]
    }
   ],
   "source": [
    "dir_ = \"../../data/database/output_ml/M1/\"\n",
    "file = 'accident_1_server_bogota_part1.tsv'\n",
    "dataset = pd.read_csv(dir_+file, delimiter = \"\\t\", quoting = 3)\n",
    "dataset.info()"
   ]
  },
  {
   "cell_type": "code",
   "execution_count": null,
   "id": "ongoing-visibility",
   "metadata": {},
   "outputs": [],
   "source": []
  }
 ],
 "metadata": {
  "kernelspec": {
   "display_name": "traffic",
   "language": "python",
   "name": "traffic"
  },
  "language_info": {
   "codemirror_mode": {
    "name": "ipython",
    "version": 3
   },
   "file_extension": ".py",
   "mimetype": "text/x-python",
   "name": "python",
   "nbconvert_exporter": "python",
   "pygments_lexer": "ipython3",
   "version": "3.8.5"
  }
 },
 "nbformat": 4,
 "nbformat_minor": 5
}
