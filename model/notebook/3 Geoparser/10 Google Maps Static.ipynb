{
 "cells": [
  {
   "cell_type": "markdown",
   "metadata": {},
   "source": [
    "# Maps Static API\n",
    "### By **Néstor Suat** in 2021\n",
    "\n",
    "**Descripción:** Tomando las coordenadas y graficando con gmplot\n",
    "\n",
    "**Input:**\n",
    "* TSV con tweets con location\n",
    "\n",
    "**Output:**\n",
    "* Web page\n",
    "\n",
    "***"
   ]
  },
  {
   "cell_type": "markdown",
   "metadata": {},
   "source": [
    "Enlace\n",
    "https://github.com/gmplot/gmplot/wiki/GoogleMapPlotter.marker"
   ]
  },
  {
   "cell_type": "markdown",
   "metadata": {},
   "source": [
    "### Importando librerías e Inicializando variables"
   ]
  },
  {
   "cell_type": "markdown",
   "metadata": {},
   "source": [
    "!pip install gmplot"
   ]
  },
  {
   "cell_type": "code",
   "execution_count": 1,
   "metadata": {},
   "outputs": [],
   "source": [
    "import gmplot\n",
    "\n",
    "from ast import literal_eval\n",
    "import sys\n",
    "\n",
    "import pandas as pd\n",
    "\n",
    "sys.path.insert(0, '../../')\n",
    "\n",
    "from classes.tweet2accident.enviroments import Global"
   ]
  },
  {
   "cell_type": "code",
   "execution_count": 8,
   "metadata": {},
   "outputs": [],
   "source": [
    "## Variables para importar modelos y demás\n",
    "dir_ = \"../../data/v1/NER/\"\n",
    "\n",
    "#file = 'ner_dataset_geocoding.tsv' # Dataset\n",
    "#file = 'ner_dataset_test_ok.tsv' # Dataset\n",
    "file = 'ner_dataset_test_bad_camilo.tsv' # Dataset\n",
    "\n",
    "api_key = Global()\n",
    "gmap = gmplot.GoogleMapPlotter(4.626383,-74.105074, 13, apikey=api_key.getMapsKey(), title=\"Geo Twitter\")"
   ]
  },
  {
   "cell_type": "code",
   "execution_count": 10,
   "metadata": {},
   "outputs": [
    {
     "name": "stdout",
     "output_type": "stream",
     "text": [
      "(15, 5)\n"
     ]
    },
    {
     "data": {
      "text/html": [
       "<div>\n",
       "<style scoped>\n",
       "    .dataframe tbody tr th:only-of-type {\n",
       "        vertical-align: middle;\n",
       "    }\n",
       "\n",
       "    .dataframe tbody tr th {\n",
       "        vertical-align: top;\n",
       "    }\n",
       "\n",
       "    .dataframe thead th {\n",
       "        text-align: right;\n",
       "    }\n",
       "</style>\n",
       "<table border=\"1\" class=\"dataframe\">\n",
       "  <thead>\n",
       "    <tr style=\"text-align: right;\">\n",
       "      <th></th>\n",
       "      <th>id_tweet</th>\n",
       "      <th>text</th>\n",
       "      <th>created_at</th>\n",
       "      <th>entities</th>\n",
       "      <th>gmap</th>\n",
       "    </tr>\n",
       "  </thead>\n",
       "  <tbody>\n",
       "    <tr>\n",
       "      <th>0</th>\n",
       "      <td>1,06007722904305E+018</td>\n",
       "      <td>@NoticiasCaracol accidente en la kr 10 con cl ...</td>\n",
       "      <td>2018-11-07 2:51:21</td>\n",
       "      <td>[(kr 10 con cl 1 c, loc), (estacion de TM del ...</td>\n",
       "      <td>{'lat': 4.587165, 'lng': -74.08619449999999}</td>\n",
       "    </tr>\n",
       "    <tr>\n",
       "      <th>1</th>\n",
       "      <td>1,09968973395603E+018</td>\n",
       "      <td>@Citytv anoche ocurrió un accidente en frente ...</td>\n",
       "      <td>2019-02-24 10:17:18</td>\n",
       "      <td>[(universidad nacional, loc), (puente, loc), (...</td>\n",
       "      <td>{'lat': 4.6381938, 'lng': -74.08404639999999}</td>\n",
       "    </tr>\n",
       "    <tr>\n",
       "      <th>2</th>\n",
       "      <td>1,12572248205976E+018</td>\n",
       "      <td>Av circunvalar con calle 53 accidente de dos m...</td>\n",
       "      <td>2019-05-07 6:22:09</td>\n",
       "      <td>[(Av circunvalar con calle 53, loc)]</td>\n",
       "      <td>{'lat': 4.6405651, 'lng': -74.05537989999999}</td>\n",
       "    </tr>\n",
       "    <tr>\n",
       "      <th>3</th>\n",
       "      <td>1,13170728076703E+018</td>\n",
       "      <td>#MovilidadBogotá  #acueducto #Trancón  #Accide...</td>\n",
       "      <td>2019-05-23 18:43:36</td>\n",
       "      <td>[(3 horas, time), (la calera, loc), (circunval...</td>\n",
       "      <td>{'lat': 4.6172124, 'lng': -74.06149835}</td>\n",
       "    </tr>\n",
       "    <tr>\n",
       "      <th>4</th>\n",
       "      <td>1,14755571252191E+018</td>\n",
       "      <td>@InviasOficial ,@numeral767 ,@BogotaseMueve . ...</td>\n",
       "      <td>2019-07-06 12:19:37</td>\n",
       "      <td>[(cll 80, loc), (Siberia, loc)]</td>\n",
       "      <td>{'lat': 4.7439051, 'lng': -74.1371001}</td>\n",
       "    </tr>\n",
       "  </tbody>\n",
       "</table>\n",
       "</div>"
      ],
      "text/plain": [
       "                id_tweet                                               text  \\\n",
       "0  1,06007722904305E+018  @NoticiasCaracol accidente en la kr 10 con cl ...   \n",
       "1  1,09968973395603E+018  @Citytv anoche ocurrió un accidente en frente ...   \n",
       "2  1,12572248205976E+018  Av circunvalar con calle 53 accidente de dos m...   \n",
       "3  1,13170728076703E+018  #MovilidadBogotá  #acueducto #Trancón  #Accide...   \n",
       "4  1,14755571252191E+018  @InviasOficial ,@numeral767 ,@BogotaseMueve . ...   \n",
       "\n",
       "            created_at                                           entities  \\\n",
       "0   2018-11-07 2:51:21  [(kr 10 con cl 1 c, loc), (estacion de TM del ...   \n",
       "1  2019-02-24 10:17:18  [(universidad nacional, loc), (puente, loc), (...   \n",
       "2   2019-05-07 6:22:09               [(Av circunvalar con calle 53, loc)]   \n",
       "3  2019-05-23 18:43:36  [(3 horas, time), (la calera, loc), (circunval...   \n",
       "4  2019-07-06 12:19:37                    [(cll 80, loc), (Siberia, loc)]   \n",
       "\n",
       "                                            gmap  \n",
       "0   {'lat': 4.587165, 'lng': -74.08619449999999}  \n",
       "1  {'lat': 4.6381938, 'lng': -74.08404639999999}  \n",
       "2  {'lat': 4.6405651, 'lng': -74.05537989999999}  \n",
       "3        {'lat': 4.6172124, 'lng': -74.06149835}  \n",
       "4         {'lat': 4.7439051, 'lng': -74.1371001}  "
      ]
     },
     "execution_count": 10,
     "metadata": {},
     "output_type": "execute_result"
    }
   ],
   "source": [
    "## Importando Dataset\n",
    "dataset = pd.read_csv(dir_+file, delimiter = \"\\t\", quoting = 3)\n",
    "dataset.entities = dataset.entities.apply(literal_eval)\n",
    "#dataset = dataset[dataset['location'] != 'Ningún resultado encontrado']\n",
    "#dataset.location = dataset.location.apply(literal_eval)\n",
    "#dataset = dataset[dataset['gmap'] != 'Ningún resultado encontrado']\n",
    "dataset.gmap = dataset.gmap.apply(literal_eval)\n",
    "del dataset['Unnamed: 0']\n",
    "print(dataset.shape)\n",
    "dataset.head(5)"
   ]
  },
  {
   "cell_type": "code",
   "execution_count": 11,
   "metadata": {},
   "outputs": [
    {
     "name": "stdout",
     "output_type": "stream",
     "text": [
      "<class 'pandas.core.frame.DataFrame'>\n",
      "RangeIndex: 15 entries, 0 to 14\n",
      "Data columns (total 5 columns):\n",
      "id_tweet      15 non-null object\n",
      "text          15 non-null object\n",
      "created_at    15 non-null object\n",
      "entities      15 non-null object\n",
      "gmap          15 non-null object\n",
      "dtypes: object(5)\n",
      "memory usage: 728.0+ bytes\n"
     ]
    }
   ],
   "source": [
    "dataset.info()"
   ]
  },
  {
   "cell_type": "code",
   "execution_count": 12,
   "metadata": {},
   "outputs": [
    {
     "data": {
      "text/plain": [
       "dict"
      ]
     },
     "execution_count": 12,
     "metadata": {},
     "output_type": "execute_result"
    }
   ],
   "source": [
    "#dataset['location']\n",
    "type(dataset['gmap'][0])"
   ]
  },
  {
   "cell_type": "code",
   "execution_count": 13,
   "metadata": {},
   "outputs": [],
   "source": [
    "def info_window_fn(row):\n",
    "    link = \"https://twitter.com/i/status/\"+str(row['id_tweet'])\n",
    "    info = \"<b>Tweet: </b>%s<br><b>Created at: </b>%s<br><b>Link: </b><a href='%s' target='_blank'>%s</a><br><b>Entities: </b>%s<br><b>Coordinates: </b>%s\"%(\n",
    "        row['text'], \n",
    "        row['created_at'], \n",
    "        link,\n",
    "        link,\n",
    "        row['entities'], \n",
    "        #row['location']\n",
    "        row['gmap']\n",
    "    )\n",
    "    return info\n",
    "\n",
    "for i in range(len(dataset)):\n",
    "    info_window = info_window_fn(dataset.iloc[i])    \n",
    "    #gmap.marker(dataset.iloc[i]['location']['lat'], dataset.iloc[i]['location']['lng'], info_window=info_window)\n",
    "    gmap.marker(dataset.iloc[i]['gmap']['lat'], dataset.iloc[i]['gmap']['lng'], info_window=info_window)\n",
    "                                            \n",
    "gmap.draw('test_bad_camilo.html')"
   ]
  },
  {
   "cell_type": "code",
   "execution_count": 45,
   "metadata": {},
   "outputs": [
    {
     "data": {
      "text/plain": [
       "id_tweet                                       1047809516937596928\n",
       "text             Rt *Accidente* Se presenta volcamiento de vehí...\n",
       "created_at                                      2018-10-04 6:23:50\n",
       "user_name                                          camilogallardoa\n",
       "user_location                                                  NaN\n",
       "source                                               Search BOGOTA\n",
       "clean            Rt *Accidente* Se presenta volcamiento de vehí...\n",
       "entities                   [(carrera 68 con la Av Esperanza, loc)]\n",
       "location              {'lat': 4.649509999999999, 'lng': -74.10652}\n",
       "Name: 1, dtype: object"
      ]
     },
     "execution_count": 45,
     "metadata": {},
     "output_type": "execute_result"
    }
   ],
   "source": [
    "dataset.iloc[1]"
   ]
  },
  {
   "cell_type": "code",
   "execution_count": null,
   "metadata": {},
   "outputs": [],
   "source": []
  }
 ],
 "metadata": {
  "kernelspec": {
   "display_name": "Python 3",
   "language": "python",
   "name": "python3"
  },
  "language_info": {
   "codemirror_mode": {
    "name": "ipython",
    "version": 3
   },
   "file_extension": ".py",
   "mimetype": "text/x-python",
   "name": "python",
   "nbconvert_exporter": "python",
   "pygments_lexer": "ipython3",
   "version": "3.7.3"
  }
 },
 "nbformat": 4,
 "nbformat_minor": 4
}
