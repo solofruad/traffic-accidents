{
 "cells": [
  {
   "cell_type": "markdown",
   "id": "criminal-machine",
   "metadata": {},
   "source": [
    "# Exploración\n",
    "### By **Néstor Suat** in 2021\n",
    "\n",
    "**Descripción:** Explorando el conjunto de datos de **84.262 tweets de accidentes** con entidades reconocidas.\n",
    "\n",
    "**Input:**\n",
    "* accidents_tweets\n",
    "---"
   ]
  },
  {
   "cell_type": "code",
   "execution_count": 1,
   "id": "inside-butler",
   "metadata": {},
   "outputs": [],
   "source": [
    "import pandas as pd"
   ]
  },
  {
   "cell_type": "code",
   "execution_count": 2,
   "id": "described-brand",
   "metadata": {},
   "outputs": [
    {
     "data": {
      "text/plain": [
       "(43235, 31)"
      ]
     },
     "execution_count": 2,
     "metadata": {},
     "output_type": "execute_result"
    }
   ],
   "source": [
    "#dir_ = '../../data/database/output_ml/M1/NER_extractor/'\n",
    "dir_ = '../../data/database/output_ml/M1/NER_extractor/data_shielded_experiment/'\n",
    "\n",
    "file_bogota = 'accident_tweets_unique_keywords'\n",
    "dataset = pd.read_csv(dir_+file_bogota+'.tsv', delimiter = \"\\t\", quoting = 3)\n",
    "dataset.shape"
   ]
  },
  {
   "cell_type": "code",
   "execution_count": 3,
   "id": "musical-greek",
   "metadata": {
    "collapsed": true,
    "jupyter": {
     "outputs_hidden": true
    },
    "tags": []
   },
   "outputs": [
    {
     "data": {
      "text/html": [
       "<div>\n",
       "<style scoped>\n",
       "    .dataframe tbody tr th:only-of-type {\n",
       "        vertical-align: middle;\n",
       "    }\n",
       "\n",
       "    .dataframe tbody tr th {\n",
       "        vertical-align: top;\n",
       "    }\n",
       "\n",
       "    .dataframe thead th {\n",
       "        text-align: right;\n",
       "    }\n",
       "</style>\n",
       "<table border=\"1\" class=\"dataframe\">\n",
       "  <thead>\n",
       "    <tr style=\"text-align: right;\">\n",
       "      <th></th>\n",
       "      <th>_id</th>\n",
       "      <th>api</th>\n",
       "      <th>coordinates</th>\n",
       "      <th>created_at</th>\n",
       "      <th>created_at_str</th>\n",
       "      <th>favorite_count</th>\n",
       "      <th>geo</th>\n",
       "      <th>id_tweet</th>\n",
       "      <th>place_coordinates</th>\n",
       "      <th>place_country</th>\n",
       "      <th>...</th>\n",
       "      <th>user_name</th>\n",
       "      <th>user_profile_image_url</th>\n",
       "      <th>user_statuses_count</th>\n",
       "      <th>user_verified</th>\n",
       "      <th>label</th>\n",
       "      <th>clean</th>\n",
       "      <th>entities</th>\n",
       "      <th>location</th>\n",
       "      <th>address_normalization</th>\n",
       "      <th>dataset</th>\n",
       "    </tr>\n",
       "  </thead>\n",
       "  <tbody>\n",
       "    <tr>\n",
       "      <th>0</th>\n",
       "      <td>5bb5541e69d02d0680213e47</td>\n",
       "      <td>Stream</td>\n",
       "      <td>{'type': 'Point', 'coordinates': [{'$numberDou...</td>\n",
       "      <td>2018-10-03 18:43:26</td>\n",
       "      <td>2018-10-03 23:43:26</td>\n",
       "      <td>0</td>\n",
       "      <td>{'type': 'Point', 'coordinates': [{'$numberDou...</td>\n",
       "      <td>1047633252834594816</td>\n",
       "      <td>{'type': 'Polygon', 'coordinates': [[[{'$numbe...</td>\n",
       "      <td>Colombia</td>\n",
       "      <td>...</td>\n",
       "      <td>JPRUIZ1995</td>\n",
       "      <td>http://pbs.twimg.com/profile_images/9572315669...</td>\n",
       "      <td>169</td>\n",
       "      <td>False</td>\n",
       "      <td>1</td>\n",
       "      <td>Acaba de publicar una foto en Clinica Colsubsi...</td>\n",
       "      <td>[('Clinica Colsubsidio Calle 100', 'loc')]</td>\n",
       "      <td>Clinica Colsubsidio Calle 100</td>\n",
       "      <td>BOGOTA CLINICA COLSUBSIDIO AVENIDA CALLE 100</td>\n",
       "      <td>1_server_bogota</td>\n",
       "    </tr>\n",
       "    <tr>\n",
       "      <th>1</th>\n",
       "      <td>5bb56ab369d02d1df34891d2</td>\n",
       "      <td>Stream</td>\n",
       "      <td>{}</td>\n",
       "      <td>2018-10-03 20:19:47</td>\n",
       "      <td>2018-10-04 01:19:47</td>\n",
       "      <td>0</td>\n",
       "      <td>{}</td>\n",
       "      <td>1047657500437336064</td>\n",
       "      <td>{'type': 'Polygon', 'coordinates': [[[{'$numbe...</td>\n",
       "      <td>Colombia</td>\n",
       "      <td>...</td>\n",
       "      <td>camilogallardoa</td>\n",
       "      <td>http://pbs.twimg.com/profile_images/6874214127...</td>\n",
       "      <td>13470</td>\n",
       "      <td>False</td>\n",
       "      <td>1</td>\n",
       "      <td>Rt Informan de derrumbe por la vía San Miguel ...</td>\n",
       "      <td>[('vía San Miguel Fusagasugá', 'loc'), ('grd',...</td>\n",
       "      <td>vía San Miguel Fusagasugá grd</td>\n",
       "      <td>BOGOTA VI SAN MIGUEL FUSAGASUGA GRD</td>\n",
       "      <td>1_server_bogota</td>\n",
       "    </tr>\n",
       "    <tr>\n",
       "      <th>2</th>\n",
       "      <td>5bb5f7c469d02d6b8665cf88</td>\n",
       "      <td>Stream</td>\n",
       "      <td>{}</td>\n",
       "      <td>2018-10-04 06:21:40</td>\n",
       "      <td>2018-10-04 11:21:40</td>\n",
       "      <td>0</td>\n",
       "      <td>{}</td>\n",
       "      <td>1047808970847604737</td>\n",
       "      <td>{'type': 'Polygon', 'coordinates': [[[{'$numbe...</td>\n",
       "      <td>Colombia</td>\n",
       "      <td>...</td>\n",
       "      <td>camilogallardoa</td>\n",
       "      <td>http://pbs.twimg.com/profile_images/6874214127...</td>\n",
       "      <td>13474</td>\n",
       "      <td>False</td>\n",
       "      <td>1</td>\n",
       "      <td>Rt Avenida Primero de Mayo frente al sena de l...</td>\n",
       "      <td>[('Avenida Primero de Mayo', 'loc'), ('sena', ...</td>\n",
       "      <td>Avenida Primero de Mayo sena carrera 30</td>\n",
       "      <td>BOGOTA AVENIDA PRIMERO DE MAYO SENA AVENIDA CA...</td>\n",
       "      <td>1_server_bogota</td>\n",
       "    </tr>\n",
       "    <tr>\n",
       "      <th>3</th>\n",
       "      <td>5bb5f84769d02d6b8665cfaa</td>\n",
       "      <td>Stream</td>\n",
       "      <td>{}</td>\n",
       "      <td>2018-10-04 06:23:50</td>\n",
       "      <td>2018-10-04 11:23:50</td>\n",
       "      <td>0</td>\n",
       "      <td>{}</td>\n",
       "      <td>1047809516937596928</td>\n",
       "      <td>{'type': 'Polygon', 'coordinates': [[[{'$numbe...</td>\n",
       "      <td>Colombia</td>\n",
       "      <td>...</td>\n",
       "      <td>camilogallardoa</td>\n",
       "      <td>http://pbs.twimg.com/profile_images/6874214127...</td>\n",
       "      <td>13476</td>\n",
       "      <td>False</td>\n",
       "      <td>1</td>\n",
       "      <td>Rt *Accidente* Se presenta volcamiento de vehí...</td>\n",
       "      <td>[('carrera 68 con la Av Esperanza', 'loc')]</td>\n",
       "      <td>carrera 68 con la Av Esperanza</td>\n",
       "      <td>BOGOTA AVENIDA CARRERA 68 LA AVENIDA DE LA ESP...</td>\n",
       "      <td>1_server_bogota</td>\n",
       "    </tr>\n",
       "    <tr>\n",
       "      <th>4</th>\n",
       "      <td>5bb5f87969d02d6b8665cfb4</td>\n",
       "      <td>Stream</td>\n",
       "      <td>{}</td>\n",
       "      <td>2018-10-04 06:24:40</td>\n",
       "      <td>2018-10-04 11:24:40</td>\n",
       "      <td>0</td>\n",
       "      <td>{}</td>\n",
       "      <td>1047809727118430210</td>\n",
       "      <td>{'type': 'Polygon', 'coordinates': [[[{'$numbe...</td>\n",
       "      <td>Colombia</td>\n",
       "      <td>...</td>\n",
       "      <td>camilogallardoa</td>\n",
       "      <td>http://pbs.twimg.com/profile_images/6874214127...</td>\n",
       "      <td>13477</td>\n",
       "      <td>False</td>\n",
       "      <td>1</td>\n",
       "      <td>Rt Av. Las villas norte al sur llegando a la 1...</td>\n",
       "      <td>[('Av. Las villas', 'loc'), ('la 127', 'loc'),...</td>\n",
       "      <td>Av. Las villas la 127 bulevar Niza</td>\n",
       "      <td>BOGOTA AVENIDA LAS VILLAS LA 127 BULEVAR NIZA</td>\n",
       "      <td>1_server_bogota</td>\n",
       "    </tr>\n",
       "  </tbody>\n",
       "</table>\n",
       "<p>5 rows × 30 columns</p>\n",
       "</div>"
      ],
      "text/plain": [
       "                        _id     api  \\\n",
       "0  5bb5541e69d02d0680213e47  Stream   \n",
       "1  5bb56ab369d02d1df34891d2  Stream   \n",
       "2  5bb5f7c469d02d6b8665cf88  Stream   \n",
       "3  5bb5f84769d02d6b8665cfaa  Stream   \n",
       "4  5bb5f87969d02d6b8665cfb4  Stream   \n",
       "\n",
       "                                         coordinates           created_at  \\\n",
       "0  {'type': 'Point', 'coordinates': [{'$numberDou...  2018-10-03 18:43:26   \n",
       "1                                                 {}  2018-10-03 20:19:47   \n",
       "2                                                 {}  2018-10-04 06:21:40   \n",
       "3                                                 {}  2018-10-04 06:23:50   \n",
       "4                                                 {}  2018-10-04 06:24:40   \n",
       "\n",
       "        created_at_str  favorite_count  \\\n",
       "0  2018-10-03 23:43:26               0   \n",
       "1  2018-10-04 01:19:47               0   \n",
       "2  2018-10-04 11:21:40               0   \n",
       "3  2018-10-04 11:23:50               0   \n",
       "4  2018-10-04 11:24:40               0   \n",
       "\n",
       "                                                 geo             id_tweet  \\\n",
       "0  {'type': 'Point', 'coordinates': [{'$numberDou...  1047633252834594816   \n",
       "1                                                 {}  1047657500437336064   \n",
       "2                                                 {}  1047808970847604737   \n",
       "3                                                 {}  1047809516937596928   \n",
       "4                                                 {}  1047809727118430210   \n",
       "\n",
       "                                   place_coordinates place_country  ...  \\\n",
       "0  {'type': 'Polygon', 'coordinates': [[[{'$numbe...      Colombia  ...   \n",
       "1  {'type': 'Polygon', 'coordinates': [[[{'$numbe...      Colombia  ...   \n",
       "2  {'type': 'Polygon', 'coordinates': [[[{'$numbe...      Colombia  ...   \n",
       "3  {'type': 'Polygon', 'coordinates': [[[{'$numbe...      Colombia  ...   \n",
       "4  {'type': 'Polygon', 'coordinates': [[[{'$numbe...      Colombia  ...   \n",
       "\n",
       "         user_name                             user_profile_image_url  \\\n",
       "0       JPRUIZ1995  http://pbs.twimg.com/profile_images/9572315669...   \n",
       "1  camilogallardoa  http://pbs.twimg.com/profile_images/6874214127...   \n",
       "2  camilogallardoa  http://pbs.twimg.com/profile_images/6874214127...   \n",
       "3  camilogallardoa  http://pbs.twimg.com/profile_images/6874214127...   \n",
       "4  camilogallardoa  http://pbs.twimg.com/profile_images/6874214127...   \n",
       "\n",
       "   user_statuses_count user_verified label  \\\n",
       "0                  169         False     1   \n",
       "1                13470         False     1   \n",
       "2                13474         False     1   \n",
       "3                13476         False     1   \n",
       "4                13477         False     1   \n",
       "\n",
       "                                               clean  \\\n",
       "0  Acaba de publicar una foto en Clinica Colsubsi...   \n",
       "1  Rt Informan de derrumbe por la vía San Miguel ...   \n",
       "2  Rt Avenida Primero de Mayo frente al sena de l...   \n",
       "3  Rt *Accidente* Se presenta volcamiento de vehí...   \n",
       "4  Rt Av. Las villas norte al sur llegando a la 1...   \n",
       "\n",
       "                                            entities  \\\n",
       "0         [('Clinica Colsubsidio Calle 100', 'loc')]   \n",
       "1  [('vía San Miguel Fusagasugá', 'loc'), ('grd',...   \n",
       "2  [('Avenida Primero de Mayo', 'loc'), ('sena', ...   \n",
       "3        [('carrera 68 con la Av Esperanza', 'loc')]   \n",
       "4  [('Av. Las villas', 'loc'), ('la 127', 'loc'),...   \n",
       "\n",
       "                                  location  \\\n",
       "0            Clinica Colsubsidio Calle 100   \n",
       "1            vía San Miguel Fusagasugá grd   \n",
       "2  Avenida Primero de Mayo sena carrera 30   \n",
       "3           carrera 68 con la Av Esperanza   \n",
       "4       Av. Las villas la 127 bulevar Niza   \n",
       "\n",
       "                               address_normalization          dataset  \n",
       "0       BOGOTA CLINICA COLSUBSIDIO AVENIDA CALLE 100  1_server_bogota  \n",
       "1                BOGOTA VI SAN MIGUEL FUSAGASUGA GRD  1_server_bogota  \n",
       "2  BOGOTA AVENIDA PRIMERO DE MAYO SENA AVENIDA CA...  1_server_bogota  \n",
       "3  BOGOTA AVENIDA CARRERA 68 LA AVENIDA DE LA ESP...  1_server_bogota  \n",
       "4      BOGOTA AVENIDA LAS VILLAS LA 127 BULEVAR NIZA  1_server_bogota  \n",
       "\n",
       "[5 rows x 30 columns]"
      ]
     },
     "execution_count": 3,
     "metadata": {},
     "output_type": "execute_result"
    }
   ],
   "source": [
    "dataset.head(5)"
   ]
  },
  {
   "cell_type": "markdown",
   "id": "matched-london",
   "metadata": {},
   "source": [
    "### Analizando ventanas de tiempo diferente\n",
    "* Manualmente"
   ]
  },
  {
   "cell_type": "markdown",
   "id": "secondary-collectible",
   "metadata": {},
   "source": [
    "# Octubre 2018"
   ]
  },
  {
   "cell_type": "code",
   "execution_count": 3,
   "id": "executive-personal",
   "metadata": {},
   "outputs": [
    {
     "name": "stdout",
     "output_type": "stream",
     "text": [
      "Min: 2018-10-01 05:54:59\n",
      "MAx: 2018-10-31 16:41:23\n",
      "(3682, 31)\n"
     ]
    }
   ],
   "source": [
    "df = dataset[(dataset['created_at'] >= '2018-10-01') & (dataset['created_at'] < '2018-11-01')]\n",
    "print(\"Min:\", min(df['created_at']))\n",
    "print(\"MAx:\", max(df['created_at']))\n",
    "print(df.shape)"
   ]
  },
  {
   "cell_type": "markdown",
   "id": "immune-administrator",
   "metadata": {},
   "source": [
    "### #Tweets por Dataset"
   ]
  },
  {
   "cell_type": "code",
   "execution_count": 4,
   "id": "adequate-placement",
   "metadata": {},
   "outputs": [
    {
     "data": {
      "text/plain": [
       "2_server_token_search            3446\n",
       "3_server_token_user               122\n",
       "4_server_follow_timeline_user      73\n",
       "1_server_bogota                    41\n",
       "Name: dataset, dtype: int64"
      ]
     },
     "execution_count": 4,
     "metadata": {},
     "output_type": "execute_result"
    }
   ],
   "source": [
    "df['dataset'].value_counts()"
   ]
  },
  {
   "cell_type": "markdown",
   "id": "improving-listening",
   "metadata": {},
   "source": [
    "### #Tweets por username"
   ]
  },
  {
   "cell_type": "code",
   "execution_count": 5,
   "id": "checked-sussex",
   "metadata": {},
   "outputs": [
    {
     "data": {
      "text/plain": [
       "BogotaTransito     3447\n",
       "RedapBogota          47\n",
       "WazeTrafficBOG       32\n",
       "camilogallardoa      23\n",
       "Citytv               18\n",
       "                   ... \n",
       "EMOB2018              1\n",
       "juliohbarrera         1\n",
       "AlbaMeryCarril3       1\n",
       "andrespsk             1\n",
       "mjavier_cadena        1\n",
       "Name: user_name, Length: 101, dtype: int64"
      ]
     },
     "execution_count": 5,
     "metadata": {},
     "output_type": "execute_result"
    }
   ],
   "source": [
    "df['user_name'].value_counts()"
   ]
  },
  {
   "cell_type": "markdown",
   "id": "instructional-doubt",
   "metadata": {},
   "source": [
    "# Noviembre 2018"
   ]
  },
  {
   "cell_type": "code",
   "execution_count": 6,
   "id": "contemporary-restaurant",
   "metadata": {},
   "outputs": [
    {
     "name": "stdout",
     "output_type": "stream",
     "text": [
      "Min: 2018-11-01 05:53:49\n",
      "MAx: 2018-11-30 22:20:06\n",
      "(4072, 31)\n"
     ]
    }
   ],
   "source": [
    "df = dataset[(dataset['created_at'] >= '2018-11-01') & (dataset['created_at'] < '2018-12-01')]\n",
    "print(\"Min:\", min(df['created_at']))\n",
    "print(\"MAx:\", max(df['created_at']))\n",
    "print(df.shape)"
   ]
  },
  {
   "cell_type": "code",
   "execution_count": 7,
   "id": "integral-packing",
   "metadata": {},
   "outputs": [
    {
     "data": {
      "text/plain": [
       "2_server_token_search            3853\n",
       "4_server_follow_timeline_user     102\n",
       "3_server_token_user                97\n",
       "1_server_bogota                    20\n",
       "Name: dataset, dtype: int64"
      ]
     },
     "execution_count": 7,
     "metadata": {},
     "output_type": "execute_result"
    }
   ],
   "source": [
    "### Tweets por Dataset\n",
    "df['dataset'].value_counts()"
   ]
  },
  {
   "cell_type": "code",
   "execution_count": 8,
   "id": "forty-france",
   "metadata": {},
   "outputs": [
    {
     "data": {
      "text/plain": [
       "BogotaTransito     3815\n",
       "RedapBogota          65\n",
       "WazeTrafficBOG       60\n",
       "HSBnoticias          11\n",
       "Citytv               10\n",
       "                   ... \n",
       "RICHARDAGUILARV       1\n",
       "sogamoso02            1\n",
       "luis_ccf              1\n",
       "AAlfonsoreina         1\n",
       "chidonoticias         1\n",
       "Name: user_name, Length: 93, dtype: int64"
      ]
     },
     "execution_count": 8,
     "metadata": {},
     "output_type": "execute_result"
    }
   ],
   "source": [
    "### #Tweets por username\n",
    "df['user_name'].value_counts()"
   ]
  },
  {
   "cell_type": "markdown",
   "id": "behavioral-cincinnati",
   "metadata": {},
   "source": [
    "# Diciembre 2018"
   ]
  },
  {
   "cell_type": "code",
   "execution_count": 9,
   "id": "institutional-romantic",
   "metadata": {},
   "outputs": [
    {
     "name": "stdout",
     "output_type": "stream",
     "text": [
      "Min: 2018-12-01 07:35:03\n",
      "MAx: 2018-12-31 18:49:36\n",
      "(3634, 31)\n"
     ]
    }
   ],
   "source": [
    "df = dataset[(dataset['created_at'] >= '2018-12-01') & (dataset['created_at'] < '2019-01-01')]\n",
    "print(\"Min:\", min(df['created_at']))\n",
    "print(\"MAx:\", max(df['created_at']))\n",
    "print(df.shape)"
   ]
  },
  {
   "cell_type": "code",
   "execution_count": 10,
   "id": "medium-stephen",
   "metadata": {},
   "outputs": [
    {
     "data": {
      "text/plain": [
       "2_server_token_search            3487\n",
       "4_server_follow_timeline_user      82\n",
       "3_server_token_user                46\n",
       "1_server_bogota                    19\n",
       "Name: dataset, dtype: int64"
      ]
     },
     "execution_count": 10,
     "metadata": {},
     "output_type": "execute_result"
    }
   ],
   "source": [
    "### Tweets por Dataset\n",
    "df['dataset'].value_counts()"
   ]
  },
  {
   "cell_type": "code",
   "execution_count": 11,
   "id": "alpha-canal",
   "metadata": {},
   "outputs": [
    {
     "data": {
      "text/plain": [
       "BogotaTransito     3385\n",
       "WazeTrafficBOG       74\n",
       "RedapBogota          29\n",
       "Citytv               15\n",
       "HSBnoticias           6\n",
       "                   ... \n",
       "BogotaET              1\n",
       "wilcor2011            1\n",
       "williamhmurillo       1\n",
       "carhelenita           1\n",
       "LIBELULA0116          1\n",
       "Name: user_name, Length: 106, dtype: int64"
      ]
     },
     "execution_count": 11,
     "metadata": {},
     "output_type": "execute_result"
    }
   ],
   "source": [
    "### #Tweets por username\n",
    "df['user_name'].value_counts()"
   ]
  },
  {
   "cell_type": "markdown",
   "id": "senior-personal",
   "metadata": {},
   "source": [
    "# Enero 2019"
   ]
  },
  {
   "cell_type": "code",
   "execution_count": 12,
   "id": "seasonal-assembly",
   "metadata": {},
   "outputs": [
    {
     "name": "stdout",
     "output_type": "stream",
     "text": [
      "Min: 2019-01-01 08:33:25\n",
      "MAx: 2019-01-31 20:35:33\n",
      "(4316, 31)\n"
     ]
    }
   ],
   "source": [
    "df = dataset[(dataset['created_at'] >= '2019-01-01') & (dataset['created_at'] < '2019-02-01')]\n",
    "print(\"Min:\", min(df['created_at']))\n",
    "print(\"MAx:\", max(df['created_at']))\n",
    "print(df.shape)"
   ]
  },
  {
   "cell_type": "code",
   "execution_count": 13,
   "id": "defensive-extraction",
   "metadata": {},
   "outputs": [
    {
     "data": {
      "text/plain": [
       "2_server_token_search            3211\n",
       "1_server_bogota                   959\n",
       "4_server_follow_timeline_user      96\n",
       "3_server_token_user                50\n",
       "Name: dataset, dtype: int64"
      ]
     },
     "execution_count": 13,
     "metadata": {},
     "output_type": "execute_result"
    }
   ],
   "source": [
    "### Tweets por Dataset\n",
    "df['dataset'].value_counts()"
   ]
  },
  {
   "cell_type": "code",
   "execution_count": 14,
   "id": "general-correction",
   "metadata": {},
   "outputs": [
    {
     "data": {
      "text/plain": [
       "BogotaTransito     4125\n",
       "RedapBogota          63\n",
       "WazeTrafficBOG       15\n",
       "Citytv               10\n",
       "SectorMovilidad       6\n",
       "                   ... \n",
       "FabianCortes87        1\n",
       "AbelardoMora6         1\n",
       "CsarLpezSurez4        1\n",
       "CMILANOTICIA          1\n",
       "edgarcardozotv        1\n",
       "Name: user_name, Length: 75, dtype: int64"
      ]
     },
     "execution_count": 14,
     "metadata": {},
     "output_type": "execute_result"
    }
   ],
   "source": [
    "### #Tweets por username\n",
    "df['user_name'].value_counts()"
   ]
  },
  {
   "cell_type": "markdown",
   "id": "revolutionary-module",
   "metadata": {},
   "source": [
    "# Febrero 2019"
   ]
  },
  {
   "cell_type": "code",
   "execution_count": 15,
   "id": "aging-excitement",
   "metadata": {},
   "outputs": [
    {
     "name": "stdout",
     "output_type": "stream",
     "text": [
      "Min: 2019-02-01 00:17:52\n",
      "MAx: 2019-02-28 22:05:11\n",
      "(4127, 31)\n"
     ]
    }
   ],
   "source": [
    "df = dataset[(dataset['created_at'] >= '2019-02-01') & (dataset['created_at'] < '2019-03-01')]\n",
    "print(\"Min:\", min(df['created_at']))\n",
    "print(\"MAx:\", max(df['created_at']))\n",
    "print(df.shape)"
   ]
  },
  {
   "cell_type": "code",
   "execution_count": 16,
   "id": "ideal-killer",
   "metadata": {},
   "outputs": [
    {
     "data": {
      "text/plain": [
       "2_server_token_search            2731\n",
       "1_server_bogota                  1192\n",
       "4_server_follow_timeline_user     151\n",
       "3_server_token_user                53\n",
       "Name: dataset, dtype: int64"
      ]
     },
     "execution_count": 16,
     "metadata": {},
     "output_type": "execute_result"
    }
   ],
   "source": [
    "### Tweets por Dataset\n",
    "df['dataset'].value_counts()"
   ]
  },
  {
   "cell_type": "code",
   "execution_count": 17,
   "id": "prerequisite-framework",
   "metadata": {},
   "outputs": [
    {
     "data": {
      "text/plain": [
       "BogotaTransito    3818\n",
       "RedapBogota        102\n",
       "WazeTrafficBOG      28\n",
       "CIVICOSBOG          16\n",
       "Citytv              13\n",
       "                  ... \n",
       "AliasKikesin         1\n",
       "NoticiasUno          1\n",
       "epenuela             1\n",
       "BETASCAS             1\n",
       "luisfermp            1\n",
       "Name: user_name, Length: 124, dtype: int64"
      ]
     },
     "execution_count": 17,
     "metadata": {},
     "output_type": "execute_result"
    }
   ],
   "source": [
    "### #Tweets por username\n",
    "df['user_name'].value_counts()"
   ]
  },
  {
   "cell_type": "markdown",
   "id": "respected-north",
   "metadata": {},
   "source": [
    "# Marzo 2019"
   ]
  },
  {
   "cell_type": "code",
   "execution_count": 18,
   "id": "neither-lesson",
   "metadata": {},
   "outputs": [
    {
     "name": "stdout",
     "output_type": "stream",
     "text": [
      "Min: 2019-03-01 06:29:00\n",
      "MAx: 2019-03-31 20:03:55\n",
      "(4029, 31)\n"
     ]
    }
   ],
   "source": [
    "df = dataset[(dataset['created_at'] >= '2019-03-01') & (dataset['created_at'] < '2019-04-01')]\n",
    "print(\"Min:\", min(df['created_at']))\n",
    "print(\"MAx:\", max(df['created_at']))\n",
    "print(df.shape)"
   ]
  },
  {
   "cell_type": "code",
   "execution_count": 19,
   "id": "hindu-anthropology",
   "metadata": {},
   "outputs": [
    {
     "data": {
      "text/plain": [
       "2_server_token_search            2902\n",
       "1_server_bogota                   995\n",
       "4_server_follow_timeline_user      97\n",
       "3_server_token_user                35\n",
       "Name: dataset, dtype: int64"
      ]
     },
     "execution_count": 19,
     "metadata": {},
     "output_type": "execute_result"
    }
   ],
   "source": [
    "### Tweets por Dataset\n",
    "df['dataset'].value_counts()"
   ]
  },
  {
   "cell_type": "code",
   "execution_count": 20,
   "id": "tired-humidity",
   "metadata": {},
   "outputs": [
    {
     "data": {
      "text/plain": [
       "BogotaTransito     3781\n",
       "RedapBogota          49\n",
       "WazeTrafficBOG       40\n",
       "SectorMovilidad      10\n",
       "CIVICOSBOG            9\n",
       "                   ... \n",
       "JorgeZamoraCh         1\n",
       "nacional2001          1\n",
       "anmatie               1\n",
       "danielarang0          1\n",
       "FontibonSomosT        1\n",
       "Name: user_name, Length: 107, dtype: int64"
      ]
     },
     "execution_count": 20,
     "metadata": {},
     "output_type": "execute_result"
    }
   ],
   "source": [
    "### #Tweets por username\n",
    "df['user_name'].value_counts()"
   ]
  },
  {
   "cell_type": "markdown",
   "id": "induced-greene",
   "metadata": {},
   "source": [
    "# Abril 2019"
   ]
  },
  {
   "cell_type": "code",
   "execution_count": 21,
   "id": "vocational-elimination",
   "metadata": {},
   "outputs": [
    {
     "name": "stdout",
     "output_type": "stream",
     "text": [
      "Min: 2019-04-01 05:45:53\n",
      "MAx: 2019-04-30 20:51:53\n",
      "(3697, 31)\n"
     ]
    }
   ],
   "source": [
    "df = dataset[(dataset['created_at'] >= '2019-04-01') & (dataset['created_at'] < '2019-05-01')]\n",
    "print(\"Min:\", min(df['created_at']))\n",
    "print(\"MAx:\", max(df['created_at']))\n",
    "print(df.shape)"
   ]
  },
  {
   "cell_type": "code",
   "execution_count": 22,
   "id": "protective-valuation",
   "metadata": {},
   "outputs": [
    {
     "data": {
      "text/plain": [
       "2_server_token_search            3295\n",
       "1_server_bogota                   228\n",
       "4_server_follow_timeline_user     130\n",
       "3_server_token_user                44\n",
       "Name: dataset, dtype: int64"
      ]
     },
     "execution_count": 22,
     "metadata": {},
     "output_type": "execute_result"
    }
   ],
   "source": [
    "### Tweets por Dataset\n",
    "df['dataset'].value_counts()"
   ]
  },
  {
   "cell_type": "code",
   "execution_count": 23,
   "id": "changed-citizen",
   "metadata": {},
   "outputs": [
    {
     "data": {
      "text/plain": [
       "BogotaTransito     3446\n",
       "RedapBogota          43\n",
       "WazeTrafficBOG       27\n",
       "TransMilenio         14\n",
       "Citytv                8\n",
       "                   ... \n",
       "manchozongo           1\n",
       "elespectador          1\n",
       "oorzoo15              1\n",
       "Luchomoreno79         1\n",
       "luisfdomosquera       1\n",
       "Name: user_name, Length: 131, dtype: int64"
      ]
     },
     "execution_count": 23,
     "metadata": {},
     "output_type": "execute_result"
    }
   ],
   "source": [
    "### #Tweets por username\n",
    "df['user_name'].value_counts()"
   ]
  },
  {
   "cell_type": "markdown",
   "id": "bibliographic-penguin",
   "metadata": {},
   "source": [
    "# Mayo 2019"
   ]
  },
  {
   "cell_type": "code",
   "execution_count": 24,
   "id": "phantom-spice",
   "metadata": {},
   "outputs": [
    {
     "name": "stdout",
     "output_type": "stream",
     "text": [
      "Min: 2019-05-01 07:31:49\n",
      "MAx: 2019-05-31 22:58:18\n",
      "(4123, 31)\n"
     ]
    }
   ],
   "source": [
    "df = dataset[(dataset['created_at'] >= '2019-05-01') & (dataset['created_at'] < '2019-06-01')]\n",
    "print(\"Min:\", min(df['created_at']))\n",
    "print(\"MAx:\", max(df['created_at']))\n",
    "print(df.shape)"
   ]
  },
  {
   "cell_type": "code",
   "execution_count": 25,
   "id": "adapted-holly",
   "metadata": {},
   "outputs": [
    {
     "data": {
      "text/plain": [
       "2_server_token_search            3878\n",
       "4_server_follow_timeline_user     146\n",
       "3_server_token_user                66\n",
       "1_server_bogota                    33\n",
       "Name: dataset, dtype: int64"
      ]
     },
     "execution_count": 25,
     "metadata": {},
     "output_type": "execute_result"
    }
   ],
   "source": [
    "### Tweets por Dataset\n",
    "df['dataset'].value_counts()"
   ]
  },
  {
   "cell_type": "code",
   "execution_count": 26,
   "id": "hollow-mounting",
   "metadata": {},
   "outputs": [
    {
     "data": {
      "text/plain": [
       "BogotaTransito     3824\n",
       "RedapBogota          67\n",
       "WazeTrafficBOG       35\n",
       "SectorMovilidad      20\n",
       "CIVICOSBOG           13\n",
       "                   ... \n",
       "LaNubeNoticias        1\n",
       "YamiNova08            1\n",
       "Pachocubas            1\n",
       "pau06                 1\n",
       "mauro74417            1\n",
       "Name: user_name, Length: 123, dtype: int64"
      ]
     },
     "execution_count": 26,
     "metadata": {},
     "output_type": "execute_result"
    }
   ],
   "source": [
    "### #Tweets por username\n",
    "df['user_name'].value_counts()"
   ]
  },
  {
   "cell_type": "markdown",
   "id": "general-cleaning",
   "metadata": {},
   "source": [
    "# Junio 2019"
   ]
  },
  {
   "cell_type": "code",
   "execution_count": 27,
   "id": "sharing-refrigerator",
   "metadata": {},
   "outputs": [
    {
     "name": "stdout",
     "output_type": "stream",
     "text": [
      "Min: 2019-06-01 00:22:24\n",
      "MAx: 2019-06-30 21:20:43\n",
      "(5281, 31)\n"
     ]
    }
   ],
   "source": [
    "df = dataset[(dataset['created_at'] >= '2019-06-01') & (dataset['created_at'] < '2019-07-01')]\n",
    "print(\"Min:\", min(df['created_at']))\n",
    "print(\"MAx:\", max(df['created_at']))\n",
    "print(df.shape)"
   ]
  },
  {
   "cell_type": "code",
   "execution_count": 28,
   "id": "mature-transport",
   "metadata": {},
   "outputs": [
    {
     "data": {
      "text/plain": [
       "2_server_token_search            5038\n",
       "4_server_follow_timeline_user     135\n",
       "3_server_token_user                90\n",
       "1_server_bogota                    18\n",
       "Name: dataset, dtype: int64"
      ]
     },
     "execution_count": 28,
     "metadata": {},
     "output_type": "execute_result"
    }
   ],
   "source": [
    "### Tweets por Dataset\n",
    "df['dataset'].value_counts()"
   ]
  },
  {
   "cell_type": "code",
   "execution_count": 29,
   "id": "mediterranean-exclusion",
   "metadata": {},
   "outputs": [
    {
     "data": {
      "text/plain": [
       "BogotaTransito     5106\n",
       "RedapBogota          35\n",
       "WazeTrafficBOG       20\n",
       "HSBnoticias           7\n",
       "Citytv                5\n",
       "                   ... \n",
       "Alberto07861088       1\n",
       "asenred               1\n",
       "avelandiar            1\n",
       "julitroescovar        1\n",
       "paolalemusc           1\n",
       "Name: user_name, Length: 86, dtype: int64"
      ]
     },
     "execution_count": 29,
     "metadata": {},
     "output_type": "execute_result"
    }
   ],
   "source": [
    "### #Tweets por username\n",
    "df['user_name'].value_counts()"
   ]
  },
  {
   "cell_type": "markdown",
   "id": "liberal-chosen",
   "metadata": {},
   "source": [
    "# Julio 2019"
   ]
  },
  {
   "cell_type": "code",
   "execution_count": 30,
   "id": "subsequent-subscriber",
   "metadata": {},
   "outputs": [
    {
     "name": "stdout",
     "output_type": "stream",
     "text": [
      "Min: 2019-07-01 06:22:12\n",
      "MAx: 2019-07-31 18:52:45\n",
      "(6274, 31)\n"
     ]
    }
   ],
   "source": [
    "df = dataset[(dataset['created_at'] >= '2019-07-01') & (dataset['created_at'] < '2019-08-01')]\n",
    "print(\"Min:\", min(df['created_at']))\n",
    "print(\"MAx:\", max(df['created_at']))\n",
    "print(df.shape)"
   ]
  },
  {
   "cell_type": "code",
   "execution_count": 44,
   "id": "intellectual-pencil",
   "metadata": {},
   "outputs": [
    {
     "data": {
      "text/plain": [
       "2_server_token_search            6146\n",
       "4_server_follow_timeline_user    2376\n",
       "3_server_token_user               324\n",
       "1_server_bogota                   168\n",
       "Name: dataset, dtype: int64"
      ]
     },
     "execution_count": 44,
     "metadata": {},
     "output_type": "execute_result"
    }
   ],
   "source": [
    "### Tweets por Dataset\n",
    "df['dataset'].value_counts()"
   ]
  },
  {
   "cell_type": "code",
   "execution_count": 45,
   "id": "unlimited-sleeping",
   "metadata": {},
   "outputs": [
    {
     "data": {
      "text/plain": [
       "BogotaTransito     6354\n",
       "SectorMovilidad     435\n",
       "sebastdeporte       254\n",
       "BOGOTASINMIEDO      209\n",
       "AngelaR30481636     137\n",
       "                   ... \n",
       "giovanotti            1\n",
       "LOPEZsoyy             1\n",
       "alejitamaya84         1\n",
       "VivianaMachadoC       1\n",
       "ndelapava             1\n",
       "Name: user_name, Length: 879, dtype: int64"
      ]
     },
     "execution_count": 45,
     "metadata": {},
     "output_type": "execute_result"
    }
   ],
   "source": [
    "### #Tweets por username\n",
    "df['user_name'].value_counts()"
   ]
  },
  {
   "cell_type": "code",
   "execution_count": 46,
   "id": "ranking-investigator",
   "metadata": {},
   "outputs": [
    {
     "ename": "ValueError",
     "evalue": "min() arg is an empty sequence",
     "output_type": "error",
     "traceback": [
      "\u001b[0;31m---------------------------------------------------------------------------\u001b[0m",
      "\u001b[0;31mValueError\u001b[0m                                Traceback (most recent call last)",
      "\u001b[0;32m<ipython-input-46-a1c265345c7f>\u001b[0m in \u001b[0;36m<module>\u001b[0;34m\u001b[0m\n\u001b[1;32m      1\u001b[0m \u001b[0mdf\u001b[0m \u001b[0;34m=\u001b[0m \u001b[0mdataset\u001b[0m\u001b[0;34m[\u001b[0m\u001b[0;34m(\u001b[0m\u001b[0mdataset\u001b[0m\u001b[0;34m[\u001b[0m\u001b[0;34m'created_at'\u001b[0m\u001b[0;34m]\u001b[0m \u001b[0;34m>=\u001b[0m \u001b[0;34m'2019-08-01'\u001b[0m\u001b[0;34m)\u001b[0m \u001b[0;34m&\u001b[0m \u001b[0;34m(\u001b[0m\u001b[0mdataset\u001b[0m\u001b[0;34m[\u001b[0m\u001b[0;34m'created_at'\u001b[0m\u001b[0;34m]\u001b[0m \u001b[0;34m<\u001b[0m \u001b[0;34m'2019-09-01'\u001b[0m\u001b[0;34m)\u001b[0m\u001b[0;34m]\u001b[0m\u001b[0;34m\u001b[0m\u001b[0;34m\u001b[0m\u001b[0m\n\u001b[0;32m----> 2\u001b[0;31m \u001b[0mprint\u001b[0m\u001b[0;34m(\u001b[0m\u001b[0;34m\"Min:\"\u001b[0m\u001b[0;34m,\u001b[0m \u001b[0mmin\u001b[0m\u001b[0;34m(\u001b[0m\u001b[0mdf\u001b[0m\u001b[0;34m[\u001b[0m\u001b[0;34m'created_at'\u001b[0m\u001b[0;34m]\u001b[0m\u001b[0;34m)\u001b[0m\u001b[0;34m)\u001b[0m\u001b[0;34m\u001b[0m\u001b[0;34m\u001b[0m\u001b[0m\n\u001b[0m\u001b[1;32m      3\u001b[0m \u001b[0mprint\u001b[0m\u001b[0;34m(\u001b[0m\u001b[0;34m\"MAx:\"\u001b[0m\u001b[0;34m,\u001b[0m \u001b[0mmax\u001b[0m\u001b[0;34m(\u001b[0m\u001b[0mdf\u001b[0m\u001b[0;34m[\u001b[0m\u001b[0;34m'created_at'\u001b[0m\u001b[0;34m]\u001b[0m\u001b[0;34m)\u001b[0m\u001b[0;34m)\u001b[0m\u001b[0;34m\u001b[0m\u001b[0;34m\u001b[0m\u001b[0m\n\u001b[1;32m      4\u001b[0m \u001b[0mprint\u001b[0m\u001b[0;34m(\u001b[0m\u001b[0mdf\u001b[0m\u001b[0;34m.\u001b[0m\u001b[0mshape\u001b[0m\u001b[0;34m)\u001b[0m\u001b[0;34m\u001b[0m\u001b[0;34m\u001b[0m\u001b[0m\n",
      "\u001b[0;31mValueError\u001b[0m: min() arg is an empty sequence"
     ]
    }
   ],
   "source": [
    "df = dataset[(dataset['created_at'] >= '2019-08-01') & (dataset['created_at'] < '2019-09-01')]\n",
    "print(\"Min:\", min(df['created_at']))\n",
    "print(\"MAx:\", max(df['created_at']))\n",
    "print(df.shape)"
   ]
  }
 ],
 "metadata": {
  "kernelspec": {
   "display_name": "traffic",
   "language": "python",
   "name": "traffic"
  },
  "language_info": {
   "codemirror_mode": {
    "name": "ipython",
    "version": 3
   },
   "file_extension": ".py",
   "mimetype": "text/x-python",
   "name": "python",
   "nbconvert_exporter": "python",
   "pygments_lexer": "ipython3",
   "version": "3.8.5"
  }
 },
 "nbformat": 4,
 "nbformat_minor": 5
}
