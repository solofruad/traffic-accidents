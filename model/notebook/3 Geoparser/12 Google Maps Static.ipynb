{
 "cells": [
  {
   "cell_type": "markdown",
   "metadata": {},
   "source": [
    "# Maps Static API\n",
    "### By **Néstor Suat** in 2021\n",
    "\n",
    "**Descripción:** Tomando las coordenadas y graficando con gmplot\n",
    "\n",
    "**Input:**\n",
    "* TSV con tweets con location\n",
    "\n",
    "**Output:**\n",
    "* Web page\n",
    "\n",
    "***"
   ]
  },
  {
   "cell_type": "markdown",
   "metadata": {},
   "source": [
    "Enlace\n",
    "https://github.com/gmplot/gmplot/wiki/GoogleMapPlotter.marker"
   ]
  },
  {
   "cell_type": "markdown",
   "metadata": {},
   "source": [
    "### Importando librerías e Inicializando variables"
   ]
  },
  {
   "cell_type": "markdown",
   "metadata": {},
   "source": [
    "!pip install gmplot"
   ]
  },
  {
   "cell_type": "code",
   "execution_count": 1,
   "metadata": {},
   "outputs": [],
   "source": [
    "import gmplot\n",
    "\n",
    "from ast import literal_eval\n",
    "import sys\n",
    "\n",
    "import pandas as pd\n",
    "\n",
    "sys.path.insert(0, '../../')\n",
    "\n",
    "from classes.tweet2accident.enviroments import Global"
   ]
  },
  {
   "cell_type": "code",
   "execution_count": 4,
   "metadata": {},
   "outputs": [],
   "source": [
    "## Variables para importar modelos y demás\n",
    "#dir_ = \"../../data/v1/NER/\"\n",
    "dir_ = \"../../data/v1/NER/src/prueba_bad_location/\"\n",
    "\n",
    "#file = 'ner_dataset_geocoding.tsv' # Dataset\n",
    "#file = 'ner_dataset_test_ok.tsv' # Dataset\n",
    "#file = 'ner_dataset_test_bad_v2.tsv' # Dataset\n",
    "file = 'ner_dataset_test_bad_norm_geocoding.tsv' # Dataset\n",
    "\n",
    "api_key = Global()\n",
    "gmap = gmplot.GoogleMapPlotter(4.626383,-74.105074, 13, apikey=api_key.getMapsKey(), title=\"Geo Twitter\")"
   ]
  },
  {
   "cell_type": "code",
   "execution_count": 5,
   "metadata": {},
   "outputs": [
    {
     "name": "stdout",
     "output_type": "stream",
     "text": [
      "(13, 7)\n"
     ]
    },
    {
     "data": {
      "text/html": [
       "<div>\n",
       "<style scoped>\n",
       "    .dataframe tbody tr th:only-of-type {\n",
       "        vertical-align: middle;\n",
       "    }\n",
       "\n",
       "    .dataframe tbody tr th {\n",
       "        vertical-align: top;\n",
       "    }\n",
       "\n",
       "    .dataframe thead th {\n",
       "        text-align: right;\n",
       "    }\n",
       "</style>\n",
       "<table border=\"1\" class=\"dataframe\">\n",
       "  <thead>\n",
       "    <tr style=\"text-align: right;\">\n",
       "      <th></th>\n",
       "      <th>id_tweet</th>\n",
       "      <th>text</th>\n",
       "      <th>created_at</th>\n",
       "      <th>entities</th>\n",
       "      <th>location</th>\n",
       "      <th>address_normalization</th>\n",
       "      <th>gmap</th>\n",
       "    </tr>\n",
       "  </thead>\n",
       "  <tbody>\n",
       "    <tr>\n",
       "      <th>0</th>\n",
       "      <td>1058331896298520576</td>\n",
       "      <td>Un muerto y cuatro heridos en Fatal accidente ...</td>\n",
       "      <td>2018-11-02 7:16:01</td>\n",
       "      <td>[(avenida Boyacá con 71 sur, loc)]</td>\n",
       "      <td>avenida Boyacá con 71 sur</td>\n",
       "      <td>avenida boyaca con 71 sur</td>\n",
       "      <td>{'lat': 4.546440400000002, 'lng': -74.13702470...</td>\n",
       "    </tr>\n",
       "    <tr>\n",
       "      <th>1</th>\n",
       "      <td>1099689733956034561</td>\n",
       "      <td>@Citytv anoche ocurrió un accidente en frente ...</td>\n",
       "      <td>2019-02-24 10:17:18</td>\n",
       "      <td>[(universidad nacional, loc), (puente, loc), (...</td>\n",
       "      <td>universidad nacional puente crr 30 con calle 45</td>\n",
       "      <td>universidad nacional puente carrera 30 con cal...</td>\n",
       "      <td>{'lat': 4.6381938, 'lng': -74.08404639999998}</td>\n",
       "    </tr>\n",
       "    <tr>\n",
       "      <th>2</th>\n",
       "      <td>1125722482059763713</td>\n",
       "      <td>Av circunvalar con calle 53 accidente de dos m...</td>\n",
       "      <td>2019-05-07 6:22:09</td>\n",
       "      <td>[(Av circunvalar con calle 53, loc)]</td>\n",
       "      <td>Av circunvalar con calle 53</td>\n",
       "      <td>avenida circunvalar con avenida calle 53</td>\n",
       "      <td>{'lat': 4.675313, 'lng': -74.109147}</td>\n",
       "    </tr>\n",
       "    <tr>\n",
       "      <th>3</th>\n",
       "      <td>1131707280767033344</td>\n",
       "      <td>#MovilidadBogotá  #acueducto #Trancón  #Accide...</td>\n",
       "      <td>2019-05-23 18:43:36</td>\n",
       "      <td>[(3 horas, time), (la calera, loc), (circunval...</td>\n",
       "      <td>la calera circunvalar con 85</td>\n",
       "      <td>la calera avenida circunvalar con 85</td>\n",
       "      <td>{'lat': 4.6172124000000005, 'lng': -74.06149835}</td>\n",
       "    </tr>\n",
       "    <tr>\n",
       "      <th>4</th>\n",
       "      <td>1147555712521908225</td>\n",
       "      <td>@InviasOficial ,@numeral767 ,@BogotaseMueve . ...</td>\n",
       "      <td>2019-07-06 12:19:37</td>\n",
       "      <td>[(cll 80, loc), (Siberia, loc)]</td>\n",
       "      <td>cll 80 Siberia</td>\n",
       "      <td>avenida calle 80 siberia</td>\n",
       "      <td>{'lat': 4.73503645, 'lng': -74.13131915}</td>\n",
       "    </tr>\n",
       "  </tbody>\n",
       "</table>\n",
       "</div>"
      ],
      "text/plain": [
       "              id_tweet                                               text  \\\n",
       "0  1058331896298520576  Un muerto y cuatro heridos en Fatal accidente ...   \n",
       "1  1099689733956034561  @Citytv anoche ocurrió un accidente en frente ...   \n",
       "2  1125722482059763713  Av circunvalar con calle 53 accidente de dos m...   \n",
       "3  1131707280767033344  #MovilidadBogotá  #acueducto #Trancón  #Accide...   \n",
       "4  1147555712521908225  @InviasOficial ,@numeral767 ,@BogotaseMueve . ...   \n",
       "\n",
       "            created_at                                           entities  \\\n",
       "0   2018-11-02 7:16:01                 [(avenida Boyacá con 71 sur, loc)]   \n",
       "1  2019-02-24 10:17:18  [(universidad nacional, loc), (puente, loc), (...   \n",
       "2   2019-05-07 6:22:09               [(Av circunvalar con calle 53, loc)]   \n",
       "3  2019-05-23 18:43:36  [(3 horas, time), (la calera, loc), (circunval...   \n",
       "4  2019-07-06 12:19:37                    [(cll 80, loc), (Siberia, loc)]   \n",
       "\n",
       "                                          location  \\\n",
       "0                        avenida Boyacá con 71 sur   \n",
       "1  universidad nacional puente crr 30 con calle 45   \n",
       "2                      Av circunvalar con calle 53   \n",
       "3                     la calera circunvalar con 85   \n",
       "4                                   cll 80 Siberia   \n",
       "\n",
       "                               address_normalization  \\\n",
       "0                          avenida boyaca con 71 sur   \n",
       "1  universidad nacional puente carrera 30 con cal...   \n",
       "2           avenida circunvalar con avenida calle 53   \n",
       "3               la calera avenida circunvalar con 85   \n",
       "4                           avenida calle 80 siberia   \n",
       "\n",
       "                                                gmap  \n",
       "0  {'lat': 4.546440400000002, 'lng': -74.13702470...  \n",
       "1      {'lat': 4.6381938, 'lng': -74.08404639999998}  \n",
       "2               {'lat': 4.675313, 'lng': -74.109147}  \n",
       "3   {'lat': 4.6172124000000005, 'lng': -74.06149835}  \n",
       "4           {'lat': 4.73503645, 'lng': -74.13131915}  "
      ]
     },
     "execution_count": 5,
     "metadata": {},
     "output_type": "execute_result"
    }
   ],
   "source": [
    "## Importando Dataset\n",
    "dataset = pd.read_csv(dir_+file, delimiter = \"\\t\", quoting = 3)\n",
    "dataset.entities = dataset.entities.apply(literal_eval)\n",
    "#dataset = dataset[dataset['location'] != 'Ningún resultado encontrado']\n",
    "#dataset.location = dataset.location.apply(literal_eval)\n",
    "dataset = dataset[dataset['gmap'] != 'Ningún resultado encontrado']\n",
    "dataset.gmap = dataset.gmap.apply(literal_eval)\n",
    "del dataset['Unnamed: 0']\n",
    "print(dataset.shape)\n",
    "dataset.head(5)"
   ]
  },
  {
   "cell_type": "code",
   "execution_count": 6,
   "metadata": {},
   "outputs": [
    {
     "name": "stdout",
     "output_type": "stream",
     "text": [
      "<class 'pandas.core.frame.DataFrame'>\n",
      "Int64Index: 13 entries, 0 to 12\n",
      "Data columns (total 7 columns):\n",
      "id_tweet                 13 non-null int64\n",
      "text                     13 non-null object\n",
      "created_at               13 non-null object\n",
      "entities                 13 non-null object\n",
      "location                 13 non-null object\n",
      "address_normalization    13 non-null object\n",
      "gmap                     13 non-null object\n",
      "dtypes: int64(1), object(6)\n",
      "memory usage: 832.0+ bytes\n"
     ]
    }
   ],
   "source": [
    "dataset.info()"
   ]
  },
  {
   "cell_type": "code",
   "execution_count": 7,
   "metadata": {},
   "outputs": [
    {
     "data": {
      "text/plain": [
       "dict"
      ]
     },
     "execution_count": 7,
     "metadata": {},
     "output_type": "execute_result"
    }
   ],
   "source": [
    "#dataset['location']\n",
    "type(dataset['gmap'][0])"
   ]
  },
  {
   "cell_type": "code",
   "execution_count": 11,
   "metadata": {},
   "outputs": [],
   "source": [
    "def info_window_fn(row):\n",
    "    link = \"https://twitter.com/i/status/\"+str(row['id_tweet'])\n",
    "    info = \"<b>Tweet: </b>%s<br><b>Created at: </b>%s<br><b>Link: </b><a href='%s' target='_blank'>%s</a><br><b>Entities: </b>%s<br><b>Coordinates: </b>%s<br><b>Address: </b>%s\"%(\n",
    "        row['text'], \n",
    "        row['created_at'], \n",
    "        link,\n",
    "        link,\n",
    "        row['entities'], \n",
    "        #row['location']\n",
    "        row['gmap'],\n",
    "        row['address_normalization']\n",
    "    )\n",
    "    return info\n",
    "\n",
    "for i in range(len(dataset)):\n",
    "    info_window = info_window_fn(dataset.iloc[i])    \n",
    "    #gmap.marker(dataset.iloc[i]['location']['lat'], dataset.iloc[i]['location']['lng'], info_window=info_window)\n",
    "    gmap.marker(dataset.iloc[i]['gmap']['lat'], dataset.iloc[i]['gmap']['lng'], info_window=info_window)\n",
    "                                            \n",
    "gmap.draw(dir_+'ner_dataset_test_bad_norm_geocoding_maps.html')"
   ]
  },
  {
   "cell_type": "code",
   "execution_count": 9,
   "metadata": {},
   "outputs": [
    {
     "data": {
      "text/plain": [
       "id_tweet                                               1099689733956034561\n",
       "text                     @Citytv anoche ocurrió un accidente en frente ...\n",
       "created_at                                             2019-02-24 10:17:18\n",
       "entities                 [(universidad nacional, loc), (puente, loc), (...\n",
       "location                   universidad nacional puente crr 30 con calle 45\n",
       "address_normalization    universidad nacional puente carrera 30 con cal...\n",
       "gmap                         {'lat': 4.6381938, 'lng': -74.08404639999998}\n",
       "Name: 1, dtype: object"
      ]
     },
     "execution_count": 9,
     "metadata": {},
     "output_type": "execute_result"
    }
   ],
   "source": [
    "dataset.iloc[1]"
   ]
  },
  {
   "cell_type": "code",
   "execution_count": null,
   "metadata": {},
   "outputs": [],
   "source": []
  }
 ],
 "metadata": {
  "kernelspec": {
   "display_name": "traffic",
   "language": "python",
   "name": "traffic"
  },
  "language_info": {
   "codemirror_mode": {
    "name": "ipython",
    "version": 3
   },
   "file_extension": ".py",
   "mimetype": "text/x-python",
   "name": "python",
   "nbconvert_exporter": "python",
   "pygments_lexer": "ipython3",
   "version": "3.8.5"
  }
 },
 "nbformat": 4,
 "nbformat_minor": 4
}
