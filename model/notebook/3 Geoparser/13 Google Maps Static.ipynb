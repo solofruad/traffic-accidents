{
 "cells": [
  {
   "cell_type": "markdown",
   "metadata": {},
   "source": [
    "# Maps Static API\n",
    "### By **Néstor Suat** in 2021\n",
    "\n",
    "**Descripción:** Tomando las coordenadas y graficando con gmplot\n",
    "\n",
    "**Input:**\n",
    "* TSV con tweets con location\n",
    "\n",
    "**Output:**\n",
    "* Web page\n",
    "\n",
    "***"
   ]
  },
  {
   "cell_type": "markdown",
   "metadata": {},
   "source": [
    "Enlace\n",
    "https://github.com/gmplot/gmplot/wiki/GoogleMapPlotter.marker"
   ]
  },
  {
   "cell_type": "markdown",
   "metadata": {},
   "source": [
    "### Importando librerías e Inicializando variables"
   ]
  },
  {
   "cell_type": "markdown",
   "metadata": {},
   "source": [
    "!pip install gmplot"
   ]
  },
  {
   "cell_type": "code",
   "execution_count": 1,
   "metadata": {},
   "outputs": [],
   "source": [
    "import gmplot\n",
    "\n",
    "from ast import literal_eval\n",
    "import sys\n",
    "\n",
    "import pandas as pd\n",
    "\n",
    "sys.path.insert(0, '../../')\n",
    "\n",
    "from classes.tweet2accident.enviroments import Global"
   ]
  },
  {
   "cell_type": "code",
   "execution_count": 2,
   "metadata": {},
   "outputs": [],
   "source": [
    "## Variables para importar modelos y demás\n",
    "dir_ = \"../../data/v1/NER/\"\n",
    "#dir_ = \"../../data/v1/NER/src/prueba_bad_location/\"\n",
    "#dir_ = \"../../data/v1/NER/src/prueba_ok_location/\"\n",
    "\n",
    "file = 'ner_dataset_norm_geocoding.tsv' # Dataset\n",
    "#file = 'ner_dataset_test_ok_norm_geocoding.tsv' # Dataset\n",
    "#file = 'ner_dataset_test_bad_norm_geocoding.tsv' # Dataset\n",
    "\n",
    "api_key = Global()\n",
    "gmap = gmplot.GoogleMapPlotter(4.626383,-74.105074, 13, apikey=api_key.getMapsKey(), title=\"Geo Twitter\")"
   ]
  },
  {
   "cell_type": "code",
   "execution_count": 3,
   "metadata": {},
   "outputs": [
    {
     "name": "stdout",
     "output_type": "stream",
     "text": [
      "(672, 11)\n"
     ]
    },
    {
     "data": {
      "text/html": [
       "<div>\n",
       "<style scoped>\n",
       "    .dataframe tbody tr th:only-of-type {\n",
       "        vertical-align: middle;\n",
       "    }\n",
       "\n",
       "    .dataframe tbody tr th {\n",
       "        vertical-align: top;\n",
       "    }\n",
       "\n",
       "    .dataframe thead th {\n",
       "        text-align: right;\n",
       "    }\n",
       "</style>\n",
       "<table border=\"1\" class=\"dataframe\">\n",
       "  <thead>\n",
       "    <tr style=\"text-align: right;\">\n",
       "      <th></th>\n",
       "      <th>id_tweet</th>\n",
       "      <th>text</th>\n",
       "      <th>created_at</th>\n",
       "      <th>user_name</th>\n",
       "      <th>user_location</th>\n",
       "      <th>source</th>\n",
       "      <th>clean</th>\n",
       "      <th>entities</th>\n",
       "      <th>location</th>\n",
       "      <th>address_normalization</th>\n",
       "      <th>gmap</th>\n",
       "    </tr>\n",
       "  </thead>\n",
       "  <tbody>\n",
       "    <tr>\n",
       "      <th>0</th>\n",
       "      <td>1047809516937596928</td>\n",
       "      <td>Rt *Accidente* Se presenta volcamiento de vehí...</td>\n",
       "      <td>2018-10-04 6:23:50</td>\n",
       "      <td>camilogallardoa</td>\n",
       "      <td>NaN</td>\n",
       "      <td>Search BOGOTA</td>\n",
       "      <td>Rt *Accidente* Se presenta volcamiento de vehí...</td>\n",
       "      <td>[(carrera 68 con la Av Esperanza, loc)]</td>\n",
       "      <td>carrera 68 con la Av Esperanza</td>\n",
       "      <td>BOGOTA AVENIDA CARRERA 68 LA AVENIDA DE LA ESP...</td>\n",
       "      <td>{'lat': 4.634422233333333, 'lng': -74.09608436...</td>\n",
       "    </tr>\n",
       "    <tr>\n",
       "      <th>1</th>\n",
       "      <td>1047809727118430210</td>\n",
       "      <td>Rt Av. Las villas norte al sur llegando a la 1...</td>\n",
       "      <td>2018-10-04 6:24:40</td>\n",
       "      <td>camilogallardoa</td>\n",
       "      <td>NaN</td>\n",
       "      <td>Search BOGOTA</td>\n",
       "      <td>Rt Av. Las villas norte al sur llegando a la 1...</td>\n",
       "      <td>[(Av. Las villas, loc), (la 127, loc), (buleva...</td>\n",
       "      <td>Av. Las villas la 127 bulevar Niza</td>\n",
       "      <td>BOGOTA AVENIDA LAS VILLAS LA 127 BULEVAR NIZA</td>\n",
       "      <td>{'lat': 4.7115524, 'lng': -74.07254429999998}</td>\n",
       "    </tr>\n",
       "    <tr>\n",
       "      <th>2</th>\n",
       "      <td>1047843812977065985</td>\n",
       "      <td>Para peor tristeza, muerto en la Av. Cra. 30, ...</td>\n",
       "      <td>2018-10-04 8:40:07</td>\n",
       "      <td>capdiaz</td>\n",
       "      <td>Bogotá, Colombia</td>\n",
       "      <td>Search BOGOTA</td>\n",
       "      <td>Para peor tristeza, muerto en la Av. Cra. 30, ...</td>\n",
       "      <td>[(Av. Cra . 30, loc), (Calle 67, loc)]</td>\n",
       "      <td>Av. Cra . 30 Calle 67</td>\n",
       "      <td>BOGOTA AVENIDA CARRERA 30 CALLE 67</td>\n",
       "      <td>{'lat': 4.660691244444443, 'lng': -74.07480312...</td>\n",
       "    </tr>\n",
       "    <tr>\n",
       "      <th>3</th>\n",
       "      <td>1047986702982234112</td>\n",
       "      <td>Rt Incidente vial entre taxi y bus en la carre...</td>\n",
       "      <td>2018-10-04 18:07:55</td>\n",
       "      <td>camilogallardoa</td>\n",
       "      <td>NaN</td>\n",
       "      <td>Search BOGOTA</td>\n",
       "      <td>Rt Incidente vial entre taxi y bus en la carre...</td>\n",
       "      <td>[(carrera 10 con calle 27 sur, loc)]</td>\n",
       "      <td>carrera 10 con calle 27 sur</td>\n",
       "      <td>BOGOTA CARRERA 10 CALLE 27 SUR</td>\n",
       "      <td>{'lat': 4.569560044444444, 'lng': -74.09424587...</td>\n",
       "    </tr>\n",
       "    <tr>\n",
       "      <th>4</th>\n",
       "      <td>1048014671943553024</td>\n",
       "      <td>Rt Se solicita tránsito choque en Av Américas ...</td>\n",
       "      <td>2018-10-04 19:59:03</td>\n",
       "      <td>camilogallardoa</td>\n",
       "      <td>NaN</td>\n",
       "      <td>Search BOGOTA</td>\n",
       "      <td>Rt Se solicita tránsito choque en Av Américas ...</td>\n",
       "      <td>[(Av Américas, loc), (puente Av boyaca, loc), ...</td>\n",
       "      <td>Av Américas puente Av boyaca Av boyaca</td>\n",
       "      <td>BOGOTA AVENIDA DE LAS AMERICAS PUENTE AVENIDA ...</td>\n",
       "      <td>{'lat': 4.63044, 'lng': -74.1378}</td>\n",
       "    </tr>\n",
       "  </tbody>\n",
       "</table>\n",
       "</div>"
      ],
      "text/plain": [
       "              id_tweet                                               text  \\\n",
       "0  1047809516937596928  Rt *Accidente* Se presenta volcamiento de vehí...   \n",
       "1  1047809727118430210  Rt Av. Las villas norte al sur llegando a la 1...   \n",
       "2  1047843812977065985  Para peor tristeza, muerto en la Av. Cra. 30, ...   \n",
       "3  1047986702982234112  Rt Incidente vial entre taxi y bus en la carre...   \n",
       "4  1048014671943553024  Rt Se solicita tránsito choque en Av Américas ...   \n",
       "\n",
       "            created_at        user_name     user_location         source  \\\n",
       "0   2018-10-04 6:23:50  camilogallardoa               NaN  Search BOGOTA   \n",
       "1   2018-10-04 6:24:40  camilogallardoa               NaN  Search BOGOTA   \n",
       "2   2018-10-04 8:40:07          capdiaz  Bogotá, Colombia  Search BOGOTA   \n",
       "3  2018-10-04 18:07:55  camilogallardoa               NaN  Search BOGOTA   \n",
       "4  2018-10-04 19:59:03  camilogallardoa               NaN  Search BOGOTA   \n",
       "\n",
       "                                               clean  \\\n",
       "0  Rt *Accidente* Se presenta volcamiento de vehí...   \n",
       "1  Rt Av. Las villas norte al sur llegando a la 1...   \n",
       "2  Para peor tristeza, muerto en la Av. Cra. 30, ...   \n",
       "3  Rt Incidente vial entre taxi y bus en la carre...   \n",
       "4  Rt Se solicita tránsito choque en Av Américas ...   \n",
       "\n",
       "                                            entities  \\\n",
       "0            [(carrera 68 con la Av Esperanza, loc)]   \n",
       "1  [(Av. Las villas, loc), (la 127, loc), (buleva...   \n",
       "2             [(Av. Cra . 30, loc), (Calle 67, loc)]   \n",
       "3               [(carrera 10 con calle 27 sur, loc)]   \n",
       "4  [(Av Américas, loc), (puente Av boyaca, loc), ...   \n",
       "\n",
       "                                 location  \\\n",
       "0          carrera 68 con la Av Esperanza   \n",
       "1      Av. Las villas la 127 bulevar Niza   \n",
       "2                   Av. Cra . 30 Calle 67   \n",
       "3             carrera 10 con calle 27 sur   \n",
       "4  Av Américas puente Av boyaca Av boyaca   \n",
       "\n",
       "                               address_normalization  \\\n",
       "0  BOGOTA AVENIDA CARRERA 68 LA AVENIDA DE LA ESP...   \n",
       "1      BOGOTA AVENIDA LAS VILLAS LA 127 BULEVAR NIZA   \n",
       "2                 BOGOTA AVENIDA CARRERA 30 CALLE 67   \n",
       "3                     BOGOTA CARRERA 10 CALLE 27 SUR   \n",
       "4  BOGOTA AVENIDA DE LAS AMERICAS PUENTE AVENIDA ...   \n",
       "\n",
       "                                                gmap  \n",
       "0  {'lat': 4.634422233333333, 'lng': -74.09608436...  \n",
       "1      {'lat': 4.7115524, 'lng': -74.07254429999998}  \n",
       "2  {'lat': 4.660691244444443, 'lng': -74.07480312...  \n",
       "3  {'lat': 4.569560044444444, 'lng': -74.09424587...  \n",
       "4                  {'lat': 4.63044, 'lng': -74.1378}  "
      ]
     },
     "execution_count": 3,
     "metadata": {},
     "output_type": "execute_result"
    }
   ],
   "source": [
    "## Importando Dataset\n",
    "dataset = pd.read_csv(dir_+file, delimiter = \"\\t\", quoting = 3)\n",
    "dataset.entities = dataset.entities.apply(literal_eval)\n",
    "#dataset = dataset[dataset['location'] != 'Ningún resultado encontrado']\n",
    "#dataset.location = dataset.location.apply(literal_eval)\n",
    "dataset = dataset[dataset['gmap'] != 'Ningún resultado encontrado']\n",
    "dataset.gmap = dataset.gmap.apply(literal_eval)\n",
    "del dataset['Unnamed: 0']\n",
    "print(dataset.shape)\n",
    "dataset.head(5)"
   ]
  },
  {
   "cell_type": "code",
   "execution_count": 4,
   "metadata": {},
   "outputs": [
    {
     "name": "stdout",
     "output_type": "stream",
     "text": [
      "<class 'pandas.core.frame.DataFrame'>\n",
      "Int64Index: 672 entries, 0 to 671\n",
      "Data columns (total 11 columns):\n",
      "id_tweet                 672 non-null int64\n",
      "text                     672 non-null object\n",
      "created_at               672 non-null object\n",
      "user_name                672 non-null object\n",
      "user_location            596 non-null object\n",
      "source                   672 non-null object\n",
      "clean                    672 non-null object\n",
      "entities                 672 non-null object\n",
      "location                 672 non-null object\n",
      "address_normalization    672 non-null object\n",
      "gmap                     672 non-null object\n",
      "dtypes: int64(1), object(10)\n",
      "memory usage: 63.0+ KB\n"
     ]
    }
   ],
   "source": [
    "dataset.info()"
   ]
  },
  {
   "cell_type": "code",
   "execution_count": 5,
   "metadata": {},
   "outputs": [
    {
     "data": {
      "text/plain": [
       "dict"
      ]
     },
     "execution_count": 5,
     "metadata": {},
     "output_type": "execute_result"
    }
   ],
   "source": [
    "#dataset['location']\n",
    "type(dataset['gmap'][0])"
   ]
  },
  {
   "cell_type": "code",
   "execution_count": 6,
   "metadata": {},
   "outputs": [],
   "source": [
    "def info_window_fn(row):\n",
    "    link = \"https://twitter.com/i/status/\"+str(row['id_tweet'])\n",
    "    info = \"<b>Tweet: </b>%s<br><b>Created at: </b>%s<br><b>Link: </b><a href='%s' target='_blank'>%s</a><br><b>Entities: </b>%s<br><b>Coordinates: </b>%s<br><b>Address: </b>%s\"%(\n",
    "        row['text'], \n",
    "        row['created_at'], \n",
    "        link,\n",
    "        link,\n",
    "        row['entities'], \n",
    "        #row['location']\n",
    "        row['gmap'],\n",
    "        row['address_normalization']\n",
    "    )\n",
    "    return info\n",
    "\n",
    "for i in range(len(dataset)):\n",
    "    info_window = info_window_fn(dataset.iloc[i])    \n",
    "    #gmap.marker(dataset.iloc[i]['location']['lat'], dataset.iloc[i]['location']['lng'], info_window=info_window)\n",
    "    gmap.marker(dataset.iloc[i]['gmap']['lat'], dataset.iloc[i]['gmap']['lng'], info_window=info_window)\n",
    "                                            \n",
    "gmap.draw(dir_+'ner_dataset_norm_geocoding_maps.html')"
   ]
  },
  {
   "cell_type": "code",
   "execution_count": 9,
   "metadata": {},
   "outputs": [
    {
     "data": {
      "text/plain": [
       "id_tweet                                               1099689733956034561\n",
       "text                     @Citytv anoche ocurrió un accidente en frente ...\n",
       "created_at                                             2019-02-24 10:17:18\n",
       "entities                 [(universidad nacional, loc), (puente, loc), (...\n",
       "location                   universidad nacional puente crr 30 con calle 45\n",
       "address_normalization    universidad nacional puente carrera 30 con cal...\n",
       "gmap                         {'lat': 4.6381938, 'lng': -74.08404639999998}\n",
       "Name: 1, dtype: object"
      ]
     },
     "execution_count": 9,
     "metadata": {},
     "output_type": "execute_result"
    }
   ],
   "source": [
    "dataset.iloc[1]"
   ]
  },
  {
   "cell_type": "code",
   "execution_count": null,
   "metadata": {},
   "outputs": [],
   "source": []
  }
 ],
 "metadata": {
  "kernelspec": {
   "display_name": "traffic",
   "language": "python",
   "name": "traffic"
  },
  "language_info": {
   "codemirror_mode": {
    "name": "ipython",
    "version": 3
   },
   "file_extension": ".py",
   "mimetype": "text/x-python",
   "name": "python",
   "nbconvert_exporter": "python",
   "pygments_lexer": "ipython3",
   "version": "3.8.5"
  }
 },
 "nbformat": 4,
 "nbformat_minor": 4
}
