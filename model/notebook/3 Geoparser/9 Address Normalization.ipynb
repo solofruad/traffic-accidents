{
 "cells": [
  {
   "cell_type": "markdown",
   "metadata": {},
   "source": [
    "# Address Normalization\n",
    "### By **Néstor Suat** in 2021\n",
    "\n",
    "**Descripción:** Normalización de direcciones usando librería en C `libpostal`\n",
    "\n",
    "Fuente: https://github.com/openvenues/libpostal"
   ]
  },
  {
   "cell_type": "code",
   "execution_count": 31,
   "metadata": {},
   "outputs": [],
   "source": [
    "from postal.expand import expand_address\n",
    "import pandas as pd\n",
    "import re"
   ]
  },
  {
   "cell_type": "code",
   "execution_count": 2,
   "metadata": {},
   "outputs": [],
   "source": [
    "## Variables para importar modelos y demás\n",
    "dir_ = \"../../data/v1/NER/\"\n",
    "\n",
    "file = 'tweets_location.tsv' # Dataset\n",
    "\n",
    "## Importando Dataset\n",
    "dataset = pd.read_csv(dir_+file, delimiter = \"\\t\", quoting = 3)"
   ]
  },
  {
   "cell_type": "code",
   "execution_count": 36,
   "metadata": {},
   "outputs": [],
   "source": [
    "locations = []\n",
    "for i in range(len(dataset)):    \n",
    "    loc = []\n",
    "    text = dataset.iloc[i]['location']\n",
    "    loc.append(text)\n",
    "    expansions = expand_address(text, \n",
    "                                roman_numerals=False, \n",
    "                                split_alpha_from_numeric=True, \n",
    "                                expand_numex=False,\n",
    "                                languages=[\"es\"])\n",
    "    \n",
    "    expansions = re.sub(r'\\b(\\w+)( \\1\\b)+', r'\\1', expansions[-1])\n",
    "    loc = loc + [expansions]\n",
    "    locations.append(loc)"
   ]
  },
  {
   "cell_type": "code",
   "execution_count": 37,
   "metadata": {},
   "outputs": [
    {
     "data": {
      "text/html": [
       "<div>\n",
       "<style scoped>\n",
       "    .dataframe tbody tr th:only-of-type {\n",
       "        vertical-align: middle;\n",
       "    }\n",
       "\n",
       "    .dataframe tbody tr th {\n",
       "        vertical-align: top;\n",
       "    }\n",
       "\n",
       "    .dataframe thead th {\n",
       "        text-align: right;\n",
       "    }\n",
       "</style>\n",
       "<table border=\"1\" class=\"dataframe\">\n",
       "  <thead>\n",
       "    <tr style=\"text-align: right;\">\n",
       "      <th></th>\n",
       "      <th>original</th>\n",
       "      <th>total</th>\n",
       "    </tr>\n",
       "  </thead>\n",
       "  <tbody>\n",
       "    <tr>\n",
       "      <th>0</th>\n",
       "      <td>Avenida Primero de Mayo sena carrera 30</td>\n",
       "      <td>avenida primero de mayo sena avenida carrera 30</td>\n",
       "    </tr>\n",
       "    <tr>\n",
       "      <th>1</th>\n",
       "      <td>carrera 68 con la Av Esperanza</td>\n",
       "      <td>avenida carrera 68 con la avenida de la esperanza</td>\n",
       "    </tr>\n",
       "    <tr>\n",
       "      <th>2</th>\n",
       "      <td>Av. Las villas la 127 bulevar Niza</td>\n",
       "      <td>avenida las villas la 127 bulevar niza</td>\n",
       "    </tr>\n",
       "    <tr>\n",
       "      <th>3</th>\n",
       "      <td>Av. NQS con calle 67</td>\n",
       "      <td>avenida nqs con calle 67</td>\n",
       "    </tr>\n",
       "    <tr>\n",
       "      <th>4</th>\n",
       "      <td>Av. Cra . 30 Calle 67</td>\n",
       "      <td>avenida carrera 30 calle 67</td>\n",
       "    </tr>\n",
       "    <tr>\n",
       "      <th>...</th>\n",
       "      <td>...</td>\n",
       "      <td>...</td>\n",
       "    </tr>\n",
       "    <tr>\n",
       "      <th>1331</th>\n",
       "      <td>Cra 7 calle 134</td>\n",
       "      <td>avenida carrera septima calle 134</td>\n",
       "    </tr>\n",
       "    <tr>\n",
       "      <th>1332</th>\n",
       "      <td>Cra 7 calle 140</td>\n",
       "      <td>avenida carrera septima calle 140</td>\n",
       "    </tr>\n",
       "    <tr>\n",
       "      <th>1333</th>\n",
       "      <td>CRA 80 X CL 45 SUR</td>\n",
       "      <td>avenida carrera 80 con avenida calle 45 sur</td>\n",
       "    </tr>\n",
       "    <tr>\n",
       "      <th>1334</th>\n",
       "      <td>Carrera 91 calle 95</td>\n",
       "      <td>avenida carrera 91 calle 95</td>\n",
       "    </tr>\n",
       "    <tr>\n",
       "      <th>1335</th>\n",
       "      <td>Carrera 9a con 135 C</td>\n",
       "      <td>avenida carrera 9 con 135 c</td>\n",
       "    </tr>\n",
       "  </tbody>\n",
       "</table>\n",
       "<p>1336 rows × 2 columns</p>\n",
       "</div>"
      ],
      "text/plain": [
       "                                     original  \\\n",
       "0     Avenida Primero de Mayo sena carrera 30   \n",
       "1              carrera 68 con la Av Esperanza   \n",
       "2          Av. Las villas la 127 bulevar Niza   \n",
       "3                        Av. NQS con calle 67   \n",
       "4                       Av. Cra . 30 Calle 67   \n",
       "...                                       ...   \n",
       "1331                          Cra 7 calle 134   \n",
       "1332                          Cra 7 calle 140   \n",
       "1333                       CRA 80 X CL 45 SUR   \n",
       "1334                      Carrera 91 calle 95   \n",
       "1335                     Carrera 9a con 135 C   \n",
       "\n",
       "                                                  total  \n",
       "0       avenida primero de mayo sena avenida carrera 30  \n",
       "1     avenida carrera 68 con la avenida de la esperanza  \n",
       "2                avenida las villas la 127 bulevar niza  \n",
       "3                              avenida nqs con calle 67  \n",
       "4                           avenida carrera 30 calle 67  \n",
       "...                                                 ...  \n",
       "1331                  avenida carrera septima calle 134  \n",
       "1332                  avenida carrera septima calle 140  \n",
       "1333        avenida carrera 80 con avenida calle 45 sur  \n",
       "1334                        avenida carrera 91 calle 95  \n",
       "1335                        avenida carrera 9 con 135 c  \n",
       "\n",
       "[1336 rows x 2 columns]"
      ]
     },
     "execution_count": 37,
     "metadata": {},
     "output_type": "execute_result"
    }
   ],
   "source": [
    "df = pd.DataFrame(locations)\n",
    "df.rename(columns={0:'original',1:'total'}, inplace=True)\n",
    "df"
   ]
  },
  {
   "cell_type": "code",
   "execution_count": 38,
   "metadata": {
    "tags": []
   },
   "outputs": [],
   "source": [
    "df.to_csv(dir_+\"tweets_location_libpostal_v3.tsv\",sep='\\t', index=False)"
   ]
  },
  {
   "cell_type": "markdown",
   "metadata": {},
   "source": [
    "---"
   ]
  },
  {
   "cell_type": "raw",
   "metadata": {},
   "source": [
    "locations = []\n",
    "for i in range(len(dataset)):    \n",
    "    loc = []\n",
    "    text = dataset.iloc[i]['location']\n",
    "    loc.append(text)\n",
    "    expansions = expand_address(text, \n",
    "                                roman_numerals=False, \n",
    "                                split_alpha_from_numeric=True, \n",
    "                                expand_numex=False,\n",
    "                                languages=[\"es\"])\n",
    "    \n",
    "    loc = loc + [len(expansions)] + expansions\n",
    "    locations.append(loc)"
   ]
  },
  {
   "cell_type": "raw",
   "metadata": {},
   "source": [
    "from postal.expand import expand_address\n",
    "t = \"Av. 1ro de Mayo puente de la Av. 68\"\n",
    "res = expand_address(t, \n",
    "    roman_numerals=False, \n",
    "    split_alpha_from_numeric=True, \n",
    "    expand_numex=False,\n",
    "    languages=[\"es\"])[-1]\n",
    "print(res)\n",
    "re_output = re.sub(r'\\b(\\w+)( \\1\\b)+', r'\\1', res)\n",
    "print(re_output)"
   ]
  },
  {
   "cell_type": "raw",
   "metadata": {
    "tags": []
   },
   "source": [
    "import re\n",
    "sentence = 'Av. 1ro de Mayo puente de la Av. 68'\n",
    "\n",
    "# remove duplicates\n",
    "re_output = re.sub(r'\\b(\\w+)( \\1\\b)+', r'\\1', sentence)\n",
    "print('No duplicates:', re_output)"
   ]
  },
  {
   "cell_type": "code",
   "execution_count": null,
   "metadata": {},
   "outputs": [],
   "source": []
  }
 ],
 "metadata": {
  "kernelspec": {
   "display_name": "traffic",
   "language": "python",
   "name": "traffic"
  },
  "language_info": {
   "codemirror_mode": {
    "name": "ipython",
    "version": 3
   },
   "file_extension": ".py",
   "mimetype": "text/x-python",
   "name": "python",
   "nbconvert_exporter": "python",
   "pygments_lexer": "ipython3",
   "version": "3.8.5"
  }
 },
 "nbformat": 4,
 "nbformat_minor": 4
}
