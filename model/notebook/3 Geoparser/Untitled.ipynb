{
 "cells": [
  {
   "cell_type": "code",
   "execution_count": 39,
   "metadata": {},
   "outputs": [
    {
     "name": "stderr",
     "output_type": "stream",
     "text": [
      "/home/hat/anaconda3/lib/python3.7/site-packages/ipykernel_launcher.py:43: SettingWithCopyWarning: \n",
      "A value is trying to be set on a copy of a slice from a DataFrame\n",
      "\n",
      "See the caveats in the documentation: http://pandas.pydata.org/pandas-docs/stable/user_guide/indexing.html#returning-a-view-versus-a-copy\n"
     ]
    },
    {
     "ename": "TypeError",
     "evalue": "string indices must be integers",
     "output_type": "error",
     "traceback": [
      "\u001b[0;31m---------------------------------------------------------------------------\u001b[0m",
      "\u001b[0;31mTypeError\u001b[0m                                 Traceback (most recent call last)",
      "\u001b[0;32m<ipython-input-39-6d8f0d7ac443>\u001b[0m in \u001b[0;36m<module>\u001b[0;34m\u001b[0m\n\u001b[1;32m     44\u001b[0m         \u001b[0minfo_window\u001b[0m \u001b[0;34m=\u001b[0m \u001b[0minfo_window_fn\u001b[0m\u001b[0;34m(\u001b[0m\u001b[0mdataset\u001b[0m\u001b[0;34m.\u001b[0m\u001b[0miloc\u001b[0m\u001b[0;34m[\u001b[0m\u001b[0mi\u001b[0m\u001b[0;34m]\u001b[0m\u001b[0;34m)\u001b[0m\u001b[0;34m\u001b[0m\u001b[0;34m\u001b[0m\u001b[0m\n\u001b[1;32m     45\u001b[0m         \u001b[0;31m#gmap.marker(dataset.iloc[i]['location']['lat'], dataset.iloc[i]['location']['lng'], info_window=info_window)\u001b[0m\u001b[0;34m\u001b[0m\u001b[0;34m\u001b[0m\u001b[0;34m\u001b[0m\u001b[0m\n\u001b[0;32m---> 46\u001b[0;31m         \u001b[0mgmap\u001b[0m\u001b[0;34m.\u001b[0m\u001b[0mmarker\u001b[0m\u001b[0;34m(\u001b[0m\u001b[0mdataset\u001b[0m\u001b[0;34m.\u001b[0m\u001b[0miloc\u001b[0m\u001b[0;34m[\u001b[0m\u001b[0mi\u001b[0m\u001b[0;34m]\u001b[0m\u001b[0;34m[\u001b[0m\u001b[0;34m'gmap'\u001b[0m\u001b[0;34m]\u001b[0m\u001b[0;34m[\u001b[0m\u001b[0;34m'lat'\u001b[0m\u001b[0;34m]\u001b[0m\u001b[0;34m,\u001b[0m \u001b[0mdataset\u001b[0m\u001b[0;34m.\u001b[0m\u001b[0miloc\u001b[0m\u001b[0;34m[\u001b[0m\u001b[0mi\u001b[0m\u001b[0;34m]\u001b[0m\u001b[0;34m[\u001b[0m\u001b[0;34m'gmap'\u001b[0m\u001b[0;34m]\u001b[0m\u001b[0;34m[\u001b[0m\u001b[0;34m'lng'\u001b[0m\u001b[0;34m]\u001b[0m\u001b[0;34m,\u001b[0m \u001b[0minfo_window\u001b[0m\u001b[0;34m=\u001b[0m\u001b[0minfo_window\u001b[0m\u001b[0;34m,\u001b[0m \u001b[0mcolor\u001b[0m\u001b[0;34m=\u001b[0m\u001b[0;34m'green'\u001b[0m\u001b[0;34m,\u001b[0m \u001b[0mlabel\u001b[0m\u001b[0;34m=\u001b[0m\u001b[0mi\u001b[0m\u001b[0;34m)\u001b[0m\u001b[0;34m\u001b[0m\u001b[0;34m\u001b[0m\u001b[0m\n\u001b[0m\u001b[1;32m     47\u001b[0m \u001b[0;34m\u001b[0m\u001b[0m\n",
      "\u001b[0;31mTypeError\u001b[0m: string indices must be integers"
     ]
    }
   ],
   "source": [
    "import gmplot\n",
    "\n",
    "from ast import literal_eval\n",
    "import sys\n",
    "\n",
    "import pandas as pd\n",
    "\n",
    "sys.path.insert(0, '../../')\n",
    "\n",
    "from classes.tweet2accident.enviroments import Global\n",
    "\n",
    "## Variables para importar modelos y demás\n",
    "dir_ = \"../../data/v1/NER/\"\n",
    "\n",
    "#file = 'ner_dataset_geocoding.tsv' # Dataset\n",
    "#file = 'ner_dataset_test_ok.tsv' # Dataset\n",
    "file = 'ner_dataset_test_bad_camilo.tsv' # Dataset\n",
    "\n",
    "api_key = Global()\n",
    "gmap = gmplot.GoogleMapPlotter(4.626383,-74.105074, 13, apikey=api_key.getMapsKey(), title=\"Geo Twitter\")\n",
    "\n",
    "dataset = pd.read_csv(dir_+file, delimiter = \"\\t\", quoting = 3)\n",
    "dataset.entities = dataset.entities.apply(literal_eval)\n",
    "#dataset = dataset[dataset['gmap'] != 'Ningún resultado encontrado']\n",
    "#dataset.gmap = dataset.gmap.apply(literal_eval)\n",
    "del dataset['Unnamed: 0']\n",
    "\n",
    "def info_window_fn(row):\n",
    "    link = \"https://twitter.com/i/status/\"+str(row['id_tweet'])\n",
    "    info = \"<b>Tweet: </b>%s<br><b>Created at: </b>%s<br><b>Link: </b><a href='%s' target='_blank'>%s</a><br><b>Entities: </b>%s<br><b>Coordinates: </b>%s\"%(\n",
    "        row['text'], \n",
    "        row['created_at'], \n",
    "        link,\n",
    "        link,\n",
    "        row['entities'], \n",
    "        #row['location']\n",
    "        row['gmap']\n",
    "    )\n",
    "    return info\n",
    "\n",
    "for i in range(len(dataset)):\n",
    "    if dataset.iloc[i]['gmap'] != \"{'lat':, 'lng': }\":\n",
    "        dataset.iloc[i]['gmap'] = literal_eval(dataset.iloc[i]['gmap'])\n",
    "        info_window = info_window_fn(dataset.iloc[i])    \n",
    "        #gmap.marker(dataset.iloc[i]['location']['lat'], dataset.iloc[i]['location']['lng'], info_window=info_window)\n",
    "        gmap.marker(dataset.iloc[i]['gmap']['lat'], dataset.iloc[i]['gmap']['lng'], info_window=info_window, color='green', label=i)\n",
    "                                            \n"
   ]
  },
  {
   "cell_type": "code",
   "execution_count": 36,
   "metadata": {},
   "outputs": [],
   "source": [
    "file = 'ner_dataset_test_bad.tsv' # Dataset\n",
    "\n",
    "dataset = pd.read_csv(dir_+file, delimiter = \"\\t\", quoting = 3)\n",
    "dataset.entities = dataset.entities.apply(literal_eval)\n",
    "dataset.gmap = dataset.gmap.apply(literal_eval)\n",
    "del dataset['Unnamed: 0']\n",
    "\n",
    "def info_window_fn(row):\n",
    "    link = \"https://twitter.com/i/status/\"+str(row['id_tweet'])\n",
    "    info = \"<b>Tweet: </b>%s<br><b>Created at: </b>%s<br><b>Link: </b><a href='%s' target='_blank'>%s</a><br><b>Entities: </b>%s<br><b>Coordinates: </b>%s\"%(\n",
    "        row['text'], \n",
    "        row['created_at'], \n",
    "        link,\n",
    "        link,\n",
    "        row['entities'], \n",
    "        #row['location']\n",
    "        row['gmap']\n",
    "    )\n",
    "    return info\n",
    "\n",
    "for i in range(len(dataset)):\n",
    "    info_window = info_window_fn(dataset.iloc[i])    \n",
    "    #gmap.marker(dataset.iloc[i]['location']['lat'], dataset.iloc[i]['location']['lng'], info_window=info_window)\n",
    "    gmap.marker(dataset.iloc[i]['gmap']['lat'], dataset.iloc[i]['gmap']['lng'], info_window=info_window, color='red',label=i)\n",
    "                                            \n"
   ]
  },
  {
   "cell_type": "code",
   "execution_count": 37,
   "metadata": {},
   "outputs": [],
   "source": [
    "gmap.draw('test_bad_camilo_v1.html')"
   ]
  },
  {
   "cell_type": "code",
   "execution_count": null,
   "metadata": {},
   "outputs": [],
   "source": []
  }
 ],
 "metadata": {
  "kernelspec": {
   "display_name": "Python 3",
   "language": "python",
   "name": "python3"
  },
  "language_info": {
   "codemirror_mode": {
    "name": "ipython",
    "version": 3
   },
   "file_extension": ".py",
   "mimetype": "text/x-python",
   "name": "python",
   "nbconvert_exporter": "python",
   "pygments_lexer": "ipython3",
   "version": "3.7.3"
  }
 },
 "nbformat": 4,
 "nbformat_minor": 4
}
